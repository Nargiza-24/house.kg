{
 "cells": [
  {
   "cell_type": "code",
   "execution_count": 6,
   "id": "15adbbcd",
   "metadata": {},
   "outputs": [],
   "source": [
    "import csv\n",
    "from bs4 import BeautifulSoup\n",
    "import requests\n",
    "import os\n",
    "from tqdm import tqdm\n",
    "import pandas as pd"
   ]
  },
  {
   "cell_type": "code",
   "execution_count": 7,
   "id": "5ab8a6c0",
   "metadata": {},
   "outputs": [],
   "source": [
    "from urllib.parse import urlparse\n",
    "\n",
    "# Функция для получения имени файла из URL\n",
    "def get_filename_from_url(url):\n",
    "    parsed_url = urlparse(url)\n",
    "    return os.path.basename(parsed_url.path)"
   ]
  },
  {
   "cell_type": "code",
   "execution_count": 8,
   "id": "5a517ac2",
   "metadata": {},
   "outputs": [],
   "source": [
    "df = pd.read_csv('flats_unique.csv')\n",
    "flat_urls = df['link']"
   ]
  },
  {
   "cell_type": "code",
   "execution_count": 9,
   "id": "41ff0baa",
   "metadata": {},
   "outputs": [
    {
     "data": {
      "text/plain": [
       "31"
      ]
     },
     "execution_count": 9,
     "metadata": {},
     "output_type": "execute_result"
    }
   ],
   "source": [
    "START_ID = 2500\n",
    "END_ID = 3000\n",
    "\n",
    "dir_images = 'images'\n",
    "\n",
    "csv_errors = open('download_errors.csv', mode='w', newline='', encoding='utf-8')\n",
    "writer_err = csv.writer(csv_errors)\n",
    "writer_err.writerow(['flat_url', 'image_url', 'image_name'])\n",
    "\n",
    "FILE_OUT_NAME = 'url_images_' + str(START_ID) + '_' + str(END_ID) + '.csv'\n",
    "csv_file = open(FILE_OUT_NAME, mode='w', newline='', encoding='utf-8')\n",
    "writer = csv.writer(csv_file)\n",
    "\n",
    "writer.writerow(['flat_url', 'image_url', 'image_name'])"
   ]
  },
  {
   "cell_type": "code",
   "execution_count": 11,
   "id": "a03c5c2e",
   "metadata": {},
   "outputs": [
    {
     "name": "stderr",
     "output_type": "stream",
     "text": [
      "Flat images parsing:   0%|          | 0/501 [00:00<?, ?it/s]"
     ]
    },
    {
     "name": "stdout",
     "output_type": "stream",
     "text": [
      "Фото 1 скачано как 13241af75b4764b43268e5641021dfd8_1200x900.jpg и записано в CSV.\n",
      "Фото 2 скачано как f3e49985e7e8f3d4e1186f1dbaeb2ede_1200x900.jpg и записано в CSV.\n",
      "Фото 3 скачано как f4d5118057bcf9c3bf10ab29fdb33d53_1200x900.jpg и записано в CSV.\n",
      "Фото 4 скачано как cd5dd934a9345fce58dc911a18853ff2_1200x900.jpg и записано в CSV.\n",
      "Фото 5 скачано как bf28f1b9f039e737996a2fdc9a3eceae_1200x900.jpg и записано в CSV.\n",
      "Фото 6 скачано как 5c20aaa00ba4df720571ac0087c937c0_1200x900.jpg и записано в CSV.\n"
     ]
    },
    {
     "name": "stderr",
     "output_type": "stream",
     "text": [
      "Flat images parsing:   0%|          | 1/501 [00:05<47:22,  5.69s/it]"
     ]
    },
    {
     "name": "stdout",
     "output_type": "stream",
     "text": [
      "Фото 7 скачано как z7rvWKIV-as и записано в CSV.\n",
      "--------end of flat 2500 / 3000 ---------\n",
      "Фото 1 скачано как cf37d5b4252110d7b501dcf84ba374a3_1200x900.jpg и записано в CSV.\n",
      "Фото 2 скачано как f12b76f46c98cbd779eaa167a28e076e_1200x900.jpg и записано в CSV.\n",
      "Фото 3 скачано как 2f7e529dae43b30efda78e3b33982536_1200x900.jpg и записано в CSV.\n",
      "Фото 4 скачано как c867edea8bdc00b9c2ae5a9b35d23a35_1200x900.jpg и записано в CSV.\n",
      "Фото 5 скачано как e43c87b79aaca2cb137eda515d87c784_1200x900.jpg и записано в CSV.\n",
      "Фото 6 скачано как 6625150cff12a82b8a1bda308ead490d_1200x900.jpg и записано в CSV.\n",
      "Фото 7 скачано как 634dfa53975f5956c0de570977144176_1200x900.jpg и записано в CSV.\n",
      "Фото 8 скачано как 34e1e7dca9bf0937930a68bce45cc74d_1200x900.jpg и записано в CSV.\n",
      "Фото 9 скачано как 3db18372e74e7d276f4ca858b1eb5be5_1200x900.jpg и записано в CSV.\n",
      "Фото 10 скачано как 46d1ec31a95688a33d94297270651b35_1200x900.jpg и записано в CSV.\n"
     ]
    },
    {
     "name": "stderr",
     "output_type": "stream",
     "text": [
      "Flat images parsing:   0%|          | 2/501 [00:13<55:39,  6.69s/it]"
     ]
    },
    {
     "name": "stdout",
     "output_type": "stream",
     "text": [
      "Ошибка при скачивании фото 11.\n",
      "--------end of flat 2501 / 3000 ---------\n",
      "Фото 1 скачано как 387cd8227147fa6c1ffb4ec66dd92840_1200x900.jpg и записано в CSV.\n",
      "Фото 2 скачано как ca250d0e899646c4bd3c6026e983f3ce_1200x900.jpg и записано в CSV.\n",
      "Фото 3 скачано как 2e31786f61d9ea4c4c54b0f9c8c8f572_1200x900.jpg и записано в CSV.\n",
      "Фото 4 скачано как 0dec91c8c8bf133387fcb459454e3a66_1200x900.jpg и записано в CSV.\n",
      "Фото 5 скачано как 88cd1ef3c8a41eb816839f43f103abee_1200x900.jpg и записано в CSV.\n",
      "Фото 6 скачано как 44918b2a115eb04e5f3d9c0eea21da82_1200x900.jpg и записано в CSV.\n",
      "Фото 7 скачано как 6258679d0f195cb61a34af638c22a110_1200x900.jpg и записано в CSV.\n",
      "Фото 8 скачано как 74bea896711055674b8f3f27ed8c7fb5_1200x900.jpg и записано в CSV.\n",
      "Фото 9 скачано как c8a1d38dc0fcd96ba7eb17fb191a2c9e_1200x900.jpg и записано в CSV.\n",
      "Фото 10 скачано как 920c47ddc2563da04d5b2b71aa6255e8_1200x900.jpg и записано в CSV.\n"
     ]
    },
    {
     "name": "stderr",
     "output_type": "stream",
     "text": [
      "Flat images parsing:   1%|          | 3/501 [00:20<56:44,  6.84s/it]"
     ]
    },
    {
     "name": "stdout",
     "output_type": "stream",
     "text": [
      "Фото 11 скачано как z7rvWKIV-as и записано в CSV.\n",
      "--------end of flat 2502 / 3000 ---------\n",
      "Фото 1 скачано как bb6a619ca5b4ca17af293920df743604_1200x900.jpg и записано в CSV.\n",
      "Фото 2 скачано как acdbf29802efa921b836fae90280bbbd_1200x900.jpg и записано в CSV.\n",
      "Фото 3 скачано как 0d6b426d8ca4a097f96b7ea8fce8b180_1200x900.jpg и записано в CSV.\n",
      "Фото 4 скачано как 03e74fbc14aa9dff01d3613ef95a7729_1200x900.jpg и записано в CSV.\n",
      "Фото 5 скачано как 50414d9546383b5a63b93f7eec962bc5_1200x900.jpg и записано в CSV.\n",
      "Фото 6 скачано как 5d3e45dafa4811318e59578b35d287a5_1200x900.jpg и записано в CSV.\n",
      "Фото 7 скачано как df71b570bf53f4f151be17521e0a43c7_1200x900.jpg и записано в CSV.\n",
      "Фото 8 скачано как b91940a72ef63c395fbb9705836aede3_1200x900.jpg и записано в CSV.\n",
      "Фото 9 скачано как de3de2ab1a4041664601d7b7f61cf85c_1200x900.jpg и записано в CSV.\n",
      "Фото 10 скачано как 2f7e5ed8bc52ae1fc5759047f7a1a2fb_1200x900.jpg и записано в CSV.\n"
     ]
    },
    {
     "name": "stderr",
     "output_type": "stream",
     "text": [
      "Flat images parsing:   1%|          | 4/501 [00:27<59:13,  7.15s/it]"
     ]
    },
    {
     "name": "stdout",
     "output_type": "stream",
     "text": [
      "Фото 11 скачано как 37jCNp и записано в CSV.\n",
      "--------end of flat 2503 / 3000 ---------\n",
      "Фото 1 скачано как 5a6a52887ca85cc625646a5d40fc6f96_1200x900.jpg и записано в CSV.\n",
      "Фото 2 скачано как 2b1e07373f633f319682e8401858c8ea_1200x900.jpg и записано в CSV.\n",
      "Фото 3 скачано как eb31e4a0f16e7556d8ac791235a77299_1200x900.jpg и записано в CSV.\n",
      "Фото 4 скачано как 5ea6fa57c8dd64bc57a956dcae9012ba_1200x900.jpg и записано в CSV.\n",
      "Фото 5 скачано как 09b40f79096e42968947854acc623bf4_1200x900.jpg и записано в CSV.\n",
      "Фото 6 скачано как d19a2a0dfc7a25baeddcbcbc1496c013_1200x900.jpg и записано в CSV.\n",
      "Фото 7 скачано как 07a821f217088320c5876e9c794a0a5e_1200x900.jpg и записано в CSV.\n",
      "Фото 8 скачано как 2559c2e9fb816c1a4fec7b56dcffc030_1200x900.jpg и записано в CSV.\n",
      "Фото 9 скачано как c9b08aa1f66c0c3322458178fd484d6b_1200x900.jpg и записано в CSV.\n",
      "Фото 10 скачано как 6db5a6f253d9ccc7389710240eee2ec4_1200x900.jpg и записано в CSV.\n"
     ]
    },
    {
     "name": "stderr",
     "output_type": "stream",
     "text": [
      "Flat images parsing:   1%|          | 5/501 [00:35<1:01:43,  7.47s/it]"
     ]
    },
    {
     "name": "stdout",
     "output_type": "stream",
     "text": [
      "Фото 11 скачано как z7rvWKIV-as и записано в CSV.\n",
      "--------end of flat 2504 / 3000 ---------\n",
      "Фото 1 скачано как fd8c9491215adb88a515c0d11f09d8a2_1200x900.jpg и записано в CSV.\n",
      "Фото 2 скачано как a3a96e3d571ee3c7d0f4febe2ae0a000_1200x900.jpg и записано в CSV.\n",
      "Фото 3 скачано как 1ca493f4e8f5597c641b6f573241a71c_1200x900.jpg и записано в CSV.\n",
      "Фото 4 скачано как 6900ba998c46cedb206685130ddc7a7b_1200x900.jpg и записано в CSV.\n",
      "Фото 5 скачано как 33490f5379563a6f1911170d07ee0f5d_1200x900.jpg и записано в CSV.\n",
      "Фото 6 скачано как 37bb41fa72bbe7583a33651c8dc60d3d_1200x900.jpg и записано в CSV.\n",
      "Фото 7 скачано как 804dc5ca9e3ae133802a0aacc326af96_1200x900.jpg и записано в CSV.\n"
     ]
    },
    {
     "name": "stderr",
     "output_type": "stream",
     "text": [
      "Flat images parsing:   1%|          | 6/501 [00:42<59:05,  7.16s/it]  "
     ]
    },
    {
     "name": "stdout",
     "output_type": "stream",
     "text": [
      "Фото 8 скачано как z7rvWKIV-as и записано в CSV.\n",
      "--------end of flat 2505 / 3000 ---------\n",
      "Фото 1 скачано как 514d7e265d9964a98eb02348e63b108c_1200x900.jpg и записано в CSV.\n",
      "Фото 2 скачано как c9d27a342bed93098904308ea778960a_1200x900.jpg и записано в CSV.\n",
      "Фото 3 скачано как 23be06efea2d6be98c3d3b8941652bd7_1200x900.jpg и записано в CSV.\n",
      "Фото 4 скачано как f7194f1e02fd469b5471d98c6dd9e6f7_1200x900.jpg и записано в CSV.\n",
      "Фото 5 скачано как 46e15f7adf47e9d047bd9167f46b6c16_1200x900.jpg и записано в CSV.\n",
      "Фото 6 скачано как fc0fdd01462e39aa80627bb5fbff1308_1200x900.jpg и записано в CSV.\n"
     ]
    },
    {
     "name": "stderr",
     "output_type": "stream",
     "text": [
      "Flat images parsing:   1%|▏         | 7/501 [00:48<54:58,  6.68s/it]"
     ]
    },
    {
     "name": "stdout",
     "output_type": "stream",
     "text": [
      "Ошибка при скачивании фото 7.\n",
      "--------end of flat 2506 / 3000 ---------\n",
      "Фото 1 скачано как 8758bf27de92321c729ea4530a5a223b_1200x900.jpg и записано в CSV.\n",
      "Фото 2 скачано как 50683d263b7271e52a9e502f174e4dab_1200x900.jpg и записано в CSV.\n",
      "Фото 3 скачано как 2cf762d1116619e0d0c02b1df4d7e7dc_1200x900.jpg и записано в CSV.\n",
      "Фото 4 скачано как 0496781139397cc83ea7a399e58ff106_1200x900.jpg и записано в CSV.\n",
      "Фото 5 скачано как 9cad5ad16e7dc16c792fe2f65ddcf9ef_1200x900.jpg и записано в CSV.\n",
      "Фото 6 скачано как 33fbd6a26486a76e7ead14341bc2bd2e_1200x900.jpg и записано в CSV.\n",
      "Фото 7 скачано как bf3a4ac6d6846311a85dd9cda0367592_1200x900.jpg и записано в CSV.\n",
      "Фото 8 скачано как 5e16dababf8c72accd86e4de3e465f98_1200x900.jpg и записано в CSV.\n",
      "Фото 9 скачано как 5e7e6271f1b569b2499465092ed79fbf_1200x900.jpg и записано в CSV.\n",
      "Фото 10 скачано как da48f44c19d74f52a02fd4d4d4f98dee_1200x900.jpg и записано в CSV.\n"
     ]
    },
    {
     "name": "stderr",
     "output_type": "stream",
     "text": [
      "Flat images parsing:   2%|▏         | 8/501 [00:55<55:46,  6.79s/it]"
     ]
    },
    {
     "name": "stdout",
     "output_type": "stream",
     "text": [
      "Ошибка при скачивании фото 11.\n",
      "--------end of flat 2507 / 3000 ---------\n"
     ]
    },
    {
     "name": "stderr",
     "output_type": "stream",
     "text": [
      "Flat images parsing:   2%|▏         | 9/501 [00:55<40:08,  4.90s/it]"
     ]
    },
    {
     "name": "stdout",
     "output_type": "stream",
     "text": [
      "Фото 1 скачано как cd37dc04807f4daec9f367a2048b2508_1200x900.jpg и записано в CSV.\n",
      "Фото 2 скачано как 050ea578b331a3639238ce05d057973c_1200x900.jpg и записано в CSV.\n",
      "Фото 3 скачано как 84330d4f124b6a9e7095e2c5173db0e8_1200x900.jpg и записано в CSV.\n",
      "Фото 4 скачано как a2c0a094f05d32f4de4aaf213defa6e9_1200x900.jpg и записано в CSV.\n",
      "Фото 5 скачано как f1dff2209d89f4a64db85d61c25e0396_1200x900.jpg и записано в CSV.\n",
      "Фото 6 скачано как 5c37e01af5bbdb31e356a1b97aca276e_1200x900.jpg и записано в CSV.\n",
      "Фото 7 скачано как 63db0f43bfad3b25ae0ed072ba517090_1200x900.jpg и записано в CSV.\n",
      "Фото 8 скачано как 676632d937c95b696c3bc6bfa6c36d07_1200x900.jpg и записано в CSV.\n",
      "Фото 9 скачано как fc7cf1d77d0d6257ff9dd3d0907dde9a_1200x900.jpg и записано в CSV.\n",
      "Фото 10 скачано как c2c36c157a24204a9766049ed47f11ab_1200x900.jpg и записано в CSV.\n",
      "Фото 11 скачано как 215f1330607132d5840b6d94a0b8aa2a_1200x900.jpg и записано в CSV.\n",
      "Фото 12 скачано как 481302475d0f40bda44f8dd4ef607a0d_1200x900.jpg и записано в CSV.\n",
      "Фото 13 скачано как a7b11cb48d36ea04da9cf82f3519cb2c_1200x900.jpg и записано в CSV.\n"
     ]
    },
    {
     "name": "stderr",
     "output_type": "stream",
     "text": [
      "Flat images parsing:   2%|▏         | 10/501 [01:03<47:22,  5.79s/it]"
     ]
    },
    {
     "name": "stdout",
     "output_type": "stream",
     "text": [
      "Фото 14 скачано как z7rvWKIV-as и записано в CSV.\n",
      "--------end of flat 2509 / 3000 ---------\n",
      "Фото 1 скачано как f241872cfc0e625921aa9441e8c1051f_1200x900.jpg и записано в CSV.\n",
      "Фото 2 скачано как 24e751191e92ae31d260f070b50e56d8_1200x900.jpg и записано в CSV.\n",
      "Фото 3 скачано как 16e06d48d4b6778fa1f1c517497c0074_1200x900.jpg и записано в CSV.\n",
      "Фото 4 скачано как 282c6fa48952fe8f0dfcde719390d685_1200x900.jpg и записано в CSV.\n",
      "Фото 5 скачано как 1caea97967d839b0fc27504dc595a813_1200x900.jpg и записано в CSV.\n",
      "Фото 6 скачано как 6487d54988b075cf115b52e1201cab6a_1200x900.jpg и записано в CSV.\n",
      "Фото 7 скачано как d0de5ac30697a9d26b9fdb4843e89e93_1200x900.jpg и записано в CSV.\n",
      "Фото 8 скачано как 271771dfb8c2c629fe2efbac45866661_1200x900.jpg и записано в CSV.\n"
     ]
    },
    {
     "name": "stderr",
     "output_type": "stream",
     "text": [
      "Flat images parsing:   2%|▏         | 11/501 [01:09<47:37,  5.83s/it]"
     ]
    },
    {
     "name": "stdout",
     "output_type": "stream",
     "text": [
      "Ошибка при скачивании фото 9.\n",
      "--------end of flat 2510 / 3000 ---------\n",
      "Фото 1 скачано как e69e2f80d491ee3366b2f0ba42644d7c_1200x900.jpg и записано в CSV.\n",
      "Фото 2 скачано как 5f650e593227f6f3a29de6cd10fde729_1200x900.jpg и записано в CSV.\n",
      "Фото 3 скачано как 270f07f7f53bc9703fa8fda016948a8b_1200x900.jpg и записано в CSV.\n",
      "Фото 4 скачано как 835e613376432d750f49d5e22c99b33b_1200x900.jpg и записано в CSV.\n",
      "Фото 5 скачано как cc8f48c8282e0fe5de576eb8321002a2_1200x900.jpg и записано в CSV.\n",
      "Фото 6 скачано как f654622ab4e1e8f7c8a320e6f6dbf85a_1200x900.jpg и записано в CSV.\n",
      "Фото 7 скачано как a5c3988019a7b39ccf599f01dff2341b_1200x900.jpg и записано в CSV.\n",
      "Фото 8 скачано как 1b9bf6943c84debd2d037a1281b83d58_1200x900.jpg и записано в CSV.\n",
      "Фото 9 скачано как 21161b15712874c8dffa750907128ba8_1200x900.jpg и записано в CSV.\n",
      "Фото 10 скачано как 3f58af20694b9c8fac4b6121ab6ca327_1200x900.jpg и записано в CSV.\n"
     ]
    },
    {
     "name": "stderr",
     "output_type": "stream",
     "text": [
      "Flat images parsing:   2%|▏         | 12/501 [01:15<48:22,  5.93s/it]"
     ]
    },
    {
     "name": "stdout",
     "output_type": "stream",
     "text": [
      "Фото 11 скачано как 3AQXYx и записано в CSV.\n",
      "--------end of flat 2511 / 3000 ---------\n",
      "Фото 1 скачано как 0612a290135005cea2cfb712eefd77e0_1200x900.jpg и записано в CSV.\n",
      "Фото 2 скачано как 760bd0c74318f1c2e882a990dfc0d014_1200x900.jpg и записано в CSV.\n",
      "Фото 3 скачано как 1eb2c16482151d46d28d5fcf9cdda635_1200x900.jpg и записано в CSV.\n",
      "Фото 4 скачано как 794087a6513f09c351aaad43ed0f4ddc_1200x900.jpg и записано в CSV.\n",
      "Фото 5 скачано как 66d74a568b6323c4e44fd7a7dffe7f4f_1200x900.jpg и записано в CSV.\n",
      "Фото 6 скачано как 94b446b4341ceafb1a5f4bd195aaccc8_1200x900.jpg и записано в CSV.\n",
      "Фото 7 скачано как 69524fa442592333d8bce980eaeade22_1200x900.jpg и записано в CSV.\n",
      "Фото 8 скачано как 3592e88711a7458c0b48a619658c99c1_1200x900.jpg и записано в CSV.\n",
      "Фото 9 скачано как 980791109bc7ff7fea0af378dd86ad26_1200x900.jpg и записано в CSV.\n",
      "Фото 10 скачано как 4b109daaf4d07a79902e793cbae56248_1200x900.jpg и записано в CSV.\n",
      "Фото 11 скачано как ebdce52652084d74366d0c7e3ca817aa_1200x900.jpg и записано в CSV.\n",
      "Фото 12 скачано как 83e4863afce88efed90dd21582569433_1200x900.jpg и записано в CSV.\n",
      "Фото 13 скачано как a598b2977c0a9f3a1d96703041c3750a_1200x900.jpg и записано в CSV.\n",
      "Фото 14 скачано как 45058d95fc35b2801988318de3bf0da8_1200x900.jpg и записано в CSV.\n"
     ]
    },
    {
     "name": "stderr",
     "output_type": "stream",
     "text": [
      "Flat images parsing:   3%|▎         | 13/501 [01:24<56:27,  6.94s/it]"
     ]
    },
    {
     "name": "stdout",
     "output_type": "stream",
     "text": [
      "Фото 15 скачано как z7rvWKIV-as и записано в CSV.\n",
      "--------end of flat 2512 / 3000 ---------\n",
      "Фото 1 скачано как 087ef07ad7f5ccfd2aba7d1c23fb0276_1200x900.jpg и записано в CSV.\n",
      "Фото 2 скачано как c3e059c15dd5e8cbd76cca95263a5ee4_1200x900.jpg и записано в CSV.\n",
      "Фото 3 скачано как 5200a57914e89f7b8c51ea8f84ef3998_1200x900.jpg и записано в CSV.\n",
      "Фото 4 скачано как f7b0abce8e96a764ce4dd56570612a28_1200x900.jpg и записано в CSV.\n",
      "Фото 5 скачано как 22a28caf0b833e8450358f7e3eda94e9_1200x900.jpg и записано в CSV.\n",
      "Фото 6 скачано как 44f0792405aa6eb97eba15c42095416f_1200x900.jpg и записано в CSV.\n",
      "Фото 7 скачано как 838741fa93b13ecf40c3cc7ccbb76d3d_1200x900.jpg и записано в CSV.\n",
      "Фото 8 скачано как aff5e09836f9566f2be28b516acc78db_1200x900.jpg и записано в CSV.\n",
      "Фото 9 скачано как c9cb10f595bd4debbaea33a2d51423ba_1200x900.jpg и записано в CSV.\n",
      "Фото 10 скачано как 69bb6aa93ae799815fae629cc3bf225a_1200x900.jpg и записано в CSV.\n"
     ]
    },
    {
     "name": "stderr",
     "output_type": "stream",
     "text": [
      "Flat images parsing:   3%|▎         | 14/501 [01:31<56:17,  6.94s/it]"
     ]
    },
    {
     "name": "stdout",
     "output_type": "stream",
     "text": [
      "Фото 11 скачано как 3AQXYx и записано в CSV.\n",
      "--------end of flat 2513 / 3000 ---------\n",
      "Фото 1 скачано как 5eac5ddb1b695978b449b98ef73a01e4_1200x900.jpg и записано в CSV.\n",
      "Фото 2 скачано как 064e3dfaa9a32c2c762321edc6d494f3_1200x900.jpg и записано в CSV.\n",
      "Фото 3 скачано как ef8a98b74a396a9ed32fd17011d796ff_1200x900.jpg и записано в CSV.\n",
      "Фото 4 скачано как ef20ea07dd5a8a2e8c4d7ad7b35176d2_1200x900.jpg и записано в CSV.\n",
      "Фото 5 скачано как 614adf1cf6bee8b8c7d8d1477c7c9e42_1200x900.jpg и записано в CSV.\n",
      "Фото 6 скачано как cfa17b5337193f9b36f80e91ca241ea4_1200x900.jpg и записано в CSV.\n"
     ]
    },
    {
     "name": "stderr",
     "output_type": "stream",
     "text": [
      "Flat images parsing:   3%|▎         | 15/501 [01:37<53:13,  6.57s/it]"
     ]
    },
    {
     "name": "stdout",
     "output_type": "stream",
     "text": [
      "Фото 7 скачано как z7rvWKIV-as и записано в CSV.\n",
      "--------end of flat 2514 / 3000 ---------\n",
      "Фото 1 скачано как 3c375317352e094159790e4aadabfa5f_1200x900.jpg и записано в CSV.\n",
      "Фото 2 скачано как 390af6486ebcaaa334379fa9b6e2d7bf_1200x900.jpg и записано в CSV.\n",
      "Фото 3 скачано как b8a54a58a2b17b79ac795dcdcb21b653_1200x900.jpg и записано в CSV.\n",
      "Фото 4 скачано как 4929e10d906f001226b04241588ffb4b_1200x900.jpg и записано в CSV.\n",
      "Фото 5 скачано как 0cb3c26e491859e15503c1e7fd63fae1_1200x900.jpg и записано в CSV.\n",
      "Фото 6 скачано как 2ad7054b19b807d471429b86b6c48831_1200x900.jpg и записано в CSV.\n",
      "Фото 7 скачано как aed237cdb257df26d8f0ddfbd01b517c_1200x900.jpg и записано в CSV.\n",
      "Фото 8 скачано как 3b0c4f8764bd1da7a7e231c224943bda_1200x900.jpg и записано в CSV.\n",
      "Фото 9 скачано как 2a9d90ec3d3ac0e03af186afa1be5851_1200x900.jpg и записано в CSV.\n"
     ]
    },
    {
     "name": "stderr",
     "output_type": "stream",
     "text": [
      "Flat images parsing:   3%|▎         | 16/501 [01:43<52:17,  6.47s/it]"
     ]
    },
    {
     "name": "stdout",
     "output_type": "stream",
     "text": [
      "Фото 10 скачано как 37jCNp и записано в CSV.\n",
      "--------end of flat 2515 / 3000 ---------\n",
      "Фото 1 скачано как 33db9653d995cb36dac38e0ba0d7dbe6_1200x900.jpg и записано в CSV.\n",
      "Фото 2 скачано как b96c4460f8e568d3ee2fbe970a0d3c9c_1200x900.jpg и записано в CSV.\n",
      "Фото 3 скачано как 198d40aaa0ef8277239935c37853aeb1_1200x900.jpg и записано в CSV.\n",
      "Фото 4 скачано как 241ed0e86093a7172c44667782038b91_1200x900.jpg и записано в CSV.\n",
      "Фото 5 скачано как 82f66264854cbf4ca3e86682e98e1a49_1200x900.jpg и записано в CSV.\n",
      "Фото 6 скачано как 42dedaf53c8af1bf21212e9a19c7d128_1200x900.jpg и записано в CSV.\n",
      "Фото 7 скачано как 6ace3393e8e15cc298d734569d0cec4a_1200x900.jpg и записано в CSV.\n",
      "Фото 8 скачано как 46df83a4f67202de660516ea20e52e8b_1200x900.jpg и записано в CSV.\n",
      "Фото 9 скачано как 46187f6de62700b96b8689ca4900042e_1200x900.jpg и записано в CSV.\n"
     ]
    },
    {
     "name": "stderr",
     "output_type": "stream",
     "text": [
      "Flat images parsing:   3%|▎         | 17/501 [01:49<51:12,  6.35s/it]"
     ]
    },
    {
     "name": "stdout",
     "output_type": "stream",
     "text": [
      "Фото 10 скачано как 37jCNp и записано в CSV.\n",
      "--------end of flat 2516 / 3000 ---------\n",
      "Фото 1 скачано как 140c851e9baaaefa861e74c1efaa9ab4_1200x900.jpg и записано в CSV.\n",
      "Фото 2 скачано как 2264960c8615bb98368be1b0e0772069_1200x900.jpg и записано в CSV.\n",
      "Фото 3 скачано как fdaf7614f35d22bddf68e49649c954de_1200x900.jpg и записано в CSV.\n",
      "Фото 4 скачано как 10a8b5aa6aaeb7b81e6cede19b320722_1200x900.jpg и записано в CSV.\n",
      "Фото 5 скачано как 1594c2a308c912b3c4f2270bc146adeb_1200x900.jpg и записано в CSV.\n",
      "Фото 6 скачано как 6548c1c699a739505ce99a98f5c016e8_1200x900.jpg и записано в CSV.\n",
      "Фото 7 скачано как 5ee5afb8be4da002d9d7d7901c845391_1200x900.jpg и записано в CSV.\n",
      "Фото 8 скачано как ba5d976c1cbbe3baf26b118bb77cba64_1200x900.jpg и записано в CSV.\n",
      "Фото 9 скачано как 1fb44b88d6232016434150ed272c0c97_1200x900.jpg и записано в CSV.\n",
      "Фото 10 скачано как b15116458d3f97ddc6246020bf6de6e4_1200x900.jpg и записано в CSV.\n",
      "Фото 11 скачано как 5ab01614e73740d2b884e94cae59e054_1200x900.jpg и записано в CSV.\n",
      "Фото 12 скачано как 3a6765454cc5b04bda5769f1c965030e_1200x900.jpg и записано в CSV.\n",
      "Фото 13 скачано как c47fd5ec5ae3a0428da642474db5c237_1200x900.jpg и записано в CSV.\n",
      "Фото 14 скачано как 55f7daec0ed9dcfd5d44437f62f2e461_1200x900.jpg и записано в CSV.\n",
      "Фото 15 скачано как b7eadf87922893430b394e92879366a4_1200x900.jpg и записано в CSV.\n",
      "Фото 16 скачано как 6ac4252bb0f0083ee9af0361d1d169f5_1200x900.jpg и записано в CSV.\n",
      "Фото 17 скачано как ea2ed9aa3a057d4acb5e45196c89f088_1200x900.jpg и записано в CSV.\n",
      "Фото 18 скачано как 9baeacf770fcadb54ef50cf5ddcc9db4_1200x900.jpg и записано в CSV.\n"
     ]
    },
    {
     "name": "stderr",
     "output_type": "stream",
     "text": [
      "Flat images parsing:   4%|▎         | 18/501 [02:01<1:04:19,  7.99s/it]"
     ]
    },
    {
     "name": "stdout",
     "output_type": "stream",
     "text": [
      "Фото 19 скачано как f1f75a57e35974a878c3e6d86850a0b3_1200x900.jpg и записано в CSV.\n",
      "--------end of flat 2517 / 3000 ---------\n",
      "Фото 1 скачано как 2ebdb07dc35c3bfc1eadca8fc0ef673c_1200x900.jpg и записано в CSV.\n",
      "Фото 2 скачано как 37d8abd1904787eeb963379b40f086dd_1200x900.jpg и записано в CSV.\n",
      "Фото 3 скачано как b835b3de700771cd21de0cec6df8c5eb_1200x900.jpg и записано в CSV.\n",
      "Фото 4 скачано как ea16f617a3ad00f28750a0236002b2f4_1200x900.jpg и записано в CSV.\n",
      "Фото 5 скачано как 8cc92ce3b9b31e4361694715b4291474_1200x900.jpg и записано в CSV.\n",
      "Фото 6 скачано как 6b57d2304b9d3f7eaea16da46f20e3e2_1200x900.jpg и записано в CSV.\n",
      "Фото 7 скачано как fb992d56dc14faf428db0e6bb3cb2d61_1200x900.jpg и записано в CSV.\n"
     ]
    },
    {
     "name": "stderr",
     "output_type": "stream",
     "text": [
      "Flat images parsing:   4%|▍         | 19/501 [02:07<58:39,  7.30s/it]  "
     ]
    },
    {
     "name": "stdout",
     "output_type": "stream",
     "text": [
      "Фото 8 скачано как z7rvWKIV-as и записано в CSV.\n",
      "--------end of flat 2518 / 3000 ---------\n",
      "Фото 1 скачано как 3abc1d0b5a66398c56f0845c87908c71_1200x900.jpg и записано в CSV.\n",
      "Фото 2 скачано как a6daae4084b48ed896ce4aede4020475_1200x900.jpg и записано в CSV.\n",
      "Фото 3 скачано как 93fb74e6f80249bdc2dd328652f1191a_1200x900.jpg и записано в CSV.\n",
      "Фото 4 скачано как 14cdc107b5492fc06216d35ce28fc892_1200x900.jpg и записано в CSV.\n",
      "Фото 5 скачано как f4188d19ab67289edb5a6ac771560398_1200x900.jpg и записано в CSV.\n"
     ]
    },
    {
     "name": "stderr",
     "output_type": "stream",
     "text": [
      "Flat images parsing:   4%|▍         | 20/501 [02:12<52:35,  6.56s/it]"
     ]
    },
    {
     "name": "stdout",
     "output_type": "stream",
     "text": [
      "Фото 6 скачано как z7rvWKIV-as и записано в CSV.\n",
      "--------end of flat 2519 / 3000 ---------\n"
     ]
    },
    {
     "name": "stderr",
     "output_type": "stream",
     "text": [
      "Flat images parsing:   4%|▍         | 21/501 [02:13<39:48,  4.98s/it]"
     ]
    },
    {
     "name": "stdout",
     "output_type": "stream",
     "text": [
      "Фото 1 скачано как bf0a5b681bd5cee65594d4b6f7513025_1200x900.jpg и записано в CSV.\n",
      "Фото 2 скачано как 39d29cbc81ec91af2cf2482a2ddfbfbe_1200x900.jpg и записано в CSV.\n",
      "Фото 3 скачано как dda7e292bc43db78b8daba4b3a08cebc_1200x900.jpg и записано в CSV.\n",
      "Фото 4 скачано как b9f5de42a52df18a61270c0887795553_1200x900.jpg и записано в CSV.\n",
      "Фото 5 скачано как 32d9ed2f87e475811e455c7415b457dc_1200x900.jpg и записано в CSV.\n",
      "Фото 6 скачано как a3f046597ceac1f563343a737837c644_1200x900.jpg и записано в CSV.\n",
      "Фото 7 скачано как 70e5dae78f9df282e00f2446478cc5ed_1200x900.jpg и записано в CSV.\n",
      "Фото 8 скачано как 5bf2886c119429ef3d43c9831e936322_1200x900.jpg и записано в CSV.\n"
     ]
    },
    {
     "name": "stderr",
     "output_type": "stream",
     "text": [
      "Flat images parsing:   4%|▍         | 22/501 [02:19<42:42,  5.35s/it]"
     ]
    },
    {
     "name": "stdout",
     "output_type": "stream",
     "text": [
      "Фото 9 скачано как 37jCNp и записано в CSV.\n",
      "--------end of flat 2521 / 3000 ---------\n",
      "Фото 1 скачано как d2e5a5a8aa4430c86b126b5b5cc21c3f_1200x900.jpg и записано в CSV.\n",
      "Фото 2 скачано как 0c9967d992d3a31e6e05dd42dcd19150_1200x900.jpg и записано в CSV.\n",
      "Фото 3 скачано как c33c8b92989b9a39f2924ecb564f3fd0_1200x900.jpg и записано в CSV.\n",
      "Фото 4 скачано как a8f8488c2aa9a9c8c372505ab8bef975_1200x900.jpg и записано в CSV.\n",
      "Фото 5 скачано как a6f5cf2ebf69112a399ad8fd110def5a_1200x900.jpg и записано в CSV.\n"
     ]
    },
    {
     "name": "stderr",
     "output_type": "stream",
     "text": [
      "Flat images parsing:   5%|▍         | 23/501 [02:23<39:51,  5.00s/it]"
     ]
    },
    {
     "name": "stdout",
     "output_type": "stream",
     "text": [
      "Фото 6 скачано как 37jCNp и записано в CSV.\n",
      "--------end of flat 2522 / 3000 ---------\n",
      "Фото 1 скачано как 37cfdd605b66ad700c86d0ecf484c5f4_1200x900.jpg и записано в CSV.\n",
      "Фото 2 скачано как 576dd32eb29c3146bb2582ddb1d06967_1200x900.jpg и записано в CSV.\n",
      "Фото 3 скачано как 8e761fbecece18d0f36003e44610e305_1200x900.jpg и записано в CSV.\n",
      "Фото 4 скачано как 4b3d3fb1db38b5cce379dc9fac476b14_1200x900.jpg и записано в CSV.\n",
      "Фото 5 скачано как f57ba29dcff967ec431147162ee2f796_1200x900.jpg и записано в CSV.\n"
     ]
    },
    {
     "name": "stderr",
     "output_type": "stream",
     "text": [
      "Flat images parsing:   5%|▍         | 24/501 [02:28<39:08,  4.92s/it]"
     ]
    },
    {
     "name": "stdout",
     "output_type": "stream",
     "text": [
      "Фото 6 скачано как z7rvWKIV-as и записано в CSV.\n",
      "--------end of flat 2523 / 3000 ---------\n",
      "Фото 1 скачано как 32530c45274d49c80ac5449a89f30f27_1200x900.jpg и записано в CSV.\n",
      "Фото 2 скачано как d99fe73ce4e4e3c0a9a10e06c3a352f0_1200x900.jpg и записано в CSV.\n",
      "Фото 3 скачано как 1adee740dc729549665e34e2a6d83ccb_1200x900.jpg и записано в CSV.\n",
      "Фото 4 скачано как 2dc3132f4cf7f972679ce9c948e6fe34_1200x900.jpg и записано в CSV.\n",
      "Фото 5 скачано как 467517c4ab5fbaed045c0661567fd3a1_1200x900.jpg и записано в CSV.\n",
      "Фото 6 скачано как affbc3c115815479344da21e1801b222_1200x900.jpg и записано в CSV.\n"
     ]
    },
    {
     "name": "stderr",
     "output_type": "stream",
     "text": [
      "Flat images parsing:   5%|▍         | 25/501 [02:33<39:02,  4.92s/it]"
     ]
    },
    {
     "name": "stdout",
     "output_type": "stream",
     "text": [
      "Фото 7 скачано как 37jCNp и записано в CSV.\n",
      "--------end of flat 2524 / 3000 ---------\n",
      "Фото 1 скачано как d6ecf4de791c97324da3c56f82399034_1200x900.jpg и записано в CSV.\n",
      "Фото 2 скачано как 8ca697ebf08e253266c99d3b69734e7d_1200x900.jpg и записано в CSV.\n",
      "Фото 3 скачано как 67cea23219a8195e6b339567c6268cba_1200x900.jpg и записано в CSV.\n",
      "Фото 4 скачано как f2e98302abc699bb4f6723b143a26858_1200x900.jpg и записано в CSV.\n",
      "Фото 5 скачано как a3c2525a27985fe273be4d5b7ae20720_1200x900.jpg и записано в CSV.\n",
      "Фото 6 скачано как 79834313855463c91d3133c8d9c5141c_1200x900.jpg и записано в CSV.\n",
      "Фото 7 скачано как 0c156b0bcba33256412844267ee24fd8_1200x900.jpg и записано в CSV.\n",
      "Фото 8 скачано как edf057117df194bd5d29e483f4e35c9f_1200x900.jpg и записано в CSV.\n"
     ]
    },
    {
     "name": "stderr",
     "output_type": "stream",
     "text": [
      "Flat images parsing:   5%|▌         | 26/501 [02:39<40:29,  5.11s/it]"
     ]
    },
    {
     "name": "stdout",
     "output_type": "stream",
     "text": [
      "Фото 9 скачано как z7rvWKIV-as и записано в CSV.\n",
      "--------end of flat 2525 / 3000 ---------\n",
      "Фото 1 скачано как 492ac4ed39b3bb0b0b1aed669b73861f_1200x900.jpg и записано в CSV.\n",
      "Фото 2 скачано как 1e2373207c6590847cec29b27052021d_1200x900.jpg и записано в CSV.\n",
      "Фото 3 скачано как 8ce7e18dc272459e7debfaa9c3ac7817_1200x900.jpg и записано в CSV.\n"
     ]
    },
    {
     "name": "stderr",
     "output_type": "stream",
     "text": [
      "Flat images parsing:   5%|▌         | 27/501 [02:42<36:43,  4.65s/it]"
     ]
    },
    {
     "name": "stdout",
     "output_type": "stream",
     "text": [
      "Фото 4 скачано как z7rvWKIV-as и записано в CSV.\n",
      "--------end of flat 2526 / 3000 ---------\n",
      "Фото 1 скачано как e5655a8d349a1720dd3cb2a1da5f0a2c_1200x900.jpg и записано в CSV.\n",
      "Фото 2 скачано как 9a5022eaa092ca5fe4cc320548e55154_1200x900.jpg и записано в CSV.\n"
     ]
    },
    {
     "name": "stderr",
     "output_type": "stream",
     "text": [
      "Flat images parsing:   6%|▌         | 28/501 [02:45<32:59,  4.19s/it]"
     ]
    },
    {
     "name": "stdout",
     "output_type": "stream",
     "text": [
      "Фото 3 скачано как z7rvWKIV-as и записано в CSV.\n",
      "--------end of flat 2527 / 3000 ---------\n",
      "Фото 1 скачано как a365c091a4cacac503c8e6636a356aa9_1200x900.jpg и записано в CSV.\n",
      "Фото 2 скачано как 62a261cd4fbba807e8586490090324f8_1200x900.jpg и записано в CSV.\n",
      "Фото 3 скачано как e695e528e256c011700431a178bd00f4_1200x900.jpg и записано в CSV.\n",
      "Фото 4 скачано как 986e10c42e1a013697d945c977122510_1200x900.jpg и записано в CSV.\n",
      "Фото 5 скачано как 18ac6575f3aa3f1f40b70e967660334c_1200x900.jpg и записано в CSV.\n",
      "Фото 6 скачано как 51f227262408e3fa94853d16fb59af4f_1200x900.jpg и записано в CSV.\n",
      "Фото 7 скачано как b5c28b80c964ea690b1febdc589b954c_1200x900.jpg и записано в CSV.\n"
     ]
    },
    {
     "name": "stderr",
     "output_type": "stream",
     "text": [
      "Flat images parsing:   6%|▌         | 29/501 [02:51<36:28,  4.64s/it]"
     ]
    },
    {
     "name": "stdout",
     "output_type": "stream",
     "text": [
      "Фото 8 скачано как 37jCNp и записано в CSV.\n",
      "--------end of flat 2528 / 3000 ---------\n",
      "Фото 1 скачано как b4e56cc52e62f0e9a7fbdc35955a2b3d_1200x900.jpg и записано в CSV.\n",
      "Фото 2 скачано как 393a4c53c6a5842c1083f1b50ff4a72d_1200x900.jpg и записано в CSV.\n",
      "Фото 3 скачано как 6a5e388fe409c2a9f324aa074e02c088_1200x900.jpg и записано в CSV.\n",
      "Фото 4 скачано как 95801650230420739160276c0b3fe0f1_1200x900.jpg и записано в CSV.\n",
      "Фото 5 скачано как 6e034dbcb750e2908b09a57adb6ac554_1200x900.jpg и записано в CSV.\n"
     ]
    },
    {
     "name": "stderr",
     "output_type": "stream",
     "text": [
      "Flat images parsing:   6%|▌         | 30/501 [02:55<35:48,  4.56s/it]"
     ]
    },
    {
     "name": "stdout",
     "output_type": "stream",
     "text": [
      "Фото 6 скачано как 3AQXYx и записано в CSV.\n",
      "--------end of flat 2529 / 3000 ---------\n",
      "Фото 1 скачано как a83e8bcddb88793955c9c668328c5510_1200x900.jpg и записано в CSV.\n",
      "Фото 2 скачано как ee88c2230287c4b762b03457efaf662d_1200x900.jpg и записано в CSV.\n",
      "Фото 3 скачано как 06b6381fc57c83ad8ad777391782e27c_1200x900.jpg и записано в CSV.\n",
      "Фото 4 скачано как 08aa55ea52df8ab668764b317f304cdb_1200x900.jpg и записано в CSV.\n",
      "Фото 5 скачано как 11cd03b7a27140ed3389a66a24f86207_1200x900.jpg и записано в CSV.\n"
     ]
    },
    {
     "name": "stderr",
     "output_type": "stream",
     "text": [
      "Flat images parsing:   6%|▌         | 31/501 [03:00<36:52,  4.71s/it]"
     ]
    },
    {
     "name": "stdout",
     "output_type": "stream",
     "text": [
      "Фото 6 скачано как z7rvWKIV-as и записано в CSV.\n",
      "--------end of flat 2530 / 3000 ---------\n",
      "Фото 1 скачано как 6b2348b395f8e76c315a2eb8ccbdbd07_1200x900.jpg и записано в CSV.\n",
      "Фото 2 скачано как a7fa89c711fa2931cb5a09f03f7de9c9_1200x900.jpg и записано в CSV.\n",
      "Фото 3 скачано как 06c872a3c19483b84b4e130d14508b45_1200x900.jpg и записано в CSV.\n",
      "Фото 4 скачано как 3f4ff781733b265711eb22bc460d2458_1200x900.jpg и записано в CSV.\n",
      "Фото 5 скачано как 3d73a3917201b7c7fc96fd509c4b77e8_1200x900.jpg и записано в CSV.\n",
      "Фото 6 скачано как fc0ebbd89a7db6719aa3aa895bf77aa6_1200x900.jpg и записано в CSV.\n",
      "Фото 7 скачано как 5382d0c02e57d3aebca1c534f8f4d98e_1200x900.jpg и записано в CSV.\n",
      "Фото 8 скачано как 1fc505cef77957a5635e46bcbd1bf687_1200x900.jpg и записано в CSV.\n"
     ]
    },
    {
     "name": "stderr",
     "output_type": "stream",
     "text": [
      "Flat images parsing:   6%|▋         | 32/501 [03:07<40:53,  5.23s/it]"
     ]
    },
    {
     "name": "stdout",
     "output_type": "stream",
     "text": [
      "Фото 9 скачано как 37jCNp и записано в CSV.\n",
      "--------end of flat 2531 / 3000 ---------\n",
      "Фото 1 скачано как dfcaca946379611da25cf29d0a6403d8_1200x900.jpg и записано в CSV.\n",
      "Фото 2 скачано как bcc42bf70afb956b8866f605dc3acb96_1200x900.jpg и записано в CSV.\n",
      "Фото 3 скачано как e375aae3dd58ea473880d615597dda18_1200x900.jpg и записано в CSV.\n",
      "Фото 4 скачано как d316d42f06adc8649665527b7ad082ee_1200x900.jpg и записано в CSV.\n",
      "Фото 5 скачано как faf2fdd16b0b46752e0171199f6bc01c_1200x900.jpg и записано в CSV.\n",
      "Фото 6 скачано как 91d84210d622f3c6c25af9e3a075f10d_1200x900.jpg и записано в CSV.\n",
      "Фото 7 скачано как a8da132eb76ed6fd0087e242f1e6653e_1200x900.jpg и записано в CSV.\n",
      "Фото 8 скачано как 346b590d6b3ddd9d21b717503af820ea_1200x900.jpg и записано в CSV.\n"
     ]
    },
    {
     "name": "stderr",
     "output_type": "stream",
     "text": [
      "Flat images parsing:   7%|▋         | 33/501 [03:13<43:24,  5.56s/it]"
     ]
    },
    {
     "name": "stdout",
     "output_type": "stream",
     "text": [
      "Фото 9 скачано как z7rvWKIV-as и записано в CSV.\n",
      "--------end of flat 2532 / 3000 ---------\n",
      "Фото 1 скачано как 01020fc304553685bca7473f0bb03569_1200x900.jpg и записано в CSV.\n",
      "Фото 2 скачано как cb52183770e9b16e88ba922cb9115e07_1200x900.jpg и записано в CSV.\n",
      "Фото 3 скачано как dc70f6dc931b20a43d4a9ffbf975f7f8_1200x900.jpg и записано в CSV.\n",
      "Фото 4 скачано как 51d75760914bdd4474c0ff71256f1cce_1200x900.jpg и записано в CSV.\n",
      "Фото 5 скачано как b946d3f30fab59fdb0b2940e84fe6228_1200x900.jpg и записано в CSV.\n",
      "Фото 6 скачано как b891a244407c8a5263d9bfef4356c1f7_1200x900.jpg и записано в CSV.\n",
      "Фото 7 скачано как cf0bb18c3244e7b7a538b05d261cc55e_1200x900.jpg и записано в CSV.\n",
      "Фото 8 скачано как c2d4a847bb753bf0ad709a46c0276046_1200x900.jpg и записано в CSV.\n"
     ]
    },
    {
     "name": "stderr",
     "output_type": "stream",
     "text": [
      "Flat images parsing:   7%|▋         | 34/501 [03:19<44:58,  5.78s/it]"
     ]
    },
    {
     "name": "stdout",
     "output_type": "stream",
     "text": [
      "Фото 9 скачано как z7rvWKIV-as и записано в CSV.\n",
      "--------end of flat 2533 / 3000 ---------\n",
      "Фото 1 скачано как 612ea7f6d207c90c580863f37eadaf80_1200x900.jpg и записано в CSV.\n",
      "Фото 2 скачано как a4df1d34eb70931ae4d7443f3e56aa1d_1200x900.jpg и записано в CSV.\n",
      "Фото 3 скачано как dc76e95f9768e835f8d3191fc0eeb513_1200x900.jpg и записано в CSV.\n",
      "Фото 4 скачано как bea907084b6506b760b2ca81b0f6fb7a_1200x900.jpg и записано в CSV.\n",
      "Фото 5 скачано как 1988f73ad87e75bbd86e6dd0a94b6785_1200x900.jpg и записано в CSV.\n",
      "Фото 6 скачано как b8d840eb8e9de4a9b3ad051547564d6e_1200x900.jpg и записано в CSV.\n",
      "Фото 7 скачано как 1844c5158eab8aa5bf0defcced9ca623_1200x900.jpg и записано в CSV.\n",
      "Фото 8 скачано как 524818c659ae609e07d3587e8533c97b_1200x900.jpg и записано в CSV.\n"
     ]
    },
    {
     "name": "stderr",
     "output_type": "stream",
     "text": [
      "Flat images parsing:   7%|▋         | 35/501 [03:26<46:02,  5.93s/it]"
     ]
    },
    {
     "name": "stdout",
     "output_type": "stream",
     "text": [
      "Фото 9 скачано как 37jCNp и записано в CSV.\n",
      "--------end of flat 2534 / 3000 ---------\n",
      "Фото 1 скачано как c615166dd76457d25e688ade9185c871_1200x900.jpg и записано в CSV.\n",
      "Фото 2 скачано как c8c76fe1493b5403ab101c303d23b68d_1200x900.jpg и записано в CSV.\n",
      "Фото 3 скачано как 77160101dd7026536d5e331ed81901dd_1200x900.jpg и записано в CSV.\n",
      "Фото 4 скачано как a26eb45c89eb5b14407699a59c62c2ab_1200x900.jpg и записано в CSV.\n",
      "Фото 5 скачано как 10dc790975d2732dfc204e3a05e0b217_1200x900.jpg и записано в CSV.\n",
      "Фото 6 скачано как 392d4f745895765e943d0fd2a33c51f3_1200x900.jpg и записано в CSV.\n",
      "Фото 7 скачано как 82dd5704256a533a6010a2b2e6752565_1200x900.jpg и записано в CSV.\n"
     ]
    },
    {
     "name": "stderr",
     "output_type": "stream",
     "text": [
      "Flat images parsing:   7%|▋         | 36/501 [03:31<44:55,  5.80s/it]"
     ]
    },
    {
     "name": "stdout",
     "output_type": "stream",
     "text": [
      "Фото 8 скачано как 3AQXYx и записано в CSV.\n",
      "--------end of flat 2535 / 3000 ---------\n",
      "Фото 1 скачано как f66924ccaccf7278a623eab6accfe146_1200x900.jpg и записано в CSV.\n",
      "Фото 2 скачано как 2bcfa1b2d3a1f2b14104ee0f2b2fa56f_1200x900.jpg и записано в CSV.\n",
      "Фото 3 скачано как 8d02bcad7d98972b2fa7da38885a9858_1200x900.jpg и записано в CSV.\n",
      "Фото 4 скачано как 634693206164d84e60a882b93f64aee1_1200x900.jpg и записано в CSV.\n",
      "Фото 5 скачано как e1a34d2c36b7a02883c2795e8771cb60_1200x900.jpg и записано в CSV.\n",
      "Фото 6 скачано как 24b21a0e19a818f7b525ac1cc03fcbb1_1200x900.jpg и записано в CSV.\n"
     ]
    },
    {
     "name": "stderr",
     "output_type": "stream",
     "text": [
      "Flat images parsing:   7%|▋         | 37/501 [03:37<45:01,  5.82s/it]"
     ]
    },
    {
     "name": "stdout",
     "output_type": "stream",
     "text": [
      "Фото 7 скачано как z7rvWKIV-as и записано в CSV.\n",
      "--------end of flat 2536 / 3000 ---------\n",
      "Фото 1 скачано как 3a6ec28ee5164f03e41112e05131668a_1200x900.jpg и записано в CSV.\n",
      "Фото 2 скачано как 5815e69b2e78c09fb687445f24968892_1200x900.jpg и записано в CSV.\n",
      "Фото 3 скачано как 61c532814c26f511b6765920ee084651_1200x900.jpg и записано в CSV.\n",
      "Фото 4 скачано как ccdbe9fa27163fc9a46326e69a4c9bd7_1200x900.jpg и записано в CSV.\n",
      "Фото 5 скачано как 074bfe2a27925da731147b71785004bf_1200x900.jpg и записано в CSV.\n",
      "Фото 6 скачано как 6f9bc75e0e3b6c852d0edf1a125708e7_1200x900.jpg и записано в CSV.\n"
     ]
    },
    {
     "name": "stderr",
     "output_type": "stream",
     "text": [
      "Flat images parsing:   8%|▊         | 38/501 [03:42<42:44,  5.54s/it]"
     ]
    },
    {
     "name": "stdout",
     "output_type": "stream",
     "text": [
      "Фото 7 скачано как 37jCNp и записано в CSV.\n",
      "--------end of flat 2537 / 3000 ---------\n",
      "Фото 1 скачано как 9b360a5b469fadfb06da88de0eb00231_1200x900.jpg и записано в CSV.\n",
      "Фото 2 скачано как 08a9ef267279046164e9cf9b6732a4b6_1200x900.jpg и записано в CSV.\n",
      "Фото 3 скачано как 0f08fa89d39cb9f87808ab9de007c0f2_1200x900.jpg и записано в CSV.\n",
      "Фото 4 скачано как f2c6f71c22484eeafd40a24e441f1207_1200x900.jpg и записано в CSV.\n",
      "Фото 5 скачано как f650f77502439c5d29ca2b3ef225ac3e_1200x900.jpg и записано в CSV.\n",
      "Фото 6 скачано как 6b46e1fdcaf08ec89a52c7c80adecef5_1200x900.jpg и записано в CSV.\n"
     ]
    },
    {
     "name": "stderr",
     "output_type": "stream",
     "text": [
      "Flat images parsing:   8%|▊         | 39/501 [03:47<40:18,  5.23s/it]"
     ]
    },
    {
     "name": "stdout",
     "output_type": "stream",
     "text": [
      "Фото 7 скачано как 3AQXYx и записано в CSV.\n",
      "--------end of flat 2538 / 3000 ---------\n",
      "Фото 1 скачано как dcea8f3ca7ec8f4eec42bcf71fb62570_1200x900.jpg и записано в CSV.\n",
      "Фото 2 скачано как d45fb8fe1fdc31278978d7a25d2ab828_1200x900.jpg и записано в CSV.\n",
      "Фото 3 скачано как 6a2e24ea4000230c0e32fbf0a108f358_1200x900.jpg и записано в CSV.\n",
      "Фото 4 скачано как f388f1c71d050d9da7cf26ff4b8e6827_1200x900.jpg и записано в CSV.\n",
      "Фото 5 скачано как dc1d32b54c5d9684b0c054654b59a637_1200x900.jpg и записано в CSV.\n"
     ]
    },
    {
     "name": "stderr",
     "output_type": "stream",
     "text": [
      "Flat images parsing:   8%|▊         | 40/501 [03:51<37:54,  4.93s/it]"
     ]
    },
    {
     "name": "stdout",
     "output_type": "stream",
     "text": [
      "Фото 6 скачано как 3AQXYx и записано в CSV.\n",
      "--------end of flat 2539 / 3000 ---------\n",
      "Фото 1 скачано как aa4a82322ad9944ff51a66fc7e1dfd97_1200x900.jpg и записано в CSV.\n",
      "Фото 2 скачано как 3faab8fd691b5835ef4ab91fe131d3dd_1200x900.jpg и записано в CSV.\n",
      "Фото 3 скачано как b3269bcd3e4f2c0834dd9a4660b730d0_1200x900.jpg и записано в CSV.\n",
      "Фото 4 скачано как 21f7fb8d58055daca50007db5092f0ea_1200x900.jpg и записано в CSV.\n",
      "Фото 5 скачано как ecec38ee9bfc49b84d71e80c680e9c5f_1200x900.jpg и записано в CSV.\n",
      "Фото 6 скачано как 61b3245b14ff59bfc9ea10af6f84969c_1200x900.jpg и записано в CSV.\n",
      "Фото 7 скачано как b0a8e5432c3b13746ef7b8ee097365ef_1200x900.jpg и записано в CSV.\n"
     ]
    },
    {
     "name": "stderr",
     "output_type": "stream",
     "text": [
      "Flat images parsing:   8%|▊         | 41/501 [03:55<37:02,  4.83s/it]"
     ]
    },
    {
     "name": "stdout",
     "output_type": "stream",
     "text": [
      "Фото 8 скачано как 3AQXYx и записано в CSV.\n",
      "--------end of flat 2540 / 3000 ---------\n",
      "Фото 1 скачано как 25d4408aa12f5b5ba9ca518ec49448e5_1200x900.jpg и записано в CSV.\n",
      "Фото 2 скачано как d8fc1ab3d344ecad674b2bf5a20284fd_1200x900.jpg и записано в CSV.\n",
      "Фото 3 скачано как 110199b4808672e88936189e047a7e39_1200x900.jpg и записано в CSV.\n",
      "Фото 4 скачано как 838e8f8941f7380d776f173a02590cca_1200x900.jpg и записано в CSV.\n",
      "Фото 5 скачано как 88387df72dfe41805041a81165c12375_1200x900.jpg и записано в CSV.\n",
      "Фото 6 скачано как 6a21531d5da6d100fc3a66a41b01a5c5_1200x900.jpg и записано в CSV.\n",
      "Фото 7 скачано как 3810b446395dcbfb6dc64c7baeb0b5d4_1200x900.jpg и записано в CSV.\n"
     ]
    },
    {
     "name": "stderr",
     "output_type": "stream",
     "text": [
      "Flat images parsing:   8%|▊         | 42/501 [04:00<37:31,  4.91s/it]"
     ]
    },
    {
     "name": "stdout",
     "output_type": "stream",
     "text": [
      "Фото 8 скачано как z7rvWKIV-as и записано в CSV.\n",
      "--------end of flat 2541 / 3000 ---------\n",
      "Фото 1 скачано как cc7b1a35b58938fa93e2721282e0ea0b_1200x900.jpg и записано в CSV.\n",
      "Фото 2 скачано как c58f4d78114eb3b08c02047662a9ee9d_1200x900.jpg и записано в CSV.\n",
      "Фото 3 скачано как 47e126dd05834493346f822a0e597236_1200x900.jpg и записано в CSV.\n",
      "Фото 4 скачано как 7f812cbdef86460bd28059b63fb3e046_1200x900.jpg и записано в CSV.\n",
      "Фото 5 скачано как 7ca753ed01fb38212af2a478f1d14172_1200x900.jpg и записано в CSV.\n",
      "Фото 6 скачано как b15a312c229600cb791ffa0a2f312dee_1200x900.jpg и записано в CSV.\n",
      "Фото 7 скачано как 7cf18953c97c889404c5fc6374e826d2_1200x900.jpg и записано в CSV.\n",
      "Фото 8 скачано как 0b8ddf7d5cd0cc38ed519fc9a82cb681_1200x900.jpg и записано в CSV.\n"
     ]
    },
    {
     "name": "stderr",
     "output_type": "stream",
     "text": [
      "Flat images parsing:   9%|▊         | 43/501 [04:05<37:14,  4.88s/it]"
     ]
    },
    {
     "name": "stdout",
     "output_type": "stream",
     "text": [
      "Фото 9 скачано как 3AQXYx и записано в CSV.\n",
      "--------end of flat 2542 / 3000 ---------\n",
      "Фото 1 скачано как 988889c2fe4eff43c4ace9be0e6222d0_1200x900.jpg и записано в CSV.\n",
      "Фото 2 скачано как 8fc2bfeb143d4b56ddd06f61821149b6_1200x900.jpg и записано в CSV.\n",
      "Фото 3 скачано как 3eabc273e16346fbb341573c28d34693_1200x900.jpg и записано в CSV.\n",
      "Фото 4 скачано как ae5fc2ce9b67365dd8195c354d771163_1200x900.jpg и записано в CSV.\n",
      "Фото 5 скачано как 3fef78d8bfb9c1eaeaf1d8e2de3bf3d6_1200x900.jpg и записано в CSV.\n",
      "Фото 6 скачано как b37c5a0d820efd03dab165a9920f82c5_1200x900.jpg и записано в CSV.\n",
      "Фото 7 скачано как 9ce7ff9fd6f6295e53fb7a8d55b87a3d_1200x900.jpg и записано в CSV.\n",
      "Фото 8 скачано как 778694429a11d1acff8a24278303a51b_1200x900.jpg и записано в CSV.\n",
      "Фото 9 скачано как 3d5b123cb32882f82fd550ac10718c6e_1200x900.jpg и записано в CSV.\n",
      "Фото 10 скачано как 2b9b26ac5e5aa8750d274b5c1448a409_1200x900.jpg и записано в CSV.\n"
     ]
    },
    {
     "name": "stderr",
     "output_type": "stream",
     "text": [
      "Flat images parsing:   9%|▉         | 44/501 [04:12<41:22,  5.43s/it]"
     ]
    },
    {
     "name": "stdout",
     "output_type": "stream",
     "text": [
      "Фото 11 скачано как z7rvWKIV-as и записано в CSV.\n",
      "--------end of flat 2543 / 3000 ---------\n",
      "Фото 1 скачано как 13eab0a4f5cfc83bb4e87b0542f6a485_1200x900.jpg и записано в CSV.\n",
      "Фото 2 скачано как 4ab428e45cb6930bc12007e621bc69ed_1200x900.jpg и записано в CSV.\n",
      "Фото 3 скачано как e849616fc08c724af468d2c79de4d24d_1200x900.jpg и записано в CSV.\n",
      "Фото 4 скачано как 49d7e1c3997d2cd07ed2308302e77179_1200x900.jpg и записано в CSV.\n",
      "Фото 5 скачано как 7cf0ad4fb684ebbeefa95d6ca4c89fe8_1200x900.jpg и записано в CSV.\n",
      "Фото 6 скачано как 8a563c771816137d822912d579a1dab8_1200x900.jpg и записано в CSV.\n"
     ]
    },
    {
     "name": "stderr",
     "output_type": "stream",
     "text": [
      "Flat images parsing:   9%|▉         | 45/501 [04:17<39:38,  5.22s/it]"
     ]
    },
    {
     "name": "stdout",
     "output_type": "stream",
     "text": [
      "Фото 7 скачано как z7rvWKIV-as и записано в CSV.\n",
      "--------end of flat 2544 / 3000 ---------\n",
      "Фото 1 скачано как 1dd3c44be5c9e9242823e3644bff2025_1200x900.jpg и записано в CSV.\n",
      "Фото 2 скачано как b5b66ab9999d946eafe1104871eb4186_1200x900.jpg и записано в CSV.\n",
      "Фото 3 скачано как e6f45989987907af4f50f4e7c9936364_1200x900.jpg и записано в CSV.\n",
      "Фото 4 скачано как b1db3dca575078e4431920a5c10ed38a_1200x900.jpg и записано в CSV.\n",
      "Фото 5 скачано как c259fa43f109c28ad0025399db5e4c18_1200x900.jpg и записано в CSV.\n",
      "Фото 6 скачано как c7b4ac5d7e7b42d30c66fdcaf1bffcbf_1200x900.jpg и записано в CSV.\n",
      "Фото 7 скачано как 8f58de52c72b403a2b989a7839b10d23_1200x900.jpg и записано в CSV.\n",
      "Фото 8 скачано как f6305fe4366f0295f7092e5ae3b71a65_1200x900.jpg и записано в CSV.\n",
      "Фото 9 скачано как 02cce0fcd62b5bc29b30df5924a0fa7f_1200x900.jpg и записано в CSV.\n",
      "Фото 10 скачано как 10f8cb2bc19adcd9a320ecd9c9996312_1200x900.jpg и записано в CSV.\n",
      "Фото 11 скачано как 2a35de8563a66f8c34a7ec619f349b3a_1200x900.jpg и записано в CSV.\n",
      "Фото 12 скачано как c0ee2597622e3fcf64d331159ae29810_1200x900.jpg и записано в CSV.\n",
      "Фото 13 скачано как 729946cbc846d7073acccf5247d8ff64_1200x900.jpg и записано в CSV.\n",
      "Фото 14 скачано как cd519668614bb895ae967b6203bdee63_1200x900.jpg и записано в CSV.\n",
      "Фото 15 скачано как 35d68a217f867aa07554c7e5049496c0_1200x900.jpg и записано в CSV.\n"
     ]
    },
    {
     "name": "stderr",
     "output_type": "stream",
     "text": [
      "Flat images parsing:   9%|▉         | 46/501 [04:26<49:58,  6.59s/it]"
     ]
    },
    {
     "name": "stdout",
     "output_type": "stream",
     "text": [
      "Фото 16 скачано как z7rvWKIV-as и записано в CSV.\n",
      "--------end of flat 2545 / 3000 ---------\n",
      "Фото 1 скачано как 5b9a8b53d04c6adf4072f530c509d432_1200x900.jpg и записано в CSV.\n",
      "Фото 2 скачано как 7fba68359eade9deaba39ac1f0bdce50_1200x900.jpg и записано в CSV.\n",
      "Фото 3 скачано как f1c70d93742c20021872e19730e23ab6_1200x900.jpg и записано в CSV.\n",
      "Фото 4 скачано как c0a6735f0e87d11e25516a09dc636c66_1200x900.jpg и записано в CSV.\n",
      "Фото 5 скачано как 9f23b8fdbe750802ab607088d48f10c3_1200x900.jpg и записано в CSV.\n",
      "Фото 6 скачано как c32da065b28dc0fc7519e2e432c7be97_1200x900.jpg и записано в CSV.\n",
      "Фото 7 скачано как 2e087e5055f4d914d68a314edfdfc6c3_1200x900.jpg и записано в CSV.\n",
      "Фото 8 скачано как 79681e2be8ea71ee9e10ce3188e8bdde_1200x900.jpg и записано в CSV.\n",
      "Фото 9 скачано как 930254f5aa8d72b3021029bc3a08c4a7_1200x900.jpg и записано в CSV.\n",
      "Фото 10 скачано как 7d0b7ce1b99191cd379ac14d4ec5241a_1200x900.jpg и записано в CSV.\n",
      "Фото 11 скачано как 91e54029716a722b15a01aa4776def07_1200x900.jpg и записано в CSV.\n",
      "Фото 12 скачано как abc691e150f3818412bf49e94159f087_1200x900.jpg и записано в CSV.\n",
      "Фото 13 скачано как b03a546d0e8fe1abe495fb70ae0f100d_1200x900.jpg и записано в CSV.\n",
      "Фото 14 скачано как 7a538c5f5b4fc333f1f976131c6869b6_1200x900.jpg и записано в CSV.\n",
      "Фото 15 скачано как 1ade65f6f1164e3f3cb641cbcf777894_1200x900.jpg и записано в CSV.\n"
     ]
    },
    {
     "name": "stderr",
     "output_type": "stream",
     "text": [
      "Flat images parsing:   9%|▉         | 47/501 [04:36<56:03,  7.41s/it]"
     ]
    },
    {
     "name": "stdout",
     "output_type": "stream",
     "text": [
      "Фото 16 скачано как z7rvWKIV-as и записано в CSV.\n",
      "--------end of flat 2546 / 3000 ---------\n",
      "Фото 1 скачано как c535fd8a19cac53bd660365a1ef3bc24_1200x900.jpg и записано в CSV.\n",
      "Фото 2 скачано как 583d7c0c1d16301de4f045503b67d735_1200x900.jpg и записано в CSV.\n",
      "Фото 3 скачано как 2814b0ea8256c51f5e15e3024b44167f_1200x900.jpg и записано в CSV.\n",
      "Фото 4 скачано как 1f147745aca73025fa13c3c6ead67f29_1200x900.jpg и записано в CSV.\n",
      "Фото 5 скачано как 13595de8ca0ed57c06fafe75ba1dc7ed_1200x900.jpg и записано в CSV.\n",
      "Фото 6 скачано как 79b7e4c2ea73f7fe3d03d9836462beee_1200x900.jpg и записано в CSV.\n",
      "Фото 7 скачано как 260455ae5b26b80e36631e79afe8a8b3_1200x900.jpg и записано в CSV.\n",
      "Фото 8 скачано как 81a0cffca9479e0a7e4877bcf17659e5_1200x900.jpg и записано в CSV.\n"
     ]
    },
    {
     "name": "stderr",
     "output_type": "stream",
     "text": [
      "Flat images parsing:  10%|▉         | 48/501 [04:42<52:30,  6.96s/it]"
     ]
    },
    {
     "name": "stdout",
     "output_type": "stream",
     "text": [
      "Фото 9 скачано как 3AQXYx и записано в CSV.\n",
      "--------end of flat 2547 / 3000 ---------\n",
      "Фото 1 скачано как 92ef491eedc5ecd7537ae15f132fdf3b_1200x900.jpg и записано в CSV.\n",
      "Фото 2 скачано как fbd08bfee399598549a56c8027146003_1200x900.jpg и записано в CSV.\n",
      "Фото 3 скачано как 237e1182146268491b5436360b5e3d09_1200x900.jpg и записано в CSV.\n",
      "Фото 4 скачано как a0e1bb9326ecb870b45628693b32c743_1200x900.jpg и записано в CSV.\n",
      "Фото 5 скачано как 318cc37fa4b5f460610272d603b94a4e_1200x900.jpg и записано в CSV.\n",
      "Фото 6 скачано как ba96880fd88ac9aecdaac417d4f9b5a2_1200x900.jpg и записано в CSV.\n",
      "Фото 7 скачано как 7d9154c4db42304902ca871204b9687e_1200x900.jpg и записано в CSV.\n",
      "Фото 8 скачано как 68a61af022fa8a623093f8d31d46f75a_1200x900.jpg и записано в CSV.\n",
      "Фото 9 скачано как 3b98a46a80c205fe3fc0715b5b040a2a_1200x900.jpg и записано в CSV.\n",
      "Фото 10 скачано как 360d610f671b158cdd9d975bddb81687_1200x900.jpg и записано в CSV.\n",
      "Фото 11 скачано как fb56a433faca596e9e46b3696d916c9d_1200x900.jpg и записано в CSV.\n",
      "Фото 12 скачано как 39df7948fd78bf7121ac005bf49c53d2_1200x900.jpg и записано в CSV.\n",
      "Фото 13 скачано как 53b1939c39846c0f2731be49e69dc34e_1200x900.jpg и записано в CSV.\n",
      "Фото 14 скачано как 0c37ecdfed101d469ab7f090850bb5db_1200x900.jpg и записано в CSV.\n",
      "Фото 15 скачано как 9316aa531be9f8517fa3c3ae806fae7a_1200x900.jpg и записано в CSV.\n",
      "Фото 16 скачано как 782169ca734361123c2ffc11cf228e78_1200x900.jpg и записано в CSV.\n",
      "Фото 17 скачано как b5a14d8173d94ff99e919f2e62bef893_1200x900.jpg и записано в CSV.\n",
      "Фото 18 скачано как d8f0fc2bbbc91fae8bb612e859488696_1200x900.jpg и записано в CSV.\n"
     ]
    },
    {
     "name": "stderr",
     "output_type": "stream",
     "text": [
      "Flat images parsing:  10%|▉         | 49/501 [04:55<1:06:02,  8.77s/it]"
     ]
    },
    {
     "name": "stdout",
     "output_type": "stream",
     "text": [
      "Фото 19 скачано как z7rvWKIV-as и записано в CSV.\n",
      "--------end of flat 2548 / 3000 ---------\n",
      "Фото 1 скачано как 4cf20eecaf3c9f4b3702633a923488f2_1200x900.jpg и записано в CSV.\n",
      "Фото 2 скачано как 4b381a2a859f697949b1a72ea389c41d_1200x900.jpg и записано в CSV.\n",
      "Фото 3 скачано как e9a9c71c6ab4970de0b8b293351a4710_1200x900.jpg и записано в CSV.\n",
      "Фото 4 скачано как 76f3a3a9d837d830746913ccf29ee9cc_1200x900.jpg и записано в CSV.\n",
      "Фото 5 скачано как 63505a01de769fc1a82c96fb396a4e24_1200x900.jpg и записано в CSV.\n",
      "Фото 6 скачано как fd662f8ac1e53efbd57aa648ecbdab7c_1200x900.jpg и записано в CSV.\n",
      "Фото 7 скачано как bb7bde16f487ac71bd2d7b00da46ad51_1200x900.jpg и записано в CSV.\n",
      "Фото 8 скачано как 8ee121500eb1212a4637959797d73506_1200x900.jpg и записано в CSV.\n",
      "Фото 9 скачано как f988a0893b76a3abc282bdef92af9c9c_1200x900.jpg и записано в CSV.\n",
      "Фото 10 скачано как 606f9761c3bb455ce23f1c4c7dfd3be8_1200x900.jpg и записано в CSV.\n",
      "Фото 11 скачано как ffff9ccf21e7d6b6fb78de47da3957eb_1200x900.jpg и записано в CSV.\n",
      "Фото 12 скачано как 5c72d280ad99eb42ef1715154442ba23_1200x900.jpg и записано в CSV.\n",
      "Фото 13 скачано как 34288618d3b2ee2c9f34299c4f28a63d_1200x900.jpg и записано в CSV.\n",
      "Фото 14 скачано как d1a47985ac93cd76b475348fc63d951f_1200x900.jpg и записано в CSV.\n",
      "Фото 15 скачано как 1476af432a4513b015268f5fae8a5999_1200x900.jpg и записано в CSV.\n"
     ]
    },
    {
     "name": "stderr",
     "output_type": "stream",
     "text": [
      "Flat images parsing:  10%|▉         | 50/501 [05:04<1:07:28,  8.98s/it]"
     ]
    },
    {
     "name": "stdout",
     "output_type": "stream",
     "text": [
      "Фото 16 скачано как 37jCNp и записано в CSV.\n",
      "--------end of flat 2549 / 3000 ---------\n",
      "Фото 1 скачано как 02a5b571087e88b7133746718c67ede2_1200x900.jpg и записано в CSV.\n",
      "Фото 2 скачано как 44d18e55906dcaf68db5fe3e492179be_1200x900.jpg и записано в CSV.\n",
      "Фото 3 скачано как abec6f1dc642335e2a96d968df5ff16f_1200x900.jpg и записано в CSV.\n",
      "Фото 4 скачано как 79150fedcb06337d2dad9f483496baf7_1200x900.jpg и записано в CSV.\n",
      "Фото 5 скачано как f406979b3af11a86579427550413dd8e_1200x900.jpg и записано в CSV.\n",
      "Фото 6 скачано как e39a615e8ed4da2a54f3d5b489b71ece_1200x900.jpg и записано в CSV.\n",
      "Фото 7 скачано как e1af2c76d060797f06a3ea0aa0f231a9_1200x900.jpg и записано в CSV.\n"
     ]
    },
    {
     "name": "stderr",
     "output_type": "stream",
     "text": [
      "Flat images parsing:  10%|█         | 51/501 [05:09<58:49,  7.84s/it]  "
     ]
    },
    {
     "name": "stdout",
     "output_type": "stream",
     "text": [
      "Фото 8 скачано как 3AQXYx и записано в CSV.\n",
      "--------end of flat 2550 / 3000 ---------\n",
      "Фото 1 скачано как 03aa13ceaf662418e4eb73b48a26bf23_1200x900.jpg и записано в CSV.\n",
      "Фото 2 скачано как 11399f3c8f5a22176d71e892e7eb1be4_1200x900.jpg и записано в CSV.\n",
      "Фото 3 скачано как 1b98ff6730d9b0f06ad2d2a85a2f7fee_1200x900.jpg и записано в CSV.\n",
      "Фото 4 скачано как 9a2b93d4f6337f804445e436e285510b_1200x900.jpg и записано в CSV.\n",
      "Фото 5 скачано как 6a2737ae5c5dc231bc891bafa0fa9d2f_1200x900.jpg и записано в CSV.\n",
      "Фото 6 скачано как cb778c10f2857947f5bd1be8302af216_1200x900.jpg и записано в CSV.\n",
      "Фото 7 скачано как 3709b7efc564512e67a208c5b43e9fdd_1200x900.jpg и записано в CSV.\n",
      "Фото 8 скачано как 5781e1e92aeff135bea98f56b7d695b8_1200x900.jpg и записано в CSV.\n",
      "Фото 9 скачано как 7f7165cfcdc07ea05aafdc23c8a903f0_1200x900.jpg и записано в CSV.\n",
      "Фото 10 скачано как 7aca4fb6f640086b98f434aea0419589_1200x900.jpg и записано в CSV.\n",
      "Фото 11 скачано как b417fc53d97cd7f757d36f99549645c5_1200x900.jpg и записано в CSV.\n",
      "Фото 12 скачано как 83eae2132430f70fc617ffdf3ece526b_1200x900.jpg и записано в CSV.\n",
      "Фото 13 скачано как 520001decef26f0dfe20ef408517fde4_1200x900.jpg и записано в CSV.\n",
      "Фото 14 скачано как 1454a35f76201ce3ec6e8d77691cf3fa_1200x900.jpg и записано в CSV.\n",
      "Фото 15 скачано как 52d23020c5ead2c36bf79a7b68093642_1200x900.jpg и записано в CSV.\n"
     ]
    },
    {
     "name": "stderr",
     "output_type": "stream",
     "text": [
      "Flat images parsing:  10%|█         | 52/501 [05:22<1:09:19,  9.26s/it]"
     ]
    },
    {
     "name": "stdout",
     "output_type": "stream",
     "text": [
      "Фото 16 скачано как z7rvWKIV-as и записано в CSV.\n",
      "--------end of flat 2551 / 3000 ---------\n",
      "Фото 1 скачано как 84f294c6810cceb02c269799ef94afa9_1200x900.jpg и записано в CSV.\n",
      "Фото 2 скачано как f5708483b8962e8f9502b0c60b960ec1_1200x900.jpg и записано в CSV.\n",
      "Фото 3 скачано как 9c85e0b86bfda54273ff237e192ed2ba_1200x900.jpg и записано в CSV.\n",
      "Фото 4 скачано как ea4705004754877472ec1713f0d3e3e5_1200x900.jpg и записано в CSV.\n",
      "Фото 5 скачано как 1566490f0b7d2677480cf698209528b3_1200x900.jpg и записано в CSV.\n",
      "Фото 6 скачано как fb3cfcafe5f0c2cc2938b31b1f11d3c6_1200x900.jpg и записано в CSV.\n",
      "Фото 7 скачано как 3b83b4b1dbd7b2e1b05c5d1c6b5a8192_1200x900.jpg и записано в CSV.\n",
      "Фото 8 скачано как 4887a919dbadc902f2997e6af0b67978_1200x900.jpg и записано в CSV.\n",
      "Фото 9 скачано как ec63e157fb2a213fd7f5ec97b3a3e582_1200x900.jpg и записано в CSV.\n",
      "Фото 10 скачано как 8da598c54ecc0cd122430a3e4da915f6_1200x900.jpg и записано в CSV.\n",
      "Фото 11 скачано как 199e36cddebd1a3a5c9c498de96926ca_1200x900.jpg и записано в CSV.\n",
      "Фото 12 скачано как 72b1439a8daef54f510e2f21a1d8562d_1200x900.jpg и записано в CSV.\n",
      "Фото 13 скачано как 82f40d7c3b49072a02e80f6990837477_1200x900.jpg и записано в CSV.\n",
      "Фото 14 скачано как d7f1af1801292625d5a4be73035afe61_1200x900.jpg и записано в CSV.\n",
      "Фото 15 скачано как 477cc20e66b8989dd6f9559bf0604919_1200x900.jpg и записано в CSV.\n"
     ]
    },
    {
     "name": "stderr",
     "output_type": "stream",
     "text": [
      "Flat images parsing:  11%|█         | 53/501 [05:33<1:12:42,  9.74s/it]"
     ]
    },
    {
     "name": "stdout",
     "output_type": "stream",
     "text": [
      "Фото 16 скачано как 37jCNp и записано в CSV.\n",
      "--------end of flat 2552 / 3000 ---------\n",
      "Фото 1 скачано как 2c0bcf9bb16bda8ea1012883b3de1a59_1200x900.jpg и записано в CSV.\n",
      "Фото 2 скачано как 401fca8d1c8fbae24029105817661eca_1200x900.jpg и записано в CSV.\n",
      "Фото 3 скачано как b2156af1ff35be0b9eb64e349110b825_1200x900.jpg и записано в CSV.\n",
      "Фото 4 скачано как 2d31706325f1dbae039067a5b3ba0c3a_1200x900.jpg и записано в CSV.\n",
      "Фото 5 скачано как a03112644d0b526e2abcdc5d4c9d614f_1200x900.jpg и записано в CSV.\n",
      "Фото 6 скачано как 7e30bd20ca34659380fc4f470dc01cc5_1200x900.jpg и записано в CSV.\n"
     ]
    },
    {
     "name": "stderr",
     "output_type": "stream",
     "text": [
      "Flat images parsing:  11%|█         | 54/501 [05:38<1:02:28,  8.39s/it]"
     ]
    },
    {
     "name": "stdout",
     "output_type": "stream",
     "text": [
      "Фото 7 скачано как z7rvWKIV-as и записано в CSV.\n",
      "--------end of flat 2553 / 3000 ---------\n",
      "Фото 1 скачано как 509e80765d8dfcdafa68dea8ba20836a_1200x900.jpg и записано в CSV.\n",
      "Фото 2 скачано как 66f20c36745ae7d2a0fa3ae8e1d0435e_1200x900.jpg и записано в CSV.\n",
      "Фото 3 скачано как 5a7a539540afc6290001ab1a630a791d_1200x900.jpg и записано в CSV.\n",
      "Фото 4 скачано как 61ee533544b4183ddcc8fa5633680af9_1200x900.jpg и записано в CSV.\n",
      "Фото 5 скачано как b21f7b7e9194bbfddacfd9bc3d88526c_1200x900.jpg и записано в CSV.\n",
      "Фото 6 скачано как 7b8822035528d499e80ac970a995ef81_1200x900.jpg и записано в CSV.\n",
      "Фото 7 скачано как 1508b9147ca4b478ee076ed24d4cac0f_1200x900.jpg и записано в CSV.\n",
      "Фото 8 скачано как 072fb04b47e0f69548d49c10513767ec_1200x900.jpg и записано в CSV.\n",
      "Фото 9 скачано как 455ab40f38367ddb4c4d2c0954b197d8_1200x900.jpg и записано в CSV.\n",
      "Фото 10 скачано как 2bc23e34856a6d3368a1a5312e4933e3_1200x900.jpg и записано в CSV.\n",
      "Фото 11 скачано как 7d7681aeaa15fdd5c5c859ca14281e66_1200x900.jpg и записано в CSV.\n",
      "Фото 12 скачано как 725d05278838444f1c3c143b28981233_1200x900.jpg и записано в CSV.\n",
      "Фото 13 скачано как 741c16c99f600b79e6a1f2377d66ae81_1200x900.jpg и записано в CSV.\n",
      "Фото 14 скачано как 1b2010a10e3f8c4ecbe40218b9a5f282_1200x900.jpg и записано в CSV.\n"
     ]
    },
    {
     "name": "stderr",
     "output_type": "stream",
     "text": [
      "Flat images parsing:  11%|█         | 55/501 [05:48<1:05:04,  8.75s/it]"
     ]
    },
    {
     "name": "stdout",
     "output_type": "stream",
     "text": [
      "Фото 15 скачано как z7rvWKIV-as и записано в CSV.\n",
      "--------end of flat 2554 / 3000 ---------\n",
      "Фото 1 скачано как c3d2429008417c9de50d43d024c28eec_1200x900.jpg и записано в CSV.\n",
      "Фото 2 скачано как 169b5ffe4b27bedf931af5ab4dbdb513_1200x900.jpg и записано в CSV.\n",
      "Фото 3 скачано как 0957b02011c16923ba0c95d689732751_1200x900.jpg и записано в CSV.\n",
      "Фото 4 скачано как 9377b4a3b189a78661131e7995332f47_1200x900.jpg и записано в CSV.\n",
      "Фото 5 скачано как 78dff013561e0559c52d530c6783fb15_1200x900.jpg и записано в CSV.\n",
      "Фото 6 скачано как a154d886125839b4825c5869b37a8a92_1200x900.jpg и записано в CSV.\n",
      "Фото 7 скачано как 459a51c6319a3a286f4a0c8eb682cbac_1200x900.jpg и записано в CSV.\n"
     ]
    },
    {
     "name": "stderr",
     "output_type": "stream",
     "text": [
      "Flat images parsing:  11%|█         | 56/501 [05:53<58:03,  7.83s/it]  "
     ]
    },
    {
     "name": "stdout",
     "output_type": "stream",
     "text": [
      "Фото 8 скачано как z7rvWKIV-as и записано в CSV.\n",
      "--------end of flat 2555 / 3000 ---------\n",
      "Фото 1 скачано как 6fd4cf06c569bd338077bf6c7f43035e_1200x900.jpg и записано в CSV.\n",
      "Фото 2 скачано как 75aca8290e461cb459d4e7c6943a8d47_1200x900.jpg и записано в CSV.\n",
      "Фото 3 скачано как b6c64b92dc59d8be1ff05195350e4248_1200x900.jpg и записано в CSV.\n",
      "Фото 4 скачано как 783dd9aa4ebb656ee36cc5b8e80d2780_1200x900.jpg и записано в CSV.\n"
     ]
    },
    {
     "name": "stderr",
     "output_type": "stream",
     "text": [
      "Flat images parsing:  11%|█▏        | 57/501 [05:57<49:42,  6.72s/it]"
     ]
    },
    {
     "name": "stdout",
     "output_type": "stream",
     "text": [
      "Фото 5 скачано как z7rvWKIV-as и записано в CSV.\n",
      "--------end of flat 2556 / 3000 ---------\n",
      "Фото 1 скачано как 82466ce0dd9dd8545c766945525d2cd6_1200x900.jpg и записано в CSV.\n",
      "Фото 2 скачано как 09de7b1a5158291733b0030ba497a9e1_1200x900.jpg и записано в CSV.\n",
      "Фото 3 скачано как 98523847fa26c135fdf5b3063a01827f_1200x900.jpg и записано в CSV.\n",
      "Фото 4 скачано как c8f563baf8b0a7aa5cb2e25acf8f7938_1200x900.jpg и записано в CSV.\n",
      "Фото 5 скачано как a951dd1970575b314382d670b54ef8fb_1200x900.jpg и записано в CSV.\n",
      "Фото 6 скачано как ec62f0319abb313d716c4da110210e49_1200x900.jpg и записано в CSV.\n",
      "Фото 7 скачано как 76e1c066ba6b35d1d0717350cfdb28b1_1200x900.jpg и записано в CSV.\n",
      "Фото 8 скачано как e115d536108b984ee8568ee30feeebf6_1200x900.jpg и записано в CSV.\n",
      "Фото 9 скачано как 731cb25c1d827816a0345d2c57be38ec_1200x900.jpg и записано в CSV.\n",
      "Фото 10 скачано как 73970873cceda67e40f3f751a7e6faee_1200x900.jpg и записано в CSV.\n"
     ]
    },
    {
     "name": "stderr",
     "output_type": "stream",
     "text": [
      "Flat images parsing:  12%|█▏        | 58/501 [06:05<51:28,  6.97s/it]"
     ]
    },
    {
     "name": "stdout",
     "output_type": "stream",
     "text": [
      "Фото 11 скачано как z7rvWKIV-as и записано в CSV.\n",
      "--------end of flat 2557 / 3000 ---------\n",
      "Фото 1 скачано как 1749601e1c2390fc7ddc1b9e469889cc_1200x900.jpg и записано в CSV.\n",
      "Фото 2 скачано как 724c428fd76fd88e1ff99a5bae78c19c_1200x900.jpg и записано в CSV.\n",
      "Фото 3 скачано как 3639728c713de19882fb835ff752a1fa_1200x900.jpg и записано в CSV.\n",
      "Фото 4 скачано как fa5ae864257721375d14897c25c41df1_1200x900.jpg и записано в CSV.\n",
      "Фото 5 скачано как 67743474405725137cc7ef303cb57128_1200x900.jpg и записано в CSV.\n",
      "Фото 6 скачано как b80edd93dc3884cc4d15119fc66f15ad_1200x900.jpg и записано в CSV.\n",
      "Фото 7 скачано как d8f5aedaad987cb708e01a2cea7ce848_1200x900.jpg и записано в CSV.\n",
      "Фото 8 скачано как b0b548dd5418de126e573a8a4b2d5d51_1200x900.jpg и записано в CSV.\n",
      "Фото 9 скачано как cd9e32e84dd009885df2e27a879ff609_1200x900.jpg и записано в CSV.\n",
      "Фото 10 скачано как ddbe3d0d6d5050e620463aba3b540c64_1200x900.jpg и записано в CSV.\n",
      "Фото 11 скачано как d93ed2e92e7db3e82d06679a239ecf04_1200x900.jpg и записано в CSV.\n",
      "Фото 12 скачано как 9c9d2b774ebd9b4af0b1b65e74650d5b_1200x900.jpg и записано в CSV.\n",
      "Фото 13 скачано как 78054caaba4e52117a9b3df0883048cd_1200x900.jpg и записано в CSV.\n",
      "Фото 14 скачано как 1a10d23647236957f2cc4fdf249c3f26_1200x900.jpg и записано в CSV.\n",
      "Фото 15 скачано как d063e0d0736607deada9120c4671d1f8_1200x900.jpg и записано в CSV.\n"
     ]
    },
    {
     "name": "stderr",
     "output_type": "stream",
     "text": [
      "Flat images parsing:  12%|█▏        | 59/501 [06:15<57:40,  7.83s/it]"
     ]
    },
    {
     "name": "stdout",
     "output_type": "stream",
     "text": [
      "Фото 16 скачано как 37jCNp и записано в CSV.\n",
      "--------end of flat 2558 / 3000 ---------\n",
      "Фото 1 скачано как 59fac0b84b4c1f5da8b4f08b9ef3b3f7_1200x900.jpg и записано в CSV.\n",
      "Фото 2 скачано как d0eac72a3b62e1f226a5c6d22594d027_1200x900.jpg и записано в CSV.\n",
      "Фото 3 скачано как 19e34b4a3e0a8fd506906bc561119414_1200x900.jpg и записано в CSV.\n",
      "Фото 4 скачано как 773010fabe4e05ab82d3a55fd76d7c56_1200x900.jpg и записано в CSV.\n",
      "Фото 5 скачано как c33810738f2ca90be0fbfaa24e18681f_1200x900.jpg и записано в CSV.\n",
      "Фото 6 скачано как ad550fc15dd6c9430de4c99c8304650e_1200x900.jpg и записано в CSV.\n",
      "Фото 7 скачано как efe29769e3f1ccfbc648d7dde127847a_1200x900.jpg и записано в CSV.\n"
     ]
    },
    {
     "name": "stderr",
     "output_type": "stream",
     "text": [
      "Flat images parsing:  12%|█▏        | 60/501 [06:21<53:56,  7.34s/it]"
     ]
    },
    {
     "name": "stdout",
     "output_type": "stream",
     "text": [
      "Фото 8 скачано как z7rvWKIV-as и записано в CSV.\n",
      "--------end of flat 2559 / 3000 ---------\n",
      "Фото 1 скачано как c5c76fb0a8924025d841096ab6fff974_1200x900.jpg и записано в CSV.\n",
      "Фото 2 скачано как 4b2e353d59fd60ee4277446c3a62a1ea_1200x900.jpg и записано в CSV.\n",
      "Фото 3 скачано как 5c0ed2a0845e6da1b53d71eccf83b2e2_1200x900.jpg и записано в CSV.\n",
      "Фото 4 скачано как 876ede8dff3e48e8513b0c15fd941c25_1200x900.jpg и записано в CSV.\n",
      "Фото 5 скачано как d27dcc15599a21810ee02ce840164b1c_1200x900.jpg и записано в CSV.\n",
      "Фото 6 скачано как 0919d748dada6a12b3874ef07acb9383_1200x900.jpg и записано в CSV.\n",
      "Фото 7 скачано как 44f957070ea6af3313a9d186da9c772b_1200x900.jpg и записано в CSV.\n",
      "Фото 8 скачано как 625da30286394ba3fff7c81f1985f485_1200x900.jpg и записано в CSV.\n",
      "Фото 9 скачано как ca4e7b957a5c1f37d47665f37e681f4a_1200x900.jpg и записано в CSV.\n"
     ]
    },
    {
     "name": "stderr",
     "output_type": "stream",
     "text": [
      "Flat images parsing:  12%|█▏        | 61/501 [06:31<1:00:14,  8.22s/it]"
     ]
    },
    {
     "name": "stdout",
     "output_type": "stream",
     "text": [
      "Фото 10 скачано как z7rvWKIV-as и записано в CSV.\n",
      "--------end of flat 2560 / 3000 ---------\n",
      "Фото 1 скачано как c757e16f49694eebe501d122f8498620_1200x900.jpg и записано в CSV.\n",
      "Фото 2 скачано как e73c19eca665076a605590ee46869a48_1200x900.jpg и записано в CSV.\n",
      "Фото 3 скачано как 935a4192926132d2c11e52abc9a31cc6_1200x900.jpg и записано в CSV.\n",
      "Фото 4 скачано как 2a311e1afca9d0eb151958048d180dda_1200x900.jpg и записано в CSV.\n",
      "Фото 5 скачано как 2fcd08709d72c17ecd8dcf92280b6081_1200x900.jpg и записано в CSV.\n",
      "Фото 6 скачано как 97bb735f4a58a71315f4bed26f4ad98e_1200x900.jpg и записано в CSV.\n",
      "Фото 7 скачано как b31512c1476cf87ccfafe7689bac7b69_1200x900.jpg и записано в CSV.\n",
      "Фото 8 скачано как 2b9231937e519cab15eb2450dbd0f95b_1200x900.jpg и записано в CSV.\n",
      "Фото 9 скачано как bf8eb0a1a8e6d8074368520361831cb2_1200x900.jpg и записано в CSV.\n",
      "Фото 10 скачано как 99b4c3aed73160f46637b12712d2d831_1200x900.jpg и записано в CSV.\n",
      "Фото 11 скачано как 7e434f1b180f4088481ff35f102c9164_1200x900.jpg и записано в CSV.\n"
     ]
    },
    {
     "name": "stderr",
     "output_type": "stream",
     "text": [
      "Flat images parsing:  12%|█▏        | 62/501 [06:39<58:36,  8.01s/it]  "
     ]
    },
    {
     "name": "stdout",
     "output_type": "stream",
     "text": [
      "Фото 12 скачано как z7rvWKIV-as и записано в CSV.\n",
      "--------end of flat 2561 / 3000 ---------\n",
      "Фото 1 скачано как 7771c321bd212faae2aba64b3451bfd4_1200x900.jpg и записано в CSV.\n",
      "Фото 2 скачано как b3f410650df0a4cede79ebd2b95821d5_1200x900.jpg и записано в CSV.\n",
      "Фото 3 скачано как 7d0f25a186cf6158a5c4d29017201adf_1200x900.jpg и записано в CSV.\n"
     ]
    },
    {
     "name": "stderr",
     "output_type": "stream",
     "text": [
      "Flat images parsing:  13%|█▎        | 63/501 [06:42<47:45,  6.54s/it]"
     ]
    },
    {
     "name": "stdout",
     "output_type": "stream",
     "text": [
      "Фото 4 скачано как z7rvWKIV-as и записано в CSV.\n",
      "--------end of flat 2562 / 3000 ---------\n",
      "Фото 1 скачано как 12c062741a143286bb7753e5d58e0724_1200x900.jpg и записано в CSV.\n",
      "Фото 2 скачано как dc21fc6ae1350ca13b3707dc45a72519_1200x900.jpg и записано в CSV.\n",
      "Фото 3 скачано как 03efb02abcc45bdc9b7630520a36a92b_1200x900.jpg и записано в CSV.\n",
      "Фото 4 скачано как 9393c225ca4c88a0f3bcc2c9903481ff_1200x900.jpg и записано в CSV.\n",
      "Фото 5 скачано как d9a8ef9aafbf7b9fdec1d5be0aaf1152_1200x900.jpg и записано в CSV.\n",
      "Фото 6 скачано как 7c2f6a46c1092e6f5c6c1c583a4fd4bb_1200x900.jpg и записано в CSV.\n",
      "Фото 7 скачано как b7a7674eb90699d0f1e8129b8e58aae6_1200x900.jpg и записано в CSV.\n",
      "Фото 8 скачано как 3db1c1c2354a6c82ef2a482e13f2a07a_1200x900.jpg и записано в CSV.\n",
      "Фото 9 скачано как 1a9962822c3ee6da72e4824922f3707d_1200x900.jpg и записано в CSV.\n",
      "Фото 10 скачано как c77022993b85ab4a99ada2f98144926a_1200x900.jpg и записано в CSV.\n",
      "Фото 11 скачано как 3607c3936c8ded773b03e9b4ab778216_1200x900.jpg и записано в CSV.\n",
      "Фото 12 скачано как e479ae89cfd11b3a665acaa031bfed8b_1200x900.jpg и записано в CSV.\n",
      "Фото 13 скачано как f71069079c8ac71672c746b27bb10aa2_1200x900.jpg и записано в CSV.\n",
      "Фото 14 скачано как fca8c9e646cc342ec074c163af312441_1200x900.jpg и записано в CSV.\n",
      "Фото 15 скачано как f28f8ff9dfba9169193e2dc53c3d1cbf_1200x900.jpg и записано в CSV.\n",
      "Фото 16 скачано как 28db2e3d84c52be6ab7f81bfec6c97d0_1200x900.jpg и записано в CSV.\n",
      "Фото 17 скачано как 767f8dc96e3e5ecad2e696c26b016f10_1200x900.jpg и записано в CSV.\n",
      "Фото 18 скачано как b8d4422f7412c60d0cbe4d0cf09b72d8_1200x900.jpg и записано в CSV.\n",
      "Фото 19 скачано как 76c9183ec338b3450ab19c8b04a3f613_1200x900.jpg и записано в CSV.\n",
      "Фото 20 скачано как d49762917aac1abe57c54efc5d21c86b_1200x900.jpg и записано в CSV.\n",
      "Фото 21 скачано как 160eef421778bd9d1c5b7c89dbd0961a_1200x900.jpg и записано в CSV.\n"
     ]
    },
    {
     "name": "stderr",
     "output_type": "stream",
     "text": [
      "Flat images parsing:  13%|█▎        | 64/501 [06:55<1:02:04,  8.52s/it]"
     ]
    },
    {
     "name": "stdout",
     "output_type": "stream",
     "text": [
      "Фото 22 скачано как z7rvWKIV-as и записано в CSV.\n",
      "--------end of flat 2563 / 3000 ---------\n",
      "Фото 1 скачано как 6bbbfdf4e733be196d4e2a4b6a603bf6_1200x900.jpg и записано в CSV.\n",
      "Фото 2 скачано как 8a57a11488e44ddd1a765267a63f6457_1200x900.jpg и записано в CSV.\n",
      "Фото 3 скачано как a7fe83d936451b6db3bdbe3955a9ccd9_1200x900.jpg и записано в CSV.\n",
      "Фото 4 скачано как dff915d74f23447d6c84775167a15dcd_1200x900.jpg и записано в CSV.\n",
      "Фото 5 скачано как dbd55914618b48adba79aafe7f0e1711_1200x900.jpg и записано в CSV.\n"
     ]
    },
    {
     "name": "stderr",
     "output_type": "stream",
     "text": [
      "Flat images parsing:  13%|█▎        | 65/501 [06:59<51:19,  7.06s/it]  "
     ]
    },
    {
     "name": "stdout",
     "output_type": "stream",
     "text": [
      "Фото 6 скачано как 37jCNp и записано в CSV.\n",
      "--------end of flat 2564 / 3000 ---------\n",
      "Фото 1 скачано как 24b237184e8de0cccbe4f83e02da42f3_1200x900.jpg и записано в CSV.\n",
      "Фото 2 скачано как d0958de1a4b9b997691b9f0cdb036605_1200x900.jpg и записано в CSV.\n",
      "Фото 3 скачано как 53cc2fe54173cacfefd0c41da504584f_1200x900.jpg и записано в CSV.\n",
      "Фото 4 скачано как 394239ca22b9654212e85e0446f0e71f_1200x900.jpg и записано в CSV.\n",
      "Фото 5 скачано как 727f5f5f02d72de03044bd2cf5aeaff8_1200x900.jpg и записано в CSV.\n",
      "Фото 6 скачано как 615e56ce5927e9966bed086d3f182ed3_1200x900.jpg и записано в CSV.\n",
      "Фото 7 скачано как f683bec186d3a5ee85c3b88336b305b2_1200x900.jpg и записано в CSV.\n",
      "Фото 8 скачано как 47bb832d6e8671ec411d26ede7c3f26c_1200x900.jpg и записано в CSV.\n",
      "Фото 9 скачано как f08bfbfc6f9de10147ceddc1f9f7171f_1200x900.jpg и записано в CSV.\n",
      "Фото 10 скачано как ac7e500749aac46a297f827a6bbea894_1200x900.jpg и записано в CSV.\n"
     ]
    },
    {
     "name": "stderr",
     "output_type": "stream",
     "text": [
      "Flat images parsing:  13%|█▎        | 66/501 [07:06<50:41,  6.99s/it]"
     ]
    },
    {
     "name": "stdout",
     "output_type": "stream",
     "text": [
      "Фото 11 скачано как 3AQXYx и записано в CSV.\n",
      "--------end of flat 2565 / 3000 ---------\n",
      "Фото 1 скачано как fae9c05a6b191f930de4fcc9dfb788a5_1200x900.jpg и записано в CSV.\n",
      "Фото 2 скачано как 51757bfab60fe4141b6437514bafea97_1200x900.jpg и записано в CSV.\n",
      "Фото 3 скачано как 244f296d3cfcb33d125ad19b16085aa2_1200x900.jpg и записано в CSV.\n",
      "Фото 4 скачано как 6b6285e171df4b41c99a21ed7c10937a_1200x900.jpg и записано в CSV.\n",
      "Фото 5 скачано как de91609d0ea49ca34e9e5815e2200cad_1200x900.jpg и записано в CSV.\n",
      "Фото 6 скачано как 3b4f952e9b46cccf506a89fc09880438_1200x900.jpg и записано в CSV.\n",
      "Фото 7 скачано как 0042e3a1769ccd33c3c0acc2b72c4b58_1200x900.jpg и записано в CSV.\n",
      "Фото 8 скачано как cca83823a876b92ec461f3560dcdbbf1_1200x900.jpg и записано в CSV.\n",
      "Фото 9 скачано как c5b644a3cab0e2fd36ad6075f286be21_1200x900.jpg и записано в CSV.\n",
      "Фото 10 скачано как 4adc9464bcfb31e70444a3f1d228244a_1200x900.jpg и записано в CSV.\n",
      "Фото 11 скачано как 27bc255e32ce306a251b87d061d34677_1200x900.jpg и записано в CSV.\n"
     ]
    },
    {
     "name": "stderr",
     "output_type": "stream",
     "text": [
      "Flat images parsing:  13%|█▎        | 67/501 [07:15<56:48,  7.85s/it]"
     ]
    },
    {
     "name": "stdout",
     "output_type": "stream",
     "text": [
      "Фото 12 скачано как 3AQXYx и записано в CSV.\n",
      "--------end of flat 2566 / 3000 ---------\n",
      "Фото 1 скачано как 60babf5c74598c7128b903a766741595_1200x900.jpg и записано в CSV.\n",
      "Фото 2 скачано как c972ab848163c4b01ed28db8b62b2a76_1200x900.jpg и записано в CSV.\n",
      "Фото 3 скачано как 235f633b8b3fa1a6b44ea8fe0e6fb7f2_1200x900.jpg и записано в CSV.\n",
      "Фото 4 скачано как 3b7b872bafc38b60515d24a72c187ccb_1200x900.jpg и записано в CSV.\n",
      "Фото 5 скачано как c33fa38ea8ececccabe630afe88a937c_1200x900.jpg и записано в CSV.\n",
      "Фото 6 скачано как 995da5fe3a4d8b15368e49809f4018c3_1200x900.jpg и записано в CSV.\n",
      "Фото 7 скачано как 82eb6dbbf25edc9ad35cbc4d8672edce_1200x900.jpg и записано в CSV.\n",
      "Фото 8 скачано как 2f3f81392ba07ca6b0ea66b8201fd3a5_1200x900.jpg и записано в CSV.\n",
      "Фото 9 скачано как 5d22bccf7eceed63602ef2a4d9938634_1200x900.jpg и записано в CSV.\n",
      "Фото 10 скачано как e5d4a58e085161e59b443c5be6e456e9_1200x900.jpg и записано в CSV.\n",
      "Фото 11 скачано как 14e15857df0c10a8112ed16b2c3884c6_1200x900.jpg и записано в CSV.\n",
      "Фото 12 скачано как 50fbf95490191620d61f8d9951ed46d7_1200x900.jpg и записано в CSV.\n"
     ]
    },
    {
     "name": "stderr",
     "output_type": "stream",
     "text": [
      "Flat images parsing:  14%|█▎        | 68/501 [07:23<57:04,  7.91s/it]"
     ]
    },
    {
     "name": "stdout",
     "output_type": "stream",
     "text": [
      "Фото 13 скачано как 37jCNp и записано в CSV.\n",
      "--------end of flat 2567 / 3000 ---------\n",
      "Фото 1 скачано как f8c5e231e42fda79f9d46f62b1dc4dfb_1200x900.jpg и записано в CSV.\n",
      "Фото 2 скачано как 080f636380a1aece534ef45e5b9875ed_1200x900.jpg и записано в CSV.\n",
      "Фото 3 скачано как c170e9c429b4aa50fc3a1af883248e27_1200x900.jpg и записано в CSV.\n",
      "Фото 4 скачано как b26969efe6fe656b4e69eed7c6a772f8_1200x900.jpg и записано в CSV.\n",
      "Фото 5 скачано как 0c1815b72b53f3d0b6f75b5da3b98ee3_1200x900.jpg и записано в CSV.\n",
      "Фото 6 скачано как c3e56ad8f63d1b813f4e05b47a36c346_1200x900.jpg и записано в CSV.\n",
      "Фото 7 скачано как fa631aa1fc784a60ffca000dfe84f73f_1200x900.jpg и записано в CSV.\n"
     ]
    },
    {
     "name": "stderr",
     "output_type": "stream",
     "text": [
      "Flat images parsing:  14%|█▍        | 69/501 [07:30<52:59,  7.36s/it]"
     ]
    },
    {
     "name": "stdout",
     "output_type": "stream",
     "text": [
      "Фото 8 скачано как z7rvWKIV-as и записано в CSV.\n",
      "--------end of flat 2568 / 3000 ---------\n",
      "Фото 1 скачано как 08384354ad92665307cd8b7a61c6fe42_1200x900.jpg и записано в CSV.\n",
      "Фото 2 скачано как 4fc9c0737178da550dbc105294c58050_1200x900.jpg и записано в CSV.\n",
      "Фото 3 скачано как 11d1716bce0db51b67025c0f56546760_1200x900.jpg и записано в CSV.\n",
      "Фото 4 скачано как 9e718e22f890975b2e97719a21f66d4c_1200x900.jpg и записано в CSV.\n",
      "Фото 5 скачано как fe711583866f23e1c8b21e1a59b7aaeb_1200x900.jpg и записано в CSV.\n",
      "Фото 6 скачано как 2b67d85d10f0ad15ac84dd1af445e393_1200x900.jpg и записано в CSV.\n",
      "Фото 7 скачано как 60630dae23d9fa642611ce6330503434_1200x900.jpg и записано в CSV.\n",
      "Фото 8 скачано как 09a08886ae622636daef30f035ec918a_1200x900.jpg и записано в CSV.\n",
      "Фото 9 скачано как c82930e3de04a8ab4a56e1c94bd65607_1200x900.jpg и записано в CSV.\n",
      "Фото 10 скачано как 2afafbbab08601880d2ac8cd82751a12_1200x900.jpg и записано в CSV.\n",
      "Фото 11 скачано как 53a45db9b115cfa7e5d7665088128889_1200x900.jpg и записано в CSV.\n",
      "Фото 12 скачано как ea4531455abac6c29d56a78f3318a5d7_1200x900.jpg и записано в CSV.\n"
     ]
    },
    {
     "name": "stderr",
     "output_type": "stream",
     "text": [
      "Flat images parsing:  14%|█▍        | 70/501 [07:40<58:39,  8.17s/it]"
     ]
    },
    {
     "name": "stdout",
     "output_type": "stream",
     "text": [
      "Фото 13 скачано как 7eabcba450233da1940d99612b922754_1200x900.jpg и записано в CSV.\n",
      "--------end of flat 2569 / 3000 ---------\n",
      "Фото 1 скачано как ae6d6c3fb2c3cbffe9237993cc74f96c_1200x900.jpg и записано в CSV.\n",
      "Фото 2 скачано как 24073b43206337a29ab5aa9bf7e5b678_1200x900.jpg и записано в CSV.\n",
      "Фото 3 скачано как c4c0a31aad2826b1056dd814bf41f70d_1200x900.jpg и записано в CSV.\n",
      "Фото 4 скачано как 4361951b6f15bea5f279abb884a4e6e4_1200x900.jpg и записано в CSV.\n",
      "Фото 5 скачано как 08d9c92b2da5dbbffb14bdbcf260738d_1200x900.jpg и записано в CSV.\n",
      "Фото 6 скачано как 62e5ef9b77ddb34486f879a5081c05b9_1200x900.jpg и записано в CSV.\n",
      "Фото 7 скачано как 7aa55d657d527cfb453d236970648729_1200x900.jpg и записано в CSV.\n",
      "Фото 8 скачано как 289070843201b0736f6089cf913acbac_1200x900.jpg и записано в CSV.\n",
      "Фото 9 скачано как c8b3492d9c5b0f9932e5fed1abca0f7b_1200x900.jpg и записано в CSV.\n",
      "Фото 10 скачано как d45ab02c3f7ffdea055ad8ae62628c3d_1200x900.jpg и записано в CSV.\n",
      "Фото 11 скачано как 29dcb84dca12d0df7a8ee3f900c99f59_1200x900.jpg и записано в CSV.\n",
      "Фото 12 скачано как d59e062ee50718514c1325d04eb16f3d_1200x900.jpg и записано в CSV.\n",
      "Фото 13 скачано как aee80d67bc7f4703b9b63da9c14ec6cc_1200x900.jpg и записано в CSV.\n",
      "Фото 14 скачано как 50c770f115323025c54f37b23faa2135_1200x900.jpg и записано в CSV.\n",
      "Фото 15 скачано как 27dd3284a2833838e09ed0ea4d564869_1200x900.jpg и записано в CSV.\n"
     ]
    },
    {
     "name": "stderr",
     "output_type": "stream",
     "text": [
      "Flat images parsing:  14%|█▍        | 71/501 [07:51<1:05:07,  9.09s/it]"
     ]
    },
    {
     "name": "stdout",
     "output_type": "stream",
     "text": [
      "Фото 16 скачано как 286e4f847d7465addc4895f5b348af70_1200x900.jpg и записано в CSV.\n",
      "--------end of flat 2570 / 3000 ---------\n",
      "Фото 1 скачано как f81f0e8751890e8310ea4761f46a5295_1200x900.jpg и записано в CSV.\n",
      "Фото 2 скачано как 2c1b26fcd1716646889908017f244d46_1200x900.jpg и записано в CSV.\n",
      "Фото 3 скачано как 3864bcb106cc660b66bedc9951e55ddd_1200x900.jpg и записано в CSV.\n",
      "Фото 4 скачано как 74c5f77dddb57d5c7990a0dd5644edcb_1200x900.jpg и записано в CSV.\n",
      "Фото 5 скачано как d476b3f7b45adad12c93b32dd7475752_1200x900.jpg и записано в CSV.\n",
      "Фото 6 скачано как f38b57f5c193cd1c4c328e7ff0fb5dd5_1200x900.jpg и записано в CSV.\n",
      "Фото 7 скачано как 1ce1ef29ca772395962c0203378018e1_1200x900.jpg и записано в CSV.\n",
      "Фото 8 скачано как ed9947668f2b872d3aae5e30c13c25f0_1200x900.jpg и записано в CSV.\n",
      "Фото 9 скачано как d88328db3038e3458ec121464ed35486_1200x900.jpg и записано в CSV.\n",
      "Фото 10 скачано как 26708f0fdf10f6165e57928809b91a8a_1200x900.jpg и записано в CSV.\n",
      "Фото 11 скачано как 7cd12216c08747828a2d591b332196a7_1200x900.jpg и записано в CSV.\n"
     ]
    },
    {
     "name": "stderr",
     "output_type": "stream",
     "text": [
      "Flat images parsing:  14%|█▍        | 72/501 [07:59<1:03:02,  8.82s/it]"
     ]
    },
    {
     "name": "stdout",
     "output_type": "stream",
     "text": [
      "Фото 12 скачано как f9c40b773ab7c7e75b12dce74f2d32b1_1200x900.jpg и записано в CSV.\n",
      "--------end of flat 2571 / 3000 ---------\n",
      "Фото 1 скачано как fead27cffae4251285d2a39a23b6cea6_1200x900.jpg и записано в CSV.\n",
      "Фото 2 скачано как 8eece100684d0c337525b78d666915d1_1200x900.jpg и записано в CSV.\n",
      "Фото 3 скачано как 048a1856a9bd4e9caf9579fa453378d3_1200x900.jpg и записано в CSV.\n",
      "Фото 4 скачано как ef22f1f2febf778288e5d598cc72d507_1200x900.jpg и записано в CSV.\n"
     ]
    },
    {
     "name": "stderr",
     "output_type": "stream",
     "text": [
      "Flat images parsing:  15%|█▍        | 73/501 [08:04<54:25,  7.63s/it]  "
     ]
    },
    {
     "name": "stdout",
     "output_type": "stream",
     "text": [
      "Фото 5 скачано как 133b3bc08ca3825e6a208892a70ccbd0_1200x900.jpg и записано в CSV.\n",
      "--------end of flat 2572 / 3000 ---------\n",
      "Фото 1 скачано как 91c345f758f60b35d96d87ed4a642599_1200x900.jpg и записано в CSV.\n",
      "Фото 2 скачано как ba96f8230c73feee5a32e846fb50f485_1200x900.jpg и записано в CSV.\n",
      "Фото 3 скачано как 87ca128a7f47d12eb547ce9b423af034_1200x900.jpg и записано в CSV.\n",
      "Фото 4 скачано как a2fb3165049de4fbee8ffe7943ebcbf8_1200x900.jpg и записано в CSV.\n",
      "Фото 5 скачано как 3ca39b6bc971746cdd41229088d1fa52_1200x900.jpg и записано в CSV.\n",
      "Фото 6 скачано как 40bbcaef61680fab41c2d153521cfdfe_1200x900.jpg и записано в CSV.\n",
      "Фото 7 скачано как 41be40de566cf1abebc3140e87b04f77_1200x900.jpg и записано в CSV.\n",
      "Фото 8 скачано как f23fcb820356c461d7d8740e56339b27_1200x900.jpg и записано в CSV.\n",
      "Фото 9 скачано как feb1ada1a110285f4bc82cb960aa332b_1200x900.jpg и записано в CSV.\n",
      "Фото 10 скачано как 816ba0b6dc81ecddb47feb822f319dab_1200x900.jpg и записано в CSV.\n",
      "Фото 11 скачано как dd9f30b08adae97f6bea030354316225_1200x900.jpg и записано в CSV.\n",
      "Фото 12 скачано как 5838e25d28a90351b7131f4f15ccabe3_1200x900.jpg и записано в CSV.\n",
      "Фото 13 скачано как e7963293e401a842b11968c4f2111a96_1200x900.jpg и записано в CSV.\n",
      "Фото 14 скачано как db1f9094786180338f7e03fece7c3b30_1200x900.jpg и записано в CSV.\n",
      "Фото 15 скачано как 7c3f17c8db0223414b104c153171a521_1200x900.jpg и записано в CSV.\n"
     ]
    },
    {
     "name": "stderr",
     "output_type": "stream",
     "text": [
      "Flat images parsing:  15%|█▍        | 74/501 [08:15<1:02:23,  8.77s/it]"
     ]
    },
    {
     "name": "stdout",
     "output_type": "stream",
     "text": [
      "Фото 16 скачано как 9316122757f8d338c6df18309c7620e2_1200x900.jpg и записано в CSV.\n",
      "--------end of flat 2573 / 3000 ---------\n"
     ]
    },
    {
     "name": "stderr",
     "output_type": "stream",
     "text": [
      "Flat images parsing:  15%|█▍        | 75/501 [08:17<46:40,  6.57s/it]  "
     ]
    },
    {
     "name": "stdout",
     "output_type": "stream",
     "text": [
      "Фото 1 скачано как 32a482bfc316aeeff3ffcae39fd88682_1200x900.jpg и записано в CSV.\n",
      "--------end of flat 2574 / 3000 ---------\n",
      "Фото 1 скачано как 37b7778bf85bcc92e739357615101d12_1200x900.jpg и записано в CSV.\n",
      "Фото 2 скачано как 9d1f5d920be42f2685c3813a7542fa14_1200x900.jpg и записано в CSV.\n",
      "Фото 3 скачано как d9743631cf600011be1640b95bc33d9e_1200x900.jpg и записано в CSV.\n",
      "Фото 4 скачано как 0f61f23924ca4f7604afc15dc864331e_1200x900.jpg и записано в CSV.\n",
      "Фото 5 скачано как 32f8cf55753e5b48b68696b421464df1_1200x900.jpg и записано в CSV.\n",
      "Фото 6 скачано как dac0b1adb2b6c3ce8fa2e7cefbd36936_1200x900.jpg и записано в CSV.\n",
      "Фото 7 скачано как 6fb0b04b48b6ce19cc62b310aa5e736a_1200x900.jpg и записано в CSV.\n"
     ]
    },
    {
     "name": "stderr",
     "output_type": "stream",
     "text": [
      "Flat images parsing:  15%|█▌        | 76/501 [08:22<44:32,  6.29s/it]"
     ]
    },
    {
     "name": "stdout",
     "output_type": "stream",
     "text": [
      "Фото 8 скачано как 89392097c5359edd1c4e4abc1b20b982_1200x900.jpg и записано в CSV.\n",
      "--------end of flat 2575 / 3000 ---------\n",
      "Фото 1 скачано как 7ffb15423d1bce686beb83aaa3157c1d_1200x900.jpg и записано в CSV.\n",
      "Фото 2 скачано как b460def1aef887bfe712a64a99ad6561_1200x900.jpg и записано в CSV.\n",
      "Фото 3 скачано как 04190e994034f2706740ddfcca5d53d9_1200x900.jpg и записано в CSV.\n",
      "Фото 4 скачано как c732285b484b672d256113dd94293c29_1200x900.jpg и записано в CSV.\n",
      "Фото 5 скачано как e53a2e21d57a2ab0a72d7c0636191dcc_1200x900.jpg и записано в CSV.\n",
      "Фото 6 скачано как fd41bf65b7985f108b8d1b6617bc3c11_1200x900.jpg и записано в CSV.\n",
      "Фото 7 скачано как df2c800baa95db650740610499a588b8_1200x900.jpg и записано в CSV.\n",
      "Фото 8 скачано как cc48906365d0a2eb1e520c74067724f6_1200x900.jpg и записано в CSV.\n",
      "Фото 9 скачано как 1c3cf7b05c6c49f25841e528b277f74f_1200x900.jpg и записано в CSV.\n",
      "Фото 10 скачано как 3f2b3b4bb37da44f77cc4eb020e03193_1200x900.jpg и записано в CSV.\n",
      "Фото 11 скачано как 1bd4f0156f3953d2e7a287dc823808b8_1200x900.jpg и записано в CSV.\n",
      "Фото 12 скачано как b4facfe87d8cb623e4cf34951708e503_1200x900.jpg и записано в CSV.\n"
     ]
    },
    {
     "name": "stderr",
     "output_type": "stream",
     "text": [
      "Flat images parsing:  15%|█▌        | 77/501 [08:30<47:07,  6.67s/it]"
     ]
    },
    {
     "name": "stdout",
     "output_type": "stream",
     "text": [
      "Фото 13 скачано как 5bf70d858c79ca2492008c9d739fd818_1200x900.jpg и записано в CSV.\n",
      "--------end of flat 2576 / 3000 ---------\n",
      "Фото 1 скачано как 5107f2bc2842d59fef8702fca4bbbc68_1200x900.jpg и записано в CSV.\n",
      "Фото 2 скачано как ac501cf9d70249b63c5188965d410b41_1200x900.jpg и записано в CSV.\n",
      "Фото 3 скачано как 0c3f0cdd40a77753b0a35e1359156bf9_1200x900.jpg и записано в CSV.\n",
      "Фото 4 скачано как c17976ed235e8b3c8246b17b87d2944e_1200x900.jpg и записано в CSV.\n",
      "Фото 5 скачано как f2c9e69dfab15261eeba4c355ebbc148_1200x900.jpg и записано в CSV.\n",
      "Фото 6 скачано как d3926c8790da9bf01afce0f725a68595_1200x900.jpg и записано в CSV.\n",
      "Фото 7 скачано как 6fb78fd2d3d35b94f6e5c18de7f1ae78_1200x900.jpg и записано в CSV.\n",
      "Фото 8 скачано как 001292ef328775aac78eeb2e2a376c2b_1200x900.jpg и записано в CSV.\n",
      "Фото 9 скачано как 773978bd2dad513529d20b85d7ecdf7b_1200x900.jpg и записано в CSV.\n",
      "Фото 10 скачано как 9443730af9659b8ee53b16993edb6b05_1200x900.jpg и записано в CSV.\n"
     ]
    },
    {
     "name": "stderr",
     "output_type": "stream",
     "text": [
      "Flat images parsing:  16%|█▌        | 78/501 [08:38<50:34,  7.17s/it]"
     ]
    },
    {
     "name": "stdout",
     "output_type": "stream",
     "text": [
      "Фото 11 скачано как f6865c24b900145754f81e49c24cf025_1200x900.jpg и записано в CSV.\n",
      "--------end of flat 2577 / 3000 ---------\n",
      "Фото 1 скачано как 19223eb391792a00571f2721ec8119b3_1200x900.jpg и записано в CSV.\n",
      "Фото 2 скачано как ea05699ff0b19d3c66518c2af6046ff3_1200x900.jpg и записано в CSV.\n",
      "Фото 3 скачано как 4478b527a3e5ccbfecabdd60fc6aaa50_1200x900.jpg и записано в CSV.\n",
      "Фото 4 скачано как 2f22c5e15a283a2b3fc442d8c3b95f3a_1200x900.jpg и записано в CSV.\n",
      "Фото 5 скачано как a902ca8270fe6e11eefc1ea7ed415003_1200x900.jpg и записано в CSV.\n",
      "Фото 6 скачано как 06acf53db23480d6db05cc4d08ad46a3_1200x900.jpg и записано в CSV.\n",
      "Фото 7 скачано как ba8c9cfdde9bbb50e646395b9ec09059_1200x900.jpg и записано в CSV.\n"
     ]
    },
    {
     "name": "stderr",
     "output_type": "stream",
     "text": [
      "Flat images parsing:  16%|█▌        | 79/501 [08:44<47:56,  6.82s/it]"
     ]
    },
    {
     "name": "stdout",
     "output_type": "stream",
     "text": [
      "Фото 8 скачано как 9a0165e8ac17f3a6b2f962440e897fbd_1200x900.jpg и записано в CSV.\n",
      "--------end of flat 2578 / 3000 ---------\n",
      "Фото 1 скачано как c04dbfe9c1f8c83f917ff0c8f54e97a1_1200x900.jpg и записано в CSV.\n",
      "Фото 2 скачано как 53bcd13d193a836d9b3d7795989d6f0d_1200x900.jpg и записано в CSV.\n",
      "Фото 3 скачано как 6e89ca7300e5219fb4b62273de96deab_1200x900.jpg и записано в CSV.\n",
      "Фото 4 скачано как bfd81065c11a588d3f389cdb257388a5_1200x900.jpg и записано в CSV.\n",
      "Фото 5 скачано как cae85d38e76cfd920866e5f6d1d6f686_1200x900.jpg и записано в CSV.\n",
      "Фото 6 скачано как 7419e759d23219cd59cd8f16d04e5362_1200x900.jpg и записано в CSV.\n",
      "Фото 7 скачано как 91a635c6a7e14a7d66641fc35ae6230e_1200x900.jpg и записано в CSV.\n",
      "Фото 8 скачано как 3b67f97577350c907a1b3ddbc791ff17_1200x900.jpg и записано в CSV.\n",
      "Фото 9 скачано как fb96173d81a984e8efe007309a260015_1200x900.jpg и записано в CSV.\n",
      "Фото 10 скачано как 925c6685e11c56c1665d9b1b43055884_1200x900.jpg и записано в CSV.\n",
      "Фото 11 скачано как 68b4e1bd25417b5775c71cf94e94d2dc_1200x900.jpg и записано в CSV.\n",
      "Фото 12 скачано как 299e72e4ad7f48ac18fb7c8434797add_1200x900.jpg и записано в CSV.\n",
      "Фото 13 скачано как 40062080772dd7e033578bacf8933101_1200x900.jpg и записано в CSV.\n",
      "Фото 14 скачано как d826fec6275dcf951024a71392901d14_1200x900.jpg и записано в CSV.\n",
      "Фото 15 скачано как 953f68446bdf6986a5e070e04704fc75_1200x900.jpg и записано в CSV.\n",
      "Фото 16 скачано как be705749e2d5a8bd40747a783887c475_1200x900.jpg и записано в CSV.\n"
     ]
    },
    {
     "name": "stderr",
     "output_type": "stream",
     "text": [
      "Flat images parsing:  16%|█▌        | 80/501 [08:57<59:16,  8.45s/it]"
     ]
    },
    {
     "name": "stdout",
     "output_type": "stream",
     "text": [
      "Фото 17 скачано как a187fcc453fd7774b6a783c558514f17_1200x900.jpg и записано в CSV.\n",
      "--------end of flat 2579 / 3000 ---------\n",
      "Фото 1 скачано как 961b6fa288e3d1d5efeb3d17e076f07a_1200x900.jpg и записано в CSV.\n",
      "Фото 2 скачано как 6a07c170248ef3dbeb120ea1a55025cd_1200x900.jpg и записано в CSV.\n",
      "Фото 3 скачано как 8cd6bbe57aaac01442936ee933c0e436_1200x900.jpg и записано в CSV.\n",
      "Фото 4 скачано как fd07fe4393d5469004ac9a125e1f559c_1200x900.jpg и записано в CSV.\n",
      "Фото 5 скачано как ca592f03c74d0e883826081b38ef39b0_1200x900.jpg и записано в CSV.\n",
      "Фото 6 скачано как 4a5355c3f16b53ea383edaf235f6573c_1200x900.jpg и записано в CSV.\n",
      "Фото 7 скачано как d29a6f358126bf702ad7dfffaba7f44f_1200x900.jpg и записано в CSV.\n",
      "Фото 8 скачано как a0bb8e5ef0749da45cbe3f12ed638ddb_1200x900.jpg и записано в CSV.\n",
      "Фото 9 скачано как 0a1b25fb1e56fef1ab043305c8151120_1200x900.jpg и записано в CSV.\n",
      "Фото 10 скачано как 2744413ec7b3cefa77626fcc6f81b999_1200x900.jpg и записано в CSV.\n",
      "Фото 11 скачано как c84d6beb16e7ca5ab8c8361bb43cefe6_1200x900.jpg и записано в CSV.\n",
      "Фото 12 скачано как a9872484eae49162e0953e07f395e0a6_1200x900.jpg и записано в CSV.\n",
      "Фото 13 скачано как 08a4f20b89e12e6827dd96575bd8c970_1200x900.jpg и записано в CSV.\n",
      "Фото 14 скачано как a2df67f866ced6debdce7219f1278e05_1200x900.jpg и записано в CSV.\n",
      "Фото 15 скачано как ea938a8a573c97f6961665a844ad6012_1200x900.jpg и записано в CSV.\n"
     ]
    },
    {
     "name": "stderr",
     "output_type": "stream",
     "text": [
      "Flat images parsing:  16%|█▌        | 81/501 [09:07<1:03:17,  9.04s/it]"
     ]
    },
    {
     "name": "stdout",
     "output_type": "stream",
     "text": [
      "Фото 16 скачано как 4ac664e36b50486d6854dbca4401e589_1200x900.jpg и записано в CSV.\n",
      "--------end of flat 2580 / 3000 ---------\n",
      "Фото 1 скачано как 6912fba467bd9523e6333fa969a6a677_1200x900.jpg и записано в CSV.\n"
     ]
    },
    {
     "name": "stderr",
     "output_type": "stream",
     "text": [
      "Flat images parsing:  16%|█▋        | 82/501 [09:09<48:59,  7.02s/it]  "
     ]
    },
    {
     "name": "stdout",
     "output_type": "stream",
     "text": [
      "Фото 2 скачано как z7rvWKIV-as и записано в CSV.\n",
      "--------end of flat 2581 / 3000 ---------\n",
      "Фото 1 скачано как 3747c69aae8a0c74226d98cf7b3f07e7_1200x900.jpg и записано в CSV.\n"
     ]
    },
    {
     "name": "stderr",
     "output_type": "stream",
     "text": [
      "Flat images parsing:  17%|█▋        | 83/501 [09:11<38:38,  5.55s/it]"
     ]
    },
    {
     "name": "stdout",
     "output_type": "stream",
     "text": [
      "Фото 2 скачано как 3AQXYx и записано в CSV.\n",
      "--------end of flat 2582 / 3000 ---------\n",
      "Фото 1 скачано как 47b6c36888af9a270ca0ae587aabaedc_1200x900.jpg и записано в CSV.\n",
      "Фото 2 скачано как 4199fae82c42cfb6bad689d64065fb71_1200x900.jpg и записано в CSV.\n",
      "Фото 3 скачано как 9e6597d4631b240a9b4d9166996b05ad_1200x900.jpg и записано в CSV.\n",
      "Фото 4 скачано как acb52fcaf16fa275ca9ad0c07551c683_1200x900.jpg и записано в CSV.\n",
      "Фото 5 скачано как c8fd2bdf164b90c3cc5da8f072455139_1200x900.jpg и записано в CSV.\n",
      "Фото 6 скачано как 86eaca79f67fc728c67b122d1f37c4fc_1200x900.jpg и записано в CSV.\n",
      "Фото 7 скачано как 69f3089b8b892c22e9a94698a6c49839_1200x900.jpg и записано в CSV.\n",
      "Фото 8 скачано как d227525729ef83ce82e75d3b47161df4_1200x900.jpg и записано в CSV.\n",
      "Фото 9 скачано как 9ed3158a7fb1e9084e5cabcd415e520c_1200x900.jpg и записано в CSV.\n"
     ]
    },
    {
     "name": "stderr",
     "output_type": "stream",
     "text": [
      "Flat images parsing:  17%|█▋        | 84/501 [09:18<40:21,  5.81s/it]"
     ]
    },
    {
     "name": "stdout",
     "output_type": "stream",
     "text": [
      "Фото 10 скачано как 3AQXYx и записано в CSV.\n",
      "--------end of flat 2583 / 3000 ---------\n",
      "Фото 1 скачано как 400bade67754b3796ed364ea670c1548_1200x900.jpg и записано в CSV.\n",
      "Фото 2 скачано как 158788fedb3ec4d79495a65354de0fbe_1200x900.jpg и записано в CSV.\n",
      "Фото 3 скачано как 227994e57645a049b8a973c2ba99c219_1200x900.jpg и записано в CSV.\n",
      "Фото 4 скачано как 3207b91560680049740a56ece4da7a60_1200x900.jpg и записано в CSV.\n",
      "Фото 5 скачано как 107dd42f5faf4518fb747127bf227e15_1200x900.jpg и записано в CSV.\n",
      "Фото 6 скачано как 26fc6a4e06409fcf98c1020e6c229dcc_1200x900.jpg и записано в CSV.\n",
      "Фото 7 скачано как c0dfec3357f295eba4978f634ad76c44_1200x900.jpg и записано в CSV.\n",
      "Фото 8 скачано как 0bc72d9d3a52d0b833302bea69c3460e_1200x900.jpg и записано в CSV.\n",
      "Фото 9 скачано как 58bf2e4b49e078f9e859a58cf302b93e_1200x900.jpg и записано в CSV.\n",
      "Фото 10 скачано как 15a348e88c5ca665cb9814baad976299_1200x900.jpg и записано в CSV.\n",
      "Фото 11 скачано как 6ec84d02a0cb39eaf5b6a4cdf6d4bc20_1200x900.jpg и записано в CSV.\n",
      "Фото 12 скачано как c230564b5ff3c7462ccd12855e60e466_1200x900.jpg и записано в CSV.\n",
      "Фото 13 скачано как f375f82dfc702818e02ab6a16febae41_1200x900.jpg и записано в CSV.\n",
      "Фото 14 скачано как cbe50b200752221f380bc236f4114e7c_1200x900.jpg и записано в CSV.\n",
      "Фото 15 скачано как 1e4b4f725d0b1776833762db94aaa72e_1200x900.jpg и записано в CSV.\n",
      "Фото 16 скачано как e9215ee3c644abcf3c01296a08262532_1200x900.jpg и записано в CSV.\n",
      "Фото 17 скачано как 65cc28175d52ae0c20e4090ba86192d1_1200x900.jpg и записано в CSV.\n",
      "Фото 18 скачано как ad7b5c47f6da2871966a547d95ab3637_1200x900.jpg и записано в CSV.\n",
      "Фото 19 скачано как d0774d542e32bf0bcb9ded154ae8fd10_1200x900.jpg и записано в CSV.\n",
      "Фото 20 скачано как 243f5249963daecf108a1e3b07f433bb_1200x900.jpg и записано в CSV.\n",
      "Фото 21 скачано как 5891b210fc6d82961a2ed5b3c146eb41_1200x900.jpg и записано в CSV.\n",
      "Фото 22 скачано как f9b435ef6d733d0c88c202f8de04522d_1200x900.jpg и записано в CSV.\n",
      "Фото 23 скачано как ae745e7acb89352daf07b5d48a614c44_1200x900.jpg и записано в CSV.\n"
     ]
    },
    {
     "name": "stderr",
     "output_type": "stream",
     "text": [
      "Flat images parsing:  17%|█▋        | 85/501 [09:31<54:55,  7.92s/it]"
     ]
    },
    {
     "name": "stdout",
     "output_type": "stream",
     "text": [
      "Фото 24 скачано как z7rvWKIV-as и записано в CSV.\n",
      "--------end of flat 2584 / 3000 ---------\n",
      "Фото 1 скачано как 6bd3ff12e420152dc029a29a1d6e1f16_1200x900.jpg и записано в CSV.\n",
      "Фото 2 скачано как 964f004280b263537800c1fcbc692aeb_1200x900.jpg и записано в CSV.\n",
      "Фото 3 скачано как ba561ba8727eb3ba48b3b2349832ef5b_1200x900.jpg и записано в CSV.\n",
      "Фото 4 скачано как a938391730531072e401f9213145be4f_1200x900.jpg и записано в CSV.\n",
      "Фото 5 скачано как 55988bf79591cd11c11b55922f31218f_1200x900.jpg и записано в CSV.\n",
      "Фото 6 скачано как dc703ebff20384e8eba8be9f2014c15d_1200x900.jpg и записано в CSV.\n",
      "Фото 7 скачано как 47647e34a8653d16393a765426126491_1200x900.jpg и записано в CSV.\n",
      "Фото 8 скачано как c0019b392779d56ea38a8e39d4f80601_1200x900.jpg и записано в CSV.\n",
      "Фото 9 скачано как 38630924b53b4cde1b605cf89ef0440c_1200x900.jpg и записано в CSV.\n",
      "Фото 10 скачано как 96a1131d94f486338cd484bfc56f4d19_1200x900.jpg и записано в CSV.\n",
      "Фото 11 скачано как fa40ec2bf2b7a1cb651d48e72010c12c_1200x900.jpg и записано в CSV.\n"
     ]
    },
    {
     "name": "stderr",
     "output_type": "stream",
     "text": [
      "Flat images parsing:  17%|█▋        | 86/501 [09:38<53:24,  7.72s/it]"
     ]
    },
    {
     "name": "stdout",
     "output_type": "stream",
     "text": [
      "Фото 12 скачано как 37jCNp и записано в CSV.\n",
      "--------end of flat 2585 / 3000 ---------\n",
      "Фото 1 скачано как bf108f083712e80e0532489a63536060_1200x900.jpg и записано в CSV.\n",
      "Фото 2 скачано как 15817ca1da0a69f2df31336fa4a8506a_1200x900.jpg и записано в CSV.\n",
      "Фото 3 скачано как 4709280e44ec30f58a94689321ae871b_1200x900.jpg и записано в CSV.\n",
      "Фото 4 скачано как 1b5328e02e56c368b93a68e3fbb2ff92_1200x900.jpg и записано в CSV.\n",
      "Фото 5 скачано как 5c90b69d91d67edf923e174a7d2aa057_1200x900.jpg и записано в CSV.\n"
     ]
    },
    {
     "name": "stderr",
     "output_type": "stream",
     "text": [
      "Flat images parsing:  17%|█▋        | 87/501 [09:42<45:48,  6.64s/it]"
     ]
    },
    {
     "name": "stdout",
     "output_type": "stream",
     "text": [
      "Фото 6 скачано как z7rvWKIV-as и записано в CSV.\n",
      "--------end of flat 2586 / 3000 ---------\n",
      "Фото 1 скачано как aa429c0b396cdd686a420c8817d91b87_1200x900.jpg и записано в CSV.\n",
      "Фото 2 скачано как dcc2385546819d1e1f6d644cf0999d01_1200x900.jpg и записано в CSV.\n",
      "Фото 3 скачано как 8a7f568033baaf17747110868e10f4f4_1200x900.jpg и записано в CSV.\n",
      "Фото 4 скачано как 36d93afd38411844308f336fd8b3bde4_1200x900.jpg и записано в CSV.\n",
      "Фото 5 скачано как a582433ad7de264f128341be1ff6e685_1200x900.jpg и записано в CSV.\n",
      "Фото 6 скачано как ebe766b189e34e94fb381b45abf6e503_1200x900.jpg и записано в CSV.\n",
      "Фото 7 скачано как 5d994fde9aace307e27c166994e2cf5e_1200x900.jpg и записано в CSV.\n",
      "Фото 8 скачано как ce93d7bdbee98213c8fc6b4afbd3ce59_1200x900.jpg и записано в CSV.\n",
      "Фото 9 скачано как 3bb0ffb8c23f0e3cc4e8115da679f6b5_1200x900.jpg и записано в CSV.\n",
      "Фото 10 скачано как 9203c8eadfa7f845d3e587be24dd1c7c_1200x900.jpg и записано в CSV.\n",
      "Фото 11 скачано как 46e0f7cac667a72fd6552e6cd9c0cbdf_1200x900.jpg и записано в CSV.\n"
     ]
    },
    {
     "name": "stderr",
     "output_type": "stream",
     "text": [
      "Flat images parsing:  18%|█▊        | 88/501 [09:49<46:49,  6.80s/it]"
     ]
    },
    {
     "name": "stdout",
     "output_type": "stream",
     "text": [
      "Фото 12 скачано как z7rvWKIV-as и записано в CSV.\n",
      "--------end of flat 2587 / 3000 ---------\n",
      "Фото 1 скачано как 2aca8dac8945e0205fa752b5dbdc9ea3_1200x900.jpg и записано в CSV.\n",
      "Фото 2 скачано как 4367c8c7f1e5943dd672ace664972a21_1200x900.jpg и записано в CSV.\n",
      "Фото 3 скачано как ec80f08bd1adeba056ed6f23fac523fb_1200x900.jpg и записано в CSV.\n",
      "Фото 4 скачано как 16292b4b1c2c6cec2e9216c7e615164a_1200x900.jpg и записано в CSV.\n",
      "Фото 5 скачано как 9d7869fd63364198e9e1f40448e9f65c_1200x900.jpg и записано в CSV.\n",
      "Фото 6 скачано как 286a4d1f1571bb882c195c52e953331e_1200x900.jpg и записано в CSV.\n",
      "Фото 7 скачано как ff9dd6588edcc026f8bad9a0efcfcec8_1200x900.jpg и записано в CSV.\n",
      "Фото 8 скачано как 388d4548b90bfe85551c62797d785157_1200x900.jpg и записано в CSV.\n",
      "Фото 9 скачано как b5670e87d802f897517205bd59896423_1200x900.jpg и записано в CSV.\n",
      "Фото 10 скачано как 0d40c4717c90bb1128c83b1f2e8c8855_1200x900.jpg и записано в CSV.\n",
      "Фото 11 скачано как f0b7049f345d209041491571c2b15caf_1200x900.jpg и записано в CSV.\n",
      "Фото 12 скачано как 9e8bcadfe6bef80362fb751101bc3e49_1200x900.jpg и записано в CSV.\n",
      "Фото 13 скачано как 1a121ad96106db83420531a38976653e_1200x900.jpg и записано в CSV.\n",
      "Фото 14 скачано как 1ab17c4f59020e494ddfc1ad436246ce_1200x900.jpg и записано в CSV.\n",
      "Фото 15 скачано как 57b081710b9381dcab0ee9dd2f5a580f_1200x900.jpg и записано в CSV.\n",
      "Фото 16 скачано как 54ce1b506e85a6e6115618417c204143_1200x900.jpg и записано в CSV.\n",
      "Фото 17 скачано как 4f8efe94717596fda972b3ee4b734436_1200x900.jpg и записано в CSV.\n"
     ]
    },
    {
     "name": "stderr",
     "output_type": "stream",
     "text": [
      "Flat images parsing:  18%|█▊        | 89/501 [09:59<53:28,  7.79s/it]"
     ]
    },
    {
     "name": "stdout",
     "output_type": "stream",
     "text": [
      "Фото 18 скачано как 3AQXYx и записано в CSV.\n",
      "--------end of flat 2588 / 3000 ---------\n",
      "Фото 1 скачано как 232c3ec744c4906d7cc900a3b7e7e8d4_1200x900.jpg и записано в CSV.\n",
      "Фото 2 скачано как 29f2866c5e0666ba8183751f084e334b_1200x900.jpg и записано в CSV.\n",
      "Фото 3 скачано как d7ad79a15787800856c7b31839647bed_1200x900.jpg и записано в CSV.\n",
      "Фото 4 скачано как b167346633ef5c31963e93484c404a08_1200x900.jpg и записано в CSV.\n"
     ]
    },
    {
     "name": "stderr",
     "output_type": "stream",
     "text": [
      "Flat images parsing:  18%|█▊        | 90/501 [10:02<43:33,  6.36s/it]"
     ]
    },
    {
     "name": "stdout",
     "output_type": "stream",
     "text": [
      "Фото 5 скачано как 37jCNp и записано в CSV.\n",
      "--------end of flat 2589 / 3000 ---------\n",
      "Фото 1 скачано как a0a806d0643a0b7c8498bc78489167db_1200x900.jpg и записано в CSV.\n",
      "Фото 2 скачано как 7aaae5fd4637fbfdbf0f2e5ad2eead85_1200x900.jpg и записано в CSV.\n",
      "Фото 3 скачано как f2a8eebf4614cf21f1598f37c8f9151c_1200x900.jpg и записано в CSV.\n",
      "Фото 4 скачано как b5c522308d1b7f9863596b04cca141eb_1200x900.jpg и записано в CSV.\n",
      "Фото 5 скачано как 4e6ce2b33709c759fb790ac51cb02888_1200x900.jpg и записано в CSV.\n",
      "Фото 6 скачано как 21592f8b9cf0b46ed134c636b367a8a0_1200x900.jpg и записано в CSV.\n",
      "Фото 7 скачано как 0f2f5da5b9674e2317778dfd90b27056_1200x900.jpg и записано в CSV.\n",
      "Фото 8 скачано как eb1e103e10e67c2b51827a72dac2f6be_1200x900.jpg и записано в CSV.\n",
      "Фото 9 скачано как 8986d373bb659b41f2dfe66b3e304321_1200x900.jpg и записано в CSV.\n"
     ]
    },
    {
     "name": "stderr",
     "output_type": "stream",
     "text": [
      "Flat images parsing:  18%|█▊        | 91/501 [10:08<42:21,  6.20s/it]"
     ]
    },
    {
     "name": "stdout",
     "output_type": "stream",
     "text": [
      "Фото 10 скачано как 3AQXYx и записано в CSV.\n",
      "--------end of flat 2590 / 3000 ---------\n",
      "Фото 1 скачано как f7f06a42271e7db8dede19896455df99_1200x900.jpg и записано в CSV.\n",
      "Фото 2 скачано как 73e6288610ca321c4096a42ace1ad2b9_1200x900.jpg и записано в CSV.\n",
      "Фото 3 скачано как f7e7128e2630776bc9dfbc2860e2f1d4_1200x900.jpg и записано в CSV.\n",
      "Фото 4 скачано как d678b4ef94a271636a050c51048106ae_1200x900.jpg и записано в CSV.\n",
      "Фото 5 скачано как 64bc52ffb002b23bdc92f582e88ce54a_1200x900.jpg и записано в CSV.\n",
      "Фото 6 скачано как 0df8ff13983c7cc3763d49f8c475474d_1200x900.jpg и записано в CSV.\n",
      "Фото 7 скачано как ca284e819b463b3662d3ad0b16d5d18f_1200x900.jpg и записано в CSV.\n",
      "Фото 8 скачано как 681de74b221d4b9d8dc77e5d8cebce32_1200x900.jpg и записано в CSV.\n",
      "Фото 9 скачано как f0d3da91735bab0cf7e6589cada10f9b_1200x900.jpg и записано в CSV.\n",
      "Фото 10 скачано как 2f90e85bd7db4b473d5ddf491bef374f_1200x900.jpg и записано в CSV.\n",
      "Фото 11 скачано как 50672c7267c64bc34e0379048bf6b796_1200x900.jpg и записано в CSV.\n"
     ]
    },
    {
     "name": "stderr",
     "output_type": "stream",
     "text": [
      "Flat images parsing:  18%|█▊        | 92/501 [10:16<44:45,  6.57s/it]"
     ]
    },
    {
     "name": "stdout",
     "output_type": "stream",
     "text": [
      "Фото 12 скачано как 37jCNp и записано в CSV.\n",
      "--------end of flat 2591 / 3000 ---------\n",
      "Фото 1 скачано как 0e452b412b1897c62558c4cf742b4a32_1200x900.jpg и записано в CSV.\n",
      "Фото 2 скачано как 5dec871b4a7f57897eeffc0412cf8b6d_1200x900.jpg и записано в CSV.\n"
     ]
    },
    {
     "name": "stderr",
     "output_type": "stream",
     "text": [
      "Flat images parsing:  19%|█▊        | 93/501 [10:19<37:35,  5.53s/it]"
     ]
    },
    {
     "name": "stdout",
     "output_type": "stream",
     "text": [
      "Фото 3 скачано как 3AQXYx и записано в CSV.\n",
      "--------end of flat 2592 / 3000 ---------\n",
      "Фото 1 скачано как 12ead038c44422753b89202c6324b37d_1200x900.jpg и записано в CSV.\n",
      "Фото 2 скачано как a5685c2070ae4c3634d4d141d7484b6b_1200x900.jpg и записано в CSV.\n",
      "Фото 3 скачано как 79a9782940f8c5040d49273501162ad9_1200x900.jpg и записано в CSV.\n",
      "Фото 4 скачано как 587998912327feae7cba54d5c61ae757_1200x900.jpg и записано в CSV.\n",
      "Фото 5 скачано как f6743742e01efc75d799f77fedb6a114_1200x900.jpg и записано в CSV.\n"
     ]
    },
    {
     "name": "stderr",
     "output_type": "stream",
     "text": [
      "Flat images parsing:  19%|█▉        | 94/501 [10:23<34:57,  5.15s/it]"
     ]
    },
    {
     "name": "stdout",
     "output_type": "stream",
     "text": [
      "Фото 6 скачано как 37jCNp и записано в CSV.\n",
      "--------end of flat 2593 / 3000 ---------\n",
      "Фото 1 скачано как a98a7078038fb0b970043222401702f8_1200x900.jpg и записано в CSV.\n",
      "Фото 2 скачано как bea81e6d5e238206a2f2d61375c6edc6_1200x900.jpg и записано в CSV.\n",
      "Фото 3 скачано как 55c063f4a5f71f1aeb2779fc71873773_1200x900.jpg и записано в CSV.\n",
      "Фото 4 скачано как 149f8f16cc7a535cc2eafb1442bef84b_1200x900.jpg и записано в CSV.\n",
      "Фото 5 скачано как b4f11af8f86232f20abb5a2ec09740d8_1200x900.jpg и записано в CSV.\n",
      "Фото 6 скачано как c2ac7b826fb9b7c542a7e649ba6e9d28_1200x900.jpg и записано в CSV.\n",
      "Фото 7 скачано как 0a04373ef77115ae60cbb59805f95bbc_1200x900.jpg и записано в CSV.\n",
      "Фото 8 скачано как 54d64accb1e9e80839742c9b980033d0_1200x900.jpg и записано в CSV.\n",
      "Фото 9 скачано как cb032136536da17022d6c5b6ecea49fb_1200x900.jpg и записано в CSV.\n",
      "Фото 10 скачано как d465f1bf0b9c7134a3b502ac7ef31ec8_1200x900.jpg и записано в CSV.\n",
      "Фото 11 скачано как afb50ef20197da8829cef4d4352759e7_1200x900.jpg и записано в CSV.\n"
     ]
    },
    {
     "name": "stderr",
     "output_type": "stream",
     "text": [
      "Flat images parsing:  19%|█▉        | 95/501 [10:30<39:38,  5.86s/it]"
     ]
    },
    {
     "name": "stdout",
     "output_type": "stream",
     "text": [
      "Фото 12 скачано как 37jCNp и записано в CSV.\n",
      "--------end of flat 2594 / 3000 ---------\n",
      "Фото 1 скачано как ec3806f19d958bd4295a62a10af8f8d3_1200x900.jpg и записано в CSV.\n",
      "Фото 2 скачано как 62a9c2c586886729e58ec6a3d116501d_1200x900.jpg и записано в CSV.\n",
      "Фото 3 скачано как 88972c6a74f367e05272797daf6ab0c0_1200x900.jpg и записано в CSV.\n",
      "Фото 4 скачано как 96694ea50ec916fd12d40893b2d41036_1200x900.jpg и записано в CSV.\n",
      "Фото 5 скачано как 0cef98ea6ed815802c9c86a75c1f8807_1200x900.jpg и записано в CSV.\n",
      "Фото 6 скачано как b78ad2b5b0d6c200d1394c99f6fc1391_1200x900.jpg и записано в CSV.\n",
      "Фото 7 скачано как 6087dd9d43e937bcbd13857b963d2eef_1200x900.jpg и записано в CSV.\n",
      "Фото 8 скачано как 51ed18a1c002bf62bb710a4e1f226e65_1200x900.jpg и записано в CSV.\n",
      "Фото 9 скачано как c3300e276caa0b375ea90d312fb02417_1200x900.jpg и записано в CSV.\n",
      "Фото 10 скачано как 42c2f6f7541aebd0297d3799082ba153_1200x900.jpg и записано в CSV.\n",
      "Фото 11 скачано как 91c78b7088cf08d9dea1f4fda19abad0_1200x900.jpg и записано в CSV.\n"
     ]
    },
    {
     "name": "stderr",
     "output_type": "stream",
     "text": [
      "Flat images parsing:  19%|█▉        | 96/501 [10:38<43:00,  6.37s/it]"
     ]
    },
    {
     "name": "stdout",
     "output_type": "stream",
     "text": [
      "Фото 12 скачано как 3AQXYx и записано в CSV.\n",
      "--------end of flat 2595 / 3000 ---------\n",
      "Фото 1 скачано как 780a2e8d5cc8d61af609c90921f875c9_1200x900.jpg и записано в CSV.\n",
      "Фото 2 скачано как 37bc5163aa8904fcda796dc74210a2d5_1200x900.jpg и записано в CSV.\n",
      "Фото 3 скачано как 879d0b154320e53be8e642d1befa562d_1200x900.jpg и записано в CSV.\n",
      "Фото 4 скачано как 1ff1f6a2acb731730b9dbdcc097af05b_1200x900.jpg и записано в CSV.\n",
      "Фото 5 скачано как 53ccee7b7a7a2287f7b8d5456f54142b_1200x900.jpg и записано в CSV.\n",
      "Фото 6 скачано как 68c41fe75ab5d708a91bb8bfbc6d5068_1200x900.jpg и записано в CSV.\n",
      "Фото 7 скачано как 510e3bfe9563a64c23da966e0cca0230_1200x900.jpg и записано в CSV.\n",
      "Фото 8 скачано как 0a37ed77175d8022a08789efa4efafe7_1200x900.jpg и записано в CSV.\n",
      "Фото 9 скачано как cde0531e107f7973cb77fc018e1ddd74_1200x900.jpg и записано в CSV.\n",
      "Фото 10 скачано как fda0e0f808c3f126fc64c2e10a8275b8_1200x900.jpg и записано в CSV.\n",
      "Фото 11 скачано как 719b7b151cb7027fd356143333e5947d_1200x900.jpg и записано в CSV.\n"
     ]
    },
    {
     "name": "stderr",
     "output_type": "stream",
     "text": [
      "Flat images parsing:  19%|█▉        | 97/501 [10:44<42:56,  6.38s/it]"
     ]
    },
    {
     "name": "stdout",
     "output_type": "stream",
     "text": [
      "Фото 12 скачано как 3AQXYx и записано в CSV.\n",
      "--------end of flat 2596 / 3000 ---------\n",
      "Фото 1 скачано как 7ad219daab9144ae3e549aec37669888_1200x900.jpg и записано в CSV.\n",
      "Фото 2 скачано как 9b91eca690aa98136d96e0ee120626b9_1200x900.jpg и записано в CSV.\n",
      "Фото 3 скачано как 42a82958f7637c10a0a6242f2b284e58_1200x900.jpg и записано в CSV.\n",
      "Фото 4 скачано как d8b1eb06a7fe1025e30a7b724d159beb_1200x900.jpg и записано в CSV.\n",
      "Фото 5 скачано как fa908bbe5281c64722c1cfdbd6468cb2_1200x900.jpg и записано в CSV.\n",
      "Фото 6 скачано как 5d042f50031aeb3391a67ad633add333_1200x900.jpg и записано в CSV.\n"
     ]
    },
    {
     "name": "stderr",
     "output_type": "stream",
     "text": [
      "Flat images parsing:  20%|█▉        | 98/501 [10:50<41:08,  6.12s/it]"
     ]
    },
    {
     "name": "stdout",
     "output_type": "stream",
     "text": [
      "Фото 7 скачано как z7rvWKIV-as и записано в CSV.\n",
      "--------end of flat 2597 / 3000 ---------\n",
      "Фото 1 скачано как ad643bf388426f902339d1d85d4267bf_1200x900.jpg и записано в CSV.\n",
      "Фото 2 скачано как 8db4b359dfbecf50f275ac69108f2584_1200x900.jpg и записано в CSV.\n",
      "Фото 3 скачано как 5028955e3d9dc30e13258defeae2dc36_1200x900.jpg и записано в CSV.\n",
      "Фото 4 скачано как d8a78a3aa94a7c2b4d651924e887140a_1200x900.jpg и записано в CSV.\n"
     ]
    },
    {
     "name": "stderr",
     "output_type": "stream",
     "text": [
      "Flat images parsing:  20%|█▉        | 99/501 [10:54<36:34,  5.46s/it]"
     ]
    },
    {
     "name": "stdout",
     "output_type": "stream",
     "text": [
      "Фото 5 скачано как 3AQXYx и записано в CSV.\n",
      "--------end of flat 2598 / 3000 ---------\n",
      "Фото 1 скачано как 03dff24bed6748d046a0871c982c3176_1200x900.jpg и записано в CSV.\n",
      "Фото 2 скачано как IHxk8iZ92M8 и записано в CSV.\n"
     ]
    },
    {
     "name": "stderr",
     "output_type": "stream",
     "text": [
      "Flat images parsing:  20%|█▉        | 100/501 [10:57<31:21,  4.69s/it]"
     ]
    },
    {
     "name": "stdout",
     "output_type": "stream",
     "text": [
      "Фото 3 скачано как 6e6778edf9cbc2c5ebfa331e30042cfd_1200x900.jpg и записано в CSV.\n",
      "--------end of flat 2599 / 3000 ---------\n",
      "Фото 1 скачано как e062440cb642d6c8655af701ccd6e887_1200x900.jpg и записано в CSV.\n",
      "Фото 2 скачано как IHxk8iZ92M8 и записано в CSV.\n"
     ]
    },
    {
     "name": "stderr",
     "output_type": "stream",
     "text": [
      "Flat images parsing:  20%|██        | 101/501 [11:00<27:38,  4.15s/it]"
     ]
    },
    {
     "name": "stdout",
     "output_type": "stream",
     "text": [
      "Фото 3 скачано как a66443b84b752b1f53f528ebf50d83e8_1200x900.jpg и записано в CSV.\n",
      "--------end of flat 2600 / 3000 ---------\n",
      "Фото 1 скачано как 956d47d15eb4e892b655e0f4c97974a4_1200x900.jpg и записано в CSV.\n",
      "Фото 2 скачано как IHxk8iZ92M8 и записано в CSV.\n"
     ]
    },
    {
     "name": "stderr",
     "output_type": "stream",
     "text": [
      "Flat images parsing:  20%|██        | 102/501 [11:02<25:07,  3.78s/it]"
     ]
    },
    {
     "name": "stdout",
     "output_type": "stream",
     "text": [
      "Фото 3 скачано как 29a4b51c3a8a5f5d9cd838c9ebb62244_1200x900.jpg и записано в CSV.\n",
      "--------end of flat 2601 / 3000 ---------\n",
      "Фото 1 скачано как f348b1931e5ee14adcc123ab9ac3ae86_1200x900.jpg и записано в CSV.\n",
      "Фото 2 скачано как a97a29574c037d23c1467d7792b9362f_1200x900.jpg и записано в CSV.\n",
      "Фото 3 скачано как 69aa246cb3682fbcd3783b0ecd2c86e2_1200x900.jpg и записано в CSV.\n",
      "Фото 4 скачано как d2b1c82a1ccf02e7230463346cd3873f_1200x900.jpg и записано в CSV.\n",
      "Фото 5 скачано как 83858e90e7792803b1f0d37240037793_1200x900.jpg и записано в CSV.\n",
      "Фото 6 скачано как acba6909143372e0cd53250b88bc8d3c_1200x900.jpg и записано в CSV.\n",
      "Фото 7 скачано как fc126c50b305c6992ee85ffc76c7df26_1200x900.jpg и записано в CSV.\n",
      "Фото 8 скачано как b627796530172605e3f3c3d8ee3ff657_1200x900.jpg и записано в CSV.\n",
      "Фото 9 скачано как df326aaa81c4d44e0b6bfb116c73fc0e_1200x900.jpg и записано в CSV.\n",
      "Фото 10 скачано как 4c4f57c758cd7eeb486f215cee22b0ab_1200x900.jpg и записано в CSV.\n",
      "Фото 11 скачано как fec611da8692202a9d12ecd9291faedf_1200x900.jpg и записано в CSV.\n"
     ]
    },
    {
     "name": "stderr",
     "output_type": "stream",
     "text": [
      "Flat images parsing:  21%|██        | 103/501 [11:10<33:11,  5.00s/it]"
     ]
    },
    {
     "name": "stdout",
     "output_type": "stream",
     "text": [
      "Фото 12 скачано как 37jCNp и записано в CSV.\n",
      "--------end of flat 2602 / 3000 ---------\n",
      "Фото 1 скачано как 7be121614978e3b82111cd045ae11daf_1200x900.jpg и записано в CSV.\n"
     ]
    },
    {
     "name": "stderr",
     "output_type": "stream",
     "text": [
      "Flat images parsing:  21%|██        | 104/501 [11:13<28:35,  4.32s/it]"
     ]
    },
    {
     "name": "stdout",
     "output_type": "stream",
     "text": [
      "Фото 2 скачано как z7rvWKIV-as и записано в CSV.\n",
      "--------end of flat 2603 / 3000 ---------\n",
      "Фото 1 скачано как 1a1e4b4360267b017aea6d64ba9a1884_1200x900.jpg и записано в CSV.\n",
      "Фото 2 скачано как IHxk8iZ92M8 и записано в CSV.\n"
     ]
    },
    {
     "name": "stderr",
     "output_type": "stream",
     "text": [
      "Flat images parsing:  21%|██        | 105/501 [11:16<25:40,  3.89s/it]"
     ]
    },
    {
     "name": "stdout",
     "output_type": "stream",
     "text": [
      "Фото 3 скачано как 4055b777d9f278f7b32e041fe820074e_1200x900.jpg и записано в CSV.\n",
      "--------end of flat 2604 / 3000 ---------\n",
      "Фото 1 скачано как 719dc9399471527dbe1096e9c8102c1e_1200x900.jpg и записано в CSV.\n",
      "Фото 2 скачано как IHxk8iZ92M8 и записано в CSV.\n"
     ]
    },
    {
     "name": "stderr",
     "output_type": "stream",
     "text": [
      "Flat images parsing:  21%|██        | 106/501 [11:19<23:32,  3.58s/it]"
     ]
    },
    {
     "name": "stdout",
     "output_type": "stream",
     "text": [
      "Фото 3 скачано как 6c219a73bfa4ed6ab897f93467482f98_1200x900.jpg и записано в CSV.\n",
      "--------end of flat 2605 / 3000 ---------\n",
      "Фото 1 скачано как 77e716b8732e9107219d6c758251e46e_1200x900.jpg и записано в CSV.\n",
      "Фото 2 скачано как IHxk8iZ92M8 и записано в CSV.\n"
     ]
    },
    {
     "name": "stderr",
     "output_type": "stream",
     "text": [
      "Flat images parsing:  21%|██▏       | 107/501 [11:22<21:58,  3.35s/it]"
     ]
    },
    {
     "name": "stdout",
     "output_type": "stream",
     "text": [
      "Фото 3 скачано как 3878b2dd2d4dce382940f4885541b893_1200x900.jpg и записано в CSV.\n",
      "--------end of flat 2606 / 3000 ---------\n",
      "Фото 1 скачано как c8ad2369ac551502aca07a44c6ce7746_1200x900.jpg и записано в CSV.\n",
      "Фото 2 скачано как ff663086cd16ee7f925d96a2eefb184c_1200x900.jpg и записано в CSV.\n",
      "Фото 3 скачано как 033846aaae47663f6b3383fa0c88043d_1200x900.jpg и записано в CSV.\n",
      "Фото 4 скачано как 6103af937928d65486ea07f9fb96cbb2_1200x900.jpg и записано в CSV.\n",
      "Фото 5 скачано как 7485203f1c30ef2284b3933fea85f260_1200x900.jpg и записано в CSV.\n",
      "Фото 6 скачано как f8a5eb41dfe438153cb0985530011ace_1200x900.jpg и записано в CSV.\n"
     ]
    },
    {
     "name": "stderr",
     "output_type": "stream",
     "text": [
      "Flat images parsing:  22%|██▏       | 108/501 [11:27<25:25,  3.88s/it]"
     ]
    },
    {
     "name": "stdout",
     "output_type": "stream",
     "text": [
      "Фото 7 скачано как 37jCNp и записано в CSV.\n",
      "--------end of flat 2607 / 3000 ---------\n",
      "Фото 1 скачано как 603d23eec9f898a987567ae89d134833_1200x900.jpg и записано в CSV.\n",
      "Фото 2 скачано как 5f876eca055a1320f1fd23130f49d538_1200x900.jpg и записано в CSV.\n",
      "Фото 3 скачано как d9d4019200b1307dbec7269de10e26de_1200x900.jpg и записано в CSV.\n",
      "Фото 4 скачано как 5b7267770fdb13d9046038c9ceaa4596_1200x900.jpg и записано в CSV.\n",
      "Фото 5 скачано как 23a68cfc79b4f0de6349a59d5bfcef9d_1200x900.jpg и записано в CSV.\n"
     ]
    },
    {
     "name": "stderr",
     "output_type": "stream",
     "text": [
      "Flat images parsing:  22%|██▏       | 109/501 [11:32<27:07,  4.15s/it]"
     ]
    },
    {
     "name": "stdout",
     "output_type": "stream",
     "text": [
      "Фото 6 скачано как 37d32c5d672c67cc455d01f2ac39e875_1200x900.jpg и записано в CSV.\n",
      "--------end of flat 2608 / 3000 ---------\n",
      "Фото 1 скачано как 1535eb644ccb5a8f5ed2f661e9b904bb_1200x900.jpg и записано в CSV.\n",
      "Фото 2 скачано как 0fb70e30c3ab43f18c01493a4be4b366_1200x900.jpg и записано в CSV.\n",
      "Фото 3 скачано как 0baae4a20164fbd257e6577e8e4ee7b0_1200x900.jpg и записано в CSV.\n",
      "Фото 4 скачано как f398d2f89ce8e05a09c26b615c6992d2_1200x900.jpg и записано в CSV.\n",
      "Фото 5 скачано как a9c076f96669cabd4c7e6243721c8176_1200x900.jpg и записано в CSV.\n",
      "Фото 6 скачано как f61b66ae566e85505f373371e36c48fc_1200x900.jpg и записано в CSV.\n",
      "Фото 7 скачано как d1c38e86d1026847433218db982e974b_1200x900.jpg и записано в CSV.\n",
      "Фото 8 скачано как a84e02a478acb1368b19174df3d549dd_1200x900.jpg и записано в CSV.\n",
      "Фото 9 скачано как 9c5ce54ab7102c4459c1ffcccb426a31_1200x900.jpg и записано в CSV.\n",
      "Фото 10 скачано как c5880affe839f65e6195e9470644f503_1200x900.jpg и записано в CSV.\n",
      "Фото 11 скачано как 8073e173a8d75d1c111614c5e69f852b_1200x900.jpg и записано в CSV.\n",
      "Фото 12 скачано как ac84abf72aa13b76063bf643a263978e_1200x900.jpg и записано в CSV.\n",
      "Фото 13 скачано как 5b613861d80ee6df82c61dd7eaeecfd3_1200x900.jpg и записано в CSV.\n",
      "Фото 14 скачано как b5f25328d7815fb8541a33517ca4d1bd_1200x900.jpg и записано в CSV.\n",
      "Фото 15 скачано как d05a7c5685783374c9d36ae7a17182c7_1200x900.jpg и записано в CSV.\n",
      "Фото 16 скачано как 65650c1d86f983f35d179799f2baa9a8_1200x900.jpg и записано в CSV.\n",
      "Фото 17 скачано как da15c35ddcdf826f25ce05219a3b6d20_1200x900.jpg и записано в CSV.\n",
      "Фото 18 скачано как 4e5071927523344decc6c0ae3a4f0ded_1200x900.jpg и записано в CSV.\n",
      "Фото 19 скачано как 862ebf08a3ab20588e0477b79ce35820_1200x900.jpg и записано в CSV.\n"
     ]
    },
    {
     "name": "stderr",
     "output_type": "stream",
     "text": [
      "Flat images parsing:  22%|██▏       | 110/501 [11:43<41:35,  6.38s/it]"
     ]
    },
    {
     "name": "stdout",
     "output_type": "stream",
     "text": [
      "Фото 20 скачано как 5f358372ee7169e592a87c7177ab4372_1200x900.jpg и записано в CSV.\n",
      "--------end of flat 2609 / 3000 ---------\n",
      "Фото 1 скачано как 68dc262cb68bdf3ff39526aa40792f1c_1200x900.jpg и записано в CSV.\n",
      "Фото 2 скачано как 40eb94a041d7410344ee5b3caed253c0_1200x900.jpg и записано в CSV.\n",
      "Фото 3 скачано как df0f9f572e5038d240fb05e5a2afb3f3_1200x900.jpg и записано в CSV.\n",
      "Фото 4 скачано как 0fdcb65be1f0d7c0cfbf285bbd9c66af_1200x900.jpg и записано в CSV.\n",
      "Фото 5 скачано как aea51d1cb883e35e02781c5c099037e9_1200x900.jpg и записано в CSV.\n",
      "Фото 6 скачано как 85c6180337a2769c9a858a5141b337d9_1200x900.jpg и записано в CSV.\n",
      "Фото 7 скачано как 0b7c2e5670d8ce95ab852db0165c9695_1200x900.jpg и записано в CSV.\n",
      "Фото 8 скачано как 42ecedfca08df41c3b58a5343c7b9341_1200x900.jpg и записано в CSV.\n",
      "Фото 9 скачано как 34b20fb8c83c256789f4d6cbbd512917_1200x900.jpg и записано в CSV.\n",
      "Фото 10 скачано как 384df0930f6275cd8da3397571a97287_1200x900.jpg и записано в CSV.\n",
      "Фото 11 скачано как d50ee89ee875ac29b51602f7a6bbb1c2_1200x900.jpg и записано в CSV.\n",
      "Фото 12 скачано как 0ce11d348e48a460e8f861c3f916eb17_1200x900.jpg и записано в CSV.\n",
      "Фото 13 скачано как 82ece33e98d878ad57e932f3053b81b9_1200x900.jpg и записано в CSV.\n",
      "Фото 14 скачано как 1f8f04db15d8abb233a831187c772b1a_1200x900.jpg и записано в CSV.\n",
      "Фото 15 скачано как 9874c408d42f29adb8f68d49f2927681_1200x900.jpg и записано в CSV.\n",
      "Фото 16 скачано как fba8d464cf9be5303fa045cedc67553b_1200x900.jpg и записано в CSV.\n",
      "Фото 17 скачано как 2fd424cbbcfd64196184d299cd14b0af_1200x900.jpg и записано в CSV.\n",
      "Фото 18 скачано как 7319d42bb57910b3056555698a1cd830_1200x900.jpg и записано в CSV.\n",
      "Фото 19 скачано как bf0d002c5e5474407ea230a81e494172_1200x900.jpg и записано в CSV.\n",
      "Фото 20 скачано как 67baeb158f171c2a7bf0bf5ffcf1bcad_1200x900.jpg и записано в CSV.\n",
      "Фото 21 скачано как 83a856908f77fb2340b1a3225df11767_1200x900.jpg и записано в CSV.\n",
      "Фото 22 скачано как 067a2c1e32f4a4e0b342dfc067d68170_1200x900.jpg и записано в CSV.\n",
      "Фото 23 скачано как dff5eb1d99178f2b7c880b420e7b04b9_1200x900.jpg и записано в CSV.\n",
      "Фото 24 скачано как 07a1cc7ea7ad3d0b67303e23409b42e6_1200x900.jpg и записано в CSV.\n",
      "Фото 25 скачано как 39a85eb5892089853839997c95fdd34d_1200x900.jpg и записано в CSV.\n"
     ]
    },
    {
     "name": "stderr",
     "output_type": "stream",
     "text": [
      "Flat images parsing:  22%|██▏       | 111/501 [12:00<1:01:31,  9.47s/it]"
     ]
    },
    {
     "name": "stdout",
     "output_type": "stream",
     "text": [
      "Фото 26 скачано как z7rvWKIV-as и записано в CSV.\n",
      "--------end of flat 2610 / 3000 ---------\n",
      "Фото 1 скачано как 8df4e6e8d111a746f651cd0dc8852bb8_1200x900.jpg и записано в CSV.\n",
      "Фото 2 скачано как b4c15bee763286a84534709201395f2a_1200x900.jpg и записано в CSV.\n",
      "Фото 3 скачано как d445c00d7de1b57e7e682d9c16bcf700_1200x900.jpg и записано в CSV.\n",
      "Фото 4 скачано как 588358ee1cd0becd7ddc29e1a40e20d0_1200x900.jpg и записано в CSV.\n",
      "Фото 5 скачано как d076c6284f85f43503103e4d2c318c18_1200x900.jpg и записано в CSV.\n",
      "Фото 6 скачано как 1f039e542a27f6bd878ef99a40e1f1d9_1200x900.jpg и записано в CSV.\n",
      "Фото 7 скачано как b30b21fd5782c70e416b53b94c2c9072_1200x900.jpg и записано в CSV.\n",
      "Фото 8 скачано как 1d568b18870f244fb76a1605852b0827_1200x900.jpg и записано в CSV.\n",
      "Фото 9 скачано как ddfa7d518fa9647e41439cd7515d32b0_1200x900.jpg и записано в CSV.\n",
      "Фото 10 скачано как 3101aa54df7716315e191ebb8c6d380f_1200x900.jpg и записано в CSV.\n",
      "Фото 11 скачано как 5f33f44629d7e2dd01836c33bc818455_1200x900.jpg и записано в CSV.\n",
      "Фото 12 скачано как 36cc545bb2090c4b7b4255edbf4e31a6_1200x900.jpg и записано в CSV.\n",
      "Фото 13 скачано как 4a88a760f49fa1a6493f27d0b7fc4896_1200x900.jpg и записано в CSV.\n",
      "Фото 14 скачано как bfe7cdc3d2a814ce1637d30e77145649_1200x900.jpg и записано в CSV.\n",
      "Фото 15 скачано как 3d8ba5199b287488309f89cd06618654_1200x900.jpg и записано в CSV.\n",
      "Фото 16 скачано как 4eaacb94f320fbe398d4a5593cd40f99_1200x900.jpg и записано в CSV.\n",
      "Фото 17 скачано как 00d9bee43d6c16f46e58736a0504d410_1200x900.jpg и записано в CSV.\n",
      "Фото 18 скачано как 7c52661d24c0d7220cd44bdc6278aa54_1200x900.jpg и записано в CSV.\n",
      "Фото 19 скачано как e01babd28fdde5fe0e91be7bf1980849_1200x900.jpg и записано в CSV.\n",
      "Фото 20 скачано как 6621b0ebaf247bd2224a0d195efcbaab_1200x900.jpg и записано в CSV.\n",
      "Фото 21 скачано как f2ed94e0465d777ff243e5c6cd429483_1200x900.jpg и записано в CSV.\n",
      "Фото 22 скачано как 68b827027c4961306407b7bd2c9a715b_1200x900.jpg и записано в CSV.\n",
      "Фото 23 скачано как cb9d256b6463d1ed531500ed047b7082_1200x900.jpg и записано в CSV.\n",
      "Фото 24 скачано как 2eec67c4f80e6dac7a4318f4aaae065a_1200x900.jpg и записано в CSV.\n",
      "Фото 25 скачано как 54afd1c9a8ad51c766ff651ea12037ab_1200x900.jpg и записано в CSV.\n",
      "Фото 26 скачано как e9340943064a98c395cfded8bff9e0ae_1200x900.jpg и записано в CSV.\n",
      "Фото 27 скачано как da1e90ac2f44ff8556e249fee26446ac_1200x900.jpg и записано в CSV.\n",
      "Фото 28 скачано как 4c6b20c053eed63fb753664b91691549_1200x900.jpg и записано в CSV.\n",
      "Фото 29 скачано как 88c9c9199eb062b89bb8953e61794871_1200x900.jpg и записано в CSV.\n",
      "Фото 30 скачано как 17c721804c199c480fc40424d971a5eb_1200x900.jpg и записано в CSV.\n",
      "Фото 31 скачано как 37b2816a6fa2679016e10e35bc7d4f89_1200x900.jpg и записано в CSV.\n",
      "Фото 32 скачано как 04ac4d0c7e47a96c40e63ec92d8cc40e_1200x900.jpg и записано в CSV.\n",
      "Фото 33 скачано как 00d2cb95bba0bae4c6e3316972be8218_1200x900.jpg и записано в CSV.\n",
      "Фото 34 скачано как f1bfb51c102e173d4c63e401afc27322_1200x900.jpg и записано в CSV.\n",
      "Фото 35 скачано как 0869d90c7a75f82e543aac8f81161270_1200x900.jpg и записано в CSV.\n",
      "Фото 36 скачано как 4e8a25be7ae912f17bbfba21c721f27c_1200x900.jpg и записано в CSV.\n",
      "Фото 37 скачано как fd47756229ccbed3443bbdbddc4316be_1200x900.jpg и записано в CSV.\n",
      "Фото 38 скачано как 4d7449524245ffea98f06ff2b9603dce_1200x900.jpg и записано в CSV.\n",
      "Фото 39 скачано как ef42bb5fd195cedbb0e510ac0b289812_1200x900.jpg и записано в CSV.\n",
      "Фото 40 скачано как e81c3e3e6a69f4f49d37310aeab7a996_1200x900.jpg и записано в CSV.\n",
      "Фото 41 скачано как 1ff2aad639b4caa20d0de912f4d7aad5_1200x900.jpg и записано в CSV.\n",
      "Фото 42 скачано как 0826143e924ff1f730632eccb25a2deb_1200x900.jpg и записано в CSV.\n",
      "Фото 43 скачано как 0414f2571ce56fd7ff2471327b3accbe_1200x900.jpg и записано в CSV.\n",
      "Фото 44 скачано как 913cca4d10712746c777d91342ae9f57_1200x900.jpg и записано в CSV.\n"
     ]
    },
    {
     "name": "stderr",
     "output_type": "stream",
     "text": [
      "Flat images parsing:  22%|██▏       | 112/501 [12:27<1:35:53, 14.79s/it]"
     ]
    },
    {
     "name": "stdout",
     "output_type": "stream",
     "text": [
      "Фото 45 скачано как z7rvWKIV-as и записано в CSV.\n",
      "--------end of flat 2611 / 3000 ---------\n",
      "Фото 1 скачано как c3203a369f7b2c9827880a655cd3a520_1200x900.jpg и записано в CSV.\n",
      "Фото 2 скачано как 591c2f31a82336320fa0bac2a55a279a_1200x900.jpg и записано в CSV.\n",
      "Фото 3 скачано как 4a75ab0f8d368060c37a594b0b7d8d96_1200x900.jpg и записано в CSV.\n",
      "Фото 4 скачано как 16ece7332a07be01f60e0537228e142a_1200x900.jpg и записано в CSV.\n",
      "Фото 5 скачано как d2190775b7bf2ba2e6ab3b2576df4f7f_1200x900.jpg и записано в CSV.\n",
      "Фото 6 скачано как 87730dfaeb1e8f82797c6af4f37ecad6_1200x900.jpg и записано в CSV.\n",
      "Фото 7 скачано как 62b826a0267383ba7a9490b40f2a7fd3_1200x900.jpg и записано в CSV.\n",
      "Фото 8 скачано как 2db68bec41f696d9e43621ed57f9ccda_1200x900.jpg и записано в CSV.\n"
     ]
    },
    {
     "name": "stderr",
     "output_type": "stream",
     "text": [
      "Flat images parsing:  23%|██▎       | 113/501 [12:33<1:17:40, 12.01s/it]"
     ]
    },
    {
     "name": "stdout",
     "output_type": "stream",
     "text": [
      "Фото 9 скачано как z7rvWKIV-as и записано в CSV.\n",
      "--------end of flat 2612 / 3000 ---------\n",
      "Фото 1 скачано как 54ee90fb8ae0de392b61ebffcfc6966a_1200x900.jpg и записано в CSV.\n",
      "Фото 2 скачано как 0bf3b9ae2c76db9633acfed20a5bec53_1200x900.jpg и записано в CSV.\n",
      "Фото 3 скачано как 40b5be52d8a52e7acc36857208426f00_1200x900.jpg и записано в CSV.\n",
      "Фото 4 скачано как 11ccdef0b4815a64190492c0660d0ffc_1200x900.jpg и записано в CSV.\n",
      "Фото 5 скачано как c5d139c7d0d8ae14308f9ea0ceda7d0c_1200x900.jpg и записано в CSV.\n",
      "Фото 6 скачано как ace58643ce09b881b5871cc271875b52_1200x900.jpg и записано в CSV.\n",
      "Фото 7 скачано как 7c51d04e3b79aeae2028bd9930e08c5f_1200x900.jpg и записано в CSV.\n",
      "Фото 8 скачано как eb5cf40759da07730161afc5926d3975_1200x900.jpg и записано в CSV.\n",
      "Фото 9 скачано как aed3a4e32f85764017694d4f91bac0eb_1200x900.jpg и записано в CSV.\n",
      "Фото 10 скачано как e72f9fd4612f0bdae79509085f929867_1200x900.jpg и записано в CSV.\n",
      "Фото 11 скачано как 687413e9ddfe58d5c7457b47e0c1949d_1200x900.jpg и записано в CSV.\n",
      "Фото 12 скачано как 7683235fff4c64b33486965ffc1d3fd9_1200x900.jpg и записано в CSV.\n",
      "Фото 13 скачано как 02e42e5fd9c5ebcfe5c1e9efdaf9cd2b_1200x900.jpg и записано в CSV.\n"
     ]
    },
    {
     "name": "stderr",
     "output_type": "stream",
     "text": [
      "Flat images parsing:  23%|██▎       | 114/501 [12:41<1:09:44, 10.81s/it]"
     ]
    },
    {
     "name": "stdout",
     "output_type": "stream",
     "text": [
      "Фото 14 скачано как b8778a22ecff173d59470d6830aacf89_1200x900.jpg и записано в CSV.\n",
      "--------end of flat 2613 / 3000 ---------\n",
      "Фото 1 скачано как d50ffb6b68a6529087454ef46100ad01_1200x900.jpg и записано в CSV.\n"
     ]
    },
    {
     "name": "stderr",
     "output_type": "stream",
     "text": [
      "Flat images parsing:  23%|██▎       | 115/501 [12:42<52:08,  8.10s/it]  "
     ]
    },
    {
     "name": "stdout",
     "output_type": "stream",
     "text": [
      "Фото 2 скачано как 3a27928624cdbdf138340d6bb7e2b703_1200x900.jpg и записано в CSV.\n",
      "--------end of flat 2614 / 3000 ---------\n",
      "Фото 1 скачано как 80b5e3c0bbb8e140aec19e06c518b053_1200x900.jpg и записано в CSV.\n",
      "Фото 2 скачано как 100c212ace0ef653503f3b05383c2515_1200x900.jpg и записано в CSV.\n",
      "Фото 3 скачано как cb85ebe1ae2c0d6780cd8211d9fd6a76_1200x900.jpg и записано в CSV.\n",
      "Фото 4 скачано как d673a1e3e6f7ea3f6368ddab09332a9a_1200x900.jpg и записано в CSV.\n",
      "Фото 5 скачано как 661cad339c89801421b9d8d3e341a0a3_1200x900.jpg и записано в CSV.\n",
      "Фото 6 скачано как 18561180160bade83bd30b685df9e69e_1200x900.jpg и записано в CSV.\n",
      "Фото 7 скачано как ea2c6b61ec8e60969879dea0e3f36f83_1200x900.jpg и записано в CSV.\n",
      "Фото 8 скачано как a9de5ad41f0bcad1bbd14c300d4f23ad_1200x900.jpg и записано в CSV.\n",
      "Фото 9 скачано как 57b3b86ae45ba9da11aad65e6233ded7_1200x900.jpg и записано в CSV.\n",
      "Фото 10 скачано как d083680f04176b753d3cde58c5053d94_1200x900.jpg и записано в CSV.\n",
      "Фото 11 скачано как 03f59bf3c56f2f76a78e18d5758275ef_1200x900.jpg и записано в CSV.\n",
      "Фото 12 скачано как c0d1fbab95f07e36a44df05eb0c60fe7_1200x900.jpg и записано в CSV.\n",
      "Фото 13 скачано как 551b5be65fdd568b6428e1318a330aea_1200x900.jpg и записано в CSV.\n"
     ]
    },
    {
     "name": "stderr",
     "output_type": "stream",
     "text": [
      "Flat images parsing:  23%|██▎       | 116/501 [12:51<52:14,  8.14s/it]"
     ]
    },
    {
     "name": "stdout",
     "output_type": "stream",
     "text": [
      "Фото 14 скачано как cd7f052fc69747ef10bf4eae90a46906_1200x900.jpg и записано в CSV.\n",
      "--------end of flat 2615 / 3000 ---------\n",
      "Фото 1 скачано как bf2b2e62dfb077837e0d8221f0c81109_1200x900.jpg и записано в CSV.\n",
      "Фото 2 скачано как 22c4e4fa171f6f54629e575bf30130f3_1200x900.jpg и записано в CSV.\n",
      "Фото 3 скачано как 5979592096006a7b1a402ec49c3b5500_1200x900.jpg и записано в CSV.\n",
      "Фото 4 скачано как a2dc331f77636bd891d42711abba2221_1200x900.jpg и записано в CSV.\n",
      "Фото 5 скачано как 8e76201d74761c8b62ba8aae942207d8_1200x900.jpg и записано в CSV.\n",
      "Фото 6 скачано как 4fd1ae40aea9f15a50e5e9fcaf1e826a_1200x900.jpg и записано в CSV.\n",
      "Фото 7 скачано как 69d574e15ebcaf5144a10212d877e3e7_1200x900.jpg и записано в CSV.\n",
      "Фото 8 скачано как 16c47356c39f9b72ec6737af309c99e6_1200x900.jpg и записано в CSV.\n",
      "Фото 9 скачано как bd944ea2c0913a667a557e09af004e0f_1200x900.jpg и записано в CSV.\n",
      "Фото 10 скачано как 74440b26a019dfb3666035073aab83da_1200x900.jpg и записано в CSV.\n",
      "Фото 11 скачано как 206d76db3f3e533acd57ef860a2e2d8e_1200x900.jpg и записано в CSV.\n",
      "Фото 12 скачано как af8f6630f33408f2b659c6d704636124_1200x900.jpg и записано в CSV.\n",
      "Фото 13 скачано как d5d32ccdf006854e4b64e8f8039b636f_1200x900.jpg и записано в CSV.\n",
      "Фото 14 скачано как 2d2182794fe47e9d56676c4d2c2ccfbc_1200x900.jpg и записано в CSV.\n",
      "Фото 15 скачано как 0c718d16b76982db00af45a02a50f454_1200x900.jpg и записано в CSV.\n",
      "Фото 16 скачано как 46df330494c7cdc50b6c8640328236fa_1200x900.jpg и записано в CSV.\n"
     ]
    },
    {
     "name": "stderr",
     "output_type": "stream",
     "text": [
      "Flat images parsing:  23%|██▎       | 117/501 [13:01<57:01,  8.91s/it]"
     ]
    },
    {
     "name": "stdout",
     "output_type": "stream",
     "text": [
      "Фото 17 скачано как 99e167f6d39958b19442633a27b2a26d_1200x900.jpg и записано в CSV.\n",
      "--------end of flat 2616 / 3000 ---------\n",
      "Фото 1 скачано как 7199016491e72302b20beabe1746e5f9_1200x900.jpg и записано в CSV.\n",
      "Фото 2 скачано как b568a280273cc19ebc27d1e85fab4c15_1200x900.jpg и записано в CSV.\n",
      "Фото 3 скачано как 6d85001d28f7a6f93fbb7df16c9b13c4_1200x900.jpg и записано в CSV.\n",
      "Фото 4 скачано как 085d71f74a7de863a04e5b16f7d61285_1200x900.jpg и записано в CSV.\n",
      "Фото 5 скачано как fc2141b9f8020866a46d2fd7857cb959_1200x900.jpg и записано в CSV.\n",
      "Фото 6 скачано как fed45b6a9e8d37793c8f79d5ad08f020_1200x900.jpg и записано в CSV.\n",
      "Фото 7 скачано как c19d30f7352c272cc8a57797a3c94e24_1200x900.jpg и записано в CSV.\n",
      "Фото 8 скачано как 5016f83ea9e04f84acb38585591d308a_1200x900.jpg и записано в CSV.\n",
      "Фото 9 скачано как ee08bc787a9ece5a3f9873a487099215_1200x900.jpg и записано в CSV.\n",
      "Фото 10 скачано как 436a1964c34d8bafaf8182f1c284feec_1200x900.jpg и записано в CSV.\n",
      "Фото 11 скачано как ccc9083f7971e4773e657cd77fde56ce_1200x900.jpg и записано в CSV.\n",
      "Фото 12 скачано как 308191f7963e1c13efee61bd04c7e3c2_1200x900.jpg и записано в CSV.\n",
      "Фото 13 скачано как 1391f5a8204d0e9b1f024289368c4399_1200x900.jpg и записано в CSV.\n",
      "Фото 14 скачано как 06392e3916d913e14d34ec6822ac7e8f_1200x900.jpg и записано в CSV.\n",
      "Фото 15 скачано как 2e8f687635a2bb14965a2291bcef4215_1200x900.jpg и записано в CSV.\n"
     ]
    },
    {
     "name": "stderr",
     "output_type": "stream",
     "text": [
      "Flat images parsing:  24%|██▎       | 118/501 [13:11<58:24,  9.15s/it]"
     ]
    },
    {
     "name": "stdout",
     "output_type": "stream",
     "text": [
      "Фото 16 скачано как 053c1d7d56e85f78b840c74a7cbc6184_1200x900.jpg и записано в CSV.\n",
      "--------end of flat 2617 / 3000 ---------\n",
      "Фото 1 скачано как 6176e44dbb0a8e17b66a72708cb0b5ad_1200x900.jpg и записано в CSV.\n",
      "Фото 2 скачано как fb528b3de9d6625e59619065564a6e3b_1200x900.jpg и записано в CSV.\n",
      "Фото 3 скачано как e82db0a3a31498b63e71a25bccc17deb_1200x900.jpg и записано в CSV.\n",
      "Фото 4 скачано как f36755d4bf3a8cabe06a85a347ee9a2d_1200x900.jpg и записано в CSV.\n",
      "Фото 5 скачано как 1ab36464ba3b1d7a261053f7764a5038_1200x900.jpg и записано в CSV.\n",
      "Фото 6 скачано как 276c6344a0ca3c379467b3515d26e2ea_1200x900.jpg и записано в CSV.\n",
      "Фото 7 скачано как bb3d8b686e6d6b918e74c8c1c5a7b132_1200x900.jpg и записано в CSV.\n"
     ]
    },
    {
     "name": "stderr",
     "output_type": "stream",
     "text": [
      "Flat images parsing:  24%|██▍       | 119/501 [13:17<51:37,  8.11s/it]"
     ]
    },
    {
     "name": "stdout",
     "output_type": "stream",
     "text": [
      "Фото 8 скачано как 12fd7ef596aa436187b8c03793ab31e2_1200x900.jpg и записано в CSV.\n",
      "--------end of flat 2618 / 3000 ---------\n",
      "Фото 1 скачано как 01aac43be1abd7cb9c3f36b50de1650f_1200x900.jpg и записано в CSV.\n",
      "Фото 2 скачано как a8f0d40be88a0e22f13cab873c17aaee_1200x900.jpg и записано в CSV.\n"
     ]
    },
    {
     "name": "stderr",
     "output_type": "stream",
     "text": [
      "Flat images parsing:  24%|██▍       | 120/501 [13:20<42:02,  6.62s/it]"
     ]
    },
    {
     "name": "stdout",
     "output_type": "stream",
     "text": [
      "Фото 3 скачано как 52d7ee5432ba5792c61cc5ba1b53cd5c_1200x900.jpg и записано в CSV.\n",
      "--------end of flat 2619 / 3000 ---------\n"
     ]
    },
    {
     "name": "stderr",
     "output_type": "stream",
     "text": [
      "Flat images parsing:  24%|██▍       | 121/501 [13:21<31:36,  4.99s/it]"
     ]
    },
    {
     "name": "stdout",
     "output_type": "stream",
     "text": [
      "Фото 1 скачано как fb3d3c3b4e99e52e8bdb729ec345ce42_1200x900.jpg и записано в CSV.\n"
     ]
    },
    {
     "name": "stderr",
     "output_type": "stream",
     "text": [
      "Flat images parsing:  24%|██▍       | 122/501 [13:23<26:31,  4.20s/it]"
     ]
    },
    {
     "name": "stdout",
     "output_type": "stream",
     "text": [
      "Фото 2 скачано как c507ab57a9ada37e631be30fb1135bb4_1200x900.jpg и записано в CSV.\n",
      "--------end of flat 2621 / 3000 ---------\n",
      "Фото 1 скачано как c6d09901f8d1ade819b9eb93f12f2b1f_1200x900.jpg и записано в CSV.\n",
      "Фото 2 скачано как 28b1a2c637f3837bec8cfc624627956a_1200x900.jpg и записано в CSV.\n",
      "Фото 3 скачано как 47ec835f465aec3b7b649250beb676cf_1200x900.jpg и записано в CSV.\n",
      "Фото 4 скачано как 5b8d0bd79afb88c9a3cb3089a84b82f9_1200x900.jpg и записано в CSV.\n",
      "Фото 5 скачано как 1ddfe599031af5a613c5ef566679d0b0_1200x900.jpg и записано в CSV.\n",
      "Фото 6 скачано как 44a12bd2ac92f8054018f30dd8e4ece2_1200x900.jpg и записано в CSV.\n",
      "Фото 7 скачано как 9b4a608d706bd1b487de6e5324ec3c2b_1200x900.jpg и записано в CSV.\n",
      "Фото 8 скачано как da9eac7786866b78553284eb8f0199c8_1200x900.jpg и записано в CSV.\n"
     ]
    },
    {
     "name": "stderr",
     "output_type": "stream",
     "text": [
      "Flat images parsing:  25%|██▍       | 123/501 [13:29<28:51,  4.58s/it]"
     ]
    },
    {
     "name": "stdout",
     "output_type": "stream",
     "text": [
      "Фото 9 скачано как 37jCNp и записано в CSV.\n",
      "--------end of flat 2622 / 3000 ---------\n",
      "Фото 1 скачано как 7cc8d5f0d2cf90ed75fd08e1e281631d_1200x900.jpg и записано в CSV.\n",
      "Фото 2 скачано как c31e9bba6733ac9ce9c5d36dcd7fcd0b_1200x900.jpg и записано в CSV.\n",
      "Фото 3 скачано как c76d9472cf22c74a9b05fa9d6c9e75bd_1200x900.jpg и записано в CSV.\n"
     ]
    },
    {
     "name": "stderr",
     "output_type": "stream",
     "text": [
      "Flat images parsing:  25%|██▍       | 124/501 [13:32<26:02,  4.15s/it]"
     ]
    },
    {
     "name": "stdout",
     "output_type": "stream",
     "text": [
      "Фото 4 скачано как 37jCNp и записано в CSV.\n",
      "--------end of flat 2623 / 3000 ---------\n",
      "Фото 1 скачано как 5c35edaa551eadd29f99d5306acbcb86_1200x900.jpg и записано в CSV.\n",
      "Фото 2 скачано как 2a6529b58102cbba68f1f3dfe34661c5_1200x900.jpg и записано в CSV.\n",
      "Фото 3 скачано как 9f31116d2b44f9aac9b9523dd149de20_1200x900.jpg и записано в CSV.\n",
      "Фото 4 скачано как 095e3d96660445e3c2722a66798e2389_1200x900.jpg и записано в CSV.\n",
      "Фото 5 скачано как 7bc5036c3a2cdd6965466eecc61a8aaa_1200x900.jpg и записано в CSV.\n",
      "Фото 6 скачано как 8151fe18035128166694c00e9840ae5b_1200x900.jpg и записано в CSV.\n",
      "Фото 7 скачано как 80c6237481d091d70153304d6500196c_1200x900.jpg и записано в CSV.\n",
      "Фото 8 скачано как 9e84d72d89162e19923a0570222dadcc_1200x900.jpg и записано в CSV.\n",
      "Фото 9 скачано как 26080a800c92fbf26fbd447e7bfa9e28_1200x900.jpg и записано в CSV.\n",
      "Фото 10 скачано как 434f663f4dadd7d7753e6ffeaef71608_1200x900.jpg и записано в CSV.\n",
      "Фото 11 скачано как 1974db5fb1f0f075f4d027c50861001e_1200x900.jpg и записано в CSV.\n"
     ]
    },
    {
     "name": "stderr",
     "output_type": "stream",
     "text": [
      "Flat images parsing:  25%|██▍       | 125/501 [13:39<31:47,  5.07s/it]"
     ]
    },
    {
     "name": "stdout",
     "output_type": "stream",
     "text": [
      "Фото 12 скачано как 37jCNp и записано в CSV.\n",
      "--------end of flat 2624 / 3000 ---------\n",
      "Фото 1 скачано как 181e2d60b95cddd7847c216b75fefd23_1200x900.jpg и записано в CSV.\n",
      "Фото 2 скачано как 496092bc9ee2b338430a3ca1408f6052_1200x900.jpg и записано в CSV.\n",
      "Фото 3 скачано как 639e2dd430d2376add55592c75039d88_1200x900.jpg и записано в CSV.\n"
     ]
    },
    {
     "name": "stderr",
     "output_type": "stream",
     "text": [
      "Flat images parsing:  25%|██▌       | 126/501 [13:42<27:54,  4.47s/it]"
     ]
    },
    {
     "name": "stdout",
     "output_type": "stream",
     "text": [
      "Фото 4 скачано как 3AQXYx и записано в CSV.\n",
      "--------end of flat 2625 / 3000 ---------\n",
      "Фото 1 скачано как 1afbd525b8120b751da6368224e8c45d_1200x900.jpg и записано в CSV.\n",
      "Фото 2 скачано как 44711af98e5cb09ddb16aa062960dff5_1200x900.jpg и записано в CSV.\n",
      "Фото 3 скачано как 05e2c3dd7ff4232cbb1f8f16f71a6314_1200x900.jpg и записано в CSV.\n",
      "Фото 4 скачано как 0b0f67d19ddc9b4a7aadc33e66ca883b_1200x900.jpg и записано в CSV.\n",
      "Фото 5 скачано как 02d3328e626c452c0fd4bd43d52de7ac_1200x900.jpg и записано в CSV.\n",
      "Фото 6 скачано как 3bb9971e9026289fd4839bcb190430af_1200x900.jpg и записано в CSV.\n",
      "Фото 7 скачано как 261993a17d470fd9318a8ccec67e9175_1200x900.jpg и записано в CSV.\n",
      "Фото 8 скачано как 4000f7810a95c12ba9d7b878f74a9461_1200x900.jpg и записано в CSV.\n",
      "Фото 9 скачано как 7d04911af71138f8af53eca1f0480097_1200x900.jpg и записано в CSV.\n"
     ]
    },
    {
     "name": "stderr",
     "output_type": "stream",
     "text": [
      "Flat images parsing:  25%|██▌       | 127/501 [13:48<30:54,  4.96s/it]"
     ]
    },
    {
     "name": "stdout",
     "output_type": "stream",
     "text": [
      "Фото 10 скачано как 37jCNp и записано в CSV.\n",
      "--------end of flat 2626 / 3000 ---------\n",
      "Фото 1 скачано как 4488bf6c61786d26213e26f356249d13_1200x900.jpg и записано в CSV.\n",
      "Фото 2 скачано как efba26e698334753b163ce8b5539a4c9_1200x900.jpg и записано в CSV.\n",
      "Фото 3 скачано как 91a2382dbe7920ad413a5387b01cfc2e_1200x900.jpg и записано в CSV.\n",
      "Фото 4 скачано как 87848f23e0c7a913d8057f5c3802a8d3_1200x900.jpg и записано в CSV.\n",
      "Фото 5 скачано как d8336b326f71e23752ccb0e85f40d479_1200x900.jpg и записано в CSV.\n",
      "Фото 6 скачано как cabcfca7075e9f65976a0232f7aaafd6_1200x900.jpg и записано в CSV.\n"
     ]
    },
    {
     "name": "stderr",
     "output_type": "stream",
     "text": [
      "Flat images parsing:  26%|██▌       | 128/501 [13:54<31:50,  5.12s/it]"
     ]
    },
    {
     "name": "stdout",
     "output_type": "stream",
     "text": [
      "Фото 7 скачано как z7rvWKIV-as и записано в CSV.\n",
      "--------end of flat 2627 / 3000 ---------\n",
      "Фото 1 скачано как 14f88b72d1827c039c323aed85536759_1200x900.jpg и записано в CSV.\n",
      "Фото 2 скачано как 893391107a7795220b17b466ef725d41_1200x900.jpg и записано в CSV.\n",
      "Фото 3 скачано как 3e271cff0f04cb1fa2a4018e8bc8ffdf_1200x900.jpg и записано в CSV.\n",
      "Фото 4 скачано как 310e85baec2c0c21cd2238b9fedebbdd_1200x900.jpg и записано в CSV.\n",
      "Фото 5 скачано как 78e39447ed5cc8d6cb1390e3d9e6e317_1200x900.jpg и записано в CSV.\n",
      "Фото 6 скачано как 0f3085421501267c07f433d7213ccf7b_1200x900.jpg и записано в CSV.\n",
      "Фото 7 скачано как a57c537a4559e30d6c8fd21055fa38d8_1200x900.jpg и записано в CSV.\n",
      "Фото 8 скачано как 95bf77809790ed093461ca57b6649fff_1200x900.jpg и записано в CSV.\n",
      "Фото 9 скачано как ba5283eba10a0426b52d83e629795614_1200x900.jpg и записано в CSV.\n",
      "Фото 10 скачано как 7b16cdb5fddb84c5b17ac34f630bd864_1200x900.jpg и записано в CSV.\n",
      "Фото 11 скачано как 1ae17a31e0f6c48dcb072d16c1849f97_1200x900.jpg и записано в CSV.\n"
     ]
    },
    {
     "name": "stderr",
     "output_type": "stream",
     "text": [
      "Flat images parsing:  26%|██▌       | 129/501 [14:01<36:20,  5.86s/it]"
     ]
    },
    {
     "name": "stdout",
     "output_type": "stream",
     "text": [
      "Фото 12 скачано как 3AQXYx и записано в CSV.\n",
      "--------end of flat 2628 / 3000 ---------\n",
      "Фото 1 скачано как 69ad14022e2049450aa4980bb9873f07_1200x900.jpg и записано в CSV.\n",
      "Фото 2 скачано как b732b9a0c320d7932a31942e713207c8_1200x900.jpg и записано в CSV.\n",
      "Фото 3 скачано как e58b4634fed98a7e50dfa34605a12e03_1200x900.jpg и записано в CSV.\n",
      "Фото 4 скачано как 59e5ecbac3ad181d655bac41f679c60f_1200x900.jpg и записано в CSV.\n",
      "Фото 5 скачано как c35b0d00ea61dd9d74bea8fc8e93394b_1200x900.jpg и записано в CSV.\n",
      "Фото 6 скачано как 731e45aa92e50f3caf37befe126dd2b7_1200x900.jpg и записано в CSV.\n",
      "Фото 7 скачано как 9baeb9ba10af47e66bec6644a1f9000a_1200x900.jpg и записано в CSV.\n",
      "Фото 8 скачано как 2d143358dd9dcc86b2e7da56696fb1aa_1200x900.jpg и записано в CSV.\n",
      "Фото 9 скачано как b6e19c21988350b3235bacd2d1969331_1200x900.jpg и записано в CSV.\n",
      "Фото 10 скачано как a463b6e9712e22c96890ad00a36db716_1200x900.jpg и записано в CSV.\n",
      "Фото 11 скачано как 69e13c403668a703e4553109716c9da9_1200x900.jpg и записано в CSV.\n",
      "Фото 12 скачано как a36de3f02e8d496834b95ca92f570648_1200x900.jpg и записано в CSV.\n",
      "Фото 13 скачано как d8a500db385fba2e2a30ca54e8031a38_1200x900.jpg и записано в CSV.\n"
     ]
    },
    {
     "name": "stderr",
     "output_type": "stream",
     "text": [
      "Flat images parsing:  26%|██▌       | 130/501 [14:09<40:03,  6.48s/it]"
     ]
    },
    {
     "name": "stdout",
     "output_type": "stream",
     "text": [
      "Фото 14 скачано как 37jCNp и записано в CSV.\n",
      "--------end of flat 2629 / 3000 ---------\n",
      "Фото 1 скачано как 1e7bf60f3e698f6cfdc0cc24873c75ab_1200x900.jpg и записано в CSV.\n",
      "Фото 2 скачано как fd455294e7b38f621b10aa8b8794c7de_1200x900.jpg и записано в CSV.\n",
      "Фото 3 скачано как e1fc36b4870dc4b73206a2d3e3ee6808_1200x900.jpg и записано в CSV.\n",
      "Фото 4 скачано как defa1cbcfd3449dd0724fb75fd0ba6b2_1200x900.jpg и записано в CSV.\n",
      "Фото 5 скачано как 3b610ba1137fbb1dde3b779438926129_1200x900.jpg и записано в CSV.\n",
      "Фото 6 скачано как 404d6fb7f55d2bab8ef4edba33a7daa4_1200x900.jpg и записано в CSV.\n",
      "Фото 7 скачано как 4f871808421b4b89c1152dcecde554e0_1200x900.jpg и записано в CSV.\n",
      "Фото 8 скачано как 75e22fe2e8374b9e3d4e21561ef866e8_1200x900.jpg и записано в CSV.\n",
      "Фото 9 скачано как 185d2f6cb84128fb75ffde4e3d1946bc_1200x900.jpg и записано в CSV.\n",
      "Фото 10 скачано как e2a348c650c0ce32253abdbf76283dc7_1200x900.jpg и записано в CSV.\n"
     ]
    },
    {
     "name": "stderr",
     "output_type": "stream",
     "text": [
      "Flat images parsing:  26%|██▌       | 131/501 [14:16<40:32,  6.57s/it]"
     ]
    },
    {
     "name": "stdout",
     "output_type": "stream",
     "text": [
      "Фото 11 скачано как 3AQXYx и записано в CSV.\n",
      "--------end of flat 2630 / 3000 ---------\n",
      "Фото 1 скачано как 86ff3454d10989d6b9c3043a51f83765_1200x900.jpg и записано в CSV.\n",
      "Фото 2 скачано как 1485026c916dfced355e17eefc17ca84_1200x900.jpg и записано в CSV.\n",
      "Фото 3 скачано как 525bf6ac27363784ced0beb289000a5c_1200x900.jpg и записано в CSV.\n"
     ]
    },
    {
     "name": "stderr",
     "output_type": "stream",
     "text": [
      "Flat images parsing:  26%|██▋       | 132/501 [14:19<34:06,  5.55s/it]"
     ]
    },
    {
     "name": "stdout",
     "output_type": "stream",
     "text": [
      "Фото 4 скачано как 3AQXYx и записано в CSV.\n",
      "--------end of flat 2631 / 3000 ---------\n",
      "Фото 1 скачано как b23594dd0c13849b922db33212be98ca_1200x900.jpg и записано в CSV.\n",
      "Фото 2 скачано как 2df38bf7bde977b251b3fe6213850773_1200x900.jpg и записано в CSV.\n",
      "Фото 3 скачано как ae0b441c6031b485c1d7283b1320c3e7_1200x900.jpg и записано в CSV.\n",
      "Фото 4 скачано как 05afaa7f84819c24a0aed003bf39c692_1200x900.jpg и записано в CSV.\n",
      "Фото 5 скачано как 693dcf6177d87ffd1f01279e8ea8eb7d_1200x900.jpg и записано в CSV.\n",
      "Фото 6 скачано как 7b8fa41b4a37143dd2c56cc3e4112eff_1200x900.jpg и записано в CSV.\n",
      "Фото 7 скачано как e4ee10d73692f7ef229b63df7f1494cd_1200x900.jpg и записано в CSV.\n",
      "Фото 8 скачано как f0637e9816f814cd2c9bf476f346499f_1200x900.jpg и записано в CSV.\n",
      "Фото 9 скачано как 720cf2ba5270c8aea29a6f703e7885ad_1200x900.jpg и записано в CSV.\n",
      "Фото 10 скачано как e1ba94e0b1d3a7e0493189af2a7b99b6_1200x900.jpg и записано в CSV.\n"
     ]
    },
    {
     "name": "stderr",
     "output_type": "stream",
     "text": [
      "Flat images parsing:  27%|██▋       | 133/501 [14:25<35:06,  5.72s/it]"
     ]
    },
    {
     "name": "stdout",
     "output_type": "stream",
     "text": [
      "Фото 11 скачано как 37jCNp и записано в CSV.\n",
      "--------end of flat 2632 / 3000 ---------\n",
      "Фото 1 скачано как ba2874d5dae2d21a3d19f261b8a52503_1200x900.jpg и записано в CSV.\n",
      "Фото 2 скачано как 491ceb335d8283a7af58ff007f803af7_1200x900.jpg и записано в CSV.\n",
      "Фото 3 скачано как b7050a6bda0155d7482d8ec5b0d31354_1200x900.jpg и записано в CSV.\n",
      "Фото 4 скачано как ac773c8c568f2f1d6c0074fd136ace39_1200x900.jpg и записано в CSV.\n",
      "Фото 5 скачано как 9853deabcb232f94b7dbe057859b36cf_1200x900.jpg и записано в CSV.\n"
     ]
    },
    {
     "name": "stderr",
     "output_type": "stream",
     "text": [
      "Flat images parsing:  27%|██▋       | 134/501 [14:30<33:33,  5.49s/it]"
     ]
    },
    {
     "name": "stdout",
     "output_type": "stream",
     "text": [
      "Фото 6 скачано как 58fd26f57c0e3a8f57c6138f6d83086c_1200x900.jpg и записано в CSV.\n",
      "--------end of flat 2633 / 3000 ---------\n",
      "Фото 1 скачано как 3b04d939a6b0f5481a472404bdde0d19_1200x900.jpg и записано в CSV.\n",
      "Фото 2 скачано как 1eb101d74373b4aa03a751b2ea5ffac3_1200x900.jpg и записано в CSV.\n"
     ]
    },
    {
     "name": "stderr",
     "output_type": "stream",
     "text": [
      "Flat images parsing:  27%|██▋       | 135/501 [14:33<27:42,  4.54s/it]"
     ]
    },
    {
     "name": "stdout",
     "output_type": "stream",
     "text": [
      "Фото 3 скачано как 15006d720db86cc4818e05ce0b075d9a_1200x900.jpg и записано в CSV.\n",
      "--------end of flat 2634 / 3000 ---------\n",
      "Фото 1 скачано как 0a19fb00fed64387d2440e35322dbf59_1200x900.jpg и записано в CSV.\n",
      "Фото 2 скачано как 29a237711ffe63261eb37d425db004fe_1200x900.jpg и записано в CSV.\n",
      "Фото 3 скачано как 3c905e330aeb701d422031a635c2cd8a_1200x900.jpg и записано в CSV.\n",
      "Фото 4 скачано как b72a8e1546eda0494f4871ddb0127ec6_1200x900.jpg и записано в CSV.\n",
      "Фото 5 скачано как df9c0bc4d6500307529f155433be48cc_1200x900.jpg и записано в CSV.\n"
     ]
    },
    {
     "name": "stderr",
     "output_type": "stream",
     "text": [
      "Flat images parsing:  27%|██▋       | 136/501 [14:37<26:56,  4.43s/it]"
     ]
    },
    {
     "name": "stdout",
     "output_type": "stream",
     "text": [
      "Фото 6 скачано как z7rvWKIV-as и записано в CSV.\n",
      "--------end of flat 2635 / 3000 ---------\n",
      "Фото 1 скачано как cda32903876808639b1d0abde39c8b70_1200x900.jpg и записано в CSV.\n",
      "Фото 2 скачано как bf01b3ad90a7bf96d197ccfc67828598_1200x900.jpg и записано в CSV.\n",
      "Фото 3 скачано как a4f76746b4aab9b9ba333670ae6b2f99_1200x900.jpg и записано в CSV.\n"
     ]
    },
    {
     "name": "stderr",
     "output_type": "stream",
     "text": [
      "Flat images parsing:  27%|██▋       | 137/501 [14:39<23:26,  3.86s/it]"
     ]
    },
    {
     "name": "stdout",
     "output_type": "stream",
     "text": [
      "Фото 4 скачано как 8f1aeb586e53cc8692a9089208ed7b2f_1200x900.jpg и записано в CSV.\n",
      "--------end of flat 2636 / 3000 ---------\n",
      "Фото 1 скачано как 396e822202500e8e11b2e670f3e27ab5_1200x900.jpg и записано в CSV.\n",
      "Фото 2 скачано как 133d5e445b64e6a9e623d61e24a218e0_1200x900.jpg и записано в CSV.\n",
      "Фото 3 скачано как d5e95d6958d5519d24c55cf488a8fc5d_1200x900.jpg и записано в CSV.\n"
     ]
    },
    {
     "name": "stderr",
     "output_type": "stream",
     "text": [
      "Flat images parsing:  28%|██▊       | 138/501 [14:42<21:52,  3.62s/it]"
     ]
    },
    {
     "name": "stdout",
     "output_type": "stream",
     "text": [
      "Фото 4 скачано как f964c3a67d33c12a685a35c319082254_1200x900.jpg и записано в CSV.\n",
      "--------end of flat 2637 / 3000 ---------\n",
      "Фото 1 скачано как 2ab84f18233ad9755dc00cb35c17baa4_1200x900.jpg и записано в CSV.\n",
      "Фото 2 скачано как 821a6386953019799bac5bd08c16c58d_1200x900.jpg и записано в CSV.\n",
      "Фото 3 скачано как 7087cd486f7ad7dea2a1dcc964d8e13d_1200x900.jpg и записано в CSV.\n"
     ]
    },
    {
     "name": "stderr",
     "output_type": "stream",
     "text": [
      "Flat images parsing:  28%|██▊       | 139/501 [14:45<20:23,  3.38s/it]"
     ]
    },
    {
     "name": "stdout",
     "output_type": "stream",
     "text": [
      "Фото 4 скачано как ca16ed31acd8b3a194b22073e9e03af4_1200x900.jpg и записано в CSV.\n",
      "--------end of flat 2638 / 3000 ---------\n",
      "Фото 1 скачано как df32db277366010a948393da21607c32_1200x900.jpg и записано в CSV.\n",
      "Фото 2 скачано как c5318aa57df740e464c739f54dadf777_1200x900.jpg и записано в CSV.\n",
      "Фото 3 скачано как bb51ff47584fb10dafaa951f43099027_1200x900.jpg и записано в CSV.\n",
      "Фото 4 скачано как 0e85e8ec880acb4865ae8d724d2ce7c9_1200x900.jpg и записано в CSV.\n",
      "Фото 5 скачано как 54c6c4cf3f736a5b19f889a902da4def_1200x900.jpg и записано в CSV.\n",
      "Фото 6 скачано как c300e8a9fc93e256edcba474aba25047_1200x900.jpg и записано в CSV.\n",
      "Фото 7 скачано как 25726c8db4797ea4887ee4d96e240213_1200x900.jpg и записано в CSV.\n",
      "Фото 8 скачано как 8ca514e86ec35c1eab97687714934484_1200x900.jpg и записано в CSV.\n",
      "Фото 9 скачано как 8cb7e2d51d831b13e06929cb7478e485_1200x900.jpg и записано в CSV.\n",
      "Фото 10 скачано как 2432cfff61531c5575a6d869a1632259_1200x900.jpg и записано в CSV.\n",
      "Фото 11 скачано как 42051218d54051b80e6bbc46298003bd_1200x900.jpg и записано в CSV.\n",
      "Фото 12 скачано как 6df3c798314d3876466d47b0ac5bd403_1200x900.jpg и записано в CSV.\n",
      "Фото 13 скачано как bf879e942b09253ef1f28915897389c1_1200x900.jpg и записано в CSV.\n",
      "Фото 14 скачано как 3a1efec498f5b71485918433a9cecee3_1200x900.jpg и записано в CSV.\n",
      "Фото 15 скачано как 13b88f7cef8b160cd333edcbc7071f54_1200x900.jpg и записано в CSV.\n",
      "Фото 16 скачано как f3a08339766d6c119c8524e28cd91910_1200x900.jpg и записано в CSV.\n",
      "Фото 17 скачано как f0dd64488e8e8843f00fd96daf1a5650_1200x900.jpg и записано в CSV.\n"
     ]
    },
    {
     "name": "stderr",
     "output_type": "stream",
     "text": [
      "Flat images parsing:  28%|██▊       | 140/501 [14:56<33:49,  5.62s/it]"
     ]
    },
    {
     "name": "stdout",
     "output_type": "stream",
     "text": [
      "Фото 18 скачано как z7rvWKIV-as и записано в CSV.\n",
      "--------end of flat 2639 / 3000 ---------\n",
      "Фото 1 скачано как a03954e7b466f23ba6e814a3be6da554_1200x900.jpg и записано в CSV.\n"
     ]
    },
    {
     "name": "stderr",
     "output_type": "stream",
     "text": [
      "Flat images parsing:  28%|██▊       | 141/501 [14:58<27:02,  4.51s/it]"
     ]
    },
    {
     "name": "stdout",
     "output_type": "stream",
     "text": [
      "Фото 2 скачано как z7rvWKIV-as и записано в CSV.\n",
      "--------end of flat 2640 / 3000 ---------\n",
      "Фото 1 скачано как 77848dcf4a7c322c5e3b85cd2c83be80_1200x900.jpg и записано в CSV.\n"
     ]
    },
    {
     "name": "stderr",
     "output_type": "stream",
     "text": [
      "Flat images parsing:  28%|██▊       | 142/501 [15:00<22:31,  3.76s/it]"
     ]
    },
    {
     "name": "stdout",
     "output_type": "stream",
     "text": [
      "Фото 2 скачано как z7rvWKIV-as и записано в CSV.\n",
      "--------end of flat 2641 / 3000 ---------\n",
      "Фото 1 скачано как f7f6e26c84af8cb232a7dc682fd7d295_1200x900.jpg и записано в CSV.\n",
      "Фото 2 скачано как 249ebfa0ccc8d6e9a7faba58c60a1214_1200x900.jpg и записано в CSV.\n"
     ]
    },
    {
     "name": "stderr",
     "output_type": "stream",
     "text": [
      "Flat images parsing:  29%|██▊       | 143/501 [15:03<20:30,  3.44s/it]"
     ]
    },
    {
     "name": "stdout",
     "output_type": "stream",
     "text": [
      "Фото 3 скачано как z7rvWKIV-as и записано в CSV.\n",
      "--------end of flat 2642 / 3000 ---------\n",
      "Фото 1 скачано как c4fe1f0245ed7a57b4985ae30f5cdfc4_1200x900.jpg и записано в CSV.\n",
      "Фото 2 скачано как 1e6e822379c840d0aee41c3251a2d3e7_1200x900.jpg и записано в CSV.\n",
      "Фото 3 скачано как 8c348f3f6f2e0c8fb8b2dfee9e7c4ca2_1200x900.jpg и записано в CSV.\n",
      "Фото 4 скачано как b0d28c9f72de76efd5aeed0fa554eb2c_1200x900.jpg и записано в CSV.\n",
      "Фото 5 скачано как f9a02896a5c99341e55789570f37d2c9_1200x900.jpg и записано в CSV.\n",
      "Фото 6 скачано как bc107e252fa4aebce1d5131b2b157b90_1200x900.jpg и записано в CSV.\n",
      "Фото 7 скачано как afde0a4b87f69c846b13683bda9c4c47_1200x900.jpg и записано в CSV.\n",
      "Фото 8 скачано как 23add0cf1eecb91ab3c04d69786fb76d_1200x900.jpg и записано в CSV.\n",
      "Фото 9 скачано как be860fc815b2c0dfb1f7e1ad3b911ca7_1200x900.jpg и записано в CSV.\n",
      "Фото 10 скачано как ad3b05a55e4ddb73aa44851fb59994bc_1200x900.jpg и записано в CSV.\n",
      "Фото 11 скачано как 0a0d213351ff8e2538fc7ee3028fba66_1200x900.jpg и записано в CSV.\n",
      "Фото 12 скачано как 9874c96fed294c230d5f5391d19aa38f_1200x900.jpg и записано в CSV.\n",
      "Фото 13 скачано как 3f2704fe8e5f1f048a06a539745c277a_1200x900.jpg и записано в CSV.\n",
      "Фото 14 скачано как 46adb3efa9416974fb1cf09276f99b5e_1200x900.jpg и записано в CSV.\n",
      "Фото 15 скачано как 712a905e7d01a14ea14e44c886c28468_1200x900.jpg и записано в CSV.\n",
      "Фото 16 скачано как c73ccc983b3a46ab21718f80b4aee896_1200x900.jpg и записано в CSV.\n",
      "Фото 17 скачано как a0aace1ba3dcb0ad1821e4c236d34de8_1200x900.jpg и записано в CSV.\n",
      "Фото 18 скачано как fe805fcdaf5c09075ab62b3a524c3829_1200x900.jpg и записано в CSV.\n",
      "Фото 19 скачано как 31f7d9f72e6e858969b7c9f1d4c16fc3_1200x900.jpg и записано в CSV.\n",
      "Фото 20 скачано как 431215c8faf9a3eb48639cf5a4f2a56b_1200x900.jpg и записано в CSV.\n",
      "Фото 21 скачано как d2594130d7161c45d6e0106e57cc5396_1200x900.jpg и записано в CSV.\n",
      "Фото 22 скачано как 73bbcf8d89beaaa3a1eef3b59f4923af_1200x900.jpg и записано в CSV.\n",
      "Фото 23 скачано как 246af75d703e6d97d193482096363d34_1200x900.jpg и записано в CSV.\n"
     ]
    },
    {
     "name": "stderr",
     "output_type": "stream",
     "text": [
      "Flat images parsing:  29%|██▊       | 144/501 [15:16<38:51,  6.53s/it]"
     ]
    },
    {
     "name": "stdout",
     "output_type": "stream",
     "text": [
      "Фото 24 скачано как z7rvWKIV-as и записано в CSV.\n",
      "--------end of flat 2643 / 3000 ---------\n",
      "Фото 1 скачано как 4a6e70376958978ab9060ac8b49c0963_1200x900.jpg и записано в CSV.\n",
      "Фото 2 скачано как 3fd883e6d8d1e5a891630511c92b7694_1200x900.jpg и записано в CSV.\n",
      "Фото 3 скачано как 85f8511699c55a79b508cf47d5e0e88e_1200x900.jpg и записано в CSV.\n"
     ]
    },
    {
     "name": "stderr",
     "output_type": "stream",
     "text": [
      "Flat images parsing:  29%|██▉       | 145/501 [15:20<33:00,  5.56s/it]"
     ]
    },
    {
     "name": "stdout",
     "output_type": "stream",
     "text": [
      "Фото 4 скачано как b2b5f84e2b5e09dd05af33af01cb7c7f_1200x900.jpg и записано в CSV.\n",
      "--------end of flat 2644 / 3000 ---------\n",
      "Фото 1 скачано как f1d975987ff8676801fa408866144b17_1200x900.jpg и записано в CSV.\n",
      "Фото 2 скачано как 9a544a05aac79db525faea7788f71170_1200x900.jpg и записано в CSV.\n",
      "Фото 3 скачано как 728c6ec48aecc9fccaa822f98b950138_1200x900.jpg и записано в CSV.\n",
      "Фото 4 скачано как 1ee9befe79516e94dddf2430875ef43f_1200x900.jpg и записано в CSV.\n",
      "Фото 5 скачано как 160bb10717a23fd02706d1dea49b314d_1200x900.jpg и записано в CSV.\n",
      "Фото 6 скачано как fb15339d6a7c69e1cf6a4a0b24603db2_1200x900.jpg и записано в CSV.\n",
      "Фото 7 скачано как 26226cbe7b8c06ca8eef224a9a4beaac_1200x900.jpg и записано в CSV.\n"
     ]
    },
    {
     "name": "stderr",
     "output_type": "stream",
     "text": [
      "Flat images parsing:  29%|██▉       | 146/501 [15:24<31:17,  5.29s/it]"
     ]
    },
    {
     "name": "stdout",
     "output_type": "stream",
     "text": [
      "Фото 8 скачано как 37jCNp и записано в CSV.\n",
      "--------end of flat 2645 / 3000 ---------\n",
      "Фото 1 скачано как 56ddc60175cef0ef4fa03ebc3e7e5584_1200x900.jpg и записано в CSV.\n",
      "Фото 2 скачано как 5c8f95ab238c719a26ac1d223e273594_1200x900.jpg и записано в CSV.\n",
      "Фото 3 скачано как 53ddb419f3584a77e6be313d7ec9e6ae_1200x900.jpg и записано в CSV.\n",
      "Фото 4 скачано как d61048e20b944ab2aba5ff8b89af8f5e_1200x900.jpg и записано в CSV.\n",
      "Фото 5 скачано как c46e0fcc904d2f79be96cff1926e7148_1200x900.jpg и записано в CSV.\n",
      "Фото 6 скачано как 1d56d6409fe32a3f9a3320361ba8de59_1200x900.jpg и записано в CSV.\n",
      "Фото 7 скачано как 950cf0b639169fde84c986d2541eef11_1200x900.jpg и записано в CSV.\n",
      "Фото 8 скачано как 2724d9cd3958a95b12d667ce2c500172_1200x900.jpg и записано в CSV.\n",
      "Фото 9 скачано как 146c7dfff51dc3df91a3ff4628d07282_1200x900.jpg и записано в CSV.\n",
      "Фото 10 скачано как c9fba3c0e3fd23c1fad3e08c44927ad4_1200x900.jpg и записано в CSV.\n",
      "Фото 11 скачано как 90b660fa3d8cb1d1d4a5ef8590fa5e0a_1200x900.jpg и записано в CSV.\n"
     ]
    },
    {
     "name": "stderr",
     "output_type": "stream",
     "text": [
      "Flat images parsing:  29%|██▉       | 147/501 [15:31<32:40,  5.54s/it]"
     ]
    },
    {
     "name": "stdout",
     "output_type": "stream",
     "text": [
      "Фото 12 скачано как 3AQXYx и записано в CSV.\n",
      "--------end of flat 2646 / 3000 ---------\n"
     ]
    },
    {
     "name": "stderr",
     "output_type": "stream",
     "text": [
      "Flat images parsing:  30%|██▉       | 148/501 [15:31<24:04,  4.09s/it]"
     ]
    },
    {
     "name": "stdout",
     "output_type": "stream",
     "text": [
      "Фото 1 скачано как 93eb52c9e6185aa2a210bc5f6e6209eb_1200x900.jpg и записано в CSV.\n",
      "Фото 2 скачано как b5dd22a3f4dfe123f41c13afd114dacf_1200x900.jpg и записано в CSV.\n",
      "Фото 3 скачано как 687f81300487f9460ee531154ed4870d_1200x900.jpg и записано в CSV.\n",
      "Фото 4 скачано как bd9c02f3170ebc3dcde8625dae076256_1200x900.jpg и записано в CSV.\n",
      "Фото 5 скачано как acb7943b806596a5b27babcb27b14168_1200x900.jpg и записано в CSV.\n",
      "Фото 6 скачано как af8b8ed0ba2aa31b719ca68ac3b772eb_1200x900.jpg и записано в CSV.\n"
     ]
    },
    {
     "name": "stderr",
     "output_type": "stream",
     "text": [
      "Flat images parsing:  30%|██▉       | 149/501 [15:36<25:34,  4.36s/it]"
     ]
    },
    {
     "name": "stdout",
     "output_type": "stream",
     "text": [
      "Фото 7 скачано как z7rvWKIV-as и записано в CSV.\n",
      "--------end of flat 2648 / 3000 ---------\n",
      "Фото 1 скачано как f65ecf02a9b612b943d3d772206701bf_1200x900.jpg и записано в CSV.\n",
      "Фото 2 скачано как 8160afc1fc214158604a3f3e8ba9f0ab_1200x900.jpg и записано в CSV.\n",
      "Фото 3 скачано как 9e0d267ddef1995c229ea3605da50a56_1200x900.jpg и записано в CSV.\n",
      "Фото 4 скачано как cee61a4649a87ffe9ea1c9a5537bcfd1_1200x900.jpg и записано в CSV.\n",
      "Фото 5 скачано как 89e2238fd85e0c958469bc106288a8d5_1200x900.jpg и записано в CSV.\n",
      "Фото 6 скачано как 53bfb56d0b484e278a7cb139f892d5fa_1200x900.jpg и записано в CSV.\n"
     ]
    },
    {
     "name": "stderr",
     "output_type": "stream",
     "text": [
      "Flat images parsing:  30%|██▉       | 150/501 [15:42<27:02,  4.62s/it]"
     ]
    },
    {
     "name": "stdout",
     "output_type": "stream",
     "text": [
      "Фото 7 скачано как 9c399e77a34780dc9105b1ab3d1fcd50_1200x900.jpg и записано в CSV.\n",
      "--------end of flat 2649 / 3000 ---------\n",
      "Фото 1 скачано как 2bb26739bd6321791c871473fb535151_1200x900.jpg и записано в CSV.\n",
      "Фото 2 скачано как 310dc3bed88fa6abe893f7708c339b1e_1200x900.jpg и записано в CSV.\n",
      "Фото 3 скачано как 844a8f422bde6e5bf83a79f14dbf349c_1200x900.jpg и записано в CSV.\n",
      "Фото 4 скачано как 4056bde8d6084c10f49a0616520595d4_1200x900.jpg и записано в CSV.\n",
      "Фото 5 скачано как 6bdcc62709e8863990265480219818ed_1200x900.jpg и записано в CSV.\n",
      "Фото 6 скачано как 27b7509bd75d23d36532db846fb52508_1200x900.jpg и записано в CSV.\n",
      "Фото 7 скачано как be9e0a3002c52c72dc65dbce6580acfc_1200x900.jpg и записано в CSV.\n",
      "Фото 8 скачано как adae0c229ffe20f9dbc60260d08d8806_1200x900.jpg и записано в CSV.\n",
      "Фото 9 скачано как 814c7803e266567cff25fbc193f81ce2_1200x900.jpg и записано в CSV.\n",
      "Фото 10 скачано как e4bb1dd7dbfebdcfb6be4c1df8e4dbb6_1200x900.jpg и записано в CSV.\n",
      "Фото 11 скачано как e36fb24dd4c82466dcdbdb62ba6de901_1200x900.jpg и записано в CSV.\n",
      "Фото 12 скачано как 266807e7b07c76f42671ab59e641a386_1200x900.jpg и записано в CSV.\n",
      "Фото 13 скачано как 306e1756fcde58c5d8c5553721461688_1200x900.jpg и записано в CSV.\n",
      "Фото 14 скачано как 7a7af5d776fde97bb015041b77db4bf5_1200x900.jpg и записано в CSV.\n",
      "Фото 15 скачано как 927c218e14632b89331e39c2a989566c_1200x900.jpg и записано в CSV.\n",
      "Фото 16 скачано как 019541f3218f1ac6370bbe8cd36ff063_1200x900.jpg и записано в CSV.\n"
     ]
    },
    {
     "name": "stderr",
     "output_type": "stream",
     "text": [
      "Flat images parsing:  30%|███       | 151/501 [15:51<36:01,  6.18s/it]"
     ]
    },
    {
     "name": "stdout",
     "output_type": "stream",
     "text": [
      "Фото 17 скачано как 3AQXYx и записано в CSV.\n",
      "--------end of flat 2650 / 3000 ---------\n",
      "Фото 1 скачано как 1bac4f88337008a1f88f1d0ea2d3dc61_1200x900.jpg и записано в CSV.\n",
      "Фото 2 скачано как 4fe675c955cfccf98d4187cf2c3fe4bd_1200x900.jpg и записано в CSV.\n",
      "Фото 3 скачано как f3c31ca84025bf8dda68bbc3673f0270_1200x900.jpg и записано в CSV.\n",
      "Фото 4 скачано как a59a9c1cce1f18ec7ca87759c7838e68_1200x900.jpg и записано в CSV.\n",
      "Фото 5 скачано как a86ce422acba59920e23d6c117d83156_1200x900.jpg и записано в CSV.\n",
      "Фото 6 скачано как 15122f2bc36ad81a964d298cbb049bb8_1200x900.jpg и записано в CSV.\n",
      "Фото 7 скачано как 5a017f7b1d87c2cdde9a37eaf137ac43_1200x900.jpg и записано в CSV.\n",
      "Фото 8 скачано как 0a1c0f5fc64de6a279fc7d9e9d355188_1200x900.jpg и записано в CSV.\n",
      "Фото 9 скачано как 1bd82930ffc59d346d29d15ae17bd268_1200x900.jpg и записано в CSV.\n",
      "Фото 10 скачано как 23627064ea40fb6861da39a6ec9e8859_1200x900.jpg и записано в CSV.\n",
      "Фото 11 скачано как 54aae291960ac9fe4a70b49013698ae7_1200x900.jpg и записано в CSV.\n",
      "Фото 12 скачано как 804f1b4ec6bbc8dbd5cbcdc149e5fe2e_1200x900.jpg и записано в CSV.\n",
      "Фото 13 скачано как 3bd3030af2b3c256922e669909989a68_1200x900.jpg и записано в CSV.\n",
      "Фото 14 скачано как ce1289823906ded8a89d6fc2266a8b09_1200x900.jpg и записано в CSV.\n"
     ]
    },
    {
     "name": "stderr",
     "output_type": "stream",
     "text": [
      "Flat images parsing:  30%|███       | 152/501 [16:00<40:34,  6.98s/it]"
     ]
    },
    {
     "name": "stdout",
     "output_type": "stream",
     "text": [
      "Фото 15 скачано как 37jCNp и записано в CSV.\n",
      "--------end of flat 2651 / 3000 ---------\n",
      "Фото 1 скачано как 75733c7dc57b5f7ceb6e12887da1b3f6_1200x900.jpg и записано в CSV.\n",
      "Фото 2 скачано как 4da7259e6530b9e9576ee865452e974e_1200x900.jpg и записано в CSV.\n",
      "Фото 3 скачано как 9b48de63cd55cf7f88b3c91c97c59385_1200x900.jpg и записано в CSV.\n",
      "Фото 4 скачано как 9a77eaf9fa19530b6da64b854b4f9242_1200x900.jpg и записано в CSV.\n",
      "Фото 5 скачано как 94b517bfda7ff78b8aba2d9ddf070be9_1200x900.jpg и записано в CSV.\n",
      "Фото 6 скачано как d823f800e5e90171d896f4a271487d2f_1200x900.jpg и записано в CSV.\n",
      "Фото 7 скачано как 6932cee9ab87486facda9023444ff85a_1200x900.jpg и записано в CSV.\n",
      "Фото 8 скачано как df35aa8eac6843f70a01ee31c1b1e580_1200x900.jpg и записано в CSV.\n",
      "Фото 9 скачано как 7403d9f2edda679ce11ee2de11ae4818_1200x900.jpg и записано в CSV.\n",
      "Фото 10 скачано как d53d0f4c9275bc42c703b67355ca832b_1200x900.jpg и записано в CSV.\n",
      "Фото 11 скачано как 5286118945432246bc2bd0568956a2ce_1200x900.jpg и записано в CSV.\n",
      "Фото 12 скачано как 5e4e7c1c7f4c7b382d3dcd0b0249497d_1200x900.jpg и записано в CSV.\n",
      "Фото 13 скачано как 39a8bf66eb8a19f27f409a327890f668_1200x900.jpg и записано в CSV.\n",
      "Фото 14 скачано как c929ef56162171c2b314eef96c7a879f_1200x900.jpg и записано в CSV.\n"
     ]
    },
    {
     "name": "stderr",
     "output_type": "stream",
     "text": [
      "Flat images parsing:  31%|███       | 153/501 [16:09<44:21,  7.65s/it]"
     ]
    },
    {
     "name": "stdout",
     "output_type": "stream",
     "text": [
      "Фото 15 скачано как 3AQXYx и записано в CSV.\n",
      "--------end of flat 2652 / 3000 ---------\n",
      "Фото 1 скачано как e0280f1ee04cf6954b501a2a88ff58d6_1200x900.jpg и записано в CSV.\n",
      "Фото 2 скачано как d2b8079b5d9da6ba12cfd9470489f868_1200x900.jpg и записано в CSV.\n",
      "Фото 3 скачано как 68b435ed7517b1a4f93e0cd52afdf308_1200x900.jpg и записано в CSV.\n",
      "Фото 4 скачано как 1ea6a015ec0cb6dfedd8e3a4fddb52d4_1200x900.jpg и записано в CSV.\n",
      "Фото 5 скачано как 4b208b03d20a5a3d9e907f34c9895821_1200x900.jpg и записано в CSV.\n"
     ]
    },
    {
     "name": "stderr",
     "output_type": "stream",
     "text": [
      "Flat images parsing:  31%|███       | 154/501 [16:14<39:02,  6.75s/it]"
     ]
    },
    {
     "name": "stdout",
     "output_type": "stream",
     "text": [
      "Фото 6 скачано как z7rvWKIV-as и записано в CSV.\n",
      "--------end of flat 2653 / 3000 ---------\n",
      "Фото 1 скачано как 4f783f60f48f73d0f466b6d4ba817844_1200x900.jpg и записано в CSV.\n",
      "Фото 2 скачано как 47f39d68520ff27b0efe3f41a83d311b_1200x900.jpg и записано в CSV.\n",
      "Фото 3 скачано как ff8c848ac71a7f3a4de9fa44f1b8bca0_1200x900.jpg и записано в CSV.\n",
      "Фото 4 скачано как e20cc172ff984f72f0e9eaff918a2f4a_1200x900.jpg и записано в CSV.\n",
      "Фото 5 скачано как dcbac3183379dc8a79c51f934bd8c96a_1200x900.jpg и записано в CSV.\n"
     ]
    },
    {
     "name": "stderr",
     "output_type": "stream",
     "text": [
      "Flat images parsing:  31%|███       | 155/501 [16:18<34:54,  6.05s/it]"
     ]
    },
    {
     "name": "stdout",
     "output_type": "stream",
     "text": [
      "Фото 6 скачано как 37jCNp и записано в CSV.\n",
      "--------end of flat 2654 / 3000 ---------\n",
      "Фото 1 скачано как 54724711bbffc27cc2c8ee25841a306c_1200x900.jpg и записано в CSV.\n",
      "Фото 2 скачано как 6891d5ac98961fab9f285420572a1206_1200x900.jpg и записано в CSV.\n",
      "Фото 3 скачано как 60f0bae94fcec399d1853ac2dbaa96b4_1200x900.jpg и записано в CSV.\n",
      "Фото 4 скачано как ff75ada450273f76dcb4c3396e234f27_1200x900.jpg и записано в CSV.\n",
      "Фото 5 скачано как 3b8ce7f6af7c6f9e6dbe97fa724d6ee5_1200x900.jpg и записано в CSV.\n",
      "Фото 6 скачано как 6a150038c1637648ebc2b5d8e3a4fc57_1200x900.jpg и записано в CSV.\n",
      "Фото 7 скачано как c714d98c3164dba7a5162e299c0f671e_1200x900.jpg и записано в CSV.\n",
      "Фото 8 скачано как 57005eef1da918aa123a78b2950655c0_1200x900.jpg и записано в CSV.\n",
      "Фото 9 скачано как b9e041f4e435b84d7913eecc0aa0d9aa_1200x900.jpg и записано в CSV.\n",
      "Фото 10 скачано как 1d23a8e4129cc249d49c4708f7dac279_1200x900.jpg и записано в CSV.\n",
      "Фото 11 скачано как 6825a8eefd37c8e11707b196b4f34f53_1200x900.jpg и записано в CSV.\n",
      "Фото 12 скачано как ff3020e03d844da8bc9b3d0aa6f8fb3e_1200x900.jpg и записано в CSV.\n",
      "Фото 13 скачано как 02268d1fa3ccdc1451cb0095f72892fd_1200x900.jpg и записано в CSV.\n",
      "Фото 14 скачано как 9b92e66393e7f8bed3311d32af830ff0_1200x900.jpg и записано в CSV.\n"
     ]
    },
    {
     "name": "stderr",
     "output_type": "stream",
     "text": [
      "Flat images parsing:  31%|███       | 156/501 [16:27<38:39,  6.72s/it]"
     ]
    },
    {
     "name": "stdout",
     "output_type": "stream",
     "text": [
      "Фото 15 скачано как 434ab44a7370cd98f0867f8e5367bc3d_1200x900.jpg и записано в CSV.\n",
      "--------end of flat 2655 / 3000 ---------\n",
      "Фото 1 скачано как f870bc7bf256ad4f4f827cb283fab59c_1200x900.jpg и записано в CSV.\n",
      "Фото 2 скачано как 69df0974400867cd0b0aeac79cc15a51_1200x900.jpg и записано в CSV.\n",
      "Фото 3 скачано как 98c493295a6b8116d0c493c0a9d7134d_1200x900.jpg и записано в CSV.\n",
      "Фото 4 скачано как 193abc1899669a408fa07efcfe690907_1200x900.jpg и записано в CSV.\n"
     ]
    },
    {
     "name": "stderr",
     "output_type": "stream",
     "text": [
      "Flat images parsing:  31%|███▏      | 157/501 [16:31<33:51,  5.91s/it]"
     ]
    },
    {
     "name": "stdout",
     "output_type": "stream",
     "text": [
      "Фото 5 скачано как z7rvWKIV-as и записано в CSV.\n",
      "--------end of flat 2656 / 3000 ---------\n",
      "Фото 1 скачано как 560ac4f3710b38a94e335f698a9de243_1200x900.jpg и записано в CSV.\n",
      "Фото 2 скачано как 7943c268658e18655f09df0df10d89bb_1200x900.jpg и записано в CSV.\n",
      "Фото 3 скачано как c44e111d8cbd9f1d849e6f14ddd72f99_1200x900.jpg и записано в CSV.\n"
     ]
    },
    {
     "name": "stderr",
     "output_type": "stream",
     "text": [
      "Flat images parsing:  32%|███▏      | 158/501 [16:33<27:57,  4.89s/it]"
     ]
    },
    {
     "name": "stdout",
     "output_type": "stream",
     "text": [
      "Фото 4 скачано как 3AQXYx и записано в CSV.\n",
      "--------end of flat 2657 / 3000 ---------\n",
      "Фото 1 скачано как 80f5d768bed87e3f8bf48800561c16b6_1200x900.jpg и записано в CSV.\n",
      "Фото 2 скачано как 351ec73eb7ddaae009ca80c62cd0d812_1200x900.jpg и записано в CSV.\n",
      "Фото 3 скачано как de5178e609ca9f5225ab9afb0abc9b7e_1200x900.jpg и записано в CSV.\n",
      "Фото 4 скачано как 358f53ad166b5930ffa8dc4d12d972f0_1200x900.jpg и записано в CSV.\n",
      "Фото 5 скачано как ed5199be8ca9dcad5f4a0b6c52e751b7_1200x900.jpg и записано в CSV.\n",
      "Фото 6 скачано как 86b66934346153ca519e80ff2b4e7fdc_1200x900.jpg и записано в CSV.\n",
      "Фото 7 скачано как 1773e1314c4770eb514c9b1650a17bcc_1200x900.jpg и записано в CSV.\n",
      "Фото 8 скачано как 4c0390ed83feaa99d1904a14f04d6652_1200x900.jpg и записано в CSV.\n",
      "Фото 9 скачано как d9f1d310921427de519db7c21d039811_1200x900.jpg и записано в CSV.\n",
      "Фото 10 скачано как fc2a6782e557a203cfd5a9ba856b4a77_1200x900.jpg и записано в CSV.\n"
     ]
    },
    {
     "name": "stderr",
     "output_type": "stream",
     "text": [
      "Flat images parsing:  32%|███▏      | 159/501 [16:41<32:26,  5.69s/it]"
     ]
    },
    {
     "name": "stdout",
     "output_type": "stream",
     "text": [
      "Фото 11 скачано как z7rvWKIV-as и записано в CSV.\n",
      "--------end of flat 2658 / 3000 ---------\n",
      "Фото 1 скачано как a0068536918cdd908bb775d351e7021e_1200x900.jpg и записано в CSV.\n",
      "Фото 2 скачано как 0ae965a40f9ec64b8f7564f7e2ab83f3_1200x900.jpg и записано в CSV.\n",
      "Фото 3 скачано как aecb152441eed26bd508b94548ab0357_1200x900.jpg и записано в CSV.\n",
      "Фото 4 скачано как 675b16f10fff16e643680f2ca500d2e1_1200x900.jpg и записано в CSV.\n",
      "Фото 5 скачано как 28bf607577084e01b3eadcffd41ca24f_1200x900.jpg и записано в CSV.\n",
      "Фото 6 скачано как 61a96bb898e2a09e3e1f07d93ea01a92_1200x900.jpg и записано в CSV.\n",
      "Фото 7 скачано как 3ee47eb9463aac187bce3fa521ddb870_1200x900.jpg и записано в CSV.\n",
      "Фото 8 скачано как 928c28f98c1ce662795843bc6ececcc8_1200x900.jpg и записано в CSV.\n",
      "Фото 9 скачано как 10213bb0abafbf0e18f76f2a49154d03_1200x900.jpg и записано в CSV.\n",
      "Фото 10 скачано как b2a3a6dceaddde5f7322042fdb8a2295_1200x900.jpg и записано в CSV.\n",
      "Фото 11 скачано как ed9dff0cb684be796f997ac78f238025_1200x900.jpg и записано в CSV.\n",
      "Фото 12 скачано как e3a115ab0070c10f7a04e4c385328abd_1200x900.jpg и записано в CSV.\n",
      "Фото 13 скачано как e7bb7bd46a277a1bd2c242df32e8c538_1200x900.jpg и записано в CSV.\n",
      "Фото 14 скачано как 05b4ce8211030fa3ca131e47e62ef356_1200x900.jpg и записано в CSV.\n",
      "Фото 15 скачано как 50d6275c79cb4da966c4262e87022080_1200x900.jpg и записано в CSV.\n",
      "Фото 16 скачано как 9f38d977d6048f855e6203bf7b635ab9_1200x900.jpg и записано в CSV.\n",
      "Фото 17 скачано как bac6527405d5efe44dde771a2bbb544a_1200x900.jpg и записано в CSV.\n",
      "Фото 18 скачано как a13940bc87ec725c9a2cfab4ed5d978d_1200x900.jpg и записано в CSV.\n",
      "Фото 19 скачано как e83a266d43c85b4b78730c9b8dc0953b_1200x900.jpg и записано в CSV.\n",
      "Фото 20 скачано как 6d914e13f2e9d5a01e891204ff5509dd_1200x900.jpg и записано в CSV.\n",
      "Фото 21 скачано как 53cefd544f50fdda2cd2ad221143db03_1200x900.jpg и записано в CSV.\n",
      "Фото 22 скачано как 66bbd639a55fb447dbd7b45f38157f50_1200x900.jpg и записано в CSV.\n"
     ]
    },
    {
     "name": "stderr",
     "output_type": "stream",
     "text": [
      "Flat images parsing:  32%|███▏      | 160/501 [16:54<45:32,  8.01s/it]"
     ]
    },
    {
     "name": "stdout",
     "output_type": "stream",
     "text": [
      "Фото 23 скачано как z7rvWKIV-as и записано в CSV.\n",
      "--------end of flat 2659 / 3000 ---------\n",
      "Фото 1 скачано как cd26bddb299d5edd612e64138f8f9971_1200x900.jpg и записано в CSV.\n",
      "Фото 2 скачано как 7d044ad03b3b168efdbf076ff73542e4_1200x900.jpg и записано в CSV.\n",
      "Фото 3 скачано как 755fe3f4d58f29423ca7dc44ca6e59b5_1200x900.jpg и записано в CSV.\n",
      "Фото 4 скачано как 242408b9c62e3649d59b26d79f047c5b_1200x900.jpg и записано в CSV.\n",
      "Фото 5 скачано как 1cfff6fb9d18da8d5868e840fcba405e_1200x900.jpg и записано в CSV.\n",
      "Фото 6 скачано как 1b53ac723558eeb87e9a3c5ff87062cb_1200x900.jpg и записано в CSV.\n",
      "Фото 7 скачано как 0debdafc1776e1304fee984d093a5362_1200x900.jpg и записано в CSV.\n",
      "Фото 8 скачано как 027a0878fa3e27cea01b1daae48144c8_1200x900.jpg и записано в CSV.\n",
      "Фото 9 скачано как e1ef8b619c450e2a69b2c8c7cf1978fa_1200x900.jpg и записано в CSV.\n",
      "Фото 10 скачано как a07e6df31efa562719f417e519c1afe5_1200x900.jpg и записано в CSV.\n",
      "Фото 11 скачано как d88f68bf414363436eda66f648832131_1200x900.jpg и записано в CSV.\n",
      "Фото 12 скачано как bccd01329a1d6a716198af3ad8f5e6f4_1200x900.jpg и записано в CSV.\n",
      "Фото 13 скачано как 769b189ab5cb84eb79c53ae329255c2e_1200x900.jpg и записано в CSV.\n",
      "Фото 14 скачано как 233264eb74960d3c11a5b949e1be2148_1200x900.jpg и записано в CSV.\n",
      "Фото 15 скачано как ad49d039b33b00cf69315343209a5317_1200x900.jpg и записано в CSV.\n",
      "Фото 16 скачано как a0d54792d8310f6e4a7b31934f13f542_1200x900.jpg и записано в CSV.\n"
     ]
    },
    {
     "name": "stderr",
     "output_type": "stream",
     "text": [
      "Flat images parsing:  32%|███▏      | 161/501 [17:05<50:30,  8.91s/it]"
     ]
    },
    {
     "name": "stdout",
     "output_type": "stream",
     "text": [
      "Фото 17 скачано как z7rvWKIV-as и записано в CSV.\n",
      "--------end of flat 2660 / 3000 ---------\n",
      "Фото 1 скачано как 654ccba54b326ae81ec42d33e4a18bce_1200x900.jpg и записано в CSV.\n",
      "Фото 2 скачано как e641c76c0af55fc5535cb69e8459c247_1200x900.jpg и записано в CSV.\n"
     ]
    },
    {
     "name": "stderr",
     "output_type": "stream",
     "text": [
      "Flat images parsing:  32%|███▏      | 162/501 [17:08<40:28,  7.16s/it]"
     ]
    },
    {
     "name": "stdout",
     "output_type": "stream",
     "text": [
      "Фото 3 скачано как z7rvWKIV-as и записано в CSV.\n",
      "--------end of flat 2661 / 3000 ---------\n",
      "Фото 1 скачано как fcd9acaaa304058f2a43bec4aed4d835_1200x900.jpg и записано в CSV.\n",
      "Фото 2 скачано как e50be09a24f68abc5ed44c6bbae35741_1200x900.jpg и записано в CSV.\n",
      "Фото 3 скачано как 167543e6d214bf6e657c899f78fa071e_1200x900.jpg и записано в CSV.\n",
      "Фото 4 скачано как d1ebce1ecf0b1db228ba1884b4741a24_1200x900.jpg и записано в CSV.\n",
      "Фото 5 скачано как 1cf82fa59e0bf4b3f3ce2f6a7c042e9a_1200x900.jpg и записано в CSV.\n",
      "Фото 6 скачано как 193dd953e66eb24da343d6e01a5e157e_1200x900.jpg и записано в CSV.\n",
      "Фото 7 скачано как 8479549cf2dcfcfa8a2ce2e78b7665c4_1200x900.jpg и записано в CSV.\n",
      "Фото 8 скачано как 19e456d798ec8ad659aa3b5e700bc11e_1200x900.jpg и записано в CSV.\n",
      "Фото 9 скачано как afbaad9b8228cdf96a7dc0ad05b26695_1200x900.jpg и записано в CSV.\n",
      "Фото 10 скачано как bcac861a086e51b3f388a989a740c0ea_1200x900.jpg и записано в CSV.\n",
      "Фото 11 скачано как 4a6a3c9cf0f8a02611d68c41e3541a9a_1200x900.jpg и записано в CSV.\n",
      "Фото 12 скачано как b05b6a7e2d2c7eaafe9abe8b585cf4bd_1200x900.jpg и записано в CSV.\n",
      "Фото 13 скачано как b10360531e55c1b0125ba91b2b9612e7_1200x900.jpg и записано в CSV.\n",
      "Фото 14 скачано как e1126c8653138231db23f20432058dbe_1200x900.jpg и записано в CSV.\n",
      "Фото 15 скачано как b0118aa9d71eb54851ed58bbe0efa812_1200x900.jpg и записано в CSV.\n",
      "Фото 16 скачано как f416fd9d66765d3ee63a5f50cbcf1498_1200x900.jpg и записано в CSV.\n",
      "Фото 17 скачано как 50784a6dca155d2d0bee85fbb885f89c_1200x900.jpg и записано в CSV.\n",
      "Фото 18 скачано как 47c24c2632a6bc34a31ea8f28609e144_1200x900.jpg и записано в CSV.\n",
      "Фото 19 скачано как 73a262a6f39ab12ccca2948450272f8e_1200x900.jpg и записано в CSV.\n",
      "Фото 20 скачано как 3102137085cf08f466c5921011ba9861_1200x900.jpg и записано в CSV.\n",
      "Фото 21 скачано как ae3ec51032798ea95bf5ed52b0b79a7f_1200x900.jpg и записано в CSV.\n",
      "Фото 22 скачано как c9082fa26918ae0664433645a9deac2b_1200x900.jpg и записано в CSV.\n",
      "Фото 23 скачано как 8a9e1e462555ecc87f42af61309d646d_1200x900.jpg и записано в CSV.\n",
      "Фото 24 скачано как f06e3a9b835d5a343ecb7706a38d3b33_1200x900.jpg и записано в CSV.\n"
     ]
    },
    {
     "name": "stderr",
     "output_type": "stream",
     "text": [
      "Flat images parsing:  33%|███▎      | 163/501 [17:20<48:33,  8.62s/it]"
     ]
    },
    {
     "name": "stdout",
     "output_type": "stream",
     "text": [
      "Фото 25 скачано как 3AQXYx и записано в CSV.\n",
      "--------end of flat 2662 / 3000 ---------\n",
      "Фото 1 скачано как f0383ae4fcef8f20cc7a4a3946aa9069_1200x900.jpg и записано в CSV.\n",
      "Фото 2 скачано как 87ddae6e8d00aa465a8913c32e337c59_1200x900.jpg и записано в CSV.\n",
      "Фото 3 скачано как a6bab8c4b2de21c7bed93f7f2292c65a_1200x900.jpg и записано в CSV.\n",
      "Фото 4 скачано как 83bb64921fed49afb4e22dd1b826511b_1200x900.jpg и записано в CSV.\n",
      "Фото 5 скачано как 26a125e5334b616815661c70b24de0e2_1200x900.jpg и записано в CSV.\n",
      "Фото 6 скачано как d8867930d7c8eb54bd93cb5f73b92313_1200x900.jpg и записано в CSV.\n",
      "Фото 7 скачано как 5238c90c0b34f496fe4edbaa32023d97_1200x900.jpg и записано в CSV.\n",
      "Фото 8 скачано как 26358caf167d75c56ec1ccd5dc054219_1200x900.jpg и записано в CSV.\n",
      "Фото 9 скачано как c8350edf623fe0d05e2535d16f40144b_1200x900.jpg и записано в CSV.\n",
      "Фото 10 скачано как 3ce563351ef47ca1ec8d85f453752370_1200x900.jpg и записано в CSV.\n",
      "Фото 11 скачано как 83a6c97c78f5604032ea7a988e4f91b8_1200x900.jpg и записано в CSV.\n",
      "Фото 12 скачано как b382b27af3f9dfacdf0739611719cd37_1200x900.jpg и записано в CSV.\n",
      "Фото 13 скачано как c1bf985af4de2ac91b096694a3c77ce8_1200x900.jpg и записано в CSV.\n",
      "Фото 14 скачано как b01a8b0ccfb64f3d199784e46fc15903_1200x900.jpg и записано в CSV.\n",
      "Фото 15 скачано как 01e10493599bc54d3cd5e819907a6283_1200x900.jpg и записано в CSV.\n",
      "Фото 16 скачано как 84d767ff997a7f22bc8e9d14455dde99_1200x900.jpg и записано в CSV.\n",
      "Фото 17 скачано как 24a31256a3446084612dbdde3184a32e_1200x900.jpg и записано в CSV.\n",
      "Фото 18 скачано как 97ee95dae4749433125cfc9b16fab103_1200x900.jpg и записано в CSV.\n",
      "Фото 19 скачано как b2711facd45db469587c1e1541c000ec_1200x900.jpg и записано в CSV.\n"
     ]
    },
    {
     "name": "stderr",
     "output_type": "stream",
     "text": [
      "Flat images parsing:  33%|███▎      | 164/501 [17:32<53:25,  9.51s/it]"
     ]
    },
    {
     "name": "stdout",
     "output_type": "stream",
     "text": [
      "Фото 20 скачано как z7rvWKIV-as и записано в CSV.\n",
      "--------end of flat 2663 / 3000 ---------\n"
     ]
    },
    {
     "name": "stderr",
     "output_type": "stream",
     "text": [
      "Flat images parsing:  33%|███▎      | 165/501 [17:33<38:25,  6.86s/it]"
     ]
    },
    {
     "name": "stdout",
     "output_type": "stream",
     "text": [
      "Фото 1 скачано как 654052cfb89d91c9a4d6670aee815cc4_1200x900.jpg и записано в CSV.\n",
      "Фото 2 скачано как 2085038fb6b5a9d0ee2c48aa58a8d9a0_1200x900.jpg и записано в CSV.\n",
      "Фото 3 скачано как 96825c20b27a38a133e8102bfdcc2e7a_1200x900.jpg и записано в CSV.\n",
      "Фото 4 скачано как 078bda8ae30e275f060253f5581fe61c_1200x900.jpg и записано в CSV.\n",
      "Фото 5 скачано как 67c2374d6a714eea6e79be6c07c85102_1200x900.jpg и записано в CSV.\n"
     ]
    },
    {
     "name": "stderr",
     "output_type": "stream",
     "text": [
      "Flat images parsing:  33%|███▎      | 166/501 [17:38<35:24,  6.34s/it]"
     ]
    },
    {
     "name": "stdout",
     "output_type": "stream",
     "text": [
      "Фото 6 скачано как 37jCNp и записано в CSV.\n",
      "--------end of flat 2665 / 3000 ---------\n",
      "Фото 1 скачано как 2b8318bda88d1dce7ab47fa15e3e4ea7_1200x900.jpg и записано в CSV.\n",
      "Фото 2 скачано как c60749af5fae27c4b05a1fa9d19a4b21_1200x900.jpg и записано в CSV.\n",
      "Фото 3 скачано как 2acb879f4ed6ade315b3e43b32574359_1200x900.jpg и записано в CSV.\n",
      "Фото 4 скачано как 88c1ab63be71b26425ad9e9d51b39bdb_1200x900.jpg и записано в CSV.\n",
      "Фото 5 скачано как 327faffefed054d4d4dfc55634a58d3f_1200x900.jpg и записано в CSV.\n",
      "Фото 6 скачано как a9a5ccad913df957018df480d0175834_1200x900.jpg и записано в CSV.\n",
      "Фото 7 скачано как 8fef8913d4c67c5b6e1e737a3c60fe70_1200x900.jpg и записано в CSV.\n",
      "Фото 8 скачано как 266d7ff0a310c878532533e9fb85c408_1200x900.jpg и записано в CSV.\n",
      "Фото 9 скачано как 3ed807bbbf2da2571ff77a5549ee60b8_1200x900.jpg и записано в CSV.\n",
      "Фото 10 скачано как 11663dabc54d2b5f83a1a1fabec73075_1200x900.jpg и записано в CSV.\n",
      "Фото 11 скачано как edc3a67e982c8384e8edca6b8cc64e3b_1200x900.jpg и записано в CSV.\n",
      "Фото 12 скачано как 0d17c40ba4684732c3f89d4ea2c94206_1200x900.jpg и записано в CSV.\n"
     ]
    },
    {
     "name": "stderr",
     "output_type": "stream",
     "text": [
      "Flat images parsing:  33%|███▎      | 167/501 [17:46<37:38,  6.76s/it]"
     ]
    },
    {
     "name": "stdout",
     "output_type": "stream",
     "text": [
      "Фото 13 скачано как z7rvWKIV-as и записано в CSV.\n",
      "--------end of flat 2666 / 3000 ---------\n",
      "Фото 1 скачано как 44a78285cce388f2e201c4c9c3992694_1200x900.jpg и записано в CSV.\n",
      "Фото 2 скачано как c7cb91deecd59eb267a28cb69ee7e87d_1200x900.jpg и записано в CSV.\n",
      "Фото 3 скачано как 85f350ef8e9b291fc063848b357daa01_1200x900.jpg и записано в CSV.\n",
      "Фото 4 скачано как 2c1cc110c5c53107c8db99c3c68fadb9_1200x900.jpg и записано в CSV.\n",
      "Фото 5 скачано как 3213004173859bc753b4d8db44ea1681_1200x900.jpg и записано в CSV.\n",
      "Фото 6 скачано как e518326af4ba5d84b199b4448d352f35_1200x900.jpg и записано в CSV.\n",
      "Фото 7 скачано как 436f39108e99388ccbd21da6f8a6af49_1200x900.jpg и записано в CSV.\n",
      "Фото 8 скачано как 97542c2ece82d881495c42a3fc1ac9ea_1200x900.jpg и записано в CSV.\n",
      "Фото 9 скачано как 55e62db97312de4925111f4be63dae50_1200x900.jpg и записано в CSV.\n",
      "Фото 10 скачано как 549bb4612509e624010f001170fc1e29_1200x900.jpg и записано в CSV.\n",
      "Фото 11 скачано как cc339c2b71ee98f9fba1389a14d8e81e_1200x900.jpg и записано в CSV.\n"
     ]
    },
    {
     "name": "stderr",
     "output_type": "stream",
     "text": [
      "Flat images parsing:  34%|███▎      | 168/501 [17:53<38:40,  6.97s/it]"
     ]
    },
    {
     "name": "stdout",
     "output_type": "stream",
     "text": [
      "Фото 12 скачано как z7rvWKIV-as и записано в CSV.\n",
      "--------end of flat 2667 / 3000 ---------\n",
      "Фото 1 скачано как 2a2207cf004b5e86425a10dfecb4d5a2_1200x900.jpg и записано в CSV.\n",
      "Фото 2 скачано как 9c239418cde50f4c488f01a389cf5dbe_1200x900.jpg и записано в CSV.\n",
      "Фото 3 скачано как f233a295e17e574e2e7adf77e393560f_1200x900.jpg и записано в CSV.\n",
      "Фото 4 скачано как dded256de6e50f4da6840e5656d05cc2_1200x900.jpg и записано в CSV.\n",
      "Фото 5 скачано как bf5009cfb094d6185e4e5ca552d2e7df_1200x900.jpg и записано в CSV.\n",
      "Фото 6 скачано как 01d7bff09952fa6748327b2bd5a08dba_1200x900.jpg и записано в CSV.\n",
      "Фото 7 скачано как 09a33810c6706fe3a0ee25ca92c2774d_1200x900.jpg и записано в CSV.\n",
      "Фото 8 скачано как 9033a6f447f72cb5c10acc446df3184b_1200x900.jpg и записано в CSV.\n",
      "Фото 9 скачано как 07b930bb9ad0efed5a9e71e37a23737e_1200x900.jpg и записано в CSV.\n",
      "Фото 10 скачано как 028c34da2e1c8f1b17b3046784373c16_1200x900.jpg и записано в CSV.\n"
     ]
    },
    {
     "name": "stderr",
     "output_type": "stream",
     "text": [
      "Flat images parsing:  34%|███▎      | 169/501 [17:59<37:17,  6.74s/it]"
     ]
    },
    {
     "name": "stdout",
     "output_type": "stream",
     "text": [
      "Фото 11 скачано как 37jCNp и записано в CSV.\n",
      "--------end of flat 2668 / 3000 ---------\n",
      "Фото 1 скачано как aadc95d0e42b328c9e7c80eedacf4695_1200x900.jpg и записано в CSV.\n",
      "Фото 2 скачано как cd5da9a8aeea808d2e4530c671619035_1200x900.jpg и записано в CSV.\n",
      "Фото 3 скачано как 48ebcdcdf933e6bb6ba602e73c462736_1200x900.jpg и записано в CSV.\n",
      "Фото 4 скачано как ecb96d94b5be333474a631d32e31c4e5_1200x900.jpg и записано в CSV.\n",
      "Фото 5 скачано как 3969e99c02eeae44d5ec3d8bcdd7e24f_1200x900.jpg и записано в CSV.\n",
      "Фото 6 скачано как 5236c5f9ca394b64aeb9209c0db24d9c_1200x900.jpg и записано в CSV.\n",
      "Фото 7 скачано как f2c1db0b7b08befea7d5c2bc6bad523f_1200x900.jpg и записано в CSV.\n",
      "Фото 8 скачано как 50dafcdd0be624cfac97a13af0cfe488_1200x900.jpg и записано в CSV.\n",
      "Фото 9 скачано как 9771ae632c9252553b6a05b1d44fff08_1200x900.jpg и записано в CSV.\n",
      "Фото 10 скачано как 7f532879eaf30782802a71f42ea7e578_1200x900.jpg и записано в CSV.\n",
      "Фото 11 скачано как d998a6af5c47cc6274ec85e2a1a79e6f_1200x900.jpg и записано в CSV.\n",
      "Фото 12 скачано как c23163b573908e61a13c6f36531a40d8_1200x900.jpg и записано в CSV.\n",
      "Фото 13 скачано как 0583e1cd3437bdd8cf9f771fad44dbbe_1200x900.jpg и записано в CSV.\n",
      "Фото 14 скачано как af795ee47731990bb1a188e6625e3542_1200x900.jpg и записано в CSV.\n",
      "Фото 15 скачано как 860d3db0739238d7c4311c8dac93ec3e_1200x900.jpg и записано в CSV.\n"
     ]
    },
    {
     "name": "stderr",
     "output_type": "stream",
     "text": [
      "Flat images parsing:  34%|███▍      | 170/501 [18:10<43:44,  7.93s/it]"
     ]
    },
    {
     "name": "stdout",
     "output_type": "stream",
     "text": [
      "Фото 16 скачано как z7rvWKIV-as и записано в CSV.\n",
      "--------end of flat 2669 / 3000 ---------\n",
      "Фото 1 скачано как e2b7d39370ea1c1bc6d79b8e07b32867_1200x900.jpg и записано в CSV.\n",
      "Фото 2 скачано как 560ce3f331cbca1b33f080617add88b3_1200x900.jpg и записано в CSV.\n",
      "Фото 3 скачано как 2853b582dac39e55d302eeb567178d37_1200x900.jpg и записано в CSV.\n",
      "Фото 4 скачано как b6567402a8a79c110df54b10b632bc07_1200x900.jpg и записано в CSV.\n",
      "Фото 5 скачано как e40acc77b7646cc848a2010534837887_1200x900.jpg и записано в CSV.\n",
      "Фото 6 скачано как 53649dc4846d330df9f566b3ee02abcc_1200x900.jpg и записано в CSV.\n",
      "Фото 7 скачано как e4b703ea87908036780ad34c0c1d83ff_1200x900.jpg и записано в CSV.\n",
      "Фото 8 скачано как d74907c2428cb18a4d340746936c6d5a_1200x900.jpg и записано в CSV.\n",
      "Фото 9 скачано как b9bbd81ac07f87315ff08fa2803f6e34_1200x900.jpg и записано в CSV.\n",
      "Фото 10 скачано как 5835a963b79cc1f75474d907f04bf88e_1200x900.jpg и записано в CSV.\n",
      "Фото 11 скачано как dd2b413523a702352a830c903c5dd7a5_1200x900.jpg и записано в CSV.\n",
      "Фото 12 скачано как 0942ab9165edaa9db682fe7cb7914794_1200x900.jpg и записано в CSV.\n",
      "Фото 13 скачано как 0bf63f4aaf27f10cece16acfa33a186b_1200x900.jpg и записано в CSV.\n",
      "Фото 14 скачано как 5241a8eb65ecd0425575b489e2f33818_1200x900.jpg и записано в CSV.\n",
      "Фото 15 скачано как b97cba07abc034e75645d94e488d4164_1200x900.jpg и записано в CSV.\n",
      "Фото 16 скачано как 6a1e182f4c58c0bf6be76e3c3da47f1d_1200x900.jpg и записано в CSV.\n",
      "Фото 17 скачано как ca6f56ff6593c94713d400d9c7853c2e_1200x900.jpg и записано в CSV.\n",
      "Фото 18 скачано как d7fddcdd978ddb7c29de3887db75e15b_1200x900.jpg и записано в CSV.\n",
      "Фото 19 скачано как 59c3385181b22d77efb754edf85045f5_1200x900.jpg и записано в CSV.\n"
     ]
    },
    {
     "name": "stderr",
     "output_type": "stream",
     "text": [
      "Flat images parsing:  34%|███▍      | 171/501 [18:23<51:28,  9.36s/it]"
     ]
    },
    {
     "name": "stdout",
     "output_type": "stream",
     "text": [
      "Фото 20 скачано как 3AQXYx и записано в CSV.\n",
      "--------end of flat 2670 / 3000 ---------\n",
      "Фото 1 скачано как 792e384f6d2258d1d4fe3d68447451a9_1200x900.jpg и записано в CSV.\n",
      "Фото 2 скачано как 33345a9aeb638c254746dec5c5daa528_1200x900.jpg и записано в CSV.\n",
      "Фото 3 скачано как 24e5450de4873ef398bcaf43c1b2475d_1200x900.jpg и записано в CSV.\n",
      "Фото 4 скачано как 855cef3ce80ca297a80118034ef6a01e_1200x900.jpg и записано в CSV.\n",
      "Фото 5 скачано как 1ad013aaa6d24eac911e1aedcdac47e8_1200x900.jpg и записано в CSV.\n",
      "Фото 6 скачано как 2132f5efba194001f6fae1df0de63911_1200x900.jpg и записано в CSV.\n",
      "Фото 7 скачано как 95a92f95dd5596cc5be7514b57c16e7f_1200x900.jpg и записано в CSV.\n",
      "Фото 8 скачано как 589b67e91bd2fccfa9c26090c687c4db_1200x900.jpg и записано в CSV.\n",
      "Фото 9 скачано как e135dfa204b05412a160a71083b272a5_1200x900.jpg и записано в CSV.\n",
      "Фото 10 скачано как 2c90b8c16bb0db8137e734559bb93193_1200x900.jpg и записано в CSV.\n",
      "Фото 11 скачано как 734fec11b6043eae2a46da225fb49e52_1200x900.jpg и записано в CSV.\n"
     ]
    },
    {
     "name": "stderr",
     "output_type": "stream",
     "text": [
      "Flat images parsing:  34%|███▍      | 172/501 [18:31<50:20,  9.18s/it]"
     ]
    },
    {
     "name": "stdout",
     "output_type": "stream",
     "text": [
      "Фото 12 скачано как z7rvWKIV-as и записано в CSV.\n",
      "--------end of flat 2671 / 3000 ---------\n",
      "Фото 1 скачано как 3034bde583b95e2cc6b21261e162ac61_1200x900.jpg и записано в CSV.\n",
      "Фото 2 скачано как 23f071f08f7d911ef9ec676d48fe3ebc_1200x900.jpg и записано в CSV.\n",
      "Фото 3 скачано как 79c6c1cc41f3ad9f371ed754322b5643_1200x900.jpg и записано в CSV.\n",
      "Фото 4 скачано как 5048ba198e086a470d58dd8f731b5dc6_1200x900.jpg и записано в CSV.\n",
      "Фото 5 скачано как 1d6c94c5118d8d210817c312094cb307_1200x900.jpg и записано в CSV.\n",
      "Фото 6 скачано как efe678521494b69661e31aabedf4ed18_1200x900.jpg и записано в CSV.\n",
      "Фото 7 скачано как d68c3b883165bc04849b2789c1aae227_1200x900.jpg и записано в CSV.\n",
      "Фото 8 скачано как 9ede07cbeb0aa07356bf5a3c5d8b50b4_1200x900.jpg и записано в CSV.\n",
      "Фото 9 скачано как 23ed081fc061a8b8a16dacd0e29d2c40_1200x900.jpg и записано в CSV.\n",
      "Фото 10 скачано как 58117f2c697a4f3728108133cdc44505_1200x900.jpg и записано в CSV.\n",
      "Фото 11 скачано как 9e42114a1541be27efbbdeaa84a092e3_1200x900.jpg и записано в CSV.\n",
      "Фото 12 скачано как cd11bd114495ea5ab640096b41fd9925_1200x900.jpg и записано в CSV.\n",
      "Фото 13 скачано как 8aa00c05c8452a268a4dd365ca998577_1200x900.jpg и записано в CSV.\n",
      "Фото 14 скачано как 30b2a16b0b4fc84cd9e899c78f0b1aad_1200x900.jpg и записано в CSV.\n",
      "Фото 15 скачано как 82e37a1f67ca9665a48a0e5fd55dc0ea_1200x900.jpg и записано в CSV.\n",
      "Фото 16 скачано как 5900bb2e2d7cb3268b61a35617bb5f07_1200x900.jpg и записано в CSV.\n",
      "Фото 17 скачано как 1ffceb740cac891366ef02c2a093c078_1200x900.jpg и записано в CSV.\n",
      "Фото 18 скачано как b38b64ebf196fcd280f21d7151e20aed_1200x900.jpg и записано в CSV.\n"
     ]
    },
    {
     "name": "stderr",
     "output_type": "stream",
     "text": [
      "Flat images parsing:  35%|███▍      | 173/501 [18:43<54:02,  9.89s/it]"
     ]
    },
    {
     "name": "stdout",
     "output_type": "stream",
     "text": [
      "Фото 19 скачано как 37jCNp и записано в CSV.\n",
      "--------end of flat 2672 / 3000 ---------\n",
      "Фото 1 скачано как 74ae4582c78c58cd03b0e7afdaf3e56c_1200x900.jpg и записано в CSV.\n",
      "Фото 2 скачано как bc6cb2182f86913d83900916bbe7cfe0_1200x900.jpg и записано в CSV.\n",
      "Фото 3 скачано как 61235dda398e172c690fe9bd170b9be4_1200x900.jpg и записано в CSV.\n",
      "Фото 4 скачано как 7f242ae34ed243bbef5e165df937582b_1200x900.jpg и записано в CSV.\n",
      "Фото 5 скачано как fd3f4f46a04ad31dce7d9ccfd277afb8_1200x900.jpg и записано в CSV.\n",
      "Фото 6 скачано как 8286102a68b3118e55f8e556995bdeca_1200x900.jpg и записано в CSV.\n",
      "Фото 7 скачано как c3f14008d7a589470637a4a210968409_1200x900.jpg и записано в CSV.\n",
      "Фото 8 скачано как ded53695656330c126f3690bc7954d04_1200x900.jpg и записано в CSV.\n"
     ]
    },
    {
     "name": "stderr",
     "output_type": "stream",
     "text": [
      "Flat images parsing:  35%|███▍      | 174/501 [18:49<48:12,  8.85s/it]"
     ]
    },
    {
     "name": "stdout",
     "output_type": "stream",
     "text": [
      "Фото 9 скачано как 3AQXYx и записано в CSV.\n",
      "--------end of flat 2673 / 3000 ---------\n",
      "Фото 1 скачано как 40ae3294ecb53041d8aeceb3b69d4f6f_1200x900.jpg и записано в CSV.\n",
      "Фото 2 скачано как ce2292ee3a3d3438452343adbb98e6a8_1200x900.jpg и записано в CSV.\n",
      "Фото 3 скачано как 36f7c3680598510e01ca62ef3604c5fe_1200x900.jpg и записано в CSV.\n",
      "Фото 4 скачано как bd1bed294a48d6d266a35fa49a899d95_1200x900.jpg и записано в CSV.\n",
      "Фото 5 скачано как 32f489520c33d6c256385f0480ed7bab_1200x900.jpg и записано в CSV.\n",
      "Фото 6 скачано как 9b8b370863dc29be1fba2e0a0213b04e_1200x900.jpg и записано в CSV.\n",
      "Фото 7 скачано как 510684161edab35a583d91f0af010f53_1200x900.jpg и записано в CSV.\n",
      "Фото 8 скачано как 78de496f06fe3fc2d3ed95076768ba86_1200x900.jpg и записано в CSV.\n",
      "Фото 9 скачано как c9391c83dd2ed4fa64a9d3868b5e1e26_1200x900.jpg и записано в CSV.\n"
     ]
    },
    {
     "name": "stderr",
     "output_type": "stream",
     "text": [
      "Flat images parsing:  35%|███▍      | 175/501 [18:56<44:43,  8.23s/it]"
     ]
    },
    {
     "name": "stdout",
     "output_type": "stream",
     "text": [
      "Фото 10 скачано как z7rvWKIV-as и записано в CSV.\n",
      "--------end of flat 2674 / 3000 ---------\n",
      "Фото 1 скачано как 3d6f8db3642063e2a79b1faf1998eb45_1200x900.jpg и записано в CSV.\n",
      "Фото 2 скачано как ecc93ac6c0dfd4a911004d3c5df8e0a0_1200x900.jpg и записано в CSV.\n",
      "Фото 3 скачано как c521842391bedc52bea05652571eb611_1200x900.jpg и записано в CSV.\n",
      "Фото 4 скачано как 77378f6a85d0d097941501501f48af13_1200x900.jpg и записано в CSV.\n",
      "Фото 5 скачано как 22989c2c25c6cfce94fd6794693b1f3e_1200x900.jpg и записано в CSV.\n",
      "Фото 6 скачано как 8baf78c54450854125f4d700f40c8465_1200x900.jpg и записано в CSV.\n",
      "Фото 7 скачано как dab3da33ecea7611cc347975e3d8baa0_1200x900.jpg и записано в CSV.\n",
      "Фото 8 скачано как 0be959d979092e66fae3dbc43a9986ce_1200x900.jpg и записано в CSV.\n",
      "Фото 9 скачано как 43124cc6bc6963314c26e1910d03c9ec_1200x900.jpg и записано в CSV.\n",
      "Фото 10 скачано как e5d5d81695082d821428c0573831d89e_1200x900.jpg и записано в CSV.\n",
      "Фото 11 скачано как 4457aa1b0ae35e03ef4debaa0a71e642_1200x900.jpg и записано в CSV.\n",
      "Фото 12 скачано как 8229683743faae100b5d5e6b47973285_1200x900.jpg и записано в CSV.\n",
      "Фото 13 скачано как e505d7beb12ed56b054da7dea0643279_1200x900.jpg и записано в CSV.\n",
      "Фото 14 скачано как 8e143b2e087e62adbc33634fd93009e2_1200x900.jpg и записано в CSV.\n"
     ]
    },
    {
     "name": "stderr",
     "output_type": "stream",
     "text": [
      "Flat images parsing:  35%|███▌      | 176/501 [19:08<49:55,  9.22s/it]"
     ]
    },
    {
     "name": "stdout",
     "output_type": "stream",
     "text": [
      "Фото 15 скачано как z7rvWKIV-as и записано в CSV.\n",
      "--------end of flat 2675 / 3000 ---------\n"
     ]
    },
    {
     "name": "stderr",
     "output_type": "stream",
     "text": [
      "Flat images parsing:  35%|███▌      | 177/501 [19:09<36:56,  6.84s/it]"
     ]
    },
    {
     "name": "stdout",
     "output_type": "stream",
     "text": [
      "Фото 1 скачано как 17951b434d7c214f0c0297d99db64f2f_1200x900.jpg и записано в CSV.\n",
      "Фото 2 скачано как ae53c8e92d0a0c5a3bf9df856c268e31_1200x900.jpg и записано в CSV.\n",
      "Фото 3 скачано как 4f123e1aabf56b41bbc1104db72ce2ae_1200x900.jpg и записано в CSV.\n",
      "Фото 4 скачано как b87120ae868bf2630991a4bac42edb42_1200x900.jpg и записано в CSV.\n",
      "Фото 5 скачано как d810258c9e269d5ee1114b4a15e0eb6e_1200x900.jpg и записано в CSV.\n",
      "Фото 6 скачано как 577d92f79c8b50dc06a59fb26fba2ffc_1200x900.jpg и записано в CSV.\n",
      "Фото 7 скачано как 41c04149c1593b8d087a1cc401ca55b2_1200x900.jpg и записано в CSV.\n",
      "Фото 8 скачано как 81478fafc9fd3cb41d772452c19fa8ad_1200x900.jpg и записано в CSV.\n",
      "Фото 9 скачано как 0e7f25b79aab082d34d33a00575902bd_1200x900.jpg и записано в CSV.\n"
     ]
    },
    {
     "name": "stderr",
     "output_type": "stream",
     "text": [
      "Flat images parsing:  36%|███▌      | 178/501 [19:16<37:33,  6.98s/it]"
     ]
    },
    {
     "name": "stdout",
     "output_type": "stream",
     "text": [
      "Фото 10 скачано как 37jCNp и записано в CSV.\n",
      "--------end of flat 2677 / 3000 ---------\n",
      "Фото 1 скачано как 09c3648457f38467beea3be4f120ae69_1200x900.jpg и записано в CSV.\n",
      "Фото 2 скачано как be8152d2d8ca7c95cc6702e2a4558783_1200x900.jpg и записано в CSV.\n",
      "Фото 3 скачано как 3e3a98e1bc5f73c59957353d420a6aef_1200x900.jpg и записано в CSV.\n",
      "Фото 4 скачано как ff05dcd750b015da81feaf6013279b4f_1200x900.jpg и записано в CSV.\n",
      "Фото 5 скачано как 168e873e5b5074d6f9937cf4e24c07bf_1200x900.jpg и записано в CSV.\n",
      "Фото 6 скачано как 32b893c65b05697edd2ee279beb49b6c_1200x900.jpg и записано в CSV.\n",
      "Фото 7 скачано как 9f1691521f756e3382ff02faafa99b09_1200x900.jpg и записано в CSV.\n",
      "Фото 8 скачано как dcbdc8ddb354d7b9bd4bc5cdadf85e57_1200x900.jpg и записано в CSV.\n",
      "Фото 9 скачано как 0bddf86f235f81f230e29a7a1c1c2867_1200x900.jpg и записано в CSV.\n",
      "Фото 10 скачано как ecf33a395a63674f255ca73326a06e22_1200x900.jpg и записано в CSV.\n"
     ]
    },
    {
     "name": "stderr",
     "output_type": "stream",
     "text": [
      "Flat images parsing:  36%|███▌      | 179/501 [19:24<38:42,  7.21s/it]"
     ]
    },
    {
     "name": "stdout",
     "output_type": "stream",
     "text": [
      "Фото 11 скачано как 37jCNp и записано в CSV.\n",
      "--------end of flat 2678 / 3000 ---------\n"
     ]
    },
    {
     "name": "stderr",
     "output_type": "stream",
     "text": [
      "Flat images parsing:  36%|███▌      | 181/501 [19:26<22:10,  4.16s/it]"
     ]
    },
    {
     "name": "stdout",
     "output_type": "stream",
     "text": [
      "Фото 1 скачано как 5ecc41fdd889c5a38506032fff9cfec0_1200x900.jpg и записано в CSV.\n",
      "Фото 2 скачано как 93118bdb008076870b41bd9bf7416d15_1200x900.jpg и записано в CSV.\n",
      "Фото 3 скачано как dd99f271b7243a2a26f3aab3f63a6622_1200x900.jpg и записано в CSV.\n",
      "Фото 4 скачано как ff972b3a91bde595ea10dfe6e4adbaa5_1200x900.jpg и записано в CSV.\n",
      "Фото 5 скачано как b32487e357ce66744fb966356ef32ce8_1200x900.jpg и записано в CSV.\n",
      "Фото 6 скачано как f15742eca8e7683fbda4f13c6a955e28_1200x900.jpg и записано в CSV.\n",
      "Фото 7 скачано как 87b7121d165a9aac43ab6b4a6d95b375_1200x900.jpg и записано в CSV.\n",
      "Фото 8 скачано как b5be899824cf89d994a7cec1dc23e1a5_1200x900.jpg и записано в CSV.\n",
      "Фото 9 скачано как d04c7e5c961d8cd45ba0e7b4dda6a5a1_1200x900.jpg и записано в CSV.\n"
     ]
    },
    {
     "name": "stderr",
     "output_type": "stream",
     "text": [
      "Flat images parsing:  36%|███▋      | 182/501 [19:32<25:06,  4.72s/it]"
     ]
    },
    {
     "name": "stdout",
     "output_type": "stream",
     "text": [
      "Фото 10 скачано как 3AQXYx и записано в CSV.\n",
      "--------end of flat 2681 / 3000 ---------\n",
      "Фото 1 скачано как 6de3a5a683db1c71bf4094f240c75e1a_1200x900.jpg и записано в CSV.\n",
      "Фото 2 скачано как dcde4a5f25987deb72f971f0beea8544_1200x900.jpg и записано в CSV.\n",
      "Фото 3 скачано как 6d42ab0183d86439a29b48dcc6e86577_1200x900.jpg и записано в CSV.\n",
      "Фото 4 скачано как 69b914f91c5a2e6487eb2c9fd5972abb_1200x900.jpg и записано в CSV.\n",
      "Фото 5 скачано как db78c48f91b8ebe5d6b4490b82b441ad_1200x900.jpg и записано в CSV.\n",
      "Фото 6 скачано как 232ea895007bf52849139a8906876945_1200x900.jpg и записано в CSV.\n",
      "Фото 7 скачано как 8038fdf3d293519ef66b004e10408742_1200x900.jpg и записано в CSV.\n",
      "Фото 8 скачано как 04a34a38685cab82a759b65d044c1699_1200x900.jpg и записано в CSV.\n",
      "Фото 9 скачано как 349736787c6470436e64839691b36593_1200x900.jpg и записано в CSV.\n"
     ]
    },
    {
     "name": "stderr",
     "output_type": "stream",
     "text": [
      "Flat images parsing:  37%|███▋      | 183/501 [19:39<27:49,  5.25s/it]"
     ]
    },
    {
     "name": "stdout",
     "output_type": "stream",
     "text": [
      "Фото 10 скачано как 3AQXYx и записано в CSV.\n",
      "--------end of flat 2682 / 3000 ---------\n",
      "Фото 1 скачано как 104bef049a6cd7b56920e3f9e03ca85f_1200x900.jpg и записано в CSV.\n",
      "Фото 2 скачано как 6ebc2247e2d40cf03049358aa4f17e6a_1200x900.jpg и записано в CSV.\n"
     ]
    },
    {
     "name": "stderr",
     "output_type": "stream",
     "text": [
      "Flat images parsing:  37%|███▋      | 184/501 [19:42<24:26,  4.63s/it]"
     ]
    },
    {
     "name": "stdout",
     "output_type": "stream",
     "text": [
      "Фото 3 скачано как 3AQXYx и записано в CSV.\n",
      "--------end of flat 2683 / 3000 ---------\n",
      "Фото 1 скачано как fe582b355d1b2bcac8b116fb052cca99_1200x900.jpg и записано в CSV.\n",
      "Фото 2 скачано как abac579ef5808dd26e16d945eb9113e4_1200x900.jpg и записано в CSV.\n",
      "Фото 3 скачано как 880af37c8ea09d25c02916d9e1931285_1200x900.jpg и записано в CSV.\n",
      "Фото 4 скачано как dc1ba3f86c39df42c700b1e9c331fa10_1200x900.jpg и записано в CSV.\n",
      "Фото 5 скачано как e2200d8e624a185196135015447dc540_1200x900.jpg и записано в CSV.\n",
      "Фото 6 скачано как 53368a8d2cd9bca0762a4084c52796b3_1200x900.jpg и записано в CSV.\n",
      "Фото 7 скачано как 14c882376bc4552ce56c3a3ef7b6e65a_1200x900.jpg и записано в CSV.\n",
      "Фото 8 скачано как b627563dbf9ead4dda2bd0fa6c4e0ccc_1200x900.jpg и записано в CSV.\n",
      "Фото 9 скачано как 4b3b394dec8e9000541a9a28343e001a_1200x900.jpg и записано в CSV.\n",
      "Фото 10 скачано как d78a4a3c314ddb856ec0083d25f80e09_1200x900.jpg и записано в CSV.\n"
     ]
    },
    {
     "name": "stderr",
     "output_type": "stream",
     "text": [
      "Flat images parsing:  37%|███▋      | 185/501 [19:50<29:14,  5.55s/it]"
     ]
    },
    {
     "name": "stdout",
     "output_type": "stream",
     "text": [
      "Фото 11 скачано как z7rvWKIV-as и записано в CSV.\n",
      "--------end of flat 2684 / 3000 ---------\n",
      "Фото 1 скачано как 77d665aa11e39343228443cc5098d4e6_1200x900.jpg и записано в CSV.\n",
      "Фото 2 скачано как 305aed60e5239187898d2a78142c08f8_1200x900.jpg и записано в CSV.\n"
     ]
    },
    {
     "name": "stderr",
     "output_type": "stream",
     "text": [
      "Flat images parsing:  37%|███▋      | 186/501 [19:53<24:54,  4.75s/it]"
     ]
    },
    {
     "name": "stdout",
     "output_type": "stream",
     "text": [
      "Фото 3 скачано как z7rvWKIV-as и записано в CSV.\n",
      "--------end of flat 2685 / 3000 ---------\n",
      "Фото 1 скачано как c9dc04896ec490aa4dfa685dfad241d2_1200x900.jpg и записано в CSV.\n",
      "Фото 2 скачано как aeaadda910ac8553b5dba9f345fe5ed8_1200x900.jpg и записано в CSV.\n",
      "Фото 3 скачано как 374dfecd6063a8fbb5159991be698173_1200x900.jpg и записано в CSV.\n",
      "Фото 4 скачано как ed3770e8ac96c41f7218a680e8856df4_1200x900.jpg и записано в CSV.\n",
      "Фото 5 скачано как bf9ac2d7d044fe40a0e424684fcfa555_1200x900.jpg и записано в CSV.\n",
      "Фото 6 скачано как ebe04d0595ae3829da1ee91c8b876962_1200x900.jpg и записано в CSV.\n"
     ]
    },
    {
     "name": "stderr",
     "output_type": "stream",
     "text": [
      "Flat images parsing:  37%|███▋      | 187/501 [19:58<26:00,  4.97s/it]"
     ]
    },
    {
     "name": "stdout",
     "output_type": "stream",
     "text": [
      "Фото 7 скачано как z7rvWKIV-as и записано в CSV.\n",
      "--------end of flat 2686 / 3000 ---------\n",
      "Фото 1 скачано как b5d7bc7d52769dcfe3e56e3640bfa693_1200x900.jpg и записано в CSV.\n",
      "Фото 2 скачано как a8b5249a0ff4e8ef2b692442c2de35a1_1200x900.jpg и записано в CSV.\n",
      "Фото 3 скачано как 2a5afd3339d9ce19e403fc70b5af7b5f_1200x900.jpg и записано в CSV.\n",
      "Фото 4 скачано как 59673ad3e496b5f42e77c49add8ee8b7_1200x900.jpg и записано в CSV.\n",
      "Фото 5 скачано как 076dcabafd40e7f5929ed57ced06f5f8_1200x900.jpg и записано в CSV.\n",
      "Фото 6 скачано как 29b1288b43b2df0ebad0c5f7247976bd_1200x900.jpg и записано в CSV.\n",
      "Фото 7 скачано как a47613d6c2119f7806c6ec024417ae62_1200x900.jpg и записано в CSV.\n"
     ]
    },
    {
     "name": "stderr",
     "output_type": "stream",
     "text": [
      "Flat images parsing:  38%|███▊      | 188/501 [20:04<26:59,  5.17s/it]"
     ]
    },
    {
     "name": "stdout",
     "output_type": "stream",
     "text": [
      "Фото 8 скачано как 3AQXYx и записано в CSV.\n",
      "--------end of flat 2687 / 3000 ---------\n",
      "Фото 1 скачано как cce9836f113fc230429289f531a57f33_1200x900.jpg и записано в CSV.\n",
      "Фото 2 скачано как 0d9ce052f6fbf87146c20bdf80a0a356_1200x900.jpg и записано в CSV.\n",
      "Фото 3 скачано как c57b2c5d18175d975e66ec1c3c90b01a_1200x900.jpg и записано в CSV.\n",
      "Фото 4 скачано как edbf6767c7f5d00bdbcb3b5f1b39a907_1200x900.jpg и записано в CSV.\n"
     ]
    },
    {
     "name": "stderr",
     "output_type": "stream",
     "text": [
      "Flat images parsing:  38%|███▊      | 189/501 [20:07<24:06,  4.64s/it]"
     ]
    },
    {
     "name": "stdout",
     "output_type": "stream",
     "text": [
      "Фото 5 скачано как 3AQXYx и записано в CSV.\n",
      "--------end of flat 2688 / 3000 ---------\n",
      "Фото 1 скачано как 9c3855499b2fa2805c352c2bd55886b6_1200x900.jpg и записано в CSV.\n",
      "Фото 2 скачано как 2e803757b399f8b2beee2a2ec1462113_1200x900.jpg и записано в CSV.\n"
     ]
    },
    {
     "name": "stderr",
     "output_type": "stream",
     "text": [
      "Flat images parsing:  38%|███▊      | 190/501 [20:09<20:19,  3.92s/it]"
     ]
    },
    {
     "name": "stdout",
     "output_type": "stream",
     "text": [
      "Фото 3 скачано как 3AQXYx и записано в CSV.\n",
      "--------end of flat 2689 / 3000 ---------\n",
      "Фото 1 скачано как 6346e07dd9c62ec990e962a20fdd42ea_1200x900.jpg и записано в CSV.\n",
      "Фото 2 скачано как 5aa2eb5289396ed21ad0b6bceb0a8034_1200x900.jpg и записано в CSV.\n"
     ]
    },
    {
     "name": "stderr",
     "output_type": "stream",
     "text": [
      "Flat images parsing:  38%|███▊      | 191/501 [20:12<18:03,  3.50s/it]"
     ]
    },
    {
     "name": "stdout",
     "output_type": "stream",
     "text": [
      "Фото 3 скачано как z7rvWKIV-as и записано в CSV.\n",
      "--------end of flat 2690 / 3000 ---------\n",
      "Фото 1 скачано как 37d38a0a5d33ea11d058b55ed47947cd_1200x900.jpg и записано в CSV.\n",
      "Фото 2 скачано как d2dac0e1303d990166e89afe8d7fe75d_1200x900.jpg и записано в CSV.\n",
      "Фото 3 скачано как e559532bf2eb5d273a07cd85b3e499f7_1200x900.jpg и записано в CSV.\n",
      "Фото 4 скачано как e623badb03fe9aff0ae50cf19374f325_1200x900.jpg и записано в CSV.\n"
     ]
    },
    {
     "name": "stderr",
     "output_type": "stream",
     "text": [
      "Flat images parsing:  38%|███▊      | 192/501 [20:16<19:08,  3.72s/it]"
     ]
    },
    {
     "name": "stdout",
     "output_type": "stream",
     "text": [
      "Фото 5 скачано как z7rvWKIV-as и записано в CSV.\n",
      "--------end of flat 2691 / 3000 ---------\n",
      "Фото 1 скачано как 6ca1fe91898c6e122047a8441f19430a_1200x900.jpg и записано в CSV.\n",
      "Фото 2 скачано как 39520b2d3a0c1516dcb242b9d153077b_1200x900.jpg и записано в CSV.\n",
      "Фото 3 скачано как 5ed71aec7809144cd827501e20d30d83_1200x900.jpg и записано в CSV.\n",
      "Фото 4 скачано как 4b03b14cdf56dd3f03b771988779031d_1200x900.jpg и записано в CSV.\n",
      "Фото 5 скачано как ad912d14b794c5e84d6c06451cb0ec3d_1200x900.jpg и записано в CSV.\n",
      "Фото 6 скачано как c19d626ba2dd83adc702b91d347471f5_1200x900.jpg и записано в CSV.\n",
      "Фото 7 скачано как adc0655a8857677f9bcd7bbd680e96a3_1200x900.jpg и записано в CSV.\n",
      "Фото 8 скачано как 67434963a9a4bf6fab92a7e00905872a_1200x900.jpg и записано в CSV.\n",
      "Фото 9 скачано как a653ee06d72e38b222726d7a25a1c85d_1200x900.jpg и записано в CSV.\n",
      "Фото 10 скачано как a38efb44e161c724233d9bd260f9f686_1200x900.jpg и записано в CSV.\n",
      "Фото 11 скачано как 255efa7b904b6bd34cc9c4a295304dfe_1200x900.jpg и записано в CSV.\n",
      "Фото 12 скачано как 0779a5353e3f0017b4b8ec551bdbe0b9_1200x900.jpg и записано в CSV.\n",
      "Фото 13 скачано как 7cadf1303e4da76e353d303b28675639_1200x900.jpg и записано в CSV.\n",
      "Фото 14 скачано как 014be6c7c9047da5132281dae6620a14_1200x900.jpg и записано в CSV.\n",
      "Фото 15 скачано как c6f5daddf7311ef2f4c8963f58c0a171_1200x900.jpg и записано в CSV.\n",
      "Фото 16 скачано как f990265f638202b12d36199d52dceebf_1200x900.jpg и записано в CSV.\n",
      "Фото 17 скачано как cc900aa981da44557ee54ee9234dddf1_1200x900.jpg и записано в CSV.\n",
      "Фото 18 скачано как d897505eb18137c16feecb6d58bd2cf7_1200x900.jpg и записано в CSV.\n",
      "Фото 19 скачано как 138b0ea23c731a603881498f0ba71d0a_1200x900.jpg и записано в CSV.\n",
      "Фото 20 скачано как b84dbb79bd5e05fbbd9197e5a4984ebc_1200x900.jpg и записано в CSV.\n",
      "Фото 21 скачано как 5c71fd240b39726fa2e780181ab59e96_1200x900.jpg и записано в CSV.\n",
      "Фото 22 скачано как efc29646efce7f1dcc1b0ae0390ef03c_1200x900.jpg и записано в CSV.\n",
      "Фото 23 скачано как 6ec40667b124285f81ba532f3aa06d06_1200x900.jpg и записано в CSV.\n",
      "Фото 24 скачано как 84434bc4b78e638520ef3873e3e22133_1200x900.jpg и записано в CSV.\n",
      "Фото 25 скачано как 0f269d691b96796763f48cbed3e09ffa_1200x900.jpg и записано в CSV.\n"
     ]
    },
    {
     "name": "stderr",
     "output_type": "stream",
     "text": [
      "Flat images parsing:  39%|███▊      | 193/501 [20:31<36:17,  7.07s/it]"
     ]
    },
    {
     "name": "stdout",
     "output_type": "stream",
     "text": [
      "Фото 26 скачано как z7rvWKIV-as и записано в CSV.\n",
      "--------end of flat 2692 / 3000 ---------\n",
      "Фото 1 скачано как c00dea1f4a372550c39026d440db8674_1200x900.jpg и записано в CSV.\n",
      "Фото 2 скачано как 396cc547dbfbcaed558a2f0a17023f6e_1200x900.jpg и записано в CSV.\n",
      "Фото 3 скачано как 2aba150bad58cda0798ed9d700aaa70e_1200x900.jpg и записано в CSV.\n",
      "Фото 4 скачано как ecaf4d324eacbbd0e04e1d7bdc9dc0ff_1200x900.jpg и записано в CSV.\n",
      "Фото 5 скачано как bda6ab98836ac15c6409a5aaa626be67_1200x900.jpg и записано в CSV.\n",
      "Фото 6 скачано как 1b6fc19c846f165ea623c6b8960d8f43_1200x900.jpg и записано в CSV.\n",
      "Фото 7 скачано как d5a1f12b2a06ca50deaffbd6502b67f1_1200x900.jpg и записано в CSV.\n",
      "Фото 8 скачано как 8d36d5d47d6dfb6d856176bc7f049809_1200x900.jpg и записано в CSV.\n",
      "Фото 9 скачано как 91819c0ef1dcccb884f2f9442c62f7cb_1200x900.jpg и записано в CSV.\n",
      "Фото 10 скачано как 3285542aa1598094f85c73eb2fa2f4c1_1200x900.jpg и записано в CSV.\n",
      "Фото 11 скачано как 32318ebb82edf9b9fdd68d48a48d0efe_1200x900.jpg и записано в CSV.\n",
      "Фото 12 скачано как 62f5d6c55f84e406b3d1d7596975e819_1200x900.jpg и записано в CSV.\n",
      "Фото 13 скачано как 0c4eef2e642800bd628cdfa0fb529271_1200x900.jpg и записано в CSV.\n",
      "Фото 14 скачано как aa8fc695fe265b0f9081cc46336f7e64_1200x900.jpg и записано в CSV.\n",
      "Фото 15 скачано как 905ebf003561ab6a2c390b86f4d49921_1200x900.jpg и записано в CSV.\n"
     ]
    },
    {
     "name": "stderr",
     "output_type": "stream",
     "text": [
      "Flat images parsing:  39%|███▊      | 194/501 [20:39<38:08,  7.46s/it]"
     ]
    },
    {
     "name": "stdout",
     "output_type": "stream",
     "text": [
      "Фото 16 скачано как 37jCNp и записано в CSV.\n",
      "--------end of flat 2693 / 3000 ---------\n"
     ]
    },
    {
     "name": "stderr",
     "output_type": "stream",
     "text": [
      "Flat images parsing:  39%|███▉      | 195/501 [20:40<27:53,  5.47s/it]"
     ]
    },
    {
     "name": "stdout",
     "output_type": "stream",
     "text": [
      "Фото 1 скачано как 9ebf3354b79b904f5db0653d86403f8c_1200x900.jpg и записано в CSV.\n",
      "Фото 2 скачано как d3998d19fe9a3e1b486fb9c57d36ff7d_1200x900.jpg и записано в CSV.\n",
      "Фото 3 скачано как fc50385d52d4f272868194206d9290c4_1200x900.jpg и записано в CSV.\n",
      "Фото 4 скачано как 703e11bafd796ab40afd0cbd83b011fe_1200x900.jpg и записано в CSV.\n",
      "Фото 5 скачано как 09f4d621694acf08c4870c2ed2ecba3c_1200x900.jpg и записано в CSV.\n",
      "Фото 6 скачано как a92002332b0e2a5d5dff6a875ed3299a_1200x900.jpg и записано в CSV.\n"
     ]
    },
    {
     "name": "stderr",
     "output_type": "stream",
     "text": [
      "Flat images parsing:  39%|███▉      | 196/501 [20:45<26:45,  5.27s/it]"
     ]
    },
    {
     "name": "stdout",
     "output_type": "stream",
     "text": [
      "Фото 7 скачано как z7rvWKIV-as и записано в CSV.\n",
      "--------end of flat 2695 / 3000 ---------\n",
      "Фото 1 скачано как 61716b95f78395b1799606bb2184b0ed_1200x900.jpg и записано в CSV.\n",
      "Фото 2 скачано как 29f687c3d37d47d5234e308983aa7f0b_1200x900.jpg и записано в CSV.\n"
     ]
    },
    {
     "name": "stderr",
     "output_type": "stream",
     "text": [
      "Flat images parsing:  39%|███▉      | 197/501 [20:47<21:45,  4.29s/it]"
     ]
    },
    {
     "name": "stdout",
     "output_type": "stream",
     "text": [
      "Фото 3 скачано как 37jCNp и записано в CSV.\n",
      "--------end of flat 2696 / 3000 ---------\n",
      "Фото 1 скачано как c136fcc9e4948b5b38a910e460db2cae_1200x900.jpg и записано в CSV.\n",
      "Фото 2 скачано как 9c05b995a34c5acabb9d32727760a8a0_1200x900.jpg и записано в CSV.\n",
      "Фото 3 скачано как ef430fa175ea31da3f31ff687ac07580_1200x900.jpg и записано в CSV.\n"
     ]
    },
    {
     "name": "stderr",
     "output_type": "stream",
     "text": [
      "Flat images parsing:  40%|███▉      | 198/501 [20:50<20:19,  4.02s/it]"
     ]
    },
    {
     "name": "stdout",
     "output_type": "stream",
     "text": [
      "Фото 4 скачано как z7rvWKIV-as и записано в CSV.\n",
      "--------end of flat 2697 / 3000 ---------\n",
      "Фото 1 скачано как fe2779047cc36b78d7677c40d26ed5b1_1200x900.jpg и записано в CSV.\n",
      "Фото 2 скачано как 176c67b072b6893d77b037f84898ff4c_1200x900.jpg и записано в CSV.\n",
      "Фото 3 скачано как 7814a9b08729806e81ca11843591b30f_1200x900.jpg и записано в CSV.\n",
      "Фото 4 скачано как 1d1ba257ccc43aa510eb846162b3f27a_1200x900.jpg и записано в CSV.\n",
      "Фото 5 скачано как b1a0a98989b7f0a393f754162748769b_1200x900.jpg и записано в CSV.\n",
      "Фото 6 скачано как 7138e1545b9d209c35b8feb41f6aa696_1200x900.jpg и записано в CSV.\n",
      "Фото 7 скачано как 2a246e0d871fb01657a75bb4317f8e02_1200x900.jpg и записано в CSV.\n",
      "Фото 8 скачано как 790610b5272fc45095851d6f9cc9171f_1200x900.jpg и записано в CSV.\n",
      "Фото 9 скачано как e32e098b99c1ae162635b685edc78803_1200x900.jpg и записано в CSV.\n",
      "Фото 10 скачано как 383fdf557380a44fca406fe60b80946e_1200x900.jpg и записано в CSV.\n",
      "Фото 11 скачано как ec6469b43c0d8a8757f38c8c39cf17e8_1200x900.jpg и записано в CSV.\n",
      "Фото 12 скачано как a131fe167921a4cf7dd2206061021c57_1200x900.jpg и записано в CSV.\n"
     ]
    },
    {
     "name": "stderr",
     "output_type": "stream",
     "text": [
      "Flat images parsing:  40%|███▉      | 199/501 [20:58<25:36,  5.09s/it]"
     ]
    },
    {
     "name": "stdout",
     "output_type": "stream",
     "text": [
      "Фото 13 скачано как z7rvWKIV-as и записано в CSV.\n",
      "--------end of flat 2698 / 3000 ---------\n",
      "Фото 1 скачано как 8f3c47aa4ac8bedd67f506e3ed784bb4_1200x900.jpg и записано в CSV.\n",
      "Фото 2 скачано как f0e0ec80d0e5986d87dbe7364e89f362_1200x900.jpg и записано в CSV.\n",
      "Фото 3 скачано как 215e9cd88b4925ee40a6650fd6b6fe83_1200x900.jpg и записано в CSV.\n"
     ]
    },
    {
     "name": "stderr",
     "output_type": "stream",
     "text": [
      "Flat images parsing:  40%|███▉      | 200/501 [21:00<21:34,  4.30s/it]"
     ]
    },
    {
     "name": "stdout",
     "output_type": "stream",
     "text": [
      "Фото 4 скачано как 37jCNp и записано в CSV.\n",
      "--------end of flat 2699 / 3000 ---------\n",
      "Фото 1 скачано как ba8f16362d4f07c13f23fbdfb542cefd_1200x900.jpg и записано в CSV.\n",
      "Фото 2 скачано как c0b327a44daa1dc48201782bb73ed0c4_1200x900.jpg и записано в CSV.\n",
      "Фото 3 скачано как d2ae0570a6ae3c5ca7ae01292f339ee0_1200x900.jpg и записано в CSV.\n",
      "Фото 4 скачано как 7868bd5c90fe606c693eb3d610d34144_1200x900.jpg и записано в CSV.\n",
      "Фото 5 скачано как 0ddf78f7ab8e3df97f5c6c340d9e1216_1200x900.jpg и записано в CSV.\n",
      "Фото 6 скачано как cd3bfed4ac8cda317f62b7be4642ac87_1200x900.jpg и записано в CSV.\n",
      "Фото 7 скачано как 6f24dd2da1b18ca758baf5da65bd4761_1200x900.jpg и записано в CSV.\n",
      "Фото 8 скачано как 59d532afa7d881b610cfef3c6b492d8d_1200x900.jpg и записано в CSV.\n",
      "Фото 9 скачано как b960d83ab1488cfbe3cbb6e59edd8081_1200x900.jpg и записано в CSV.\n",
      "Фото 10 скачано как 933460b06a26a9a3f8580a670560976b_1200x900.jpg и записано в CSV.\n",
      "Фото 11 скачано как dd1f9eb0afb1b13f56353f2f8be89b75_1200x900.jpg и записано в CSV.\n",
      "Фото 12 скачано как 8692607565bb47a62b656e0c6111c383_1200x900.jpg и записано в CSV.\n",
      "Фото 13 скачано как 12f20123e9b33bfb59e52dd063b1d2e0_1200x900.jpg и записано в CSV.\n"
     ]
    },
    {
     "name": "stderr",
     "output_type": "stream",
     "text": [
      "Flat images parsing:  40%|████      | 201/501 [21:09<27:43,  5.55s/it]"
     ]
    },
    {
     "name": "stdout",
     "output_type": "stream",
     "text": [
      "Фото 14 скачано как z7rvWKIV-as и записано в CSV.\n",
      "--------end of flat 2700 / 3000 ---------\n",
      "Фото 1 скачано как e5b895f84a242ce4a96c3665c5e0e812_1200x900.jpg и записано в CSV.\n",
      "Фото 2 скачано как 7a97e33582dc12b31f754f786477deb9_1200x900.jpg и записано в CSV.\n",
      "Фото 3 скачано как 8e61140388b71a50f94b6f90416889c0_1200x900.jpg и записано в CSV.\n",
      "Фото 4 скачано как 954577bb95693a02cf5027479ad3540c_1200x900.jpg и записано в CSV.\n",
      "Фото 5 скачано как e977fedeb6c013c7122042cc3d4862cd_1200x900.jpg и записано в CSV.\n",
      "Фото 6 скачано как d01ecb723740b961caf08a9872dc10d4_1200x900.jpg и записано в CSV.\n",
      "Фото 7 скачано как 1010e1abe0a028b5a2681489964818ac_1200x900.jpg и записано в CSV.\n",
      "Фото 8 скачано как cec6abec9a4b3996e0dcbc971c923143_1200x900.jpg и записано в CSV.\n",
      "Фото 9 скачано как bf8d95d98058cf8816f6ba6db8d86ebc_1200x900.jpg и записано в CSV.\n",
      "Фото 10 скачано как 39ac7e0bfc34c0a29050b528fb87f3d0_1200x900.jpg и записано в CSV.\n"
     ]
    },
    {
     "name": "stderr",
     "output_type": "stream",
     "text": [
      "Flat images parsing:  40%|████      | 202/501 [21:17<31:34,  6.34s/it]"
     ]
    },
    {
     "name": "stdout",
     "output_type": "stream",
     "text": [
      "Фото 11 скачано как 37jCNp и записано в CSV.\n",
      "--------end of flat 2701 / 3000 ---------\n",
      "Фото 1 скачано как 1c5a8ec7db30a18083aa14cab92d8ed7_1200x900.jpg и записано в CSV.\n",
      "Фото 2 скачано как 6ce2298bcac48dca7b2dcd642a92b55d_1200x900.jpg и записано в CSV.\n",
      "Фото 3 скачано как 0be3608555766348310e809aaa4aaef9_1200x900.jpg и записано в CSV.\n",
      "Фото 4 скачано как 03bb31a0b9972096f2561ee2700e384d_1200x900.jpg и записано в CSV.\n",
      "Фото 5 скачано как 375533397978155574f3595af5461e04_1200x900.jpg и записано в CSV.\n",
      "Фото 6 скачано как a3c2c48d40d8085f4713a070d1027320_1200x900.jpg и записано в CSV.\n",
      "Фото 7 скачано как 3686b741572325b49cfc8b58050bc1da_1200x900.jpg и записано в CSV.\n",
      "Фото 8 скачано как 76bb31a2a07302b114cfa621b6fd4135_1200x900.jpg и записано в CSV.\n",
      "Фото 9 скачано как 23f89024c33ef5a32216e9d702b3a8d8_1200x900.jpg и записано в CSV.\n",
      "Фото 10 скачано как dbc196a198648fd2116e893b6f5b8b25_1200x900.jpg и записано в CSV.\n",
      "Фото 11 скачано как 9543c277081be41a4a27e6ecc47aec17_1200x900.jpg и записано в CSV.\n",
      "Фото 12 скачано как 788d8fe00841872e286d88e67659af59_1200x900.jpg и записано в CSV.\n"
     ]
    },
    {
     "name": "stderr",
     "output_type": "stream",
     "text": [
      "Flat images parsing:  41%|████      | 203/501 [21:24<32:43,  6.59s/it]"
     ]
    },
    {
     "name": "stdout",
     "output_type": "stream",
     "text": [
      "Фото 13 скачано как z7rvWKIV-as и записано в CSV.\n",
      "--------end of flat 2702 / 3000 ---------\n",
      "Фото 1 скачано как 307fa31cbef2a0b9b4368b33020c049f_1200x900.jpg и записано в CSV.\n",
      "Фото 2 скачано как a6a526690e8ad955bce6873c209120bc_1200x900.jpg и записано в CSV.\n"
     ]
    },
    {
     "name": "stderr",
     "output_type": "stream",
     "text": [
      "Flat images parsing:  41%|████      | 204/501 [21:27<27:01,  5.46s/it]"
     ]
    },
    {
     "name": "stdout",
     "output_type": "stream",
     "text": [
      "Фото 3 скачано как z7rvWKIV-as и записано в CSV.\n",
      "--------end of flat 2703 / 3000 ---------\n",
      "Фото 1 скачано как e74507406848a985837f0b61f38303aa_1200x900.jpg и записано в CSV.\n"
     ]
    },
    {
     "name": "stderr",
     "output_type": "stream",
     "text": [
      "Flat images parsing:  41%|████      | 205/501 [21:29<21:30,  4.36s/it]"
     ]
    },
    {
     "name": "stdout",
     "output_type": "stream",
     "text": [
      "Фото 2 скачано как 37jCNp и записано в CSV.\n",
      "--------end of flat 2704 / 3000 ---------\n",
      "Фото 1 скачано как aa3d7aec9355c26a219664ceb7933713_1200x900.jpg и записано в CSV.\n",
      "Фото 2 скачано как 40bfa305606fc7b5eeb1616bdfa55c17_1200x900.jpg и записано в CSV.\n",
      "Фото 3 скачано как d17e9319ebf7d96872ef2dd414485764_1200x900.jpg и записано в CSV.\n",
      "Фото 4 скачано как 32ec18a1cd553f49a9484d5ddb26ea99_1200x900.jpg и записано в CSV.\n",
      "Фото 5 скачано как 36e789e207fa2fce6507d79dd4571356_1200x900.jpg и записано в CSV.\n",
      "Фото 6 скачано как 779d6d60f7a39943cb17e9ebf57b95d4_1200x900.jpg и записано в CSV.\n",
      "Фото 7 скачано как e9dafaa2e80104e8ed32077788a29934_1200x900.jpg и записано в CSV.\n"
     ]
    },
    {
     "name": "stderr",
     "output_type": "stream",
     "text": [
      "Flat images parsing:  41%|████      | 206/501 [21:34<22:27,  4.57s/it]"
     ]
    },
    {
     "name": "stdout",
     "output_type": "stream",
     "text": [
      "Фото 8 скачано как z7rvWKIV-as и записано в CSV.\n",
      "--------end of flat 2705 / 3000 ---------\n",
      "Фото 1 скачано как a7dfab98d5d6551d246706a4f0a86965_1200x900.jpg и записано в CSV.\n"
     ]
    },
    {
     "name": "stderr",
     "output_type": "stream",
     "text": [
      "Flat images parsing:  41%|████▏     | 207/501 [21:37<19:30,  3.98s/it]"
     ]
    },
    {
     "name": "stdout",
     "output_type": "stream",
     "text": [
      "Фото 2 скачано как z7rvWKIV-as и записано в CSV.\n",
      "--------end of flat 2706 / 3000 ---------\n",
      "Фото 1 скачано как 5e618217871da0b71a617b5118df421f_1200x900.jpg и записано в CSV.\n",
      "Фото 2 скачано как 31b006c6b44ddaa17303c8d8c1e40be5_1200x900.jpg и записано в CSV.\n",
      "Фото 3 скачано как e855766f172d290c5e863cde2380a76e_1200x900.jpg и записано в CSV.\n",
      "Фото 4 скачано как b02e93c8e0c96b730375b03ebe0d6173_1200x900.jpg и записано в CSV.\n",
      "Фото 5 скачано как 7407a5a29c38cb23629de17735d8c15f_1200x900.jpg и записано в CSV.\n"
     ]
    },
    {
     "name": "stderr",
     "output_type": "stream",
     "text": [
      "Flat images parsing:  42%|████▏     | 208/501 [21:41<20:24,  4.18s/it]"
     ]
    },
    {
     "name": "stdout",
     "output_type": "stream",
     "text": [
      "Фото 6 скачано как f8a1baf4a51ba0bd703aa80b2bd1e2e6_1200x900.jpg и записано в CSV.\n",
      "--------end of flat 2707 / 3000 ---------\n",
      "Фото 1 скачано как bc2485a1bb7b6dfce7a686be7453c7de_1200x900.jpg и записано в CSV.\n",
      "Фото 2 скачано как 1ae2e0f0bbefaf00df6837f1a986dc30_1200x900.jpg и записано в CSV.\n",
      "Фото 3 скачано как c31cdd4433da75db7a79c9baa9bd5a8f_1200x900.jpg и записано в CSV.\n",
      "Фото 4 скачано как 5dfe2766f3756fdfe341db6072d6ab74_1200x900.jpg и записано в CSV.\n",
      "Фото 5 скачано как 943bc2bfb28faac0e17738e34836a967_1200x900.jpg и записано в CSV.\n",
      "Фото 6 скачано как a3aaccfaf511cd879c76f234e0af34b0_1200x900.jpg и записано в CSV.\n",
      "Фото 7 скачано как 2d559c7458af67fdedcbfca218530281_1200x900.jpg и записано в CSV.\n",
      "Фото 8 скачано как b379a94d518ef3cc3fffe1b4bceac109_1200x900.jpg и записано в CSV.\n",
      "Фото 9 скачано как e2bf16e8def2676b716161ef6758c4c2_1200x900.jpg и записано в CSV.\n"
     ]
    },
    {
     "name": "stderr",
     "output_type": "stream",
     "text": [
      "Flat images parsing:  42%|████▏     | 209/501 [21:47<23:05,  4.74s/it]"
     ]
    },
    {
     "name": "stdout",
     "output_type": "stream",
     "text": [
      "Фото 10 скачано как z7rvWKIV-as и записано в CSV.\n",
      "--------end of flat 2708 / 3000 ---------\n",
      "Фото 1 скачано как a4810c5a80bd5355d69bb36479a39615_1200x900.jpg и записано в CSV.\n",
      "Фото 2 скачано как 1b7d16b2da1bed53108f0765a4514888_1200x900.jpg и записано в CSV.\n",
      "Фото 3 скачано как 9c5482ad151ef5ff20c18840ecba7a09_1200x900.jpg и записано в CSV.\n",
      "Фото 4 скачано как acfda4cbc58a81f2e17c803c24999c8e_1200x900.jpg и записано в CSV.\n",
      "Фото 5 скачано как 77eae4704f85f8d752219c06fb06c30a_1200x900.jpg и записано в CSV.\n",
      "Фото 6 скачано как ece0740e0f3babfc60105d374f6d5a37_1200x900.jpg и записано в CSV.\n",
      "Фото 7 скачано как dabda92bc7ac2dda28789420d969a71c_1200x900.jpg и записано в CSV.\n",
      "Фото 8 скачано как c7c2619141534f2d5499ced1ff93fac1_1200x900.jpg и записано в CSV.\n",
      "Фото 9 скачано как 9f08b2c4ed98dc1917d0d40084f3776f_1200x900.jpg и записано в CSV.\n",
      "Фото 10 скачано как 477b78834d719e238491e55edfc83a5e_1200x900.jpg и записано в CSV.\n",
      "Фото 11 скачано как 84ed84451d4a3551cac2fbc832c5bc1c_1200x900.jpg и записано в CSV.\n"
     ]
    },
    {
     "name": "stderr",
     "output_type": "stream",
     "text": [
      "Flat images parsing:  42%|████▏     | 210/501 [21:56<28:43,  5.92s/it]"
     ]
    },
    {
     "name": "stdout",
     "output_type": "stream",
     "text": [
      "Фото 12 скачано как z7rvWKIV-as и записано в CSV.\n",
      "--------end of flat 2709 / 3000 ---------\n",
      "Фото 1 скачано как 9fcff68be4fd14743ef5b0705204a0a4_1200x900.jpg и записано в CSV.\n",
      "Фото 2 скачано как c7268b7663d5397255bf72b1083d556b_1200x900.jpg и записано в CSV.\n",
      "Фото 3 скачано как 4ab14eaf421c2eeb341ff3faabdace2e_1200x900.jpg и записано в CSV.\n",
      "Фото 4 скачано как ce5da64dfa81fed6d3a49566a28babe0_1200x900.jpg и записано в CSV.\n",
      "Фото 5 скачано как 3f5410d9e8f80381c4d2c8278782aa12_1200x900.jpg и записано в CSV.\n",
      "Фото 6 скачано как 174b9d1998e99a31a288f33c5afd8ab6_1200x900.jpg и записано в CSV.\n",
      "Фото 7 скачано как 843bc2b85615796056a08b9eee6d8bee_1200x900.jpg и записано в CSV.\n",
      "Фото 8 скачано как fc7cd409e6c292b9aa86cd437420085a_1200x900.jpg и записано в CSV.\n",
      "Фото 9 скачано как 3cd1cc3499e80cb1580b999740c9b57b_1200x900.jpg и записано в CSV.\n",
      "Фото 10 скачано как 1305cf48ad5ca08ac6c362fa70a04368_1200x900.jpg и записано в CSV.\n"
     ]
    },
    {
     "name": "stderr",
     "output_type": "stream",
     "text": [
      "Flat images parsing:  42%|████▏     | 211/501 [22:02<29:11,  6.04s/it]"
     ]
    },
    {
     "name": "stdout",
     "output_type": "stream",
     "text": [
      "Фото 11 скачано как z7rvWKIV-as и записано в CSV.\n",
      "--------end of flat 2710 / 3000 ---------\n",
      "Фото 1 скачано как 08a9c23beebed01b2bb3f554c26e3467_1200x900.jpg и записано в CSV.\n",
      "Фото 2 скачано как 82a211c897d6b48117e1774aaa2d5b93_1200x900.jpg и записано в CSV.\n"
     ]
    },
    {
     "name": "stderr",
     "output_type": "stream",
     "text": [
      "Flat images parsing:  42%|████▏     | 212/501 [22:04<23:25,  4.86s/it]"
     ]
    },
    {
     "name": "stdout",
     "output_type": "stream",
     "text": [
      "Фото 3 скачано как 3AQXYx и записано в CSV.\n",
      "--------end of flat 2711 / 3000 ---------\n",
      "Фото 1 скачано как 41ef306956b51dda4d7a520b5758f80b_1200x900.jpg и записано в CSV.\n"
     ]
    },
    {
     "name": "stderr",
     "output_type": "stream",
     "text": [
      "Flat images parsing:  43%|████▎     | 213/501 [22:07<19:31,  4.07s/it]"
     ]
    },
    {
     "name": "stdout",
     "output_type": "stream",
     "text": [
      "Фото 2 скачано как z7rvWKIV-as и записано в CSV.\n",
      "--------end of flat 2712 / 3000 ---------\n",
      "Фото 1 скачано как 9ff73ef3c2b3011d2b04accd7f690442_1200x900.jpg и записано в CSV.\n",
      "Фото 2 скачано как 050ae95c4b1d440c6b52c1770a75c950_1200x900.jpg и записано в CSV.\n",
      "Фото 3 скачано как 502af2def12493b4ba8e38eef186a711_1200x900.jpg и записано в CSV.\n",
      "Фото 4 скачано как 2deb19e048492b475c131709d94039f9_1200x900.jpg и записано в CSV.\n",
      "Фото 5 скачано как a85db2fa15437b47f1e30e698a9849b0_1200x900.jpg и записано в CSV.\n",
      "Фото 6 скачано как e9b76ce5513f0dadee42b3e76fcf7e64_1200x900.jpg и записано в CSV.\n"
     ]
    },
    {
     "name": "stderr",
     "output_type": "stream",
     "text": [
      "Flat images parsing:  43%|████▎     | 214/501 [22:12<21:05,  4.41s/it]"
     ]
    },
    {
     "name": "stdout",
     "output_type": "stream",
     "text": [
      "Фото 7 скачано как z7rvWKIV-as и записано в CSV.\n",
      "--------end of flat 2713 / 3000 ---------\n",
      "Фото 1 скачано как 56f1afb5d7dee3f9df7ba2688373af32_1200x900.jpg и записано в CSV.\n",
      "Фото 2 скачано как 2b960d73d81c185799685d3a5b36214d_1200x900.jpg и записано в CSV.\n",
      "Фото 3 скачано как 3110ca9126b9b6a0cbb95ca5c3186f3c_1200x900.jpg и записано в CSV.\n",
      "Фото 4 скачано как 01c404e49a9bedb67718943c09a46070_1200x900.jpg и записано в CSV.\n",
      "Фото 5 скачано как 8e9f45d43428c5a2e72ad12eae93e61c_1200x900.jpg и записано в CSV.\n",
      "Фото 6 скачано как 82452202e03322561b81860aaf531b0a_1200x900.jpg и записано в CSV.\n",
      "Фото 7 скачано как 52703c2116446ab4e98b821281f8d586_1200x900.jpg и записано в CSV.\n",
      "Фото 8 скачано как f9570758e799c13d874efdd0723b78b5_1200x900.jpg и записано в CSV.\n",
      "Фото 9 скачано как 8d747ea66cef5e0279e24407d855d5d5_1200x900.jpg и записано в CSV.\n",
      "Фото 10 скачано как 43e212b23d1a3641b51df6876184328b_1200x900.jpg и записано в CSV.\n"
     ]
    },
    {
     "name": "stderr",
     "output_type": "stream",
     "text": [
      "Flat images parsing:  43%|████▎     | 215/501 [22:18<24:09,  5.07s/it]"
     ]
    },
    {
     "name": "stdout",
     "output_type": "stream",
     "text": [
      "Фото 11 скачано как 3AQXYx и записано в CSV.\n",
      "--------end of flat 2714 / 3000 ---------\n",
      "Фото 1 скачано как b46104cdb60c2c680874c57cd1b06e4f_1200x900.jpg и записано в CSV.\n",
      "Фото 2 скачано как 6496ae82d7c3a24f55395d2ae63068f5_1200x900.jpg и записано в CSV.\n",
      "Фото 3 скачано как 0c7bdfe6b643fd68c0bf3421e1a2124f_1200x900.jpg и записано в CSV.\n",
      "Фото 4 скачано как 76fff0e284db6c9e24cab9f7f6591e67_1200x900.jpg и записано в CSV.\n",
      "Фото 5 скачано как 3e20f26f7a25c64ed6095130a37fcdb8_1200x900.jpg и записано в CSV.\n",
      "Фото 6 скачано как 200a92805dfeec575be9c5c13658a096_1200x900.jpg и записано в CSV.\n",
      "Фото 7 скачано как 5c8206cc3d2e356ee4ff8c8050dd70e0_1200x900.jpg и записано в CSV.\n"
     ]
    },
    {
     "name": "stderr",
     "output_type": "stream",
     "text": [
      "Flat images parsing:  43%|████▎     | 216/501 [22:23<23:46,  5.01s/it]"
     ]
    },
    {
     "name": "stdout",
     "output_type": "stream",
     "text": [
      "Фото 8 скачано как z7rvWKIV-as и записано в CSV.\n",
      "--------end of flat 2715 / 3000 ---------\n",
      "Фото 1 скачано как 5ad08559d2d75992fc412928102fb523_1200x900.jpg и записано в CSV.\n",
      "Фото 2 скачано как 59e6d1d3dfbd59760ec304588e02aebc_1200x900.jpg и записано в CSV.\n",
      "Фото 3 скачано как 858365185ba8ac69bb9210c9e0530814_1200x900.jpg и записано в CSV.\n",
      "Фото 4 скачано как fe61377e2330e2244bf527425920f110_1200x900.jpg и записано в CSV.\n",
      "Фото 5 скачано как b2180ba8b4f32b983062059c9b657753_1200x900.jpg и записано в CSV.\n",
      "Фото 6 скачано как 1f6a4ed9be23e3cd7b53a4b9c63b154d_1200x900.jpg и записано в CSV.\n",
      "Фото 7 скачано как ced03496ca2bb0c1728469f7f5b379e1_1200x900.jpg и записано в CSV.\n",
      "Фото 8 скачано как cc00b8e30947e442e9e9f0e993f8e80a_1200x900.jpg и записано в CSV.\n",
      "Фото 9 скачано как c69422f1d9966f6c59791b72895aba1c_1200x900.jpg и записано в CSV.\n",
      "Фото 10 скачано как 6cc8280a24da51e04042ddcd76e1146f_1200x900.jpg и записано в CSV.\n",
      "Фото 11 скачано как df89df1247e124506182ab64de2bbc43_1200x900.jpg и записано в CSV.\n",
      "Фото 12 скачано как dd4652d213901d0be8bf9de225b816ef_1200x900.jpg и записано в CSV.\n"
     ]
    },
    {
     "name": "stderr",
     "output_type": "stream",
     "text": [
      "Flat images parsing:  43%|████▎     | 217/501 [22:31<27:29,  5.81s/it]"
     ]
    },
    {
     "name": "stdout",
     "output_type": "stream",
     "text": [
      "Фото 13 скачано как 37jCNp и записано в CSV.\n",
      "--------end of flat 2716 / 3000 ---------\n",
      "Фото 1 скачано как f04b4edfdb0e07ca1b74d3f083f42e55_1200x900.jpg и записано в CSV.\n",
      "Фото 2 скачано как 454889a4bc5f3d1aa223a3e8f857747a_1200x900.jpg и записано в CSV.\n",
      "Фото 3 скачано как 967e2cadbb957328699d5e84890df224_1200x900.jpg и записано в CSV.\n",
      "Фото 4 скачано как 32cdbd494fe3c1c76c078cffcae9ff1a_1200x900.jpg и записано в CSV.\n",
      "Фото 5 скачано как 79ca787580d9b36fcbb6e1bf735a4f87_1200x900.jpg и записано в CSV.\n"
     ]
    },
    {
     "name": "stderr",
     "output_type": "stream",
     "text": [
      "Flat images parsing:  44%|████▎     | 218/501 [22:36<25:44,  5.46s/it]"
     ]
    },
    {
     "name": "stdout",
     "output_type": "stream",
     "text": [
      "Фото 6 скачано как 7cb246231282785505585e9540762cb6_1200x900.jpg и записано в CSV.\n",
      "--------end of flat 2717 / 3000 ---------\n",
      "Фото 1 скачано как 75abca80d51103a6ac6705d2746df907_1200x900.jpg и записано в CSV.\n",
      "Фото 2 скачано как 426b04426978308d5fc279c6c4def065_1200x900.jpg и записано в CSV.\n",
      "Фото 3 скачано как 52e1ea47d58c94d8f2e7f88124fe258e_1200x900.jpg и записано в CSV.\n",
      "Фото 4 скачано как 1b3e15403d0229cb8fdaa99b997fd861_1200x900.jpg и записано в CSV.\n",
      "Фото 5 скачано как 7956137cade92a73e86226061c27f188_1200x900.jpg и записано в CSV.\n",
      "Фото 6 скачано как 9ccebaceb22794be05f853e7cfca90c1_1200x900.jpg и записано в CSV.\n"
     ]
    },
    {
     "name": "stderr",
     "output_type": "stream",
     "text": [
      "Flat images parsing:  44%|████▎     | 219/501 [22:40<23:58,  5.10s/it]"
     ]
    },
    {
     "name": "stdout",
     "output_type": "stream",
     "text": [
      "Фото 7 скачано как 3AQXYx и записано в CSV.\n",
      "--------end of flat 2718 / 3000 ---------\n",
      "Фото 1 скачано как 6140154533bba4814e41551bec5f47b1_1200x900.jpg и записано в CSV.\n",
      "Фото 2 скачано как 4e8c4cb2a1c1034ff8a9148ee581c7be_1200x900.jpg и записано в CSV.\n",
      "Фото 3 скачано как 720602466096a086d6c10e4143457ac7_1200x900.jpg и записано в CSV.\n",
      "Фото 4 скачано как 9c2ca80e70620be07b96d5ba8c091dc8_1200x900.jpg и записано в CSV.\n",
      "Фото 5 скачано как 8085e755527c64b88c17735d94aa1200_1200x900.jpg и записано в CSV.\n"
     ]
    },
    {
     "name": "stderr",
     "output_type": "stream",
     "text": [
      "Flat images parsing:  44%|████▍     | 220/501 [22:44<21:54,  4.68s/it]"
     ]
    },
    {
     "name": "stdout",
     "output_type": "stream",
     "text": [
      "Фото 6 скачано как 3AQXYx и записано в CSV.\n",
      "--------end of flat 2719 / 3000 ---------\n",
      "Фото 1 скачано как a23537b5828037181d974e9dfeff9aef_1200x900.jpg и записано в CSV.\n",
      "Фото 2 скачано как 95399f436b066db91e90bfc4a8ca0008_1200x900.jpg и записано в CSV.\n",
      "Фото 3 скачано как 49088123b97d4a7135db33bead98d1f5_1200x900.jpg и записано в CSV.\n",
      "Фото 4 скачано как 6ffc7633c2faea011615eeb618191757_1200x900.jpg и записано в CSV.\n",
      "Фото 5 скачано как dd0aef1b5242969fea725653ed3aacd5_1200x900.jpg и записано в CSV.\n",
      "Фото 6 скачано как 7f5c60dd5085d0a713d34dff2a08f70a_1200x900.jpg и записано в CSV.\n",
      "Фото 7 скачано как bfc814041f5e7e0d5c38a63c7aa63886_1200x900.jpg и записано в CSV.\n"
     ]
    },
    {
     "name": "stderr",
     "output_type": "stream",
     "text": [
      "Flat images parsing:  44%|████▍     | 221/501 [22:49<23:14,  4.98s/it]"
     ]
    },
    {
     "name": "stdout",
     "output_type": "stream",
     "text": [
      "Фото 8 скачано как z7rvWKIV-as и записано в CSV.\n",
      "--------end of flat 2720 / 3000 ---------\n",
      "Фото 1 скачано как d869e23ae2087f157927751e26a2ea5b_1200x900.jpg и записано в CSV.\n",
      "Фото 2 скачано как b5b89e41a1488c0fd69a1b12f19c6b41_1200x900.jpg и записано в CSV.\n",
      "Фото 3 скачано как 9607283a330735df9abbb7aea4665316_1200x900.jpg и записано в CSV.\n"
     ]
    },
    {
     "name": "stderr",
     "output_type": "stream",
     "text": [
      "Flat images parsing:  44%|████▍     | 222/501 [22:52<20:06,  4.33s/it]"
     ]
    },
    {
     "name": "stdout",
     "output_type": "stream",
     "text": [
      "Фото 4 скачано как 3AQXYx и записано в CSV.\n",
      "--------end of flat 2721 / 3000 ---------\n",
      "Фото 1 скачано как c596177d68a1631ddd5905b04e4cc1a9_1200x900.jpg и записано в CSV.\n",
      "Фото 2 скачано как 6ec78d1ec208f61c0c5abcda34e2376c_1200x900.jpg и записано в CSV.\n",
      "Фото 3 скачано как e5626c9b4441a58323d76bdb04f273bc_1200x900.jpg и записано в CSV.\n",
      "Фото 4 скачано как b79ebe14ca8b0d03a0d4970d45997698_1200x900.jpg и записано в CSV.\n",
      "Фото 5 скачано как d6e643a3bd48d7ba1940492e688b77ab_1200x900.jpg и записано в CSV.\n",
      "Фото 6 скачано как a318c207c753b115a07041d232c33f38_1200x900.jpg и записано в CSV.\n",
      "Фото 7 скачано как 15b8d7509469279bd0d5ac64eb46c9ec_1200x900.jpg и записано в CSV.\n",
      "Фото 8 скачано как 1a52c12e8eea74aa4b0d790d0f1d5304_1200x900.jpg и записано в CSV.\n",
      "Фото 9 скачано как 524539fd7430ff6f80a830a20ed3e323_1200x900.jpg и записано в CSV.\n",
      "Фото 10 скачано как c4619f59f9f714ab3582bb8112e61c90_1200x900.jpg и записано в CSV.\n",
      "Фото 11 скачано как 70ee42134945abf90c34a948b2772513_1200x900.jpg и записано в CSV.\n",
      "Фото 12 скачано как b45dc246fbce2d84e0cfd4aa6f321d50_1200x900.jpg и записано в CSV.\n",
      "Фото 13 скачано как 746b81d3ff0d51c44e10686c6d46f305_1200x900.jpg и записано в CSV.\n"
     ]
    },
    {
     "name": "stderr",
     "output_type": "stream",
     "text": [
      "Flat images parsing:  45%|████▍     | 223/501 [23:01<26:38,  5.75s/it]"
     ]
    },
    {
     "name": "stdout",
     "output_type": "stream",
     "text": [
      "Фото 14 скачано как z7rvWKIV-as и записано в CSV.\n",
      "--------end of flat 2722 / 3000 ---------\n",
      "Фото 1 скачано как 7d6582a9ea4f6a98a25eb592cd5948a5_1200x900.jpg и записано в CSV.\n",
      "Фото 2 скачано как befb3da3de35929a4995887f9cf0faef_1200x900.jpg и записано в CSV.\n",
      "Фото 3 скачано как a8f090410aefd6a1c1e519ee32bc3bc4_1200x900.jpg и записано в CSV.\n",
      "Фото 4 скачано как 3741d6781da8ff4953e00e42f2b6d570_1200x900.jpg и записано в CSV.\n",
      "Фото 5 скачано как 116170d70e7e6c71356187d76cb25f0f_1200x900.jpg и записано в CSV.\n",
      "Фото 6 скачано как 3b3a433323d248012873fed557d6147d_1200x900.jpg и записано в CSV.\n",
      "Фото 7 скачано как 4c8701eacf6bb7d4cd22a0ffd568f82f_1200x900.jpg и записано в CSV.\n"
     ]
    },
    {
     "name": "stderr",
     "output_type": "stream",
     "text": [
      "Flat images parsing:  45%|████▍     | 224/501 [23:05<24:33,  5.32s/it]"
     ]
    },
    {
     "name": "stdout",
     "output_type": "stream",
     "text": [
      "Фото 8 скачано как 37jCNp и записано в CSV.\n",
      "--------end of flat 2723 / 3000 ---------\n",
      "Фото 1 скачано как f1fd333e774c089255cf836f00b21af2_1200x900.jpg и записано в CSV.\n",
      "Фото 2 скачано как rwIL0LjLhoU и записано в CSV.\n",
      "Фото 3 скачано как a3f5493b1dedf54df42f63b1ae7b85d1_1200x900.jpg и записано в CSV.\n",
      "Фото 4 скачано как 0482d0f0a39ff25f01d1fdbd6209da9d_1200x900.jpg и записано в CSV.\n",
      "Фото 5 скачано как 46e880eaf86de5cce60d46db6b882566_1200x900.jpg и записано в CSV.\n",
      "Фото 6 скачано как 735bf333b4fe74e1c6132b79a974e04e_1200x900.jpg и записано в CSV.\n",
      "Фото 7 скачано как 7885659e1110125c3a8c66c1d365a2f6_1200x900.jpg и записано в CSV.\n",
      "Фото 8 скачано как 3d9d2e8d03ce8a935cf9fb59e56ccffb_1200x900.jpg и записано в CSV.\n",
      "Фото 9 скачано как b825ff10d6710b3dbfea2966b96c042d_1200x900.jpg и записано в CSV.\n",
      "Фото 10 скачано как e1bef0cacccd0ff44316a0d1bfb7b80b_1200x900.jpg и записано в CSV.\n",
      "Фото 11 скачано как 317581c11e23d14478e0a3af353b848b_1200x900.jpg и записано в CSV.\n",
      "Фото 12 скачано как 7459058389071760a23631bff7ed183c_1200x900.jpg и записано в CSV.\n",
      "Фото 13 скачано как fb95ce3ca57a184d24b21c28e03d0c21_1200x900.jpg и записано в CSV.\n",
      "Фото 14 скачано как 47531221bde359def76ec255edb8dcb5_1200x900.jpg и записано в CSV.\n",
      "Фото 15 скачано как 8732298adbfec01301d79ca724bf8a07_1200x900.jpg и записано в CSV.\n",
      "Фото 16 скачано как 74f87b6be429aed32d31479a3c9d5bf0_1200x900.jpg и записано в CSV.\n"
     ]
    },
    {
     "name": "stderr",
     "output_type": "stream",
     "text": [
      "Flat images parsing:  45%|████▍     | 225/501 [23:18<34:58,  7.60s/it]"
     ]
    },
    {
     "name": "stdout",
     "output_type": "stream",
     "text": [
      "Фото 17 скачано как z7rvWKIV-as и записано в CSV.\n",
      "--------end of flat 2724 / 3000 ---------\n",
      "Фото 1 скачано как 045b63de33ba3ed146c8ea89af2c097a_1200x900.jpg и записано в CSV.\n",
      "Фото 2 скачано как a733871418cd81535c2ab6762c58582c_1200x900.jpg и записано в CSV.\n",
      "Фото 3 скачано как 8571f3f150368be15378aaf5bca8efd0_1200x900.jpg и записано в CSV.\n",
      "Фото 4 скачано как e9a86eae3b50f645de26967649cdbee5_1200x900.jpg и записано в CSV.\n",
      "Фото 5 скачано как f955e33c6a0f38dfbea5dcd8702e6c50_1200x900.jpg и записано в CSV.\n",
      "Фото 6 скачано как 47b8051178e9a79ffd726acf9827550b_1200x900.jpg и записано в CSV.\n",
      "Фото 7 скачано как 9603ad33878d0e0afccac2aeebf3a7f5_1200x900.jpg и записано в CSV.\n",
      "Фото 8 скачано как 878283b1b2416fee20f0c487c32bae10_1200x900.jpg и записано в CSV.\n",
      "Фото 9 скачано как d153b325b8f347ecc4eceb3e69287675_1200x900.jpg и записано в CSV.\n",
      "Фото 10 скачано как 9d7bee0a0eeee42e4e0884f93b405182_1200x900.jpg и записано в CSV.\n",
      "Фото 11 скачано как 5445d788a2b7c0273340bacc41236306_1200x900.jpg и записано в CSV.\n",
      "Фото 12 скачано как caf8fcd7f726d37b88bd941c5bdb64e2_1200x900.jpg и записано в CSV.\n",
      "Фото 13 скачано как 60bb0068f10809127a9c2f6862ad62a5_1200x900.jpg и записано в CSV.\n",
      "Фото 14 скачано как 3a6dfd9a8ff75308145e915182f68084_1200x900.jpg и записано в CSV.\n"
     ]
    },
    {
     "name": "stderr",
     "output_type": "stream",
     "text": [
      "Flat images parsing:  45%|████▌     | 226/501 [23:28<37:08,  8.10s/it]"
     ]
    },
    {
     "name": "stdout",
     "output_type": "stream",
     "text": [
      "Фото 15 скачано как z7rvWKIV-as и записано в CSV.\n",
      "--------end of flat 2725 / 3000 ---------\n",
      "Фото 1 скачано как e789bf7c65d1183578f42d5673bfd400_1200x900.jpg и записано в CSV.\n",
      "Фото 2 скачано как aa821cc5e5c0cf401f49f796e1909dcb_1200x900.jpg и записано в CSV.\n",
      "Фото 3 скачано как 6d0952ac43194dcb93705f8c2d6b3caa_1200x900.jpg и записано в CSV.\n",
      "Фото 4 скачано как 3346af33912dff6d0509fa3b0f38e0c1_1200x900.jpg и записано в CSV.\n",
      "Фото 5 скачано как 0cc1a2393eb87ba80084f7c283123461_1200x900.jpg и записано в CSV.\n",
      "Фото 6 скачано как e284bce93bbce7a6d5f2b7c32634b2a1_1200x900.jpg и записано в CSV.\n",
      "Фото 7 скачано как d928a2f47ccaec73e3c1fcf0219d2643_1200x900.jpg и записано в CSV.\n",
      "Фото 8 скачано как 92a34efb712f7a617bfaad46cbcd83ac_1200x900.jpg и записано в CSV.\n",
      "Фото 9 скачано как af58fd0699343815ec8058d6dafcbd75_1200x900.jpg и записано в CSV.\n",
      "Фото 10 скачано как 89fe4ae47970697081660224cded6e41_1200x900.jpg и записано в CSV.\n"
     ]
    },
    {
     "name": "stderr",
     "output_type": "stream",
     "text": [
      "Flat images parsing:  45%|████▌     | 227/501 [23:38<40:21,  8.84s/it]"
     ]
    },
    {
     "name": "stdout",
     "output_type": "stream",
     "text": [
      "Фото 11 скачано как 014708c6add2257fe3caaa89908d3bb6_1200x900.jpg и записано в CSV.\n",
      "--------end of flat 2726 / 3000 ---------\n",
      "Фото 1 скачано как 83e4d83fc93480c9d4cd1522c8b1293f_1200x900.jpg и записано в CSV.\n",
      "Фото 2 скачано как 1fa7055cb1b0f4a3294d2edf82384959_1200x900.jpg и записано в CSV.\n",
      "Фото 3 скачано как 74f36a44c25bfced5ab26eda3996b141_1200x900.jpg и записано в CSV.\n",
      "Фото 4 скачано как 1a8d8d16943fc9d7cb51df8a0e9c9554_1200x900.jpg и записано в CSV.\n"
     ]
    },
    {
     "name": "stderr",
     "output_type": "stream",
     "text": [
      "Flat images parsing:  46%|████▌     | 228/501 [23:42<33:15,  7.31s/it]"
     ]
    },
    {
     "name": "stdout",
     "output_type": "stream",
     "text": [
      "Фото 5 скачано как z7rvWKIV-as и записано в CSV.\n",
      "--------end of flat 2727 / 3000 ---------\n",
      "Фото 1 скачано как caabd05126eb634efb30c7b165de61d4_1200x900.jpg и записано в CSV.\n",
      "Фото 2 скачано как 7c4b2c17d5d897de2d6ea586cccc6d24_1200x900.jpg и записано в CSV.\n",
      "Фото 3 скачано как 1f17db4109da35fd9ba8f93591f18be3_1200x900.jpg и записано в CSV.\n",
      "Фото 4 скачано как fed9cae7ce7a5589082dcea073a3ca53_1200x900.jpg и записано в CSV.\n",
      "Фото 5 скачано как 26acae4f0719df063ab4f6c63a21b7ea_1200x900.jpg и записано в CSV.\n",
      "Фото 6 скачано как 64794cf60811e9a58e78f172c32ba18e_1200x900.jpg и записано в CSV.\n",
      "Фото 7 скачано как dbfe73005c55fbaad8cdcfa616eab5d9_1200x900.jpg и записано в CSV.\n",
      "Фото 8 скачано как 0afdb1f29791736595dfb3bdb5021f2c_1200x900.jpg и записано в CSV.\n",
      "Фото 9 скачано как 327a12e01b993d49b10082f35297f5bd_1200x900.jpg и записано в CSV.\n",
      "Фото 10 скачано как ba55c0bcce7f75e840d87b7622414871_1200x900.jpg и записано в CSV.\n",
      "Фото 11 скачано как 64414bfe5ec90bcc146a18c529cf8d06_1200x900.jpg и записано в CSV.\n",
      "Фото 12 скачано как 1fba8ebbdc4b6ffe56ba15e2a210334d_1200x900.jpg и записано в CSV.\n",
      "Фото 13 скачано как 2abd7e344f7d7980640059d582a3b85f_1200x900.jpg и записано в CSV.\n",
      "Фото 14 скачано как 5c3f92c1f7019a536f44f9bc0f4feb98_1200x900.jpg и записано в CSV.\n"
     ]
    },
    {
     "name": "stderr",
     "output_type": "stream",
     "text": [
      "Flat images parsing:  46%|████▌     | 229/501 [23:50<34:44,  7.67s/it]"
     ]
    },
    {
     "name": "stdout",
     "output_type": "stream",
     "text": [
      "Фото 15 скачано как 08043f96986e5f1acc706fe536033937_1200x900.jpg и записано в CSV.\n",
      "--------end of flat 2728 / 3000 ---------\n",
      "Ошибка при скачивании фото 1.\n"
     ]
    },
    {
     "name": "stderr",
     "output_type": "stream",
     "text": [
      "Flat images parsing:  46%|████▌     | 230/501 [23:52<26:29,  5.86s/it]"
     ]
    },
    {
     "name": "stdout",
     "output_type": "stream",
     "text": [
      "Фото 2 скачано как 37jCNp и записано в CSV.\n",
      "--------end of flat 2729 / 3000 ---------\n",
      "Фото 1 скачано как 5321fecc4c7c173570dd432d115a074d_1200x900.jpg и записано в CSV.\n",
      "Фото 2 скачано как I9flYVMowwU и записано в CSV.\n",
      "Фото 3 скачано как fc7dbcca564951f3430e561046f6ed2e_1200x900.jpg и записано в CSV.\n",
      "Фото 4 скачано как 89b37ffe9f014ed94bc39629db63911f_1200x900.jpg и записано в CSV.\n",
      "Фото 5 скачано как 3c8218180685818c15b65bb756c816e9_1200x900.jpg и записано в CSV.\n",
      "Фото 6 скачано как addbea43b3bcad13c6b8a764508b7f22_1200x900.jpg и записано в CSV.\n",
      "Фото 7 скачано как 3792bb37d5df9a3a04a551638307760b_1200x900.jpg и записано в CSV.\n",
      "Фото 8 скачано как 8cc1af1bd9947eeedaf8f3b825bf84ef_1200x900.jpg и записано в CSV.\n",
      "Фото 9 скачано как d5140adde7ef701b97dde7680d409016_1200x900.jpg и записано в CSV.\n",
      "Фото 10 скачано как 4b0093d6f8a50ef8c0fc44d1d0617ca9_1200x900.jpg и записано в CSV.\n",
      "Фото 11 скачано как 384cc66841a3946feffcb4c079376738_1200x900.jpg и записано в CSV.\n",
      "Фото 12 скачано как ccbce8fe4b69d26c373e32eedbef04fc_1200x900.jpg и записано в CSV.\n",
      "Фото 13 скачано как 3880d00b567b13c21e33f9c597018554_1200x900.jpg и записано в CSV.\n",
      "Фото 14 скачано как 1693243094c176456f8e59e149d96cf9_1200x900.jpg и записано в CSV.\n",
      "Фото 15 скачано как b9db99583b41658ad22c281d99762112_1200x900.jpg и записано в CSV.\n"
     ]
    },
    {
     "name": "stderr",
     "output_type": "stream",
     "text": [
      "Flat images parsing:  46%|████▌     | 231/501 [24:02<32:06,  7.14s/it]"
     ]
    },
    {
     "name": "stdout",
     "output_type": "stream",
     "text": [
      "Фото 16 скачано как z7rvWKIV-as и записано в CSV.\n",
      "--------end of flat 2730 / 3000 ---------\n",
      "Фото 1 скачано как 81eb9baadcbe0b8eb4ed9bbcc682b149_1200x900.jpg и записано в CSV.\n",
      "Фото 2 скачано как d09a5df805e0c98dfdc5260e6583ee67_1200x900.jpg и записано в CSV.\n",
      "Фото 3 скачано как 924f8b79bca750f2db15861e85223de5_1200x900.jpg и записано в CSV.\n",
      "Фото 4 скачано как 12dde0e1cc2f1de251d5ca6ca67cb500_1200x900.jpg и записано в CSV.\n"
     ]
    },
    {
     "name": "stderr",
     "output_type": "stream",
     "text": [
      "Flat images parsing:  46%|████▋     | 232/501 [24:06<28:04,  6.26s/it]"
     ]
    },
    {
     "name": "stdout",
     "output_type": "stream",
     "text": [
      "Фото 5 скачано как z7rvWKIV-as и записано в CSV.\n",
      "--------end of flat 2731 / 3000 ---------\n",
      "Фото 1 скачано как 12c70d425c5fc83e07331ba4f86d5b2d_1200x900.jpg и записано в CSV.\n",
      "Фото 2 скачано как 087e2962f9a58f7723a0a5e77f3fa9cc_1200x900.jpg и записано в CSV.\n",
      "Фото 3 скачано как d4fbeb4556fcea39375e884d1e7cab1d_1200x900.jpg и записано в CSV.\n",
      "Фото 4 скачано как 43b6c9aa8bbe192420155a916eb72847_1200x900.jpg и записано в CSV.\n",
      "Фото 5 скачано как ad0944eab5a81235d30debe76acfeea1_1200x900.jpg и записано в CSV.\n",
      "Фото 6 скачано как d29b8aac1a32269eac38b73465d83317_1200x900.jpg и записано в CSV.\n",
      "Фото 7 скачано как 95f7ccb94c103046edfed5e012a975b2_1200x900.jpg и записано в CSV.\n",
      "Фото 8 скачано как 60777a510b7b1ae894d8a5670c2efc94_1200x900.jpg и записано в CSV.\n",
      "Фото 9 скачано как 0372dd514c76b90128ff67000524043e_1200x900.jpg и записано в CSV.\n",
      "Фото 10 скачано как fae8e134ed1593255e134ed9d9e6a909_1200x900.jpg и записано в CSV.\n",
      "Фото 11 скачано как ee75e9c76bc2b37390e73d4b1509910f_1200x900.jpg и записано в CSV.\n",
      "Фото 12 скачано как fc733c9415e93d6977c84513c5b15e7b_1200x900.jpg и записано в CSV.\n",
      "Фото 13 скачано как bfe63be6c70132597ef0b2759f6ddd1d_1200x900.jpg и записано в CSV.\n"
     ]
    },
    {
     "name": "stderr",
     "output_type": "stream",
     "text": [
      "Flat images parsing:  47%|████▋     | 233/501 [24:15<31:19,  7.01s/it]"
     ]
    },
    {
     "name": "stdout",
     "output_type": "stream",
     "text": [
      "Фото 14 скачано как 3AQXYx и записано в CSV.\n",
      "--------end of flat 2732 / 3000 ---------\n",
      "Фото 1 скачано как 7eb3e13a95561e1bc80c2cd4e241ca5e_1200x900.jpg и записано в CSV.\n",
      "Фото 2 скачано как d24d0ed977bc93b10172198d0ba36af9_1200x900.jpg и записано в CSV.\n",
      "Фото 3 скачано как 8fabdc3562390d958e4a7b86a491eaff_1200x900.jpg и записано в CSV.\n",
      "Фото 4 скачано как f926980390f188d935c82d5423cb706a_1200x900.jpg и записано в CSV.\n"
     ]
    },
    {
     "name": "stderr",
     "output_type": "stream",
     "text": [
      "Flat images parsing:  47%|████▋     | 234/501 [24:19<27:07,  6.10s/it]"
     ]
    },
    {
     "name": "stdout",
     "output_type": "stream",
     "text": [
      "Фото 5 скачано как 37jCNp и записано в CSV.\n",
      "--------end of flat 2733 / 3000 ---------\n",
      "Фото 1 скачано как 456015b4e8417177cc222e266db613d8_1200x900.jpg и записано в CSV.\n",
      "Фото 2 скачано как ba68e3ff34da32ffd835103d87a810f9_1200x900.jpg и записано в CSV.\n",
      "Фото 3 скачано как 1bb281ff2fc69291bed61c63eda75e07_1200x900.jpg и записано в CSV.\n",
      "Фото 4 скачано как 0dfc44d1305f335d47e3ee66867ed73e_1200x900.jpg и записано в CSV.\n",
      "Фото 5 скачано как 4f9a659d508dc375be9942d3b02387b3_1200x900.jpg и записано в CSV.\n"
     ]
    },
    {
     "name": "stderr",
     "output_type": "stream",
     "text": [
      "Flat images parsing:  47%|████▋     | 235/501 [24:24<25:01,  5.65s/it]"
     ]
    },
    {
     "name": "stdout",
     "output_type": "stream",
     "text": [
      "Фото 6 скачано как z7rvWKIV-as и записано в CSV.\n",
      "--------end of flat 2734 / 3000 ---------\n",
      "Фото 1 скачано как bcc0db88417858e204b68d5b7552b4d4_1200x900.jpg и записано в CSV.\n",
      "Фото 2 скачано как 18b7aa8e440051c592b7a82a3febbec6_1200x900.jpg и записано в CSV.\n",
      "Фото 3 скачано как fc8f3dbea041eb70609e36369169de58_1200x900.jpg и записано в CSV.\n",
      "Фото 4 скачано как 833ce7ddf8b4465ca21c9f87bd856687_1200x900.jpg и записано в CSV.\n",
      "Фото 5 скачано как daed5f56fe41ab78b380d5fc839b5ca0_1200x900.jpg и записано в CSV.\n",
      "Фото 6 скачано как 569d30cead8e5f290a38dc5145b3d102_1200x900.jpg и записано в CSV.\n"
     ]
    },
    {
     "name": "stderr",
     "output_type": "stream",
     "text": [
      "Flat images parsing:  47%|████▋     | 236/501 [24:29<24:14,  5.49s/it]"
     ]
    },
    {
     "name": "stdout",
     "output_type": "stream",
     "text": [
      "Фото 7 скачано как z7rvWKIV-as и записано в CSV.\n",
      "--------end of flat 2735 / 3000 ---------\n",
      "Фото 1 скачано как 99626d2b4a0c5db4941637348a575df5_1200x900.jpg и записано в CSV.\n"
     ]
    },
    {
     "name": "stderr",
     "output_type": "stream",
     "text": [
      "Flat images parsing:  47%|████▋     | 237/501 [24:31<19:35,  4.45s/it]"
     ]
    },
    {
     "name": "stdout",
     "output_type": "stream",
     "text": [
      "Фото 2 скачано как z7rvWKIV-as и записано в CSV.\n",
      "--------end of flat 2736 / 3000 ---------\n",
      "Фото 1 скачано как c05b705774b819e0b3a35343abfa82ac_1200x900.jpg и записано в CSV.\n",
      "Фото 2 скачано как 73773cea43175aaaa3241af09bc54c3d_1200x900.jpg и записано в CSV.\n",
      "Фото 3 скачано как b6351ee5bb87efee652eefdce3bfa9d7_1200x900.jpg и записано в CSV.\n",
      "Фото 4 скачано как 5eea549ff8f7eb0da77a97d85c34244e_1200x900.jpg и записано в CSV.\n",
      "Фото 5 скачано как ffc8058642175dfeaa403fae89a6a56d_1200x900.jpg и записано в CSV.\n",
      "Фото 6 скачано как 5b9313adbe191e7f70349a56d782c861_1200x900.jpg и записано в CSV.\n",
      "Фото 7 скачано как 1a3a5111cdd0b0e4b411f264b4c3f83d_1200x900.jpg и записано в CSV.\n",
      "Фото 8 скачано как 9f7d2bdcaf8f91a7548bc452e541a0ab_1200x900.jpg и записано в CSV.\n",
      "Фото 9 скачано как 75d36265db6d281b1503355349149c9d_1200x900.jpg и записано в CSV.\n",
      "Фото 10 скачано как 0f9ee725170384b3a436a8b46e1d373c_1200x900.jpg и записано в CSV.\n",
      "Фото 11 скачано как 5ede0eecab42c10e7029c157bde7f19e_1200x900.jpg и записано в CSV.\n",
      "Фото 12 скачано как eadc500941b3a14d4c0b47a7d24d1987_1200x900.jpg и записано в CSV.\n"
     ]
    },
    {
     "name": "stderr",
     "output_type": "stream",
     "text": [
      "Flat images parsing:  48%|████▊     | 238/501 [24:38<23:13,  5.30s/it]"
     ]
    },
    {
     "name": "stdout",
     "output_type": "stream",
     "text": [
      "Фото 13 скачано как 3AQXYx и записано в CSV.\n",
      "--------end of flat 2737 / 3000 ---------\n",
      "Фото 1 скачано как cbc2add28e51b875588609f54c87c023_1200x900.jpg и записано в CSV.\n",
      "Фото 2 скачано как d42c79322abe94c798e877c7a1e30e84_1200x900.jpg и записано в CSV.\n",
      "Фото 3 скачано как 889ef34a175e66d7fb02e6ca114dbde6_1200x900.jpg и записано в CSV.\n",
      "Фото 4 скачано как 79973d50596a4906914d7c9fde7e152f_1200x900.jpg и записано в CSV.\n",
      "Фото 5 скачано как 5ca116f266365ed7ec0f516d584da2d7_1200x900.jpg и записано в CSV.\n",
      "Фото 6 скачано как dbb28157f9d7e72c989de4ee066a0a83_1200x900.jpg и записано в CSV.\n",
      "Фото 7 скачано как ab51c838b6980711ee840105b1ae01c8_1200x900.jpg и записано в CSV.\n",
      "Фото 8 скачано как 4fc4b3b7830dfff4def191749402f4c5_1200x900.jpg и записано в CSV.\n",
      "Фото 9 скачано как 273eee044a1a6a49ea9312ae546c5d1b_1200x900.jpg и записано в CSV.\n",
      "Фото 10 скачано как 503a6476b71431dfdd576cb33a47b1cb_1200x900.jpg и записано в CSV.\n",
      "Фото 11 скачано как e92b2e7ca7cc2c735aac7b05485bd112_1200x900.jpg и записано в CSV.\n",
      "Фото 12 скачано как e4d0bb0267d77303cf2d309a3243d879_1200x900.jpg и записано в CSV.\n",
      "Фото 13 скачано как 01bda69a2f25dfa5c3e093d4a4abe830_1200x900.jpg и записано в CSV.\n",
      "Фото 14 скачано как a1ddd6b7d3a68a0ad09f313557777209_1200x900.jpg и записано в CSV.\n",
      "Фото 15 скачано как 59dfd1dadf9bb56c947a221cdc62b7e7_1200x900.jpg и записано в CSV.\n",
      "Фото 16 скачано как fc1cf7358d5a7c5df80a421ee798524e_1200x900.jpg и записано в CSV.\n",
      "Фото 17 скачано как 1fc0b076f4adef6175cfc438dc89067a_1200x900.jpg и записано в CSV.\n",
      "Фото 18 скачано как ae3aa6715277abff6a4e51bfce04110e_1200x900.jpg и записано в CSV.\n",
      "Фото 19 скачано как 5bd568b7051683ec6d373d91e7827d5f_1200x900.jpg и записано в CSV.\n",
      "Фото 20 скачано как 17bac70b5b18f16c6b5ec4006e066e5d_1200x900.jpg и записано в CSV.\n",
      "Фото 21 скачано как b67834ee175ae63bbe56b5d4b597b2dd_1200x900.jpg и записано в CSV.\n",
      "Фото 22 скачано как 0bf6356f9a8064cc364676ece93e0a1a_1200x900.jpg и записано в CSV.\n",
      "Фото 23 скачано как 8d668932efd4156bdc7921decef6c608_1200x900.jpg и записано в CSV.\n",
      "Фото 24 скачано как e37088a8db82ae1384d269e814618708_1200x900.jpg и записано в CSV.\n",
      "Фото 25 скачано как 7387487fbeb7eda0409bd489e6b98edb_1200x900.jpg и записано в CSV.\n"
     ]
    },
    {
     "name": "stderr",
     "output_type": "stream",
     "text": [
      "Flat images parsing:  48%|████▊     | 239/501 [24:54<36:26,  8.34s/it]"
     ]
    },
    {
     "name": "stdout",
     "output_type": "stream",
     "text": [
      "Фото 26 скачано как z7rvWKIV-as и записано в CSV.\n",
      "--------end of flat 2738 / 3000 ---------\n",
      "Фото 1 скачано как 67e2365b5fab02f76a8129d77442bdf1_1200x900.jpg и записано в CSV.\n",
      "Фото 2 скачано как 9051809a67ffbdf8a22af4859cefa38e_1200x900.jpg и записано в CSV.\n",
      "Фото 3 скачано как e31e4dd945ee5cf050765448dd548582_1200x900.jpg и записано в CSV.\n",
      "Фото 4 скачано как 2b60e62864912e23f552c57c339edf96_1200x900.jpg и записано в CSV.\n",
      "Фото 5 скачано как e71a73137f90ce427d1654c36b3b295d_1200x900.jpg и записано в CSV.\n",
      "Фото 6 скачано как 49b861ef0d723dde56f3404318fbc665_1200x900.jpg и записано в CSV.\n",
      "Фото 7 скачано как e2a0624fe2b16c622588a97344f19f2d_1200x900.jpg и записано в CSV.\n",
      "Фото 8 скачано как be5c961fdf47846ff49b37f25776fd3d_1200x900.jpg и записано в CSV.\n",
      "Фото 9 скачано как 9de5aae2729eb28cf0d444aad9f8744a_1200x900.jpg и записано в CSV.\n",
      "Фото 10 скачано как 5c969bf1f129d7bd3fa8e524d908a878_1200x900.jpg и записано в CSV.\n",
      "Фото 11 скачано как 2c72c4eafdb2070060499372e937988b_1200x900.jpg и записано в CSV.\n",
      "Фото 12 скачано как 427a2f8b2b6ac0ea588f8d2d7b591a58_1200x900.jpg и записано в CSV.\n",
      "Фото 13 скачано как 6881eb9074f7995472599a3e85d7b278_1200x900.jpg и записано в CSV.\n",
      "Фото 14 скачано как 70b25facc284e727fa5b838001b6a61d_1200x900.jpg и записано в CSV.\n",
      "Фото 15 скачано как 1381bf2cf7406e2fedcf9b9660654131_1200x900.jpg и записано в CSV.\n",
      "Фото 16 скачано как 5afceca059629f740ae599a4be083970_1200x900.jpg и записано в CSV.\n",
      "Фото 17 скачано как 242814c7f12a8ea1a639932869988014_1200x900.jpg и записано в CSV.\n",
      "Фото 18 скачано как 18ada2a9e980e4328e3eb975cb1f89e6_1200x900.jpg и записано в CSV.\n"
     ]
    },
    {
     "name": "stderr",
     "output_type": "stream",
     "text": [
      "Flat images parsing:  48%|████▊     | 240/501 [25:04<39:24,  9.06s/it]"
     ]
    },
    {
     "name": "stdout",
     "output_type": "stream",
     "text": [
      "Фото 19 скачано как 3AQXYx и записано в CSV.\n",
      "--------end of flat 2739 / 3000 ---------\n",
      "Фото 1 скачано как b23c72b177feb89b2b854ddaf8d24594_1200x900.jpg и записано в CSV.\n",
      "Фото 2 скачано как 264bebf7e1fe543e5197646993c7c9e6_1200x900.jpg и записано в CSV.\n",
      "Фото 3 скачано как d61228be24ad69916a06dae9673c4a78_1200x900.jpg и записано в CSV.\n",
      "Фото 4 скачано как e75ad966bcc5b0e60de0dc750e04dd80_1200x900.jpg и записано в CSV.\n",
      "Фото 5 скачано как 5590aacd8fd12744c1aa994da530b87d_1200x900.jpg и записано в CSV.\n",
      "Фото 6 скачано как 59d19b55b700f121d80065ff00022294_1200x900.jpg и записано в CSV.\n",
      "Фото 7 скачано как f269229ccde925112c8970a67999fefd_1200x900.jpg и записано в CSV.\n",
      "Фото 8 скачано как d7da324871ebe6517fa755fe23fc3767_1200x900.jpg и записано в CSV.\n",
      "Фото 9 скачано как e27d94e819f91c62b9131431f8075479_1200x900.jpg и записано в CSV.\n",
      "Фото 10 скачано как 74e3b828b6ebc1c8864e81a1bc65d298_1200x900.jpg и записано в CSV.\n",
      "Фото 11 скачано как 1ba4e96b2165ca79f7dd292b07783b7d_1200x900.jpg и записано в CSV.\n",
      "Фото 12 скачано как d81c9c4783c058b094c75d6d190ccd91_1200x900.jpg и записано в CSV.\n",
      "Фото 13 скачано как 00e5fc67dde5032976dafe6ac977dc98_1200x900.jpg и записано в CSV.\n"
     ]
    },
    {
     "name": "stderr",
     "output_type": "stream",
     "text": [
      "Flat images parsing:  48%|████▊     | 241/501 [25:13<38:28,  8.88s/it]"
     ]
    },
    {
     "name": "stdout",
     "output_type": "stream",
     "text": [
      "Фото 14 скачано как z7rvWKIV-as и записано в CSV.\n",
      "--------end of flat 2740 / 3000 ---------\n",
      "Фото 1 скачано как e25badce7e59795154bd3a4f308d36c3_1200x900.jpg и записано в CSV.\n",
      "Фото 2 скачано как 0daa5533d71118e9fe47b26a7980eaa3_1200x900.jpg и записано в CSV.\n",
      "Фото 3 скачано как 1d7d947a9281aa96fa8624c37e78a2a0_1200x900.jpg и записано в CSV.\n",
      "Фото 4 скачано как efff6d8b9d737ae42ad3f5bd5863dc54_1200x900.jpg и записано в CSV.\n",
      "Фото 5 скачано как 7a0483713bceea4a663dccb78dbd6ce6_1200x900.jpg и записано в CSV.\n",
      "Фото 6 скачано как bad8b4136348392fa4e111b7a18c6ee6_1200x900.jpg и записано в CSV.\n",
      "Фото 7 скачано как fed7e42f3e12d605e28615489c11a0ec_1200x900.jpg и записано в CSV.\n",
      "Фото 8 скачано как 6fc8927c6f4f9d31d900dd4f5b3b10c8_1200x900.jpg и записано в CSV.\n",
      "Фото 9 скачано как 0c683fdb4bbdb26839209e373eb5dd3c_1200x900.jpg и записано в CSV.\n",
      "Фото 10 скачано как c1316fb7f2fb98e97248821b05d93411_1200x900.jpg и записано в CSV.\n",
      "Фото 11 скачано как b2d07ea035f619d4b0da34871a4a7b46_1200x900.jpg и записано в CSV.\n",
      "Фото 12 скачано как 1994f7d3798448dd59537c9bcbcfb7ea_1200x900.jpg и записано в CSV.\n",
      "Фото 13 скачано как 050aa6658e9eb28055585beab9298e5c_1200x900.jpg и записано в CSV.\n",
      "Фото 14 скачано как 827f6391d5b214a3a3055bc8bc1819a2_1200x900.jpg и записано в CSV.\n",
      "Фото 15 скачано как 193f80cf1857c9b3671ed2ecb471ff37_1200x900.jpg и записано в CSV.\n",
      "Фото 16 скачано как a829f96b3533eb7c818fb2907ffa7827_1200x900.jpg и записано в CSV.\n"
     ]
    },
    {
     "name": "stderr",
     "output_type": "stream",
     "text": [
      "Flat images parsing:  48%|████▊     | 242/501 [25:24<41:58,  9.73s/it]"
     ]
    },
    {
     "name": "stdout",
     "output_type": "stream",
     "text": [
      "Фото 17 скачано как z7rvWKIV-as и записано в CSV.\n",
      "--------end of flat 2741 / 3000 ---------\n",
      "Фото 1 скачано как d106064f58a5579c03c0e513a0be7759_1200x900.jpg и записано в CSV.\n",
      "Фото 2 скачано как 600a2f35cc1898057f503de7f68bd504_1200x900.jpg и записано в CSV.\n",
      "Фото 3 скачано как e1cdc9face2a9bb3293ab9c0b5a04f0b_1200x900.jpg и записано в CSV.\n",
      "Фото 4 скачано как 100ab1f4596c57389259cc9d72d00448_1200x900.jpg и записано в CSV.\n",
      "Фото 5 скачано как 4a49f235bec3ed15e70f1099c0487eac_1200x900.jpg и записано в CSV.\n",
      "Фото 6 скачано как dd344f78c8d07d42a4eed918b388162c_1200x900.jpg и записано в CSV.\n"
     ]
    },
    {
     "name": "stderr",
     "output_type": "stream",
     "text": [
      "Flat images parsing:  49%|████▊     | 243/501 [25:29<35:09,  8.18s/it]"
     ]
    },
    {
     "name": "stdout",
     "output_type": "stream",
     "text": [
      "Фото 7 скачано как 3AQXYx и записано в CSV.\n",
      "--------end of flat 2742 / 3000 ---------\n",
      "Фото 1 скачано как c96375c1bc453e476038d431159aec6f_1200x900.jpg и записано в CSV.\n",
      "Фото 2 скачано как d3bd2c48655dbd20eda9ce89ce63d62f_1200x900.jpg и записано в CSV.\n",
      "Фото 3 скачано как 30f548e7fa8e2752b9d9a7a1e8f0c991_1200x900.jpg и записано в CSV.\n",
      "Фото 4 скачано как 676bc1fca0bb026bc0e610961401e91b_1200x900.jpg и записано в CSV.\n",
      "Фото 5 скачано как 382ca81524d231369469d55aa9a04ddb_1200x900.jpg и записано в CSV.\n",
      "Фото 6 скачано как 3e252d3f4eb4d9b017c6cb91b1e3a35a_1200x900.jpg и записано в CSV.\n",
      "Фото 7 скачано как 332573990ec16d3c876ea5b0dd7c2662_1200x900.jpg и записано в CSV.\n",
      "Фото 8 скачано как 139646642b918d6a41640325603e24bc_1200x900.jpg и записано в CSV.\n",
      "Фото 9 скачано как a0410da725e9e9083072be20f45ba988_1200x900.jpg и записано в CSV.\n",
      "Фото 10 скачано как 9bc48917870a16850ad36bddbee6e845_1200x900.jpg и записано в CSV.\n",
      "Фото 11 скачано как 5244e3a2d46ee4ed20393263cd44c906_1200x900.jpg и записано в CSV.\n",
      "Фото 12 скачано как 7e16ac6dd824e192e863fdd6c1ad081e_1200x900.jpg и записано в CSV.\n",
      "Фото 13 скачано как 9b7c3a685fa97a0c7fe4c5d410a9d512_1200x900.jpg и записано в CSV.\n",
      "Фото 14 скачано как 41f6149aec372700a2c192b5026656ee_1200x900.jpg и записано в CSV.\n"
     ]
    },
    {
     "name": "stderr",
     "output_type": "stream",
     "text": [
      "Flat images parsing:  49%|████▊     | 244/501 [25:37<35:21,  8.26s/it]"
     ]
    },
    {
     "name": "stdout",
     "output_type": "stream",
     "text": [
      "Фото 15 скачано как z7rvWKIV-as и записано в CSV.\n",
      "--------end of flat 2743 / 3000 ---------\n",
      "Фото 1 скачано как 3e2e81d830b4598103944eea6d3abe00_1200x900.jpg и записано в CSV.\n",
      "Фото 2 скачано как f7d198ed230b71df1752a5c79257d7f7_1200x900.jpg и записано в CSV.\n",
      "Фото 3 скачано как 7e20f6280bd7923fd31772183867606b_1200x900.jpg и записано в CSV.\n",
      "Фото 4 скачано как bb645fe5c3c1752f0b8a6a591b5b5ea7_1200x900.jpg и записано в CSV.\n",
      "Фото 5 скачано как 6b2b6839c54654f129cd8cd59b27e550_1200x900.jpg и записано в CSV.\n",
      "Фото 6 скачано как 8dff6d61caa396b3cbc1a13684948dfb_1200x900.jpg и записано в CSV.\n",
      "Фото 7 скачано как 78cef73e8bdc539735860bc2304e6204_1200x900.jpg и записано в CSV.\n",
      "Фото 8 скачано как bda423871210588367fbf87c0e28001b_1200x900.jpg и записано в CSV.\n",
      "Фото 9 скачано как 6d3afb7cbd2d2f8d0a30e7dfe60210bb_1200x900.jpg и записано в CSV.\n"
     ]
    },
    {
     "name": "stderr",
     "output_type": "stream",
     "text": [
      "Flat images parsing:  49%|████▉     | 245/501 [25:45<33:50,  7.93s/it]"
     ]
    },
    {
     "name": "stdout",
     "output_type": "stream",
     "text": [
      "Фото 10 скачано как z7rvWKIV-as и записано в CSV.\n",
      "--------end of flat 2744 / 3000 ---------\n",
      "Фото 1 скачано как ab1f6a72252414b3e05cd67352354d6b_1200x900.jpg и записано в CSV.\n",
      "Фото 2 скачано как c8bf9830b90ca7ed58468c0c55630d23_1200x900.jpg и записано в CSV.\n",
      "Фото 3 скачано как 525aa99fbf680aab35ba0f1246893e1c_1200x900.jpg и записано в CSV.\n",
      "Фото 4 скачано как 8dcae377b0977878efe988a5378f45b1_1200x900.jpg и записано в CSV.\n",
      "Фото 5 скачано как d51274be7a5a743a323a99362bdc1bed_1200x900.jpg и записано в CSV.\n",
      "Фото 6 скачано как eee6e1df53089026fdd8e49b83f74244_1200x900.jpg и записано в CSV.\n",
      "Фото 7 скачано как aad7f9942deb5feb2c83a221a7c596b7_1200x900.jpg и записано в CSV.\n",
      "Фото 8 скачано как a3428447896357b0daf7512b0d759547_1200x900.jpg и записано в CSV.\n",
      "Фото 9 скачано как 9b2c6176f573f4652a6f0509a748f9f0_1200x900.jpg и записано в CSV.\n",
      "Фото 10 скачано как 1b69776c00a9739b7877607d2a24c77d_1200x900.jpg и записано в CSV.\n",
      "Фото 11 скачано как 968d3ea7fbb88a2041275a9ca0d153ff_1200x900.jpg и записано в CSV.\n",
      "Фото 12 скачано как 76c8fdb2b128179f7e37d67b14259076_1200x900.jpg и записано в CSV.\n",
      "Фото 13 скачано как 467489dde23f736847226199f8e12ee7_1200x900.jpg и записано в CSV.\n",
      "Фото 14 скачано как 9de598a93e5f0bf3f99bdfea9d097cc7_1200x900.jpg и записано в CSV.\n"
     ]
    },
    {
     "name": "stderr",
     "output_type": "stream",
     "text": [
      "Flat images parsing:  49%|████▉     | 246/501 [25:54<35:21,  8.32s/it]"
     ]
    },
    {
     "name": "stdout",
     "output_type": "stream",
     "text": [
      "Фото 15 скачано как 37jCNp и записано в CSV.\n",
      "--------end of flat 2745 / 3000 ---------\n",
      "Фото 1 скачано как 8a9bb9f650266560e8b3e295f9b25c91_1200x900.jpg и записано в CSV.\n",
      "Фото 2 скачано как a55b3395aaee39bb49f0c8a7f8e510de_1200x900.jpg и записано в CSV.\n",
      "Фото 3 скачано как e8dd628fd043b4622212b3d7c8483641_1200x900.jpg и записано в CSV.\n",
      "Фото 4 скачано как a6c34b42058e0a78a5a726c525a0054a_1200x900.jpg и записано в CSV.\n",
      "Фото 5 скачано как e5ae10444ed4e069491308eb660da7e9_1200x900.jpg и записано в CSV.\n",
      "Фото 6 скачано как 063ff1c789a1325b4e590bb4f717d6d9_1200x900.jpg и записано в CSV.\n",
      "Фото 7 скачано как ab65f982dc501894009b251af8d3b0d5_1200x900.jpg и записано в CSV.\n",
      "Фото 8 скачано как 11f4736abf95f61b9b93a277850dc848_1200x900.jpg и записано в CSV.\n",
      "Фото 9 скачано как c847629d4d47a1c54dd9e101056d2613_1200x900.jpg и записано в CSV.\n"
     ]
    },
    {
     "name": "stderr",
     "output_type": "stream",
     "text": [
      "Flat images parsing:  49%|████▉     | 247/501 [26:00<32:24,  7.66s/it]"
     ]
    },
    {
     "name": "stdout",
     "output_type": "stream",
     "text": [
      "Фото 10 скачано как z7rvWKIV-as и записано в CSV.\n",
      "--------end of flat 2746 / 3000 ---------\n",
      "Фото 1 скачано как 0c9843ca4b35e06b654b29c07173e803_1200x900.jpg и записано в CSV.\n",
      "Фото 2 скачано как 297346fd99abbe4acb89da117607980e_1200x900.jpg и записано в CSV.\n",
      "Фото 3 скачано как dd1be68f4a1bba826888ea0e551c0aab_1200x900.jpg и записано в CSV.\n",
      "Фото 4 скачано как f7a2c8d464268c57766e35f945a27ff2_1200x900.jpg и записано в CSV.\n",
      "Фото 5 скачано как 59ae2d38a05656742d32df2d25fff760_1200x900.jpg и записано в CSV.\n",
      "Фото 6 скачано как 826c800e0e281b7a5ace88bd63135fd1_1200x900.jpg и записано в CSV.\n",
      "Фото 7 скачано как 25961d2461e073b9115bb100b54fe6bc_1200x900.jpg и записано в CSV.\n",
      "Фото 8 скачано как 0f337d964ac830d7f2a0bf893ed901ef_1200x900.jpg и записано в CSV.\n",
      "Фото 9 скачано как fdaa1e7ffdae8df691f87c4c2751386b_1200x900.jpg и записано в CSV.\n",
      "Фото 10 скачано как e4ecc4d0dbf7d451fc4122e8a01af47c_1200x900.jpg и записано в CSV.\n",
      "Фото 11 скачано как 3f60e692e89501aa3612cd53ec828987_1200x900.jpg и записано в CSV.\n",
      "Фото 12 скачано как bf321075cbd3efd653bdb182df3dc23d_1200x900.jpg и записано в CSV.\n"
     ]
    },
    {
     "name": "stderr",
     "output_type": "stream",
     "text": [
      "Flat images parsing:  50%|████▉     | 248/501 [26:08<33:02,  7.84s/it]"
     ]
    },
    {
     "name": "stdout",
     "output_type": "stream",
     "text": [
      "Фото 13 скачано как 3AQXYx и записано в CSV.\n",
      "--------end of flat 2747 / 3000 ---------\n",
      "Фото 1 скачано как 371b4443fa73c88418dcc86cf26e89a9_1200x900.jpg и записано в CSV.\n",
      "Фото 2 скачано как e16ca33dbcf17ec5c0036313790ead1b_1200x900.jpg и записано в CSV.\n",
      "Фото 3 скачано как c11b946733f53be1b01f6c392c7d6f3c_1200x900.jpg и записано в CSV.\n",
      "Фото 4 скачано как a3f26a57be62d6a6a83f5b0ac4ef16aa_1200x900.jpg и записано в CSV.\n",
      "Фото 5 скачано как ec6fbb444d0fe4f574e7f36f0f250b49_1200x900.jpg и записано в CSV.\n",
      "Фото 6 скачано как 0dfa87def17e29a474aff6a6c42861fd_1200x900.jpg и записано в CSV.\n",
      "Фото 7 скачано как 3257a6a3fc9548bbb898271276ccaac5_1200x900.jpg и записано в CSV.\n",
      "Фото 8 скачано как be076b16f7a350686ac08785248fdc16_1200x900.jpg и записано в CSV.\n"
     ]
    },
    {
     "name": "stderr",
     "output_type": "stream",
     "text": [
      "Flat images parsing:  50%|████▉     | 249/501 [26:13<28:44,  6.84s/it]"
     ]
    },
    {
     "name": "stdout",
     "output_type": "stream",
     "text": [
      "Фото 9 скачано как 3AQXYx и записано в CSV.\n",
      "--------end of flat 2748 / 3000 ---------\n"
     ]
    },
    {
     "name": "stderr",
     "output_type": "stream",
     "text": [
      "Flat images parsing:  50%|████▉     | 250/501 [26:14<21:04,  5.04s/it]"
     ]
    },
    {
     "name": "stdout",
     "output_type": "stream",
     "text": [
      "Фото 1 скачано как fdd7ea33eb20ce5bb2c8738bc94c89c0_1200x900.jpg и записано в CSV.\n",
      "Фото 2 скачано как 59810bf513b398dbea28fa15d253e909_1200x900.jpg и записано в CSV.\n",
      "Фото 3 скачано как c1676227ef021a507609be62a6a4c2fb_1200x900.jpg и записано в CSV.\n",
      "Фото 4 скачано как 6a17ba4d60f041db8f1a0161c6e11a3c_1200x900.jpg и записано в CSV.\n",
      "Фото 5 скачано как b905d995b7a403e07224669053b5bd49_1200x900.jpg и записано в CSV.\n",
      "Фото 6 скачано как c719d478a5768e431ef922420125f44d_1200x900.jpg и записано в CSV.\n",
      "Фото 7 скачано как c0ca1d1913e895ec4715cd38abfa3ef7_1200x900.jpg и записано в CSV.\n",
      "Фото 8 скачано как bf4a1da334ed2b11e2d43a61bd93d27c_1200x900.jpg и записано в CSV.\n",
      "Фото 9 скачано как b8e316baa535f18df8b66a22b9ef8e8e_1200x900.jpg и записано в CSV.\n",
      "Фото 10 скачано как 67ace4b31a85097bb94e202e9095e2e3_1200x900.jpg и записано в CSV.\n",
      "Фото 11 скачано как b03264729e6a2dda935e3fb7f9e17fc1_1200x900.jpg и записано в CSV.\n",
      "Фото 12 скачано как fff305c6c031157d316dc0ffc0b3536d_1200x900.jpg и записано в CSV.\n",
      "Фото 13 скачано как 714be0888f2e784dbd5410df9c466a2e_1200x900.jpg и записано в CSV.\n",
      "Фото 14 скачано как 94ee175ada8560e90675442bfc3d3539_1200x900.jpg и записано в CSV.\n",
      "Фото 15 скачано как da1dcaacfdac638aebcfdc4d21352732_1200x900.jpg и записано в CSV.\n",
      "Фото 16 скачано как b11a2a0eedefdc3fe163cbb3b6469aec_1200x900.jpg и записано в CSV.\n",
      "Фото 17 скачано как 20ea70d70c756fc30ff90610483ec7eb_1200x900.jpg и записано в CSV.\n",
      "Фото 18 скачано как c7b27db7827dea1b30cbe0c4794ae9f3_1200x900.jpg и записано в CSV.\n"
     ]
    },
    {
     "name": "stderr",
     "output_type": "stream",
     "text": [
      "Flat images parsing:  50%|█████     | 251/501 [26:24<27:52,  6.69s/it]"
     ]
    },
    {
     "name": "stdout",
     "output_type": "stream",
     "text": [
      "Фото 19 скачано как 3AQXYx и записано в CSV.\n",
      "--------end of flat 2750 / 3000 ---------\n",
      "Фото 1 скачано как 35ab8173ba9a300069be87c5db0df997_1200x900.jpg и записано в CSV.\n",
      "Фото 2 скачано как 8098146b1daca51a12c1042aeba1ccf9_1200x900.jpg и записано в CSV.\n",
      "Фото 3 скачано как 463debca0bed3e4c266aab90ae7fee6f_1200x900.jpg и записано в CSV.\n",
      "Фото 4 скачано как 4f38575969fcec0894efaa9d063129ea_1200x900.jpg и записано в CSV.\n",
      "Фото 5 скачано как 8d6c0e5a91b1d87e6c2453656b810fa4_1200x900.jpg и записано в CSV.\n",
      "Фото 6 скачано как 3e1e621455abe63901df2b18aa9102be_1200x900.jpg и записано в CSV.\n"
     ]
    },
    {
     "name": "stderr",
     "output_type": "stream",
     "text": [
      "Flat images parsing:  50%|█████     | 252/501 [26:29<25:09,  6.06s/it]"
     ]
    },
    {
     "name": "stdout",
     "output_type": "stream",
     "text": [
      "Фото 7 скачано как z7rvWKIV-as и записано в CSV.\n",
      "--------end of flat 2751 / 3000 ---------\n",
      "Фото 1 скачано как f617b3c9c01ec5afb8499440540d9de3_1200x900.jpg и записано в CSV.\n",
      "Фото 2 скачано как 03761d3b53f924ef09700158d372fa96_1200x900.jpg и записано в CSV.\n",
      "Фото 3 скачано как a188cab5d148985f85c1c309e9d58ddc_1200x900.jpg и записано в CSV.\n",
      "Фото 4 скачано как f7a67e19f33c2d6e4d7c687de1ffc6b4_1200x900.jpg и записано в CSV.\n",
      "Фото 5 скачано как ba80b4ef57bc341f020a1f3a15c6130d_1200x900.jpg и записано в CSV.\n",
      "Фото 6 скачано как 5fcc509189ded7bdce8b5b7868edc288_1200x900.jpg и записано в CSV.\n",
      "Фото 7 скачано как 375aa69fbeae02ba5409e224c798595d_1200x900.jpg и записано в CSV.\n",
      "Фото 8 скачано как e7219887186c73e9044c9908b15bc0d4_1200x900.jpg и записано в CSV.\n",
      "Фото 9 скачано как 4b889ac1f507fac86b3fe5f621d0bbef_1200x900.jpg и записано в CSV.\n",
      "Фото 10 скачано как 8783f29f71a8d447a693a7f83029a322_1200x900.jpg и записано в CSV.\n",
      "Фото 11 скачано как 94eb07f0c0014612276c2548c8f2d5b1_1200x900.jpg и записано в CSV.\n"
     ]
    },
    {
     "name": "stderr",
     "output_type": "stream",
     "text": [
      "Flat images parsing:  50%|█████     | 253/501 [26:36<26:22,  6.38s/it]"
     ]
    },
    {
     "name": "stdout",
     "output_type": "stream",
     "text": [
      "Фото 12 скачано как 3AQXYx и записано в CSV.\n",
      "--------end of flat 2752 / 3000 ---------\n",
      "Фото 1 скачано как 4e703c1ac4d16cab4e2e07820519a31c_1200x900.jpg и записано в CSV.\n",
      "Фото 2 скачано как a0a9642096abd5a868c35deb62f7c450_1200x900.jpg и записано в CSV.\n",
      "Фото 3 скачано как 04ec6ae305d8a9d016e3c78250c57054_1200x900.jpg и записано в CSV.\n",
      "Фото 4 скачано как b524db5453bbe78bfbb2bc4ff508d6b1_1200x900.jpg и записано в CSV.\n",
      "Фото 5 скачано как fc7239170546af6d2788d3afeb729499_1200x900.jpg и записано в CSV.\n",
      "Фото 6 скачано как 1d1fa63da21c8571eda1142b50ba8ea4_1200x900.jpg и записано в CSV.\n",
      "Фото 7 скачано как a6dbbc67e1c9a40a67e7bd147f3e7d4e_1200x900.jpg и записано в CSV.\n"
     ]
    },
    {
     "name": "stderr",
     "output_type": "stream",
     "text": [
      "Flat images parsing:  51%|█████     | 254/501 [26:42<25:35,  6.22s/it]"
     ]
    },
    {
     "name": "stdout",
     "output_type": "stream",
     "text": [
      "Фото 8 скачано как z7rvWKIV-as и записано в CSV.\n",
      "--------end of flat 2753 / 3000 ---------\n",
      "Фото 1 скачано как ef092a3d2249209aa1cd1fb90ff8b887_1200x900.jpg и записано в CSV.\n",
      "Фото 2 скачано как 52e62d88bf3d5405e2bf4d60249161fa_1200x900.jpg и записано в CSV.\n",
      "Фото 3 скачано как e08982341f1fa39511f4b1395abc21fa_1200x900.jpg и записано в CSV.\n",
      "Фото 4 скачано как 68c7a8ec1903b02ca47d8a5eb2944d04_1200x900.jpg и записано в CSV.\n",
      "Фото 5 скачано как e20f1c31ee22ae219d1909874912d894_1200x900.jpg и записано в CSV.\n",
      "Фото 6 скачано как fa3ca1fc2d75d9f775aca6fcc1641d7e_1200x900.jpg и записано в CSV.\n",
      "Фото 7 скачано как 4ff579198124a90e6c16480dc70da222_1200x900.jpg и записано в CSV.\n",
      "Фото 8 скачано как eaadc5f7970929e12a20c3089a3c86b7_1200x900.jpg и записано в CSV.\n",
      "Фото 9 скачано как 33c66ed505cf236b732e93d64194e427_1200x900.jpg и записано в CSV.\n",
      "Фото 10 скачано как 1fba204232ba5f4ca3936fdd5e28666b_1200x900.jpg и записано в CSV.\n",
      "Фото 11 скачано как 125b06088fb1c2ad13986f3117f1999c_1200x900.jpg и записано в CSV.\n",
      "Фото 12 скачано как 2b2591f6f2ac828d88b13b92118d7291_1200x900.jpg и записано в CSV.\n",
      "Фото 13 скачано как a6a32c4cfacb3105db5246029eb37bb6_1200x900.jpg и записано в CSV.\n"
     ]
    },
    {
     "name": "stderr",
     "output_type": "stream",
     "text": [
      "Flat images parsing:  51%|█████     | 255/501 [26:50<27:33,  6.72s/it]"
     ]
    },
    {
     "name": "stdout",
     "output_type": "stream",
     "text": [
      "Фото 14 скачано как z7rvWKIV-as и записано в CSV.\n",
      "--------end of flat 2754 / 3000 ---------\n",
      "Фото 1 скачано как addc4c555963ff7a7ca30d8c91364c08_1200x900.jpg и записано в CSV.\n",
      "Фото 2 скачано как 3c8049d089f23b0f9af886ca5fac0384_1200x900.jpg и записано в CSV.\n",
      "Фото 3 скачано как dc24f57e59760d9c0230d0e141d27419_1200x900.jpg и записано в CSV.\n",
      "Фото 4 скачано как 0771d36dbc9946087319425a5d1c688b_1200x900.jpg и записано в CSV.\n",
      "Фото 5 скачано как 3b70d9892d88751e8dbc72745d216ad0_1200x900.jpg и записано в CSV.\n",
      "Фото 6 скачано как fc71af0091aa8a7a2c211be6219e80e7_1200x900.jpg и записано в CSV.\n",
      "Фото 7 скачано как 622835eb6edee0e8a9eba1cb223f95d8_1200x900.jpg и записано в CSV.\n",
      "Фото 8 скачано как e506e64ca2e73011ad6b99e2ec6f4cd4_1200x900.jpg и записано в CSV.\n"
     ]
    },
    {
     "name": "stderr",
     "output_type": "stream",
     "text": [
      "Flat images parsing:  51%|█████     | 256/501 [26:55<25:17,  6.19s/it]"
     ]
    },
    {
     "name": "stdout",
     "output_type": "stream",
     "text": [
      "Фото 9 скачано как 37jCNp и записано в CSV.\n",
      "--------end of flat 2755 / 3000 ---------\n",
      "Фото 1 скачано как a5990d3547d41c6aa7d527cf6f00c431_1200x900.jpg и записано в CSV.\n",
      "Фото 2 скачано как 76d010735eb22daadb5c07831a5a4226_1200x900.jpg и записано в CSV.\n",
      "Фото 3 скачано как 2262f23974e6a76997758de4ace4cc3a_1200x900.jpg и записано в CSV.\n",
      "Фото 4 скачано как a494d7ad952828fa46bd7d051c43ddde_1200x900.jpg и записано в CSV.\n",
      "Фото 5 скачано как f7a62226c0cc364c69baf0339febbdda_1200x900.jpg и записано в CSV.\n",
      "Фото 6 скачано как a3cb8ab70e0265cf121bda56a4ec966e_1200x900.jpg и записано в CSV.\n",
      "Фото 7 скачано как d728a721a210d4060714a129fa1d6547_1200x900.jpg и записано в CSV.\n"
     ]
    },
    {
     "name": "stderr",
     "output_type": "stream",
     "text": [
      "Flat images parsing:  51%|█████▏    | 257/501 [26:59<23:35,  5.80s/it]"
     ]
    },
    {
     "name": "stdout",
     "output_type": "stream",
     "text": [
      "Фото 8 скачано как 5331904d7ace9be4de5fdd82a937c077_1200x900.jpg и записано в CSV.\n",
      "--------end of flat 2756 / 3000 ---------\n",
      "Фото 1 скачано как 32bd533c4bcb37b0ba69ca4ecdaa393f_1200x900.jpg и записано в CSV.\n",
      "Фото 2 скачано как ce87a3a3ab8ac90e23f74a186ff6d97a_1200x900.jpg и записано в CSV.\n",
      "Фото 3 скачано как 9a88699239ca2e43bf8d5aaca1876766_1200x900.jpg и записано в CSV.\n",
      "Фото 4 скачано как e545c9f9091c63a753b4d4ecc5494677_1200x900.jpg и записано в CSV.\n",
      "Фото 5 скачано как c684bd70cd107f36f4a0bbc2ac3dadfa_1200x900.jpg и записано в CSV.\n",
      "Фото 6 скачано как 6b3f31febcc7c0f7466fffb5851c3a25_1200x900.jpg и записано в CSV.\n",
      "Фото 7 скачано как a29a3b1f974758b4634d14c800ea6c83_1200x900.jpg и записано в CSV.\n",
      "Фото 8 скачано как 223642eb26d345205430ab9de140faae_1200x900.jpg и записано в CSV.\n",
      "Фото 9 скачано как 50eabba1fbee944a7c6df6f27a9a0120_1200x900.jpg и записано в CSV.\n",
      "Фото 10 скачано как 26d382b5840cd2434946f978c2bec0b7_1200x900.jpg и записано в CSV.\n",
      "Фото 11 скачано как 4ce6603c002b762b8a32cc5c680b7906_1200x900.jpg и записано в CSV.\n",
      "Фото 12 скачано как 535d1e3b2ac24e1a95e0f1e980e64a62_1200x900.jpg и записано в CSV.\n",
      "Фото 13 скачано как e430e37f79c3afbdc802d048962ead82_1200x900.jpg и записано в CSV.\n",
      "Фото 14 скачано как 20c0ed4a45ef6337dc0a3491e715604e_1200x900.jpg и записано в CSV.\n",
      "Фото 15 скачано как 174730fe01016959ecdea525c46020c6_1200x900.jpg и записано в CSV.\n",
      "Фото 16 скачано как e22f9f93f8f8fb15bdc5cf6be9bee572_1200x900.jpg и записано в CSV.\n",
      "Фото 17 скачано как cf71865379dc8b3b445790a0965e5047_1200x900.jpg и записано в CSV.\n",
      "Фото 18 скачано как c0b3dec5b6db8d3a9e87fd2d8953711b_1200x900.jpg и записано в CSV.\n",
      "Фото 19 скачано как 5ddcb77b3f13e10a0efefade492b270a_1200x900.jpg и записано в CSV.\n"
     ]
    },
    {
     "name": "stderr",
     "output_type": "stream",
     "text": [
      "Flat images parsing:  51%|█████▏    | 258/501 [27:12<32:02,  7.91s/it]"
     ]
    },
    {
     "name": "stdout",
     "output_type": "stream",
     "text": [
      "Фото 20 скачано как 3AQXYx и записано в CSV.\n",
      "--------end of flat 2757 / 3000 ---------\n",
      "Фото 1 скачано как b04a54385548441dc2b27f5be3733ee3_1200x900.jpg и записано в CSV.\n",
      "Фото 2 скачано как da2523cc654d94766cd08a9dd4865bff_1200x900.jpg и записано в CSV.\n",
      "Фото 3 скачано как 46dd3ac373804e43130caf7f2384752a_1200x900.jpg и записано в CSV.\n",
      "Фото 4 скачано как 42952132b8059f344f88dca127830436_1200x900.jpg и записано в CSV.\n",
      "Фото 5 скачано как a176f53a696378db0f4a83a5d92bd9e5_1200x900.jpg и записано в CSV.\n",
      "Фото 6 скачано как 2e53fab314fbe16dc5e24ae09f63cc4a_1200x900.jpg и записано в CSV.\n"
     ]
    },
    {
     "name": "stderr",
     "output_type": "stream",
     "text": [
      "Flat images parsing:  52%|█████▏    | 259/501 [27:17<28:10,  6.98s/it]"
     ]
    },
    {
     "name": "stdout",
     "output_type": "stream",
     "text": [
      "Фото 7 скачано как z7rvWKIV-as и записано в CSV.\n",
      "--------end of flat 2758 / 3000 ---------\n",
      "Фото 1 скачано как b86ab3049e811853cd8d22c86005e184_1200x900.jpg и записано в CSV.\n",
      "Фото 2 скачано как 728d7cd54e72097c28a3f49bee41ef59_1200x900.jpg и записано в CSV.\n",
      "Фото 3 скачано как cbaadbbcd2fe71c555ee5514fff0bd21_1200x900.jpg и записано в CSV.\n",
      "Фото 4 скачано как da5257dca6a9edfc9d71d55ea6187405_1200x900.jpg и записано в CSV.\n",
      "Фото 5 скачано как 81472aa1d7517bd6e30df406b3c6930c_1200x900.jpg и записано в CSV.\n",
      "Фото 6 скачано как 74f1bf1dc3a5fcc0557c9921bed315fd_1200x900.jpg и записано в CSV.\n",
      "Фото 7 скачано как fc3c174d978bb891fc290883fb1946bd_1200x900.jpg и записано в CSV.\n",
      "Фото 8 скачано как 189ce4308e395f07e10b499cc62216ad_1200x900.jpg и записано в CSV.\n",
      "Фото 9 скачано как e5094b648d8f79d8c334ce0082b84228_1200x900.jpg и записано в CSV.\n",
      "Фото 10 скачано как eda57f6a89953aee90ae2faeb2a74c15_1200x900.jpg и записано в CSV.\n",
      "Фото 11 скачано как 06b4ce06fb73c1a6ff877763e754bd48_1200x900.jpg и записано в CSV.\n",
      "Фото 12 скачано как c2a601724880b30f3d538d5be734f25a_1200x900.jpg и записано в CSV.\n",
      "Фото 13 скачано как 3670fd0f931182d2ef28a5b398fe1669_1200x900.jpg и записано в CSV.\n"
     ]
    },
    {
     "name": "stderr",
     "output_type": "stream",
     "text": [
      "Flat images parsing:  52%|█████▏    | 260/501 [27:26<30:07,  7.50s/it]"
     ]
    },
    {
     "name": "stdout",
     "output_type": "stream",
     "text": [
      "Фото 14 скачано как z7rvWKIV-as и записано в CSV.\n",
      "--------end of flat 2759 / 3000 ---------\n",
      "Фото 1 скачано как 360de086eea929da13f4307462773218_1200x900.jpg и записано в CSV.\n",
      "Фото 2 скачано как a2f894b9c9a5535aa8e715a8f87d2db0_1200x900.jpg и записано в CSV.\n",
      "Фото 3 скачано как 0a708365c3c87c2815ebf99d5b5e61fe_1200x900.jpg и записано в CSV.\n",
      "Фото 4 скачано как e8272e33782951c4d900b6f100ffa836_1200x900.jpg и записано в CSV.\n",
      "Фото 5 скачано как da931fccf7708b9b4b8aeb8a3fdf48db_1200x900.jpg и записано в CSV.\n",
      "Фото 6 скачано как 9054af963f8baafce96250a617b0842d_1200x900.jpg и записано в CSV.\n",
      "Фото 7 скачано как 14917972faad58f329423a3e274b0c82_1200x900.jpg и записано в CSV.\n",
      "Фото 8 скачано как b7aa89b91de22fcbc6b5733624bddce6_1200x900.jpg и записано в CSV.\n"
     ]
    },
    {
     "name": "stderr",
     "output_type": "stream",
     "text": [
      "Flat images parsing:  52%|█████▏    | 261/501 [27:32<28:29,  7.12s/it]"
     ]
    },
    {
     "name": "stdout",
     "output_type": "stream",
     "text": [
      "Фото 9 скачано как z7rvWKIV-as и записано в CSV.\n",
      "--------end of flat 2760 / 3000 ---------\n",
      "Фото 1 скачано как c2b440428215642e3664b9b6d18f6d6f_1200x900.jpg и записано в CSV.\n",
      "Фото 2 скачано как 27ab3cb2e4fa2e1c7a3d83996f8d45c6_1200x900.jpg и записано в CSV.\n",
      "Фото 3 скачано как 85c6b1172951d755f7b6f155250f4a83_1200x900.jpg и записано в CSV.\n",
      "Фото 4 скачано как 708760e92aff165b8454f040134e7441_1200x900.jpg и записано в CSV.\n",
      "Фото 5 скачано как 6205825e142adfc51c1c0f56f1287025_1200x900.jpg и записано в CSV.\n"
     ]
    },
    {
     "name": "stderr",
     "output_type": "stream",
     "text": [
      "Flat images parsing:  52%|█████▏    | 262/501 [27:37<25:21,  6.37s/it]"
     ]
    },
    {
     "name": "stdout",
     "output_type": "stream",
     "text": [
      "Фото 6 скачано как z7rvWKIV-as и записано в CSV.\n",
      "--------end of flat 2761 / 3000 ---------\n",
      "Фото 1 скачано как a1a87ef3e0d3b7b84d2733f55c55220a_1200x900.jpg и записано в CSV.\n",
      "Фото 2 скачано как 789bb902e9c3b1482bf26393ce53eb40_1200x900.jpg и записано в CSV.\n",
      "Фото 3 скачано как 36f7894764162191030b49afe17b61b7_1200x900.jpg и записано в CSV.\n",
      "Фото 4 скачано как 64739f1d0e8e97b8c485f2e33ac241e6_1200x900.jpg и записано в CSV.\n",
      "Фото 5 скачано как cd6d487a1e78a76e5ba16e6176c3cb74_1200x900.jpg и записано в CSV.\n",
      "Фото 6 скачано как 61217a23869b0a2e629c269e111d32b1_1200x900.jpg и записано в CSV.\n",
      "Фото 7 скачано как 05c9a8a0fe0cc6461eb548647522b6cb_1200x900.jpg и записано в CSV.\n",
      "Фото 8 скачано как a8ed42bf6e1353cc2098dd6f6a20fc8c_1200x900.jpg и записано в CSV.\n",
      "Фото 9 скачано как 4b0c766a8d965832ad1d0a07e7805886_1200x900.jpg и записано в CSV.\n"
     ]
    },
    {
     "name": "stderr",
     "output_type": "stream",
     "text": [
      "Flat images parsing:  52%|█████▏    | 263/501 [27:44<26:55,  6.79s/it]"
     ]
    },
    {
     "name": "stdout",
     "output_type": "stream",
     "text": [
      "Фото 10 скачано как 37jCNp и записано в CSV.\n",
      "--------end of flat 2762 / 3000 ---------\n"
     ]
    },
    {
     "name": "stderr",
     "output_type": "stream",
     "text": [
      "Flat images parsing:  53%|█████▎    | 264/501 [27:45<19:35,  4.96s/it]"
     ]
    },
    {
     "name": "stdout",
     "output_type": "stream",
     "text": [
      "Фото 1 скачано как d787dd2b9d291f74d710bf07e202c443_1200x900.jpg и записано в CSV.\n",
      "Фото 2 скачано как e8c30b720b921bda37d9e1d40d38a975_1200x900.jpg и записано в CSV.\n",
      "Фото 3 скачано как b069957bffc01e13a83440b01a710a6f_1200x900.jpg и записано в CSV.\n",
      "Фото 4 скачано как 55e355748fb95db5f4f894676b4effc3_1200x900.jpg и записано в CSV.\n",
      "Фото 5 скачано как 2edfceb3ad86d28d9475dcad66507ae5_1200x900.jpg и записано в CSV.\n",
      "Фото 6 скачано как 7f457db33f31a13e1ccede7213ef4ef9_1200x900.jpg и записано в CSV.\n"
     ]
    },
    {
     "name": "stderr",
     "output_type": "stream",
     "text": [
      "Flat images parsing:  53%|█████▎    | 265/501 [27:52<21:44,  5.53s/it]"
     ]
    },
    {
     "name": "stdout",
     "output_type": "stream",
     "text": [
      "Фото 7 скачано как z7rvWKIV-as и записано в CSV.\n",
      "--------end of flat 2764 / 3000 ---------\n",
      "Фото 1 скачано как efb7901ea864b2d4e7bb055eeef36766_1200x900.jpg и записано в CSV.\n",
      "Фото 2 скачано как 99d52d56c59d0888fe0f492f8787d386_1200x900.jpg и записано в CSV.\n",
      "Фото 3 скачано как 9c54997cac9fe122b11cd76ccadfb35b_1200x900.jpg и записано в CSV.\n",
      "Фото 4 скачано как 2ba56593708531595d386082e9182315_1200x900.jpg и записано в CSV.\n",
      "Фото 5 скачано как deebda3fe418c35e63bb386000c4fabe_1200x900.jpg и записано в CSV.\n",
      "Фото 6 скачано как f33bf52b99d683ff6ed4e5dda06f71c1_1200x900.jpg и записано в CSV.\n",
      "Фото 7 скачано как a3bd5bca27003958ecc03ff0a7b57a8f_1200x900.jpg и записано в CSV.\n",
      "Фото 8 скачано как 1853e9a3cc6e0952cd89eb45709b2de5_1200x900.jpg и записано в CSV.\n"
     ]
    },
    {
     "name": "stderr",
     "output_type": "stream",
     "text": [
      "Flat images parsing:  53%|█████▎    | 266/501 [27:58<22:06,  5.65s/it]"
     ]
    },
    {
     "name": "stdout",
     "output_type": "stream",
     "text": [
      "Фото 9 скачано как z7rvWKIV-as и записано в CSV.\n",
      "--------end of flat 2765 / 3000 ---------\n",
      "Фото 1 скачано как feb97d072b64afbe7635d821161cab30_1200x900.jpg и записано в CSV.\n",
      "Фото 2 скачано как 4f65ad05079fd3ec5d5f515d71d27295_1200x900.jpg и записано в CSV.\n",
      "Фото 3 скачано как 1333b7b3752c088a2a4e5f64033c2418_1200x900.jpg и записано в CSV.\n",
      "Фото 4 скачано как 853db3d5c290a06bce3f2a61aae78889_1200x900.jpg и записано в CSV.\n",
      "Фото 5 скачано как 1e2d72435e370b86cf93b83808929724_1200x900.jpg и записано в CSV.\n",
      "Фото 6 скачано как 324da3956ccb1c8c1cdf2760800b4138_1200x900.jpg и записано в CSV.\n",
      "Фото 7 скачано как 7e9a6c070542176ae76403ae79c78328_1200x900.jpg и записано в CSV.\n",
      "Фото 8 скачано как 33b021d93002c42828d187db7cf1bb2c_1200x900.jpg и записано в CSV.\n",
      "Фото 9 скачано как fccb28dd8256cf955a0f346c98532277_1200x900.jpg и записано в CSV.\n",
      "Фото 10 скачано как 4b4e210bc6d6d97c3154f6df1a908bde_1200x900.jpg и записано в CSV.\n"
     ]
    },
    {
     "name": "stderr",
     "output_type": "stream",
     "text": [
      "Flat images parsing:  53%|█████▎    | 267/501 [28:04<22:41,  5.82s/it]"
     ]
    },
    {
     "name": "stdout",
     "output_type": "stream",
     "text": [
      "Фото 11 скачано как 37jCNp и записано в CSV.\n",
      "--------end of flat 2766 / 3000 ---------\n",
      "Фото 1 скачано как 5bf53c9be4907bc642d271f3a31ffb07_1200x900.jpg и записано в CSV.\n",
      "Фото 2 скачано как a703e6983cb7a87c4b299c4ebb2f14a7_1200x900.jpg и записано в CSV.\n",
      "Фото 3 скачано как 7a24c7b13812a34be899aa93d8bd517c_1200x900.jpg и записано в CSV.\n",
      "Фото 4 скачано как 73c1ded862c57339266258fe29b6db6d_1200x900.jpg и записано в CSV.\n",
      "Фото 5 скачано как 138fb0a6944853ceb0fa4f3126d3da4d_1200x900.jpg и записано в CSV.\n",
      "Фото 6 скачано как a15c22e06953f3bbb12549f8d158a3f2_1200x900.jpg и записано в CSV.\n",
      "Фото 7 скачано как 78ca262fe08caf1a2e8f7431242faf71_1200x900.jpg и записано в CSV.\n"
     ]
    },
    {
     "name": "stderr",
     "output_type": "stream",
     "text": [
      "Flat images parsing:  53%|█████▎    | 268/501 [28:10<22:17,  5.74s/it]"
     ]
    },
    {
     "name": "stdout",
     "output_type": "stream",
     "text": [
      "Фото 8 скачано как z7rvWKIV-as и записано в CSV.\n",
      "--------end of flat 2767 / 3000 ---------\n",
      "Фото 1 скачано как a2fecddb8ea389483f59a3ae6baad83f_1200x900.jpg и записано в CSV.\n",
      "Фото 2 скачано как 4bf53d6101efe046fca85daa326dd2cd_1200x900.jpg и записано в CSV.\n",
      "Фото 3 скачано как 78eba23c744a0af616bd0f18de129b01_1200x900.jpg и записано в CSV.\n",
      "Фото 4 скачано как 4471138b492f219ac2afd5ad5f773344_1200x900.jpg и записано в CSV.\n",
      "Фото 5 скачано как cc760396f54d01c37980e075eb1fcf39_1200x900.jpg и записано в CSV.\n",
      "Фото 6 скачано как a87e4aa5261d741eb7640d498b07fd62_1200x900.jpg и записано в CSV.\n",
      "Фото 7 скачано как 1d1e4ddfd711297a72913e88add616ee_1200x900.jpg и записано в CSV.\n",
      "Фото 8 скачано как 790c503f2f4e5197519b1be8399d1203_1200x900.jpg и записано в CSV.\n",
      "Фото 9 скачано как 2046941bcfc166330ded5297c83a3309_1200x900.jpg и записано в CSV.\n"
     ]
    },
    {
     "name": "stderr",
     "output_type": "stream",
     "text": [
      "Flat images parsing:  54%|█████▎    | 269/501 [28:17<23:43,  6.14s/it]"
     ]
    },
    {
     "name": "stdout",
     "output_type": "stream",
     "text": [
      "Фото 10 скачано как 3AQXYx и записано в CSV.\n",
      "--------end of flat 2768 / 3000 ---------\n",
      "Фото 1 скачано как b051e8c520b95e8d726bb452fb6dd213_1200x900.jpg и записано в CSV.\n",
      "Фото 2 скачано как d6747e4e412d61f160019f72ea542025_1200x900.jpg и записано в CSV.\n",
      "Фото 3 скачано как 6a7f7e30e80af3100655bdb80fffe4ca_1200x900.jpg и записано в CSV.\n",
      "Фото 4 скачано как 7d2908c35b54f920da4a710936c341e2_1200x900.jpg и записано в CSV.\n"
     ]
    },
    {
     "name": "stderr",
     "output_type": "stream",
     "text": [
      "Flat images parsing:  54%|█████▍    | 270/501 [28:20<20:32,  5.34s/it]"
     ]
    },
    {
     "name": "stdout",
     "output_type": "stream",
     "text": [
      "Фото 5 скачано как 37jCNp и записано в CSV.\n",
      "--------end of flat 2769 / 3000 ---------\n",
      "Фото 1 скачано как ac44a4a4153b2b5fc0c853082546b812_1200x900.jpg и записано в CSV.\n",
      "Фото 2 скачано как f007a422a3b94fe93d32a8d230ce2742_1200x900.jpg и записано в CSV.\n",
      "Фото 3 скачано как d22b8fb3fe976331c93d0eef7509dcd2_1200x900.jpg и записано в CSV.\n",
      "Фото 4 скачано как 1f8513b23416f74b92c3b9655ddf2bc3_1200x900.jpg и записано в CSV.\n",
      "Фото 5 скачано как 514234fb3fbba50be1f5053b0bc9de04_1200x900.jpg и записано в CSV.\n",
      "Фото 6 скачано как ccfe39b223046a8a0e09d86e8969c1cc_1200x900.jpg и записано в CSV.\n",
      "Фото 7 скачано как a7ac700aeb55c1849b73d599948e8b7f_1200x900.jpg и записано в CSV.\n",
      "Фото 8 скачано как 43185691d5a484708c238bf1d80d7042_1200x900.jpg и записано в CSV.\n",
      "Фото 9 скачано как d6c76c3c2b2fcb0282c45dc7fe49e962_1200x900.jpg и записано в CSV.\n",
      "Фото 10 скачано как c5b41edf6f803830d0157ee246a00173_1200x900.jpg и записано в CSV.\n"
     ]
    },
    {
     "name": "stderr",
     "output_type": "stream",
     "text": [
      "Flat images parsing:  54%|█████▍    | 271/501 [28:27<22:35,  5.89s/it]"
     ]
    },
    {
     "name": "stdout",
     "output_type": "stream",
     "text": [
      "Фото 11 скачано как z7rvWKIV-as и записано в CSV.\n",
      "--------end of flat 2770 / 3000 ---------\n",
      "Фото 1 скачано как 40c9cb3d08a59f9051c8fdea32099efd_1200x900.jpg и записано в CSV.\n",
      "Фото 2 скачано как 8bc2fe14a099d95425a63f43531d37af_1200x900.jpg и записано в CSV.\n",
      "Фото 3 скачано как 776b5eaa25abf80182738d7fc0340a2e_1200x900.jpg и записано в CSV.\n",
      "Фото 4 скачано как 1829e848a1611ed79f29390ce6f6a7c1_1200x900.jpg и записано в CSV.\n",
      "Фото 5 скачано как 35a619a6f668bd691afc4fb456bd4c3f_1200x900.jpg и записано в CSV.\n",
      "Фото 6 скачано как 9450c7496d16fdfac7c04694a1e1fca8_1200x900.jpg и записано в CSV.\n"
     ]
    },
    {
     "name": "stderr",
     "output_type": "stream",
     "text": [
      "Flat images parsing:  54%|█████▍    | 272/501 [28:34<22:48,  5.97s/it]"
     ]
    },
    {
     "name": "stdout",
     "output_type": "stream",
     "text": [
      "Фото 7 скачано как z7rvWKIV-as и записано в CSV.\n",
      "--------end of flat 2771 / 3000 ---------\n",
      "Фото 1 скачано как 33ff35ff51141a222e716c342590f58b_1200x900.jpg и записано в CSV.\n",
      "Фото 2 скачано как 6f86e99ba36c49c73700c186ca4ec3d5_1200x900.jpg и записано в CSV.\n",
      "Фото 3 скачано как 89822b77386ced035dcab85c04318641_1200x900.jpg и записано в CSV.\n",
      "Фото 4 скачано как c053e0522ac7606b08bee7844a8a95f4_1200x900.jpg и записано в CSV.\n",
      "Фото 5 скачано как 80cd40cd2abab21859ff03355da62236_1200x900.jpg и записано в CSV.\n",
      "Фото 6 скачано как 06f4a24555bcc954bf85ead36ca6c3f7_1200x900.jpg и записано в CSV.\n",
      "Фото 7 скачано как 221f92880cb3f2ca155a318f3f18a730_1200x900.jpg и записано в CSV.\n",
      "Фото 8 скачано как e5ee441ce46dd73aabaddaf8197a78a8_1200x900.jpg и записано в CSV.\n",
      "Фото 9 скачано как c273f520dafc4164db403de1d7f9f514_1200x900.jpg и записано в CSV.\n",
      "Фото 10 скачано как e6740beefe9b47ef98bf70471d3fba65_1200x900.jpg и записано в CSV.\n",
      "Фото 11 скачано как 8c3dbdd0efa6e582f60c92331132094f_1200x900.jpg и записано в CSV.\n",
      "Фото 12 скачано как f22d95192cdfaa5f9f3cbd2c6578dbbd_1200x900.jpg и записано в CSV.\n"
     ]
    },
    {
     "name": "stderr",
     "output_type": "stream",
     "text": [
      "Flat images parsing:  54%|█████▍    | 273/501 [28:41<24:19,  6.40s/it]"
     ]
    },
    {
     "name": "stdout",
     "output_type": "stream",
     "text": [
      "Фото 13 скачано как 3AQXYx и записано в CSV.\n",
      "--------end of flat 2772 / 3000 ---------\n",
      "Фото 1 скачано как 0dc757a9ea2e45f80ec055daf021c436_1200x900.jpg и записано в CSV.\n",
      "Фото 2 скачано как 25709516a577e32433f03f2f96575c01_1200x900.jpg и записано в CSV.\n",
      "Фото 3 скачано как 217a634fdb6b1cb310c1a4b8ee9a3c78_1200x900.jpg и записано в CSV.\n",
      "Фото 4 скачано как 63a33451c3200605a0f47bc273eb5414_1200x900.jpg и записано в CSV.\n",
      "Фото 5 скачано как 9783a36f26ad21c0d875e95fcf5da046_1200x900.jpg и записано в CSV.\n",
      "Фото 6 скачано как 51ee713e0c41ec033d9bbf5748fc266e_1200x900.jpg и записано в CSV.\n"
     ]
    },
    {
     "name": "stderr",
     "output_type": "stream",
     "text": [
      "Flat images parsing:  55%|█████▍    | 274/501 [28:45<21:22,  5.65s/it]"
     ]
    },
    {
     "name": "stdout",
     "output_type": "stream",
     "text": [
      "Фото 7 скачано как z7rvWKIV-as и записано в CSV.\n",
      "--------end of flat 2773 / 3000 ---------\n",
      "Фото 1 скачано как fb2b2690db59b02b084df7a14be02896_1200x900.jpg и записано в CSV.\n",
      "Фото 2 скачано как 8524c1f9819a569b19f99638160a2c71_1200x900.jpg и записано в CSV.\n",
      "Фото 3 скачано как cdb65fbeaf32287fc0da7b3abf957ef1_1200x900.jpg и записано в CSV.\n"
     ]
    },
    {
     "name": "stderr",
     "output_type": "stream",
     "text": [
      "Flat images parsing:  55%|█████▍    | 275/501 [28:47<17:52,  4.75s/it]"
     ]
    },
    {
     "name": "stdout",
     "output_type": "stream",
     "text": [
      "Фото 4 скачано как 37jCNp и записано в CSV.\n",
      "--------end of flat 2774 / 3000 ---------\n",
      "Фото 1 скачано как ad13930a1f16f926cd8297771c36da62_1200x900.jpg и записано в CSV.\n",
      "Фото 2 скачано как 8ac0a9ef257a5b9186e17016463c0de8_1200x900.jpg и записано в CSV.\n",
      "Фото 3 скачано как eecdee5037516b62bda9187ab5367383_1200x900.jpg и записано в CSV.\n"
     ]
    },
    {
     "name": "stderr",
     "output_type": "stream",
     "text": [
      "Flat images parsing:  55%|█████▌    | 276/501 [28:50<14:55,  3.98s/it]"
     ]
    },
    {
     "name": "stdout",
     "output_type": "stream",
     "text": [
      "Фото 4 скачано как 37jCNp и записано в CSV.\n",
      "--------end of flat 2775 / 3000 ---------\n",
      "Фото 1 скачано как cf60afbc243dc5c3ef2cf60a4d6da267_1200x900.jpg и записано в CSV.\n",
      "Фото 2 скачано как 59dca81a5272a1a355677388bc443087_1200x900.jpg и записано в CSV.\n",
      "Фото 3 скачано как 75a7be9eb06146037373642ebf3a56c8_1200x900.jpg и записано в CSV.\n"
     ]
    },
    {
     "name": "stderr",
     "output_type": "stream",
     "text": [
      "Flat images parsing:  55%|█████▌    | 277/501 [28:52<13:07,  3.51s/it]"
     ]
    },
    {
     "name": "stdout",
     "output_type": "stream",
     "text": [
      "Фото 4 скачано как 3AQXYx и записано в CSV.\n",
      "--------end of flat 2776 / 3000 ---------\n",
      "Фото 1 скачано как f2d9db668be0bd8169d6f5efb1055b90_1200x900.jpg и записано в CSV.\n",
      "Фото 2 скачано как 1cf582e5cf3e91f3bb0568a2e08f16d8_1200x900.jpg и записано в CSV.\n",
      "Фото 3 скачано как 994d27da4dfbf762bab681a764a11c1e_1200x900.jpg и записано в CSV.\n",
      "Фото 4 скачано как 421cccf1cdd4dd9fc9b6ce4398960647_1200x900.jpg и записано в CSV.\n",
      "Фото 5 скачано как 00a9e8bf7a27c890ff1bb48eed13466e_1200x900.jpg и записано в CSV.\n",
      "Фото 6 скачано как 7ced395a55eca85917219a83418797b3_1200x900.jpg и записано в CSV.\n",
      "Фото 7 скачано как 646c969cbfe0855852ee73fe16b25c64_1200x900.jpg и записано в CSV.\n",
      "Фото 8 скачано как 63dbc99fddc14819b3596b600367ecab_1200x900.jpg и записано в CSV.\n",
      "Фото 9 скачано как a5a18bf5e5a1de8be870d63318fc1d11_1200x900.jpg и записано в CSV.\n",
      "Фото 10 скачано как 7959a2747f0536aa567bf94be364dff7_1200x900.jpg и записано в CSV.\n",
      "Фото 11 скачано как 2dd914932e121e7cb4291bb7ca89543e_1200x900.jpg и записано в CSV.\n",
      "Фото 12 скачано как cf9bd0c6ba6d8221f1d82d4aa9fe0bd8_1200x900.jpg и записано в CSV.\n",
      "Фото 13 скачано как bd662d10680ced678e8793df9cda4ef2_1200x900.jpg и записано в CSV.\n",
      "Фото 14 скачано как 8a027c81b9644b066bb78a300200b6b5_1200x900.jpg и записано в CSV.\n",
      "Фото 15 скачано как 751a3c1b2289e98a1ce2da32bba04c3d_1200x900.jpg и записано в CSV.\n",
      "Фото 16 скачано как 34fde78feae9d65ce0b703a13f1fbc7e_1200x900.jpg и записано в CSV.\n",
      "Фото 17 скачано как 429c2b5a22febd3be69e861a6a9ee632_1200x900.jpg и записано в CSV.\n",
      "Фото 18 скачано как 1010b1f8c7e6ff10f4c71e3aecf74b5a_1200x900.jpg и записано в CSV.\n"
     ]
    },
    {
     "name": "stderr",
     "output_type": "stream",
     "text": [
      "Flat images parsing:  55%|█████▌    | 278/501 [29:04<22:03,  5.94s/it]"
     ]
    },
    {
     "name": "stdout",
     "output_type": "stream",
     "text": [
      "Фото 19 скачано как 3AQXYx и записано в CSV.\n",
      "--------end of flat 2777 / 3000 ---------\n",
      "Фото 1 скачано как d9ddb2cdaee3a7f3607593c50c517519_1200x900.jpg и записано в CSV.\n",
      "Фото 2 скачано как b2982ddafa873643f34ac3a17c21dc4c_1200x900.jpg и записано в CSV.\n",
      "Фото 3 скачано как e2114e3130ed3bd5b23b61338583d7af_1200x900.jpg и записано в CSV.\n",
      "Фото 4 скачано как 2b60de49c4f9e2f1623f44c52e1047f0_1200x900.jpg и записано в CSV.\n",
      "Фото 5 скачано как 5f58b26a1188a769aeeab47c0c0f700c_1200x900.jpg и записано в CSV.\n",
      "Фото 6 скачано как e079a89c11ad8098524a4cb487dcb946_1200x900.jpg и записано в CSV.\n",
      "Фото 7 скачано как f51f2a5942ca0bfd20cd10baf0e19b6b_1200x900.jpg и записано в CSV.\n",
      "Фото 8 скачано как d9df7bd3719b89d9cd720907663dced4_1200x900.jpg и записано в CSV.\n",
      "Фото 9 скачано как 4d839bd37ded501e1e23ebb34f54ddd0_1200x900.jpg и записано в CSV.\n",
      "Фото 10 скачано как ab791b972ee87b5d50247d1e34b35e04_1200x900.jpg и записано в CSV.\n",
      "Фото 11 скачано как 6b792e5c48bf24e0e6acd963a63302e5_1200x900.jpg и записано в CSV.\n",
      "Фото 12 скачано как 937cf0c08e1b594031c32fcb4d4cd2dc_1200x900.jpg и записано в CSV.\n",
      "Фото 13 скачано как 838e54a06578cff3da385e273d3fe59f_1200x900.jpg и записано в CSV.\n"
     ]
    },
    {
     "name": "stderr",
     "output_type": "stream",
     "text": [
      "Flat images parsing:  56%|█████▌    | 279/501 [29:11<23:34,  6.37s/it]"
     ]
    },
    {
     "name": "stdout",
     "output_type": "stream",
     "text": [
      "Фото 14 скачано как 3AQXYx и записано в CSV.\n",
      "--------end of flat 2778 / 3000 ---------\n",
      "Фото 1 скачано как 6e9d3b42200731fb70f28a42b7ba3a32_1200x900.jpg и записано в CSV.\n",
      "Фото 2 скачано как 8311a5d2d9c02dcf3ed352f3da7d67d0_1200x900.jpg и записано в CSV.\n",
      "Фото 3 скачано как 00a2c3fb0292e916ec321d5c6f586608_1200x900.jpg и записано в CSV.\n",
      "Фото 4 скачано как bd0d7360fad9a0f4b7e5e7d27e4d3450_1200x900.jpg и записано в CSV.\n",
      "Фото 5 скачано как 48083c02aa8e57b8fb1558cc3f9c3c10_1200x900.jpg и записано в CSV.\n",
      "Фото 6 скачано как d446f0547daef9ad681dcbb728db7b8c_1200x900.jpg и записано в CSV.\n",
      "Фото 7 скачано как 1f5e34568f8e94c168db77b4f327ab3c_1200x900.jpg и записано в CSV.\n",
      "Фото 8 скачано как 00849fddfa9476d018e96b68a436157d_1200x900.jpg и записано в CSV.\n",
      "Фото 9 скачано как e7f37a0080b074828f2ce043f76110bb_1200x900.jpg и записано в CSV.\n"
     ]
    },
    {
     "name": "stderr",
     "output_type": "stream",
     "text": [
      "Flat images parsing:  56%|█████▌    | 280/501 [29:17<22:42,  6.17s/it]"
     ]
    },
    {
     "name": "stdout",
     "output_type": "stream",
     "text": [
      "Фото 10 скачано как 37jCNp и записано в CSV.\n",
      "--------end of flat 2779 / 3000 ---------\n",
      "Фото 1 скачано как 0963269b8cf895c90cd63b986bdfc83b_1200x900.jpg и записано в CSV.\n",
      "Фото 2 скачано как 8c9fbb3f8a21d48d098faaef83a02597_1200x900.jpg и записано в CSV.\n",
      "Фото 3 скачано как e42d62164a36c5d78346320156270c55_1200x900.jpg и записано в CSV.\n",
      "Фото 4 скачано как 57326454d5541eb74e90634399e8cbb6_1200x900.jpg и записано в CSV.\n"
     ]
    },
    {
     "name": "stderr",
     "output_type": "stream",
     "text": [
      "Flat images parsing:  56%|█████▌    | 281/501 [29:21<20:01,  5.46s/it]"
     ]
    },
    {
     "name": "stdout",
     "output_type": "stream",
     "text": [
      "Фото 5 скачано как 37jCNp и записано в CSV.\n",
      "--------end of flat 2780 / 3000 ---------\n",
      "Фото 1 скачано как 66db63355ea8cee3da31c546eadab8c4_1200x900.jpg и записано в CSV.\n",
      "Фото 2 скачано как dc8456c50f085d491e708eca7efa535a_1200x900.jpg и записано в CSV.\n",
      "Фото 3 скачано как 889e7baf251b608843336b9de643f6be_1200x900.jpg и записано в CSV.\n",
      "Фото 4 скачано как a1174a57c9de2c7738d7ca361a42997f_1200x900.jpg и записано в CSV.\n",
      "Фото 5 скачано как 7740e6f5db09c046d989f3292e233571_1200x900.jpg и записано в CSV.\n",
      "Фото 6 скачано как eeffbfd64b77f3b39da4504bfb7c3181_1200x900.jpg и записано в CSV.\n",
      "Фото 7 скачано как cfff9d42cca1f233693257098481b168_1200x900.jpg и записано в CSV.\n",
      "Фото 8 скачано как fd7b19935dcdea980977c7c2e2431edb_1200x900.jpg и записано в CSV.\n",
      "Фото 9 скачано как 89003f089214c3aed4a94e51a985d86d_1200x900.jpg и записано в CSV.\n"
     ]
    },
    {
     "name": "stderr",
     "output_type": "stream",
     "text": [
      "Flat images parsing:  56%|█████▋    | 282/501 [29:27<20:49,  5.71s/it]"
     ]
    },
    {
     "name": "stdout",
     "output_type": "stream",
     "text": [
      "Фото 10 скачано как 37jCNp и записано в CSV.\n",
      "--------end of flat 2781 / 3000 ---------\n",
      "Фото 1 скачано как 0f173cb86d751fb0fc9345375305f050_1200x900.jpg и записано в CSV.\n",
      "Фото 2 скачано как a411f3a94c2a3d7e611eae862ab3948c_1200x900.jpg и записано в CSV.\n",
      "Фото 3 скачано как 8a6bea57c1a6084656fe15c6584e4bb9_1200x900.jpg и записано в CSV.\n",
      "Фото 4 скачано как 7e8ccc378a7b7e18c905ad748a60bf1b_1200x900.jpg и записано в CSV.\n",
      "Фото 5 скачано как e2ed428424646b97649c390f6d8ea015_1200x900.jpg и записано в CSV.\n",
      "Фото 6 скачано как 0147365e08bf988d5b152b37ac85595c_1200x900.jpg и записано в CSV.\n",
      "Фото 7 скачано как 0f8fd0ebc40064f7b4f5bcdf9e3f6780_1200x900.jpg и записано в CSV.\n",
      "Фото 8 скачано как 3ae5535f751cc763bb61b0a31b04a9ac_1200x900.jpg и записано в CSV.\n",
      "Фото 9 скачано как 5247794a8482511a3658d8ac81fe8479_1200x900.jpg и записано в CSV.\n",
      "Фото 10 скачано как ce60f292920ec808a61fda0cd9059e1e_1200x900.jpg и записано в CSV.\n",
      "Фото 11 скачано как dd326f6c414fe005e35e0475f3075f8b_1200x900.jpg и записано в CSV.\n",
      "Фото 12 скачано как b090e3e0e3012092cc2084f5c06eaa47_1200x900.jpg и записано в CSV.\n",
      "Фото 13 скачано как b479bac765538e61dab990c168b2185a_1200x900.jpg и записано в CSV.\n",
      "Фото 14 скачано как 46a7a01f235cf906d9bc5ba564399fc2_1200x900.jpg и записано в CSV.\n",
      "Фото 15 скачано как d8756d93fc258a80f7e6fb6fb96de65d_1200x900.jpg и записано в CSV.\n",
      "Фото 16 скачано как 5f82314ad53c326bcf95e54b0b6738d9_1200x900.jpg и записано в CSV.\n",
      "Фото 17 скачано как 12d21d4037a107fd08d8cad9d68bee0d_1200x900.jpg и записано в CSV.\n"
     ]
    },
    {
     "name": "stderr",
     "output_type": "stream",
     "text": [
      "Flat images parsing:  56%|█████▋    | 283/501 [29:37<25:33,  7.04s/it]"
     ]
    },
    {
     "name": "stdout",
     "output_type": "stream",
     "text": [
      "Фото 18 скачано как z7rvWKIV-as и записано в CSV.\n",
      "--------end of flat 2782 / 3000 ---------\n",
      "Фото 1 скачано как bcc406b4f8c4d252564de68adc616744_1200x900.jpg и записано в CSV.\n",
      "Фото 2 скачано как 3d65633160e16cd8b974efff2f9ee6e1_1200x900.jpg и записано в CSV.\n",
      "Фото 3 скачано как 586212f456059d2d1677ffa8bb949a23_1200x900.jpg и записано в CSV.\n",
      "Фото 4 скачано как 3ed15c07840dd7ccf75a4f3ff998df35_1200x900.jpg и записано в CSV.\n",
      "Фото 5 скачано как d6de91e2d92462d1ff41aa4e31ca87f6_1200x900.jpg и записано в CSV.\n",
      "Фото 6 скачано как 9c97347b36a87a0c0cc0bb8d155c8686_1200x900.jpg и записано в CSV.\n",
      "Фото 7 скачано как 1171407107f4cf3d6039dc0294bdcc42_1200x900.jpg и записано в CSV.\n",
      "Фото 8 скачано как 4dc78d3b6748ae6bb8dc9d476bf2e4d5_1200x900.jpg и записано в CSV.\n",
      "Фото 9 скачано как b6a39e567cf7ae816f2818d45c652c28_1200x900.jpg и записано в CSV.\n",
      "Фото 10 скачано как 7cf8e65345966ad5bde438904fd4f789_1200x900.jpg и записано в CSV.\n",
      "Фото 11 скачано как 8c96388cfd737de1ba37dfbe26afd689_1200x900.jpg и записано в CSV.\n",
      "Фото 12 скачано как a65da44de9ca27b622122bf5867a6832_1200x900.jpg и записано в CSV.\n",
      "Фото 13 скачано как f8068078edd5b48f4ae49d6ccfb56da0_1200x900.jpg и записано в CSV.\n",
      "Фото 14 скачано как 3ead0cc7c79396785742332c580827cf_1200x900.jpg и записано в CSV.\n",
      "Фото 15 скачано как c6295991c272ba79d3eda5538efe25f2_1200x900.jpg и записано в CSV.\n",
      "Фото 16 скачано как 5951eb5d864a93ad8a6f5bc5ae61f424_1200x900.jpg и записано в CSV.\n",
      "Фото 17 скачано как b73062f079ece90f71373f03f4b48cef_1200x900.jpg и записано в CSV.\n",
      "Фото 18 скачано как 0bf42bfe824839e4ba95964054c64c80_1200x900.jpg и записано в CSV.\n",
      "Фото 19 скачано как 2895346cc21cc41d77e3c81f93523336_1200x900.jpg и записано в CSV.\n"
     ]
    },
    {
     "name": "stderr",
     "output_type": "stream",
     "text": [
      "Flat images parsing:  57%|█████▋    | 284/501 [29:49<30:53,  8.54s/it]"
     ]
    },
    {
     "name": "stdout",
     "output_type": "stream",
     "text": [
      "Фото 20 скачано как 37jCNp и записано в CSV.\n",
      "--------end of flat 2783 / 3000 ---------\n",
      "Фото 1 скачано как 9952e6898c2f7167cf30b17af3d557e3_1200x900.jpg и записано в CSV.\n",
      "Фото 2 скачано как 85b6006c11e23567c75ff7972cac42d5_1200x900.jpg и записано в CSV.\n",
      "Фото 3 скачано как 18681aca14fbde92e7744d54c03bbd1d_1200x900.jpg и записано в CSV.\n",
      "Фото 4 скачано как 61faace296b0bcace5414d0f60d47ee3_1200x900.jpg и записано в CSV.\n",
      "Фото 5 скачано как 028efb1e246b2b761bfc3c9ecec45e30_1200x900.jpg и записано в CSV.\n",
      "Фото 6 скачано как 5c6baf95ecc3a51aff214683948a1935_1200x900.jpg и записано в CSV.\n",
      "Фото 7 скачано как 68f8e04290c4efd2d5d7cbabce5adead_1200x900.jpg и записано в CSV.\n",
      "Фото 8 скачано как 89b16805bdb48c9def7fb0051eb5bc9d_1200x900.jpg и записано в CSV.\n",
      "Фото 9 скачано как 5d270cfa5eec1fdc67436b6144d8f6bc_1200x900.jpg и записано в CSV.\n",
      "Фото 10 скачано как edae84abb7064d538cd4da959886c623_1200x900.jpg и записано в CSV.\n",
      "Фото 11 скачано как 79324b7cccabba9c3756794fddcbeb76_1200x900.jpg и записано в CSV.\n"
     ]
    },
    {
     "name": "stderr",
     "output_type": "stream",
     "text": [
      "Flat images parsing:  57%|█████▋    | 285/501 [29:56<29:11,  8.11s/it]"
     ]
    },
    {
     "name": "stdout",
     "output_type": "stream",
     "text": [
      "Фото 12 скачано как 37jCNp и записано в CSV.\n",
      "--------end of flat 2784 / 3000 ---------\n",
      "Фото 1 скачано как bd0b1007d9c3b09b7027fa784606d4ca_1200x900.jpg и записано в CSV.\n",
      "Фото 2 скачано как 91da98090100447bf774bafa7d0132ba_1200x900.jpg и записано в CSV.\n",
      "Фото 3 скачано как 566318d3c2b957f860d05bd635224ed9_1200x900.jpg и записано в CSV.\n",
      "Фото 4 скачано как 19c0ec08dead8bd32adc5360c15e9bde_1200x900.jpg и записано в CSV.\n",
      "Фото 5 скачано как d4434306fd3f8a18114efdeae3cf7cb9_1200x900.jpg и записано в CSV.\n"
     ]
    },
    {
     "name": "stderr",
     "output_type": "stream",
     "text": [
      "Flat images parsing:  57%|█████▋    | 286/501 [30:01<25:17,  7.06s/it]"
     ]
    },
    {
     "name": "stdout",
     "output_type": "stream",
     "text": [
      "Фото 6 скачано как 3AQXYx и записано в CSV.\n",
      "--------end of flat 2785 / 3000 ---------\n",
      "Фото 1 скачано как 5ad3279e7e7e96528ad58e78ea5d07b4_1200x900.jpg и записано в CSV.\n",
      "Фото 2 скачано как a2baf74c00be0d7567d8c010d88a7875_1200x900.jpg и записано в CSV.\n",
      "Фото 3 скачано как c7a42cfcb4ea842980e0e0e6b6393423_1200x900.jpg и записано в CSV.\n",
      "Фото 4 скачано как 87dc515bb74839d3a7292fa0d0fc08f4_1200x900.jpg и записано в CSV.\n",
      "Фото 5 скачано как 00bb0fa64bdaee8ae6c2ecc639d7ba0f_1200x900.jpg и записано в CSV.\n",
      "Фото 6 скачано как 12d423a291d121e7c37e713d03b1cea4_1200x900.jpg и записано в CSV.\n",
      "Фото 7 скачано как 8deacd4440beb44336f234eb74d7fece_1200x900.jpg и записано в CSV.\n",
      "Фото 8 скачано как b1b6d45579cf3e7c4dc9ab19427e9ddb_1200x900.jpg и записано в CSV.\n",
      "Фото 9 скачано как 914ef189c6b3658a2dca209cc32b7078_1200x900.jpg и записано в CSV.\n",
      "Фото 10 скачано как e52a74699bbbab82502133604bf6e382_1200x900.jpg и записано в CSV.\n",
      "Фото 11 скачано как 2911bb6fa0284bb86846c35de5898211_1200x900.jpg и записано в CSV.\n"
     ]
    },
    {
     "name": "stderr",
     "output_type": "stream",
     "text": [
      "Flat images parsing:  57%|█████▋    | 287/501 [30:08<25:38,  7.19s/it]"
     ]
    },
    {
     "name": "stdout",
     "output_type": "stream",
     "text": [
      "Фото 12 скачано как b17eb5881936f91fec2152a147f6c6f3_1200x900.jpg и записано в CSV.\n",
      "--------end of flat 2786 / 3000 ---------\n",
      "Фото 1 скачано как 366d92ea82953ed8d81bfde8657c2809_1200x900.jpg и записано в CSV.\n",
      "Фото 2 скачано как dWH68zwVnj0 и записано в CSV.\n",
      "Фото 3 скачано как 4a4306eed74b7a7b334e5fd93dc2bd3f_1200x900.jpg и записано в CSV.\n",
      "Фото 4 скачано как 68526eb677439a40dc6ca51a094a7db5_1200x900.jpg и записано в CSV.\n",
      "Фото 5 скачано как 2456200d71bbecf7df088ec8d744e1e6_1200x900.jpg и записано в CSV.\n",
      "Фото 6 скачано как 38548d80d836e9fc4da3969c47e41a37_1200x900.jpg и записано в CSV.\n",
      "Фото 7 скачано как e26a3d4b199f8dbf273f0c4b239093f4_1200x900.jpg и записано в CSV.\n",
      "Фото 8 скачано как 4dad2d6e53750db826d47d7ee01767ec_1200x900.jpg и записано в CSV.\n",
      "Фото 9 скачано как f5adf96f6f9a7ec07a1506d176e7f3d0_1200x900.jpg и записано в CSV.\n"
     ]
    },
    {
     "name": "stderr",
     "output_type": "stream",
     "text": [
      "Flat images parsing:  57%|█████▋    | 288/501 [30:15<25:27,  7.17s/it]"
     ]
    },
    {
     "name": "stdout",
     "output_type": "stream",
     "text": [
      "Фото 10 скачано как 3AQXYx и записано в CSV.\n",
      "--------end of flat 2787 / 3000 ---------\n",
      "Фото 1 скачано как ee16a05b0ca3bafa48caf85955b6778c_1200x900.jpg и записано в CSV.\n",
      "Фото 2 скачано как ff7951060d32785eaca7054b06fc4dd4_1200x900.jpg и записано в CSV.\n",
      "Фото 3 скачано как 05db2b97089e93e5bf5f36366b2c9a06_1200x900.jpg и записано в CSV.\n",
      "Фото 4 скачано как 8b671d853c6477cb13bb90c6f28956cc_1200x900.jpg и записано в CSV.\n",
      "Фото 5 скачано как 3a33ef80bdddc733d09cafa4fe5761eb_1200x900.jpg и записано в CSV.\n",
      "Фото 6 скачано как 7ed872a4dc766ea8710e4eb3e2072d6e_1200x900.jpg и записано в CSV.\n",
      "Фото 7 скачано как 342caf60deb000dda2fc184440039ab0_1200x900.jpg и записано в CSV.\n",
      "Фото 8 скачано как a4e2adc2be9e5a137c56e3eee7a7c24e_1200x900.jpg и записано в CSV.\n",
      "Фото 9 скачано как f5652cbb2bc5ad1d9633f38000833e0b_1200x900.jpg и записано в CSV.\n",
      "Фото 10 скачано как a1d13d616a91525e7855287aa03fce90_1200x900.jpg и записано в CSV.\n",
      "Фото 11 скачано как b3ae7a7a1b54004af2540069a034d4c1_1200x900.jpg и записано в CSV.\n",
      "Фото 12 скачано как 93243ac01282b28e2311d33078d197e7_1200x900.jpg и записано в CSV.\n",
      "Фото 13 скачано как 032b6364589945aa072e5f8a04b8e1d4_1200x900.jpg и записано в CSV.\n",
      "Фото 14 скачано как 1669a73b9932dff3313a12a03ed5ec83_1200x900.jpg и записано в CSV.\n",
      "Фото 15 скачано как 1003240e10acd55a8eff54eaafed509e_1200x900.jpg и записано в CSV.\n",
      "Фото 16 скачано как 88dad95fc144667a8c73b02dee3e16b7_1200x900.jpg и записано в CSV.\n"
     ]
    },
    {
     "name": "stderr",
     "output_type": "stream",
     "text": [
      "Flat images parsing:  58%|█████▊    | 289/501 [30:25<28:15,  8.00s/it]"
     ]
    },
    {
     "name": "stdout",
     "output_type": "stream",
     "text": [
      "Фото 17 скачано как 3AQXYx и записано в CSV.\n",
      "--------end of flat 2788 / 3000 ---------\n",
      "Фото 1 скачано как c0c7c615d2d80ed1d883c818a53e9dba_1200x900.jpg и записано в CSV.\n",
      "Фото 2 скачано как 990f17838c89a24f593304726d66fcbe_1200x900.jpg и записано в CSV.\n",
      "Фото 3 скачано как 38a98061864f5d5d871fd0e3bd721fbf_1200x900.jpg и записано в CSV.\n",
      "Фото 4 скачано как 87db0b0df73c69c3acf32538ccfa51c3_1200x900.jpg и записано в CSV.\n",
      "Фото 5 скачано как b13adea7fa90b1c8b49e24885617d755_1200x900.jpg и записано в CSV.\n",
      "Фото 6 скачано как 601f48ef25736100491a391f39e2f40d_1200x900.jpg и записано в CSV.\n",
      "Фото 7 скачано как 0a2685aa107ac2a96989f6553a0c1fa5_1200x900.jpg и записано в CSV.\n",
      "Фото 8 скачано как 2f47e47e642e08087b9bee1e7a04466e_1200x900.jpg и записано в CSV.\n",
      "Фото 9 скачано как e90e09423018acac0f3351cd78ff262c_1200x900.jpg и записано в CSV.\n",
      "Фото 10 скачано как b985aa43caa77d4386db5239ab326bd6_1200x900.jpg и записано в CSV.\n",
      "Фото 11 скачано как eaf2993841935326b088f2920df877ce_1200x900.jpg и записано в CSV.\n",
      "Фото 12 скачано как 1d6adc354043b44cd17f625801d133b7_1200x900.jpg и записано в CSV.\n"
     ]
    },
    {
     "name": "stderr",
     "output_type": "stream",
     "text": [
      "Flat images parsing:  58%|█████▊    | 290/501 [30:33<27:42,  7.88s/it]"
     ]
    },
    {
     "name": "stdout",
     "output_type": "stream",
     "text": [
      "Фото 13 скачано как z7rvWKIV-as и записано в CSV.\n",
      "--------end of flat 2789 / 3000 ---------\n",
      "Фото 1 скачано как 5d98273e41699f11beb674bb8016e87b_1200x900.jpg и записано в CSV.\n",
      "Фото 2 скачано как 075e4894b6fdca1586d35dcdef4589d1_1200x900.jpg и записано в CSV.\n",
      "Фото 3 скачано как 2d3760f3d71a59dec8648c288dd94265_1200x900.jpg и записано в CSV.\n",
      "Фото 4 скачано как 5ff002d8061fac305247e6a6419573f2_1200x900.jpg и записано в CSV.\n",
      "Фото 5 скачано как fa2318a7bf79de31f10d9be3945b1c29_1200x900.jpg и записано в CSV.\n",
      "Фото 6 скачано как c085bdcaf4cca5465946901b764bad05_1200x900.jpg и записано в CSV.\n",
      "Фото 7 скачано как 54de5bd5b4abc52b51aa00ede7fd90d4_1200x900.jpg и записано в CSV.\n",
      "Фото 8 скачано как 226337270c0b1940ee112221737ed70f_1200x900.jpg и записано в CSV.\n",
      "Фото 9 скачано как 6d431f74e8d12389c93d91655ad5e31a_1200x900.jpg и записано в CSV.\n",
      "Фото 10 скачано как d31bc61f62dc9a9b89ff4d89b5833669_1200x900.jpg и записано в CSV.\n",
      "Фото 11 скачано как c6d6797bd714033b98afd3b74be3ffe0_1200x900.jpg и записано в CSV.\n"
     ]
    },
    {
     "name": "stderr",
     "output_type": "stream",
     "text": [
      "Flat images parsing:  58%|█████▊    | 291/501 [30:40<26:38,  7.61s/it]"
     ]
    },
    {
     "name": "stdout",
     "output_type": "stream",
     "text": [
      "Фото 12 скачано как 37jCNp и записано в CSV.\n",
      "--------end of flat 2790 / 3000 ---------\n",
      "Фото 1 скачано как bc9f595ccf894316f8c660c0005a9a5b_1200x900.jpg и записано в CSV.\n",
      "Фото 2 скачано как 86b0cc8baae12f5aef609e94fb1b1bbc_1200x900.jpg и записано в CSV.\n",
      "Фото 3 скачано как e8a9608571e3947a77bf5b365e087c1b_1200x900.jpg и записано в CSV.\n",
      "Фото 4 скачано как 631cb53c023ce38df9abe6838e7e1479_1200x900.jpg и записано в CSV.\n",
      "Фото 5 скачано как 81945639ac3ee163bc6d753c05020b60_1200x900.jpg и записано в CSV.\n",
      "Фото 6 скачано как 608064a8515de7d54102dbdd5e520137_1200x900.jpg и записано в CSV.\n",
      "Фото 7 скачано как 83bf5f8fe24c37c1c073962dd9e4f119_1200x900.jpg и записано в CSV.\n"
     ]
    },
    {
     "name": "stderr",
     "output_type": "stream",
     "text": [
      "Flat images parsing:  58%|█████▊    | 292/501 [30:45<24:23,  7.00s/it]"
     ]
    },
    {
     "name": "stdout",
     "output_type": "stream",
     "text": [
      "Фото 8 скачано как z7rvWKIV-as и записано в CSV.\n",
      "--------end of flat 2791 / 3000 ---------\n",
      "Фото 1 скачано как bb6c2359d43f54109aa800b1a28ecce9_1200x900.jpg и записано в CSV.\n",
      "Фото 2 скачано как 815a74fce866e1f7dfe3f42e2087d278_1200x900.jpg и записано в CSV.\n",
      "Фото 3 скачано как 64bf7e4544b3b6e8b020c1a168fbffcf_1200x900.jpg и записано в CSV.\n",
      "Фото 4 скачано как c4c7686bbe7d27229dd5418f25c19a5f_1200x900.jpg и записано в CSV.\n",
      "Фото 5 скачано как b787d573abe3b801427632621619b0e5_1200x900.jpg и записано в CSV.\n",
      "Фото 6 скачано как 4b60c6ab892c9ed9610281a92d370211_1200x900.jpg и записано в CSV.\n"
     ]
    },
    {
     "name": "stderr",
     "output_type": "stream",
     "text": [
      "Flat images parsing:  58%|█████▊    | 293/501 [30:50<21:42,  6.26s/it]"
     ]
    },
    {
     "name": "stdout",
     "output_type": "stream",
     "text": [
      "Фото 7 скачано как 3AQXYx и записано в CSV.\n",
      "--------end of flat 2792 / 3000 ---------\n",
      "Фото 1 скачано как 877398f756b6b72746eea9efd8b8929a_1200x900.jpg и записано в CSV.\n",
      "Фото 2 скачано как bf67e95e42e828b516fa6410a57ba35e_1200x900.jpg и записано в CSV.\n",
      "Фото 3 скачано как 48bc5bf79fd0a09d202db99cf7541454_1200x900.jpg и записано в CSV.\n",
      "Фото 4 скачано как a9517a76c8b14c1ecf7b79a3a6f6ad42_1200x900.jpg и записано в CSV.\n",
      "Фото 5 скачано как 34c6a25acc3abb66c29e9572c1a5c0ff_1200x900.jpg и записано в CSV.\n",
      "Фото 6 скачано как d70d1934ac759d37e8c151d5fd2cae7c_1200x900.jpg и записано в CSV.\n",
      "Фото 7 скачано как c5025b6c130c7c038aeb4dce8c90f4fa_1200x900.jpg и записано в CSV.\n"
     ]
    },
    {
     "name": "stderr",
     "output_type": "stream",
     "text": [
      "Flat images parsing:  59%|█████▊    | 294/501 [30:55<20:43,  6.01s/it]"
     ]
    },
    {
     "name": "stdout",
     "output_type": "stream",
     "text": [
      "Фото 8 скачано как z7rvWKIV-as и записано в CSV.\n",
      "--------end of flat 2793 / 3000 ---------\n",
      "Фото 1 скачано как f9f75a08b3c28a41f30c51b31eacd998_1200x900.jpg и записано в CSV.\n",
      "Фото 2 скачано как 7573364636ae381537e28b2a57edd7da_1200x900.jpg и записано в CSV.\n",
      "Фото 3 скачано как 371544f09681f31bceaa68376f72e0db_1200x900.jpg и записано в CSV.\n",
      "Фото 4 скачано как f957fe811a7c7e9e893c173c15de68e9_1200x900.jpg и записано в CSV.\n",
      "Фото 5 скачано как 871ea0978e6b71c0b1aecc560ad22444_1200x900.jpg и записано в CSV.\n",
      "Фото 6 скачано как 0f31cbaeffbfbd42821e9ff54c47fba3_1200x900.jpg и записано в CSV.\n",
      "Фото 7 скачано как 3e7694dd2dddafe5d860fe3331906910_1200x900.jpg и записано в CSV.\n",
      "Фото 8 скачано как c814b1f4a2d5261ac35c95f8aa75719b_1200x900.jpg и записано в CSV.\n"
     ]
    },
    {
     "name": "stderr",
     "output_type": "stream",
     "text": [
      "Flat images parsing:  59%|█████▉    | 295/501 [31:00<18:48,  5.48s/it]"
     ]
    },
    {
     "name": "stdout",
     "output_type": "stream",
     "text": [
      "Фото 9 скачано как z7rvWKIV-as и записано в CSV.\n",
      "--------end of flat 2794 / 3000 ---------\n",
      "Фото 1 скачано как 6f824a355ce0b04271be2e8cddbb1852_1200x900.jpg и записано в CSV.\n",
      "Фото 2 скачано как 8929cfc8d9577454cfab970a464f770f_1200x900.jpg и записано в CSV.\n",
      "Фото 3 скачано как 62adc030eddbd738cc8cd6c3dcc635cd_1200x900.jpg и записано в CSV.\n",
      "Фото 4 скачано как 389ccfde5290a1075897caf5de43daa7_1200x900.jpg и записано в CSV.\n",
      "Фото 5 скачано как 5b4ad8d15f060f9b3645000b370df1b1_1200x900.jpg и записано в CSV.\n",
      "Фото 6 скачано как e84f241ce129e8651100af90561dc8e1_1200x900.jpg и записано в CSV.\n",
      "Фото 7 скачано как 2c71815c110ecb135857cd6c990acff8_1200x900.jpg и записано в CSV.\n"
     ]
    },
    {
     "name": "stderr",
     "output_type": "stream",
     "text": [
      "Flat images parsing:  59%|█████▉    | 296/501 [31:06<19:11,  5.61s/it]"
     ]
    },
    {
     "name": "stdout",
     "output_type": "stream",
     "text": [
      "Фото 8 скачано как 37jCNp и записано в CSV.\n",
      "--------end of flat 2795 / 3000 ---------\n",
      "Фото 1 скачано как 0a612c79c17ce9ee387c2a9905bf7684_1200x900.jpg и записано в CSV.\n"
     ]
    },
    {
     "name": "stderr",
     "output_type": "stream",
     "text": [
      "Flat images parsing:  59%|█████▉    | 297/501 [31:07<15:03,  4.43s/it]"
     ]
    },
    {
     "name": "stdout",
     "output_type": "stream",
     "text": [
      "Фото 2 скачано как 3AQXYx и записано в CSV.\n",
      "--------end of flat 2796 / 3000 ---------\n",
      "Фото 1 скачано как 0adddabbe125aa77f08472edb914663a_1200x900.jpg и записано в CSV.\n",
      "Фото 2 скачано как c09a05252462b891da879c2b076fb8d1_1200x900.jpg и записано в CSV.\n",
      "Фото 3 скачано как fdfd796de97bf9ae726a2c39507c8c53_1200x900.jpg и записано в CSV.\n",
      "Фото 4 скачано как ef9ff5cfcb78926b6ac201b310f29a35_1200x900.jpg и записано в CSV.\n",
      "Фото 5 скачано как a9d3d3caa72d06c7dc1cb3fdabb55a06_1200x900.jpg и записано в CSV.\n",
      "Фото 6 скачано как 51dd0b5aef4d9c249466ded56807bf64_1200x900.jpg и записано в CSV.\n",
      "Фото 7 скачано как 41c74e88e187eceec62d5acd62ccdd6b_1200x900.jpg и записано в CSV.\n",
      "Фото 8 скачано как be9b303ca7eed1116063d9167e72a02d_1200x900.jpg и записано в CSV.\n",
      "Фото 9 скачано как 77ec2a5fc5d64a38f832ce420819acfc_1200x900.jpg и записано в CSV.\n",
      "Фото 10 скачано как 448767d5bba5c0050ca712a29b28e501_1200x900.jpg и записано в CSV.\n",
      "Фото 11 скачано как f4f1a5a6b41af62708494ff7eb19e49a_1200x900.jpg и записано в CSV.\n",
      "Фото 12 скачано как 78bbf06c86c4776259465c656389c9a6_1200x900.jpg и записано в CSV.\n",
      "Фото 13 скачано как 0f16399fc5493ea228e1c5e6fb6c186c_1200x900.jpg и записано в CSV.\n",
      "Фото 14 скачано как 99f972cb67eccaea035dbea8dbd484b5_1200x900.jpg и записано в CSV.\n",
      "Фото 15 скачано как 168669a17d52c2a78d2d7debdc3c8490_1200x900.jpg и записано в CSV.\n",
      "Фото 16 скачано как c457a20d0559c55196309e873c190e8f_1200x900.jpg и записано в CSV.\n",
      "Фото 17 скачано как b57a2d5f4d598a2dc64a509c46588310_1200x900.jpg и записано в CSV.\n",
      "Фото 18 скачано как 0d4e7a8096abcda2b1cfb553662ff478_1200x900.jpg и записано в CSV.\n"
     ]
    },
    {
     "name": "stderr",
     "output_type": "stream",
     "text": [
      "Flat images parsing:  59%|█████▉    | 298/501 [31:17<20:37,  6.10s/it]"
     ]
    },
    {
     "name": "stdout",
     "output_type": "stream",
     "text": [
      "Фото 19 скачано как 37jCNp и записано в CSV.\n",
      "--------end of flat 2797 / 3000 ---------\n"
     ]
    },
    {
     "name": "stderr",
     "output_type": "stream",
     "text": [
      "Flat images parsing:  60%|█████▉    | 299/501 [31:18<15:25,  4.58s/it]"
     ]
    },
    {
     "name": "stdout",
     "output_type": "stream",
     "text": [
      "Фото 1 скачано как e82503cce51bdb46a41e089b25af276b_1200x900.jpg и записано в CSV.\n",
      "Фото 2 скачано как 377c4162550fe45cbfb64be3006c045a_1200x900.jpg и записано в CSV.\n",
      "Фото 3 скачано как 8ccb9a8dc28db9471b4204ce909b66ad_1200x900.jpg и записано в CSV.\n",
      "Фото 4 скачано как 64c8692b935d11401ede3ec4739c2ed5_1200x900.jpg и записано в CSV.\n",
      "Фото 5 скачано как 77d7cb282e85117c714e0725e1f1c8f5_1200x900.jpg и записано в CSV.\n",
      "Фото 6 скачано как db2f4c58fbc3db5801ee4862ee748517_1200x900.jpg и записано в CSV.\n",
      "Фото 7 скачано как df9d0082ac76c36646d9417020702392_1200x900.jpg и записано в CSV.\n",
      "Фото 8 скачано как 834d4a35a75138cdd1fa88be0c983dcc_1200x900.jpg и записано в CSV.\n",
      "Фото 9 скачано как f2933aaf70595e0a9de9495b3104cfd7_1200x900.jpg и записано в CSV.\n",
      "Фото 10 скачано как c4efda876f1a9d839c1a38f60433513e_1200x900.jpg и записано в CSV.\n"
     ]
    },
    {
     "name": "stderr",
     "output_type": "stream",
     "text": [
      "Flat images parsing:  60%|█████▉    | 300/501 [31:24<16:10,  4.83s/it]"
     ]
    },
    {
     "name": "stdout",
     "output_type": "stream",
     "text": [
      "Фото 11 скачано как 37jCNp и записано в CSV.\n",
      "--------end of flat 2799 / 3000 ---------\n",
      "Фото 1 скачано как cadd6cedf6792c40bb7632c867dfe081_1200x900.jpg и записано в CSV.\n",
      "Фото 2 скачано как 444c16403c0123e455780e9ee8cfb538_1200x900.jpg и записано в CSV.\n",
      "Фото 3 скачано как 9fc3c97c108d93d78c668c6768e3ebcb_1200x900.jpg и записано в CSV.\n"
     ]
    },
    {
     "name": "stderr",
     "output_type": "stream",
     "text": [
      "Flat images parsing:  60%|██████    | 301/501 [31:27<14:09,  4.25s/it]"
     ]
    },
    {
     "name": "stdout",
     "output_type": "stream",
     "text": [
      "Фото 4 скачано как 3AQXYx и записано в CSV.\n",
      "--------end of flat 2800 / 3000 ---------\n",
      "Фото 1 скачано как 5ee72c017feb00d6cf9d64afa4a305c6_1200x900.jpg и записано в CSV.\n",
      "Фото 2 скачано как 922f46a6839c85e4152aaf4522efb79b_1200x900.jpg и записано в CSV.\n"
     ]
    },
    {
     "name": "stderr",
     "output_type": "stream",
     "text": [
      "Flat images parsing:  60%|██████    | 302/501 [31:29<12:42,  3.83s/it]"
     ]
    },
    {
     "name": "stdout",
     "output_type": "stream",
     "text": [
      "Фото 3 скачано как z7rvWKIV-as и записано в CSV.\n",
      "--------end of flat 2801 / 3000 ---------\n",
      "Фото 1 скачано как b21981db7d10bd715d4a3d4105638ac8_1200x900.jpg и записано в CSV.\n",
      "Фото 2 скачано как f1a801c0d00e99eb47c2926985d6caa4_1200x900.jpg и записано в CSV.\n",
      "Фото 3 скачано как dc62f9b5cb1dd60bba1247ea6fe4187b_1200x900.jpg и записано в CSV.\n",
      "Фото 4 скачано как d1e100812c82d86fe5aa9d92a0c5d8be_1200x900.jpg и записано в CSV.\n",
      "Фото 5 скачано как 34263a842a80912a470f925cfa2d4be1_1200x900.jpg и записано в CSV.\n",
      "Фото 6 скачано как 7a1124156960e7a02ad2ab36a4363ca1_1200x900.jpg и записано в CSV.\n",
      "Фото 7 скачано как 61a078dc45b6dd1e1e7be406874ca9e8_1200x900.jpg и записано в CSV.\n",
      "Фото 8 скачано как 39aca91abdfe457d0f0003d06514f4c7_1200x900.jpg и записано в CSV.\n"
     ]
    },
    {
     "name": "stderr",
     "output_type": "stream",
     "text": [
      "Flat images parsing:  60%|██████    | 303/501 [31:37<15:54,  4.82s/it]"
     ]
    },
    {
     "name": "stdout",
     "output_type": "stream",
     "text": [
      "Фото 9 скачано как z7rvWKIV-as и записано в CSV.\n",
      "--------end of flat 2802 / 3000 ---------\n"
     ]
    },
    {
     "name": "stderr",
     "output_type": "stream",
     "text": [
      "Flat images parsing:  61%|██████    | 304/501 [31:38<12:02,  3.67s/it]"
     ]
    },
    {
     "name": "stdout",
     "output_type": "stream",
     "text": [
      "Фото 1 скачано как d5d8fd6ea030cc9450fe016ed3c8978d_1200x900.jpg и записано в CSV.\n",
      "Фото 2 скачано как 270ab7a2ae3ebe8519c5ce4c1d56f364_1200x900.jpg и записано в CSV.\n",
      "Фото 3 скачано как 49c8f480974f27806258ebc5f3650ab2_1200x900.jpg и записано в CSV.\n",
      "Фото 4 скачано как ed624939a09707009b82e76b123166b4_1200x900.jpg и записано в CSV.\n",
      "Фото 5 скачано как 0d8dbb48dda9038bb34d9e732b6fd204_1200x900.jpg и записано в CSV.\n",
      "Фото 6 скачано как b9ddd49ad7738859cb3dd08192a05e5f_1200x900.jpg и записано в CSV.\n"
     ]
    },
    {
     "name": "stderr",
     "output_type": "stream",
     "text": [
      "Flat images parsing:  61%|██████    | 305/501 [31:44<14:21,  4.40s/it]"
     ]
    },
    {
     "name": "stdout",
     "output_type": "stream",
     "text": [
      "Фото 7 скачано как z7rvWKIV-as и записано в CSV.\n",
      "--------end of flat 2804 / 3000 ---------\n",
      "Фото 1 скачано как 7458f5d622dd96750b9904537271f2a2_1200x900.jpg и записано в CSV.\n",
      "Фото 2 скачано как 946d8e52c8c067e5d7eea10730d92845_1200x900.jpg и записано в CSV.\n",
      "Фото 3 скачано как 9607f1c8468342863a20fbaae72171bb_1200x900.jpg и записано в CSV.\n",
      "Фото 4 скачано как db84c56ebfae816e35111f54e8aef1b1_1200x900.jpg и записано в CSV.\n",
      "Фото 5 скачано как 9fb2ed84a934be098df2f614a02045d8_1200x900.jpg и записано в CSV.\n",
      "Фото 6 скачано как 3f03e9fe952a2b48b1c30a01bed832d8_1200x900.jpg и записано в CSV.\n",
      "Фото 7 скачано как bc394882656b52d17d7b8359bbcd0d59_1200x900.jpg и записано в CSV.\n",
      "Фото 8 скачано как 5324e1bb3518723c6d1e6032f4640130_1200x900.jpg и записано в CSV.\n",
      "Фото 9 скачано как 6d27af61a8c1e9dce9e3c013a4ed79f8_1200x900.jpg и записано в CSV.\n",
      "Фото 10 скачано как 683b22901d15497db84ae95b3d52d74f_1200x900.jpg и записано в CSV.\n"
     ]
    },
    {
     "name": "stderr",
     "output_type": "stream",
     "text": [
      "Flat images parsing:  61%|██████    | 306/501 [31:50<16:19,  5.02s/it]"
     ]
    },
    {
     "name": "stdout",
     "output_type": "stream",
     "text": [
      "Фото 11 скачано как 3AQXYx и записано в CSV.\n",
      "--------end of flat 2805 / 3000 ---------\n",
      "Фото 1 скачано как 2ac7746bbfe494a4b5fb1372a92f606f_1200x900.jpg и записано в CSV.\n",
      "Фото 2 скачано как 0GqVeuzDUOw и записано в CSV.\n",
      "Фото 3 скачано как f392fa5473dc1a106d63c64f9fb12a3d_1200x900.jpg и записано в CSV.\n",
      "Фото 4 скачано как 94a17963bb625aebe31db2c5d79133a1_1200x900.jpg и записано в CSV.\n",
      "Фото 5 скачано как 29cd18d19b44542c495ef7bb7c9882f5_1200x900.jpg и записано в CSV.\n",
      "Фото 6 скачано как 492c57a22d9e619431d5204628a7a042_1200x900.jpg и записано в CSV.\n",
      "Фото 7 скачано как 18866f24af1adc035c6836ad2633b85f_1200x900.jpg и записано в CSV.\n",
      "Фото 8 скачано как 87cef87835c1f9cb9acb7f801af9f833_1200x900.jpg и записано в CSV.\n",
      "Фото 9 скачано как 631cf8bbac4cff79f4ff5f8c2e191d55_1200x900.jpg и записано в CSV.\n",
      "Фото 10 скачано как 129cd69eb9b4e33946b01e48ed1c010a_1200x900.jpg и записано в CSV.\n",
      "Фото 11 скачано как 52d4660ff5899b6cc88466c4f5457836_1200x900.jpg и записано в CSV.\n",
      "Фото 12 скачано как 2900cfb36e5d3fa872a946931cf36985_1200x900.jpg и записано в CSV.\n",
      "Фото 13 скачано как 111aeb466b8f8f36e5d18b352b25c589_1200x900.jpg и записано в CSV.\n",
      "Фото 14 скачано как d1074afd73465acbb075764ff7a9cdf5_1200x900.jpg и записано в CSV.\n",
      "Фото 15 скачано как 7601e32c80e508c1abcb0cac6d860cca_1200x900.jpg и записано в CSV.\n",
      "Фото 16 скачано как 703d7f3b025ab0412feaa8d622138e90_1200x900.jpg и записано в CSV.\n",
      "Фото 17 скачано как c0b765c89ff7ff64d30559deee698322_1200x900.jpg и записано в CSV.\n"
     ]
    },
    {
     "name": "stderr",
     "output_type": "stream",
     "text": [
      "Flat images parsing:  61%|██████▏   | 307/501 [32:06<26:24,  8.17s/it]"
     ]
    },
    {
     "name": "stdout",
     "output_type": "stream",
     "text": [
      "Фото 18 скачано как 37jCNp и записано в CSV.\n",
      "--------end of flat 2806 / 3000 ---------\n",
      "Фото 1 скачано как 31985a5b139b9a4ca24cb3c25b68a0b3_1200x900.jpg и записано в CSV.\n"
     ]
    },
    {
     "name": "stderr",
     "output_type": "stream",
     "text": [
      "Flat images parsing:  61%|██████▏   | 308/501 [32:08<20:35,  6.40s/it]"
     ]
    },
    {
     "name": "stdout",
     "output_type": "stream",
     "text": [
      "Фото 2 скачано как 37jCNp и записано в CSV.\n",
      "--------end of flat 2807 / 3000 ---------\n",
      "Фото 1 скачано как ba4b7414fa1e82b0e165974b6e441747_1200x900.jpg и записано в CSV.\n",
      "Фото 2 скачано как 105e06dafb7b62e79e8b13b4b8a4b2af_1200x900.jpg и записано в CSV.\n",
      "Фото 3 скачано как 2b56df54c0d4d3b87e45163e01412329_1200x900.jpg и записано в CSV.\n",
      "Фото 4 скачано как 3dbca97dd528ad068794e7a2c649a4b6_1200x900.jpg и записано в CSV.\n",
      "Фото 5 скачано как 0fb2d10fc6717bf8b225d9c1ee65a744_1200x900.jpg и записано в CSV.\n",
      "Фото 6 скачано как bb14cd67807ae13b0306971a941c11d0_1200x900.jpg и записано в CSV.\n",
      "Фото 7 скачано как b1499701aa886b9c6bdf916087fc93f3_1200x900.jpg и записано в CSV.\n"
     ]
    },
    {
     "name": "stderr",
     "output_type": "stream",
     "text": [
      "Flat images parsing:  62%|██████▏   | 309/501 [32:13<19:16,  6.02s/it]"
     ]
    },
    {
     "name": "stdout",
     "output_type": "stream",
     "text": [
      "Фото 8 скачано как 37jCNp и записано в CSV.\n",
      "--------end of flat 2808 / 3000 ---------\n",
      "Фото 1 скачано как 39c769a9103bdfe4695c950be5dd263b_1200x900.jpg и записано в CSV.\n",
      "Фото 2 скачано как e379b0b837e57cc18f9c49623affe83f_1200x900.jpg и записано в CSV.\n",
      "Фото 3 скачано как df84f7329ee14e220771bcf5cb3e433c_1200x900.jpg и записано в CSV.\n",
      "Фото 4 скачано как 8f49309961566fc36453e6138cfc4beb_1200x900.jpg и записано в CSV.\n",
      "Фото 5 скачано как f0e7351c4f9ba97503e44d7425671e33_1200x900.jpg и записано в CSV.\n",
      "Фото 6 скачано как 6fa391fff92be3a4ae96b7bf7ecf9817_1200x900.jpg и записано в CSV.\n",
      "Фото 7 скачано как 428bc2c41e3112ae499966273e670294_1200x900.jpg и записано в CSV.\n",
      "Фото 8 скачано как 6ebde9f51cb49a51dd632ce80248fe92_1200x900.jpg и записано в CSV.\n",
      "Фото 9 скачано как 9060905ee59f3027f702c5a3eb7bf109_1200x900.jpg и записано в CSV.\n"
     ]
    },
    {
     "name": "stderr",
     "output_type": "stream",
     "text": [
      "Flat images parsing:  62%|██████▏   | 310/501 [32:19<19:03,  5.99s/it]"
     ]
    },
    {
     "name": "stdout",
     "output_type": "stream",
     "text": [
      "Фото 10 скачано как 3AQXYx и записано в CSV.\n",
      "--------end of flat 2809 / 3000 ---------\n",
      "Фото 1 скачано как 33b61d1e117a86ed5e884148b6913f9d_1200x900.jpg и записано в CSV.\n",
      "Фото 2 скачано как 4c994c37c2ec3bc9c999d757c75dbab8_1200x900.jpg и записано в CSV.\n",
      "Фото 3 скачано как fa1d7e161252659df84ede2522eaf6a2_1200x900.jpg и записано в CSV.\n",
      "Фото 4 скачано как f0df8ab56f1ea0a4ac242916b7c8a403_1200x900.jpg и записано в CSV.\n",
      "Фото 5 скачано как ee0905fb4c360558328a972c8f1117e2_1200x900.jpg и записано в CSV.\n",
      "Фото 6 скачано как c6495240ccd051164a7e38cc0eb84cb3_1200x900.jpg и записано в CSV.\n",
      "Фото 7 скачано как c45c5da7417a9dc2f93acd3f3e9edd35_1200x900.jpg и записано в CSV.\n",
      "Фото 8 скачано как 84931518213f97fb34294ef70e4960d9_1200x900.jpg и записано в CSV.\n",
      "Фото 9 скачано как 17273316d5621e494dca47e9fcbc0149_1200x900.jpg и записано в CSV.\n",
      "Фото 10 скачано как cb2393fad8752f3dd95cd6bb9043004c_1200x900.jpg и записано в CSV.\n",
      "Фото 11 скачано как e578197434c962d52d36b380c4c07bc8_1200x900.jpg и записано в CSV.\n",
      "Фото 12 скачано как 6d5226092a7afd752e0e68ad047df247_1200x900.jpg и записано в CSV.\n",
      "Фото 13 скачано как 14fc6bead9d1286294e7660f2107ccd9_1200x900.jpg и записано в CSV.\n"
     ]
    },
    {
     "name": "stderr",
     "output_type": "stream",
     "text": [
      "Flat images parsing:  62%|██████▏   | 311/501 [32:27<21:11,  6.69s/it]"
     ]
    },
    {
     "name": "stdout",
     "output_type": "stream",
     "text": [
      "Фото 14 скачано как z7rvWKIV-as и записано в CSV.\n",
      "--------end of flat 2810 / 3000 ---------\n",
      "Фото 1 скачано как 58b2066e27de6f046e2c60413afcfce7_1200x900.jpg и записано в CSV.\n"
     ]
    },
    {
     "name": "stderr",
     "output_type": "stream",
     "text": [
      "Flat images parsing:  62%|██████▏   | 312/501 [32:30<16:59,  5.40s/it]"
     ]
    },
    {
     "name": "stdout",
     "output_type": "stream",
     "text": [
      "Фото 2 скачано как z7rvWKIV-as и записано в CSV.\n",
      "--------end of flat 2811 / 3000 ---------\n",
      "Фото 1 скачано как 7f8a2f868567b7fa3f6b248b6a9c58df_1200x900.jpg и записано в CSV.\n",
      "Фото 2 скачано как Tupf4lpaoJo и записано в CSV.\n",
      "Фото 3 скачано как b36497e3162227ee58f2e5d738f59a47_1200x900.jpg и записано в CSV.\n",
      "Фото 4 скачано как a812bb62547091f36c2936141a5c3de1_1200x900.jpg и записано в CSV.\n",
      "Фото 5 скачано как 93fbdbddd6c2a750451ce4c604979329_1200x900.jpg и записано в CSV.\n",
      "Фото 6 скачано как 98a7d371a300b385eeeb3089a28b4a59_1200x900.jpg и записано в CSV.\n",
      "Фото 7 скачано как 281912068cf0d5f9ec6e7fa0438d949a_1200x900.jpg и записано в CSV.\n",
      "Фото 8 скачано как d3db8496899d2c0e3fdfcbf35ce03927_1200x900.jpg и записано в CSV.\n",
      "Фото 9 скачано как 7427c7a15cd60385b3ca1635741b1db7_1200x900.jpg и записано в CSV.\n",
      "Фото 10 скачано как e2c454cbfa04f7b0f5d42191fccee4ef_1200x900.jpg и записано в CSV.\n",
      "Фото 11 скачано как 48ab3c80510d37d96913e265c6b0128a_1200x900.jpg и записано в CSV.\n",
      "Фото 12 скачано как c25663fbd9c1c2cbbc7410d64fd878fb_1200x900.jpg и записано в CSV.\n"
     ]
    },
    {
     "name": "stderr",
     "output_type": "stream",
     "text": [
      "Flat images parsing:  62%|██████▏   | 313/501 [32:37<18:21,  5.86s/it]"
     ]
    },
    {
     "name": "stdout",
     "output_type": "stream",
     "text": [
      "Фото 13 скачано как z7rvWKIV-as и записано в CSV.\n",
      "--------end of flat 2812 / 3000 ---------\n",
      "Фото 1 скачано как b60f830dfa77c1cd5ff8c41dc09d9531_1200x900.jpg и записано в CSV.\n",
      "Фото 2 скачано как aa10ddc9028efd098a45f93528c671df_1200x900.jpg и записано в CSV.\n",
      "Фото 3 скачано как 4427d1061db970f539560f59f02eea11_1200x900.jpg и записано в CSV.\n",
      "Фото 4 скачано как d6781524173306c6926f3f3b67b22a5d_1200x900.jpg и записано в CSV.\n",
      "Фото 5 скачано как 119cdd0fd03098545da086d6f731228b_1200x900.jpg и записано в CSV.\n",
      "Фото 6 скачано как 5d42b792b858a33409b4142eb6bcd255_1200x900.jpg и записано в CSV.\n"
     ]
    },
    {
     "name": "stderr",
     "output_type": "stream",
     "text": [
      "Flat images parsing:  63%|██████▎   | 314/501 [32:41<16:48,  5.40s/it]"
     ]
    },
    {
     "name": "stdout",
     "output_type": "stream",
     "text": [
      "Фото 7 скачано как 37jCNp и записано в CSV.\n",
      "--------end of flat 2813 / 3000 ---------\n",
      "Фото 1 скачано как 0068cdea62d6afa996c4673fb70aa185_1200x900.jpg и записано в CSV.\n",
      "Фото 2 скачано как 7b99f5a30333c02f1e490e7fddb29255_1200x900.jpg и записано в CSV.\n",
      "Фото 3 скачано как 61b2cc2318aa0b7cd482c00e9ada00bd_1200x900.jpg и записано в CSV.\n",
      "Фото 4 скачано как c6490c91c0b0abfaeeb0b3c3152400ec_1200x900.jpg и записано в CSV.\n",
      "Фото 5 скачано как 03c3bf8ed2ad068018c44370b876f31c_1200x900.jpg и записано в CSV.\n",
      "Фото 6 скачано как d4a1e9d4f9b7d7d1f9b302a6b2f2df1a_1200x900.jpg и записано в CSV.\n",
      "Фото 7 скачано как c8853e41e7fce34e23e41158397f132f_1200x900.jpg и записано в CSV.\n",
      "Фото 8 скачано как 09754d498d222f6f046b3c4950cbe96a_1200x900.jpg и записано в CSV.\n",
      "Фото 9 скачано как 67a940f8938ef6c2340d341be56804cd_1200x900.jpg и записано в CSV.\n",
      "Фото 10 скачано как 4ed558db8c1d6000182087a3a83fccf2_1200x900.jpg и записано в CSV.\n",
      "Фото 11 скачано как 01cab41bb5124a30115b6d75d357520a_1200x900.jpg и записано в CSV.\n",
      "Фото 12 скачано как 37accb825223b6c647e5d5fc283e3693_1200x900.jpg и записано в CSV.\n",
      "Фото 13 скачано как 4f23259aee8ada82aef683fa2f0a564a_1200x900.jpg и записано в CSV.\n"
     ]
    },
    {
     "name": "stderr",
     "output_type": "stream",
     "text": [
      "Flat images parsing:  63%|██████▎   | 315/501 [32:49<19:12,  6.19s/it]"
     ]
    },
    {
     "name": "stdout",
     "output_type": "stream",
     "text": [
      "Фото 14 скачано как 3AQXYx и записано в CSV.\n",
      "--------end of flat 2814 / 3000 ---------\n",
      "Фото 1 скачано как 1b8361e336f94cd1f85ee1d8047cc0c4_1200x900.jpg и записано в CSV.\n",
      "Фото 2 скачано как c1bd39a8517a8ece8275f278467b5e1e_1200x900.jpg и записано в CSV.\n",
      "Фото 3 скачано как 1a83520433ddc7524743c0def992d084_1200x900.jpg и записано в CSV.\n",
      "Фото 4 скачано как abfbe069a26e8239d6b1192891b785c5_1200x900.jpg и записано в CSV.\n"
     ]
    },
    {
     "name": "stderr",
     "output_type": "stream",
     "text": [
      "Flat images parsing:  63%|██████▎   | 316/501 [32:52<16:07,  5.23s/it]"
     ]
    },
    {
     "name": "stdout",
     "output_type": "stream",
     "text": [
      "Фото 5 скачано как 3AQXYx и записано в CSV.\n",
      "--------end of flat 2815 / 3000 ---------\n",
      "Фото 1 скачано как a5d43d95bc985a8b97bfdaf92b057811_1200x900.jpg и записано в CSV.\n",
      "Фото 2 скачано как 0e10d459c2cde4b402c83be390008dcd_1200x900.jpg и записано в CSV.\n",
      "Фото 3 скачано как a6c61307a45c943f1a51fdd5c4da2260_1200x900.jpg и записано в CSV.\n",
      "Фото 4 скачано как e4a56eef4e205c2331556a07f3689057_1200x900.jpg и записано в CSV.\n",
      "Фото 5 скачано как 7ca81f501891db12ee8205f0c5826b7d_1200x900.jpg и записано в CSV.\n",
      "Фото 6 скачано как a43651863b374bbb07b160e9085e5f96_1200x900.jpg и записано в CSV.\n",
      "Фото 7 скачано как 0d79df4c75ebfc31c937f77aef26052f_1200x900.jpg и записано в CSV.\n",
      "Фото 8 скачано как 3b81c74bf98279834788114be7a8177c_1200x900.jpg и записано в CSV.\n",
      "Фото 9 скачано как 49160749ce7456981e56f5b0d8c0cca5_1200x900.jpg и записано в CSV.\n",
      "Фото 10 скачано как fd96366717fa5a15532590ab9f68b6a2_1200x900.jpg и записано в CSV.\n"
     ]
    },
    {
     "name": "stderr",
     "output_type": "stream",
     "text": [
      "Flat images parsing:  63%|██████▎   | 317/501 [32:59<17:26,  5.69s/it]"
     ]
    },
    {
     "name": "stdout",
     "output_type": "stream",
     "text": [
      "Фото 11 скачано как z7rvWKIV-as и записано в CSV.\n",
      "--------end of flat 2816 / 3000 ---------\n",
      "Фото 1 скачано как 67269dc8f0bd84f3cf7da95bcc6d122c_1200x900.jpg и записано в CSV.\n",
      "Фото 2 скачано как 44f4ec73a175d7c9a2fcb3862235e27a_1200x900.jpg и записано в CSV.\n",
      "Фото 3 скачано как 4b972f35f524d01ba360a1e6cc8fd2d7_1200x900.jpg и записано в CSV.\n",
      "Фото 4 скачано как a65678fd9148d66912ae589283464d25_1200x900.jpg и записано в CSV.\n",
      "Фото 5 скачано как 24232d8bcb33edf613d30662d415dec7_1200x900.jpg и записано в CSV.\n",
      "Фото 6 скачано как fedc36d591daa8f517d1cd8f2f27f916_1200x900.jpg и записано в CSV.\n",
      "Фото 7 скачано как 3074022312c5a367bf971f2cbea8869e_1200x900.jpg и записано в CSV.\n",
      "Фото 8 скачано как 3c10fe8ca992a4b34e747c423ea6b1c1_1200x900.jpg и записано в CSV.\n",
      "Фото 9 скачано как ba855b812e711846744afa278717d62b_1200x900.jpg и записано в CSV.\n",
      "Фото 10 скачано как c16d21a949f1cfe3474160f837ed1adf_1200x900.jpg и записано в CSV.\n"
     ]
    },
    {
     "name": "stderr",
     "output_type": "stream",
     "text": [
      "Flat images parsing:  63%|██████▎   | 318/501 [33:05<18:06,  5.94s/it]"
     ]
    },
    {
     "name": "stdout",
     "output_type": "stream",
     "text": [
      "Ошибка при скачивании фото 11.\n",
      "--------end of flat 2817 / 3000 ---------\n",
      "Фото 1 скачано как d142c7aec697d1173c413a66c532c3f2_1200x900.jpg и записано в CSV.\n",
      "Фото 2 скачано как c306810374655d45c60ca00db7658fe3_1200x900.jpg и записано в CSV.\n",
      "Фото 3 скачано как 15f2a3c3982a92fd1c391a7b94aec9f0_1200x900.jpg и записано в CSV.\n",
      "Фото 4 скачано как 5123880ba6ccc0c8d60940d59367ebda_1200x900.jpg и записано в CSV.\n",
      "Фото 5 скачано как 19650f826b9a20da6a1cb0ce819b5c1e_1200x900.jpg и записано в CSV.\n",
      "Фото 6 скачано как 29406c691692ed741f20641e0b4e6215_1200x900.jpg и записано в CSV.\n",
      "Фото 7 скачано как 5369d5cefb8f77c6cc85a45d17a1a788_1200x900.jpg и записано в CSV.\n",
      "Фото 8 скачано как 30460f8ac558df13d568b6da37ff92fb_1200x900.jpg и записано в CSV.\n",
      "Фото 9 скачано как 933a446b8fc053ec07394d9bd7ef29e4_1200x900.jpg и записано в CSV.\n"
     ]
    },
    {
     "name": "stderr",
     "output_type": "stream",
     "text": [
      "Flat images parsing:  64%|██████▎   | 319/501 [33:11<18:02,  5.95s/it]"
     ]
    },
    {
     "name": "stdout",
     "output_type": "stream",
     "text": [
      "Фото 10 скачано как 3AQXYx и записано в CSV.\n",
      "--------end of flat 2818 / 3000 ---------\n",
      "Фото 1 скачано как c9bf96700a046e1db34b3e7d263093c6_1200x900.jpg и записано в CSV.\n",
      "Фото 2 скачано как a3387b279d1f95f331fc80a5cea2d96c_1200x900.jpg и записано в CSV.\n",
      "Фото 3 скачано как bacbe90e53fc3c0afec6afe4b3766495_1200x900.jpg и записано в CSV.\n",
      "Фото 4 скачано как f9ae1d0011ca3b08d4ec581225860410_1200x900.jpg и записано в CSV.\n"
     ]
    },
    {
     "name": "stderr",
     "output_type": "stream",
     "text": [
      "Flat images parsing:  64%|██████▍   | 320/501 [33:15<15:46,  5.23s/it]"
     ]
    },
    {
     "name": "stdout",
     "output_type": "stream",
     "text": [
      "Фото 5 скачано как 6f83ed24fb476796ff4815fae53b53cd_1200x900.jpg и записано в CSV.\n",
      "--------end of flat 2819 / 3000 ---------\n",
      "Фото 1 скачано как 691e4b61a6b8b9dc7bbd83d9d070d1be_1200x900.jpg и записано в CSV.\n",
      "Фото 2 скачано как 7ba61286fd560f36960d9be6fc190a8a_1200x900.jpg и записано в CSV.\n",
      "Фото 3 скачано как 45ab005d4aeb3b3e0564fb6234a2373e_1200x900.jpg и записано в CSV.\n",
      "Фото 4 скачано как 76e7e2b3b72b7d989462cba41791fc6a_1200x900.jpg и записано в CSV.\n",
      "Фото 5 скачано как 2eba15bea8115436c5d15593407e9d47_1200x900.jpg и записано в CSV.\n",
      "Фото 6 скачано как ebdc6bfd491bf428475fd66ea13c0b29_1200x900.jpg и записано в CSV.\n"
     ]
    },
    {
     "name": "stderr",
     "output_type": "stream",
     "text": [
      "Flat images parsing:  64%|██████▍   | 321/501 [33:19<14:48,  4.93s/it]"
     ]
    },
    {
     "name": "stdout",
     "output_type": "stream",
     "text": [
      "Фото 7 скачано как 37jCNp и записано в CSV.\n",
      "--------end of flat 2820 / 3000 ---------\n",
      "Фото 1 скачано как a924f49052bcf3005e82e7e44fd9ca8b_1200x900.jpg и записано в CSV.\n",
      "Фото 2 скачано как dd9fd642d1605ab6af2e7a3a7d6efda2_1200x900.jpg и записано в CSV.\n",
      "Фото 3 скачано как 4fab2dd256d421ed5963efc6f0758f60_1200x900.jpg и записано в CSV.\n",
      "Фото 4 скачано как 8cfabe8f31b92bc04b4c81fddea2db3c_1200x900.jpg и записано в CSV.\n",
      "Фото 5 скачано как 6d6f88b6b18febb46ab72a0dd7974a54_1200x900.jpg и записано в CSV.\n",
      "Фото 6 скачано как a7b1d00e7775dd8b1040caf60ea3c242_1200x900.jpg и записано в CSV.\n",
      "Фото 7 скачано как 4f6b8e0e2c75a7c5d4a1b61ce133b17b_1200x900.jpg и записано в CSV.\n",
      "Фото 8 скачано как 6900eb0edf9e02bdf2e06e5abc7972ae_1200x900.jpg и записано в CSV.\n",
      "Фото 9 скачано как d9edf5f486cff8c93c915a741682394c_1200x900.jpg и записано в CSV.\n"
     ]
    },
    {
     "name": "stderr",
     "output_type": "stream",
     "text": [
      "Flat images parsing:  64%|██████▍   | 322/501 [33:25<15:41,  5.26s/it]"
     ]
    },
    {
     "name": "stdout",
     "output_type": "stream",
     "text": [
      "Фото 10 скачано как z7rvWKIV-as и записано в CSV.\n",
      "--------end of flat 2821 / 3000 ---------\n",
      "Фото 1 скачано как d8c5d739ec6c05918bb822d7b97da757_1200x900.jpg и записано в CSV.\n",
      "Фото 2 скачано как 1eba2480655e5bb27c74dfe1e000efca_1200x900.jpg и записано в CSV.\n",
      "Фото 3 скачано как bddb8537160fab77366b1c9a267c795c_1200x900.jpg и записано в CSV.\n",
      "Фото 4 скачано как d0531a46732b3ebb63f1ef60ad0a5e06_1200x900.jpg и записано в CSV.\n",
      "Фото 5 скачано как 5509b49aacaa15a06374c92d5d023de4_1200x900.jpg и записано в CSV.\n",
      "Фото 6 скачано как 7ec520dc947f5557a34b5b709af61e46_1200x900.jpg и записано в CSV.\n"
     ]
    },
    {
     "name": "stderr",
     "output_type": "stream",
     "text": [
      "Flat images parsing:  64%|██████▍   | 323/501 [33:30<15:08,  5.10s/it]"
     ]
    },
    {
     "name": "stdout",
     "output_type": "stream",
     "text": [
      "Фото 7 скачано как z7rvWKIV-as и записано в CSV.\n",
      "--------end of flat 2822 / 3000 ---------\n",
      "Фото 1 скачано как 447342a7347a3f1016bfe7508c4677d7_1200x900.jpg и записано в CSV.\n",
      "Фото 2 скачано как b4a65e0f931ae64d4c358e0b2b6df65a_1200x900.jpg и записано в CSV.\n",
      "Фото 3 скачано как e496a24f4ad523a094d32599292e60f8_1200x900.jpg и записано в CSV.\n",
      "Фото 4 скачано как e41909f70ffca64827e14792c2af8542_1200x900.jpg и записано в CSV.\n",
      "Фото 5 скачано как e958fb44e84741d94962097065f3ecb5_1200x900.jpg и записано в CSV.\n",
      "Фото 6 скачано как 5ee4a7862fdc68fd131bebc889851381_1200x900.jpg и записано в CSV.\n",
      "Фото 7 скачано как df6e61de95abaf69f43f8c16ec228966_1200x900.jpg и записано в CSV.\n",
      "Фото 8 скачано как b26b35d656a4fcc579219345a30e24bc_1200x900.jpg и записано в CSV.\n",
      "Фото 9 скачано как bf28c8267e85b7662d053b4112034dad_1200x900.jpg и записано в CSV.\n",
      "Фото 10 скачано как 3b35783ca3b8b25f6ba189fb48e3885d_1200x900.jpg и записано в CSV.\n",
      "Фото 11 скачано как fadad727e30fa5d4097035595d5411e5_1200x900.jpg и записано в CSV.\n"
     ]
    },
    {
     "name": "stderr",
     "output_type": "stream",
     "text": [
      "Flat images parsing:  65%|██████▍   | 324/501 [33:36<15:56,  5.41s/it]"
     ]
    },
    {
     "name": "stdout",
     "output_type": "stream",
     "text": [
      "Фото 12 скачано как 37jCNp и записано в CSV.\n",
      "--------end of flat 2823 / 3000 ---------\n",
      "Фото 1 скачано как aa5d8f9af4a0ebfd8738ec4186288587_1200x900.jpg и записано в CSV.\n",
      "Фото 2 скачано как a3d9851ae713325c7d92d0478568814a_1200x900.jpg и записано в CSV.\n",
      "Фото 3 скачано как 66df94d8b2775ed3e6f04457d86cc6d9_1200x900.jpg и записано в CSV.\n",
      "Фото 4 скачано как c52a4f43f461b8fd3b34402a1e4b945f_1200x900.jpg и записано в CSV.\n",
      "Фото 5 скачано как bb68bd9a0636048a667e99b3bfc0353b_1200x900.jpg и записано в CSV.\n",
      "Фото 6 скачано как a4be3319f0e9e1f5700f32693b797f52_1200x900.jpg и записано в CSV.\n",
      "Фото 7 скачано как 70fe32d027e57fb5f643c1457710f2d9_1200x900.jpg и записано в CSV.\n"
     ]
    },
    {
     "name": "stderr",
     "output_type": "stream",
     "text": [
      "Flat images parsing:  65%|██████▍   | 325/501 [33:40<15:02,  5.13s/it]"
     ]
    },
    {
     "name": "stdout",
     "output_type": "stream",
     "text": [
      "Фото 8 скачано как 37jCNp и записано в CSV.\n",
      "--------end of flat 2824 / 3000 ---------\n",
      "Фото 1 скачано как 08232131aae4a00388ac89831c701be2_1200x900.jpg и записано в CSV.\n",
      "Фото 2 скачано как 9d7453c849b67770cafd7faea45d29cb_1200x900.jpg и записано в CSV.\n",
      "Фото 3 скачано как b3dc32bb33f54ee26d82bff71d70b7d0_1200x900.jpg и записано в CSV.\n",
      "Фото 4 скачано как 83d3f745598aa34a9913854d74241209_1200x900.jpg и записано в CSV.\n",
      "Фото 5 скачано как 6981b5c948644007cd63d2c3dda35e7a_1200x900.jpg и записано в CSV.\n",
      "Фото 6 скачано как b65104f0662467ba62213980c5864875_1200x900.jpg и записано в CSV.\n",
      "Фото 7 скачано как 6f783fd7ffc30f19f83c9fa9a5335ee0_1200x900.jpg и записано в CSV.\n",
      "Фото 8 скачано как c4ebe8a43e02f40badd9fb358bf9da6e_1200x900.jpg и записано в CSV.\n",
      "Фото 9 скачано как 022fd2dd4b500feac2d3bbdc000e1e9e_1200x900.jpg и записано в CSV.\n",
      "Фото 10 скачано как 68dddd89eb10eeb23c8bc86eb4611927_1200x900.jpg и записано в CSV.\n",
      "Фото 11 скачано как 42837d2e13f4d046137108629ac4ba4d_1200x900.jpg и записано в CSV.\n"
     ]
    },
    {
     "name": "stderr",
     "output_type": "stream",
     "text": [
      "Flat images parsing:  65%|██████▌   | 326/501 [33:48<17:26,  5.98s/it]"
     ]
    },
    {
     "name": "stdout",
     "output_type": "stream",
     "text": [
      "Фото 12 скачано как 3AQXYx и записано в CSV.\n",
      "--------end of flat 2825 / 3000 ---------\n",
      "Фото 1 скачано как c82c675898aa98225ea9dcf9a1483a68_1200x900.jpg и записано в CSV.\n",
      "Фото 2 скачано как 015e1ee5696616ba3cf379d5791aaf81_1200x900.jpg и записано в CSV.\n",
      "Фото 3 скачано как 763a7c87475916a966625a7e820ec231_1200x900.jpg и записано в CSV.\n",
      "Фото 4 скачано как 310270ce774e0823d493f27432af9e90_1200x900.jpg и записано в CSV.\n",
      "Фото 5 скачано как 1774a3ce4b657f71b46d92ad2f1d8c8e_1200x900.jpg и записано в CSV.\n",
      "Фото 6 скачано как 9a8548c55a1a636cb7620a05b1e59686_1200x900.jpg и записано в CSV.\n",
      "Фото 7 скачано как 405f5d007ed0f6bcb86d3aa8b3763812_1200x900.jpg и записано в CSV.\n",
      "Фото 8 скачано как 69bf961831de5c20630dce831606260e_1200x900.jpg и записано в CSV.\n",
      "Фото 9 скачано как f32f25ff0dde3f0e58d9668b4b85cc07_1200x900.jpg и записано в CSV.\n",
      "Фото 10 скачано как 17d294b490f74cee5f66a7f1eda2ec6d_1200x900.jpg и записано в CSV.\n",
      "Фото 11 скачано как d3324168c8c3c7577d5b5da31ff10553_1200x900.jpg и записано в CSV.\n",
      "Фото 12 скачано как e2f0bb2d1118d387182335edf208cb8e_1200x900.jpg и записано в CSV.\n",
      "Фото 13 скачано как 0861d76db2dae988070d8ff7ad96fb94_1200x900.jpg и записано в CSV.\n",
      "Фото 14 скачано как 0b6a06ff72cbfae2c71edea9f44ea61a_1200x900.jpg и записано в CSV.\n",
      "Фото 15 скачано как 999fea2663d022842af17834137aecf1_1200x900.jpg и записано в CSV.\n",
      "Фото 16 скачано как 8fc86c39cd1d009e552b35bc4e412e5f_1200x900.jpg и записано в CSV.\n"
     ]
    },
    {
     "name": "stderr",
     "output_type": "stream",
     "text": [
      "Flat images parsing:  65%|██████▌   | 327/501 [33:59<21:33,  7.43s/it]"
     ]
    },
    {
     "name": "stdout",
     "output_type": "stream",
     "text": [
      "Фото 17 скачано как z7rvWKIV-as и записано в CSV.\n",
      "--------end of flat 2826 / 3000 ---------\n",
      "Фото 1 скачано как 98712d851a179d1a0cd7d034e7767f93_1200x900.jpg и записано в CSV.\n",
      "Фото 2 скачано как 7bc711ce205a4783149a8738596feac9_1200x900.jpg и записано в CSV.\n",
      "Фото 3 скачано как 8b1014733f1ae92a03a2e4a2a9bcaef6_1200x900.jpg и записано в CSV.\n"
     ]
    },
    {
     "name": "stderr",
     "output_type": "stream",
     "text": [
      "Flat images parsing:  65%|██████▌   | 328/501 [34:02<17:28,  6.06s/it]"
     ]
    },
    {
     "name": "stdout",
     "output_type": "stream",
     "text": [
      "Фото 4 скачано как z7rvWKIV-as и записано в CSV.\n",
      "--------end of flat 2827 / 3000 ---------\n",
      "Фото 1 скачано как 78807894f250f7e4aafc7a49d9f9f5bb_1200x900.jpg и записано в CSV.\n",
      "Фото 2 скачано как 4670907cd79c4128ea555e682ec4d361_1200x900.jpg и записано в CSV.\n",
      "Фото 3 скачано как 314b67a8321d78e69d327ce80b0320f8_1200x900.jpg и записано в CSV.\n",
      "Фото 4 скачано как 8fea52bc20e90482e8b84bb2996cf99a_1200x900.jpg и записано в CSV.\n",
      "Фото 5 скачано как bc636c21b1f18623b485917146f8b7b4_1200x900.jpg и записано в CSV.\n",
      "Фото 6 скачано как 8dd3b940baa21f436a935375d0d5f6d0_1200x900.jpg и записано в CSV.\n",
      "Фото 7 скачано как 65da48fb421e128ea861470810e337a6_1200x900.jpg и записано в CSV.\n",
      "Фото 8 скачано как 956b901dae91af11853a791cdebb1d22_1200x900.jpg и записано в CSV.\n",
      "Фото 9 скачано как a820c132bf711bd5a456e6e4b1cb8984_1200x900.jpg и записано в CSV.\n",
      "Фото 10 скачано как 21ecc5f946ff2d212dcf8e267f620f98_1200x900.jpg и записано в CSV.\n",
      "Фото 11 скачано как e43eb42f2803fe1d9e8c2373ec6a1b5f_1200x900.jpg и записано в CSV.\n",
      "Фото 12 скачано как c9ec76a376908c3cb878517201b368fb_1200x900.jpg и записано в CSV.\n"
     ]
    },
    {
     "name": "stderr",
     "output_type": "stream",
     "text": [
      "Flat images parsing:  66%|██████▌   | 329/501 [34:10<18:43,  6.53s/it]"
     ]
    },
    {
     "name": "stdout",
     "output_type": "stream",
     "text": [
      "Фото 13 скачано как 3AQXYx и записано в CSV.\n",
      "--------end of flat 2828 / 3000 ---------\n",
      "Фото 1 скачано как 84dfd03d2c14ccb295947c960161f33d_1200x900.jpg и записано в CSV.\n"
     ]
    },
    {
     "name": "stderr",
     "output_type": "stream",
     "text": [
      "Flat images parsing:  66%|██████▌   | 330/501 [34:11<14:20,  5.03s/it]"
     ]
    },
    {
     "name": "stdout",
     "output_type": "stream",
     "text": [
      "Фото 2 скачано как 37jCNp и записано в CSV.\n",
      "--------end of flat 2829 / 3000 ---------\n",
      "Фото 1 скачано как eb0455dda5f5ca657f54b3b8d4fe8ec4_1200x900.jpg и записано в CSV.\n",
      "Фото 2 скачано как 465384180917b856f1a54f55461a2b84_1200x900.jpg и записано в CSV.\n",
      "Фото 3 скачано как 0c2d7608f2ab1f14d69f052ebad88604_1200x900.jpg и записано в CSV.\n",
      "Фото 4 скачано как 5f2134c7aa7e68371f116ed5f67b74ad_1200x900.jpg и записано в CSV.\n",
      "Фото 5 скачано как d8814c6220bfdfbfa507700f24356269_1200x900.jpg и записано в CSV.\n"
     ]
    },
    {
     "name": "stderr",
     "output_type": "stream",
     "text": [
      "Flat images parsing:  66%|██████▌   | 331/501 [34:15<13:25,  4.74s/it]"
     ]
    },
    {
     "name": "stdout",
     "output_type": "stream",
     "text": [
      "Фото 6 скачано как 3AQXYx и записано в CSV.\n",
      "--------end of flat 2830 / 3000 ---------\n",
      "Фото 1 скачано как 16aab5474eb67b8d1508ff56c70ae268_1200x900.jpg и записано в CSV.\n",
      "Фото 2 скачано как 97004806684581f43075fcc46e236594_1200x900.jpg и записано в CSV.\n",
      "Фото 3 скачано как 87ef394a7af637fcdb4c76561652a86d_1200x900.jpg и записано в CSV.\n",
      "Фото 4 скачано как 5f623a84d7881f465a110000ec48e2d1_1200x900.jpg и записано в CSV.\n",
      "Фото 5 скачано как dbff3b633e48e65a573bba52d1dde377_1200x900.jpg и записано в CSV.\n",
      "Фото 6 скачано как 6a36d048552c6f7ae1c246818ce4f305_1200x900.jpg и записано в CSV.\n",
      "Фото 7 скачано как ea54b9b884a08b78c70db9f1d3210485_1200x900.jpg и записано в CSV.\n",
      "Фото 8 скачано как 72ca97887245addc4cc20974e156e46a_1200x900.jpg и записано в CSV.\n"
     ]
    },
    {
     "name": "stderr",
     "output_type": "stream",
     "text": [
      "Flat images parsing:  66%|██████▋   | 332/501 [34:20<13:36,  4.83s/it]"
     ]
    },
    {
     "name": "stdout",
     "output_type": "stream",
     "text": [
      "Фото 9 скачано как 37jCNp и записано в CSV.\n",
      "--------end of flat 2831 / 3000 ---------\n",
      "Фото 1 скачано как 05638e2e5f218fc05866129ef5b5fa77_1200x900.jpg и записано в CSV.\n",
      "Фото 2 скачано как 979a9c8d158e5a0bf44aaaf170789de5_1200x900.jpg и записано в CSV.\n"
     ]
    },
    {
     "name": "stderr",
     "output_type": "stream",
     "text": [
      "Flat images parsing:  66%|██████▋   | 333/501 [34:23<11:24,  4.07s/it]"
     ]
    },
    {
     "name": "stdout",
     "output_type": "stream",
     "text": [
      "Фото 3 скачано как 3AQXYx и записано в CSV.\n",
      "--------end of flat 2832 / 3000 ---------\n",
      "Фото 1 скачано как 3e365fe70273ce6ea68947c9ddc17cc8_1200x900.jpg и записано в CSV.\n",
      "Фото 2 скачано как 4104d10e1034b864334fb14255475efb_1200x900.jpg и записано в CSV.\n",
      "Фото 3 скачано как 6c1f5d258958cf4ccbd0e063cfb10382_1200x900.jpg и записано в CSV.\n",
      "Фото 4 скачано как cd18716d913eb61d1b850f535fec03c2_1200x900.jpg и записано в CSV.\n",
      "Фото 5 скачано как 65eeb114b813862ef65f358b8538097a_1200x900.jpg и записано в CSV.\n",
      "Фото 6 скачано как 80c7759a635fedb25d35c4303cca404a_1200x900.jpg и записано в CSV.\n",
      "Фото 7 скачано как 40b0a1c3261b7048b1c6fc62336e9d7f_1200x900.jpg и записано в CSV.\n",
      "Фото 8 скачано как 0f83a87fb32600fbcfe064ee06bbff43_1200x900.jpg и записано в CSV.\n",
      "Фото 9 скачано как 2b4ca377c69977ae21e82285342262c6_1200x900.jpg и записано в CSV.\n",
      "Фото 10 скачано как 41ba0b85620594d163d5473159b85510_1200x900.jpg и записано в CSV.\n",
      "Фото 11 скачано как b60b942fbe6226e624762c70e4d4685e_1200x900.jpg и записано в CSV.\n",
      "Фото 12 скачано как 29eae55624fe3feca2b61965b2992d41_1200x900.jpg и записано в CSV.\n",
      "Фото 13 скачано как 20f18c54a4099b3a90a94dce9e30e2dc_1200x900.jpg и записано в CSV.\n",
      "Фото 14 скачано как 76c196d255b0b1d765c34165d49e6b6d_1200x900.jpg и записано в CSV.\n",
      "Фото 15 скачано как f9e27b3c040f38f9d608b21fad130d42_1200x900.jpg и записано в CSV.\n",
      "Фото 16 скачано как 2674b13faf3e3b3b9fb5ae710e37f59f_1200x900.jpg и записано в CSV.\n",
      "Фото 17 скачано как cbe0c3dedf5769a542252e023c7d503f_1200x900.jpg и записано в CSV.\n",
      "Фото 18 скачано как 69b3cdf0e2ea145b59822d9beb44cfe3_1200x900.jpg и записано в CSV.\n",
      "Фото 19 скачано как 67785b67ac4040dd11fd8ee8a98c19d1_1200x900.jpg и записано в CSV.\n",
      "Фото 20 скачано как c90d60a58c288d15a1fe5790e6e705b8_1200x900.jpg и записано в CSV.\n"
     ]
    },
    {
     "name": "stderr",
     "output_type": "stream",
     "text": [
      "Flat images parsing:  67%|██████▋   | 334/501 [34:42<24:04,  8.65s/it]"
     ]
    },
    {
     "name": "stdout",
     "output_type": "stream",
     "text": [
      "Фото 21 скачано как z7rvWKIV-as и записано в CSV.\n",
      "--------end of flat 2833 / 3000 ---------\n",
      "Фото 1 скачано как 82a769559df241c0e91ebbb5e2c09d28_1200x900.jpg и записано в CSV.\n",
      "Фото 2 скачано как e06fac2013da0747b551d8c8270d1478_1200x900.jpg и записано в CSV.\n",
      "Фото 3 скачано как d0c14b0d6e25b2bda4d777419548a5e4_1200x900.jpg и записано в CSV.\n",
      "Фото 4 скачано как bb24fba6f616f9a2bcf3b520b8e95d59_1200x900.jpg и записано в CSV.\n",
      "Фото 5 скачано как 322ffd71464d1ad19c90cbc526dbe881_1200x900.jpg и записано в CSV.\n",
      "Фото 6 скачано как fded6c02a75c6f34601d70446787deec_1200x900.jpg и записано в CSV.\n",
      "Фото 7 скачано как 1a3a01461646ad5b45d777c36b55d324_1200x900.jpg и записано в CSV.\n",
      "Фото 8 скачано как c53bf371f2429ccdebfce3d1dbf4357f_1200x900.jpg и записано в CSV.\n",
      "Фото 9 скачано как 8b5e946d358747fe55d768fa527c944a_1200x900.jpg и записано в CSV.\n"
     ]
    },
    {
     "name": "stderr",
     "output_type": "stream",
     "text": [
      "Flat images parsing:  67%|██████▋   | 335/501 [34:47<20:50,  7.53s/it]"
     ]
    },
    {
     "name": "stdout",
     "output_type": "stream",
     "text": [
      "Фото 10 скачано как 37jCNp и записано в CSV.\n",
      "--------end of flat 2834 / 3000 ---------\n",
      "Фото 1 скачано как d2990e27204857e9c26214ce67feda82_1200x900.jpg и записано в CSV.\n",
      "Фото 2 скачано как 3e28bb74520c22f7d509ef9172f21e4c_1200x900.jpg и записано в CSV.\n",
      "Фото 3 скачано как 28da646786d8bbf2f91c42d2323014ff_1200x900.jpg и записано в CSV.\n",
      "Фото 4 скачано как 30833efc4c8effe09dbc01b5db2bc20b_1200x900.jpg и записано в CSV.\n",
      "Фото 5 скачано как d4192b8e966306a2542932146a75104b_1200x900.jpg и записано в CSV.\n"
     ]
    },
    {
     "name": "stderr",
     "output_type": "stream",
     "text": [
      "Flat images parsing:  67%|██████▋   | 336/501 [34:51<17:53,  6.51s/it]"
     ]
    },
    {
     "name": "stdout",
     "output_type": "stream",
     "text": [
      "Фото 6 скачано как z7rvWKIV-as и записано в CSV.\n",
      "--------end of flat 2835 / 3000 ---------\n",
      "Фото 1 скачано как 3cc2d85c1f20d53bac885967a7a5e048_1200x900.jpg и записано в CSV.\n",
      "Фото 2 скачано как 3919b42b62c3ee998970432e3dc4cd5d_1200x900.jpg и записано в CSV.\n",
      "Фото 3 скачано как 834255ee1d958169d7c51ac9d1f0acf1_1200x900.jpg и записано в CSV.\n",
      "Фото 4 скачано как 7b56312b4c652e6d3300fdda7477a630_1200x900.jpg и записано в CSV.\n",
      "Фото 5 скачано как 8a8dec0c6db423d7ff9614b3402d5ab0_1200x900.jpg и записано в CSV.\n",
      "Фото 6 скачано как 0d24f94d7d90f5be893ae94a034b56df_1200x900.jpg и записано в CSV.\n",
      "Фото 7 скачано как a277ac2e2d61af01bac0b6e68453d4bc_1200x900.jpg и записано в CSV.\n",
      "Фото 8 скачано как 6d30b55832d9bb39335627619fd85482_1200x900.jpg и записано в CSV.\n",
      "Фото 9 скачано как 52e4abd752b3a5af7cb49db30a5ccc07_1200x900.jpg и записано в CSV.\n",
      "Фото 10 скачано как 4e5558a0133608b69045b96f179f1b9c_1200x900.jpg и записано в CSV.\n",
      "Фото 11 скачано как 9949abf0f5970b1a17d5d164f9c9f028_1200x900.jpg и записано в CSV.\n",
      "Фото 12 скачано как ff14023d1270483cd183d06e34eeb3a9_1200x900.jpg и записано в CSV.\n",
      "Фото 13 скачано как 2540b3513de0a80be3989162c0cd605f_1200x900.jpg и записано в CSV.\n",
      "Фото 14 скачано как c8bbab69d75b3b2b5d83d85da485eaff_1200x900.jpg и записано в CSV.\n"
     ]
    },
    {
     "name": "stderr",
     "output_type": "stream",
     "text": [
      "Flat images parsing:  67%|██████▋   | 337/501 [35:00<20:06,  7.35s/it]"
     ]
    },
    {
     "name": "stdout",
     "output_type": "stream",
     "text": [
      "Фото 15 скачано как z7rvWKIV-as и записано в CSV.\n",
      "--------end of flat 2836 / 3000 ---------\n",
      "Фото 1 скачано как 0cc678bf2e3ea49205245e86fd065718_1200x900.jpg и записано в CSV.\n"
     ]
    },
    {
     "name": "stderr",
     "output_type": "stream",
     "text": [
      "Flat images parsing:  67%|██████▋   | 338/501 [35:02<15:33,  5.73s/it]"
     ]
    },
    {
     "name": "stdout",
     "output_type": "stream",
     "text": [
      "Фото 2 скачано как 3AQXYx и записано в CSV.\n",
      "--------end of flat 2837 / 3000 ---------\n",
      "Фото 1 скачано как 57cefde4e865cf9c06f0e33d2afc6190_1200x900.jpg и записано в CSV.\n",
      "Фото 2 скачано как 4c34dd515998a4373057da2d791490a0_1200x900.jpg и записано в CSV.\n",
      "Фото 3 скачано как 421a7309d0932aec802f25f7cfe9bcd0_1200x900.jpg и записано в CSV.\n",
      "Фото 4 скачано как 5dad34f97c09f42106ee024419f8e0cb_1200x900.jpg и записано в CSV.\n",
      "Фото 5 скачано как 2c58439521bb863646cc1684f977c175_1200x900.jpg и записано в CSV.\n",
      "Фото 6 скачано как 0e613c756ee7b747c47a382c0266b431_1200x900.jpg и записано в CSV.\n",
      "Фото 7 скачано как 80826c3a522da3199842e912fb754471_1200x900.jpg и записано в CSV.\n"
     ]
    },
    {
     "name": "stderr",
     "output_type": "stream",
     "text": [
      "Flat images parsing:  68%|██████▊   | 339/501 [35:07<14:57,  5.54s/it]"
     ]
    },
    {
     "name": "stdout",
     "output_type": "stream",
     "text": [
      "Фото 8 скачано как z7rvWKIV-as и записано в CSV.\n",
      "--------end of flat 2838 / 3000 ---------\n",
      "Фото 1 скачано как a4ce94724bcdd9e0fc8da4fa4edd87b6_1200x900.jpg и записано в CSV.\n",
      "Фото 2 скачано как ed898c24bc7e91d96a9d9bfe0a2439ab_1200x900.jpg и записано в CSV.\n",
      "Фото 3 скачано как ce5c804e645f7702496520ec0cc65ffa_1200x900.jpg и записано в CSV.\n",
      "Фото 4 скачано как ae4f98a0b6a7a5a699792f55d1932ba7_1200x900.jpg и записано в CSV.\n",
      "Фото 5 скачано как 990e2d3a4051710120f318c1b94653da_1200x900.jpg и записано в CSV.\n",
      "Фото 6 скачано как bb9d9ee28c51ea30138d664f2b64e2fb_1200x900.jpg и записано в CSV.\n",
      "Фото 7 скачано как 4faaaffc38c65c967169bb7fb2a3814d_1200x900.jpg и записано в CSV.\n",
      "Фото 8 скачано как ad904931cd24e415a75a15a408f6a132_1200x900.jpg и записано в CSV.\n",
      "Фото 9 скачано как 0a8f4a180259074f3b7920a565eeb7f3_1200x900.jpg и записано в CSV.\n",
      "Фото 10 скачано как bcc36280060fc878c7ba624e937e3102_1200x900.jpg и записано в CSV.\n",
      "Фото 11 скачано как d5081854bb74c08eb2c3cc19c0ee528a_1200x900.jpg и записано в CSV.\n",
      "Фото 12 скачано как 8e3538f773304571e3e08d23af224b24_1200x900.jpg и записано в CSV.\n",
      "Фото 13 скачано как 48c93f1f5a86dbe86fd6847fd9a356e9_1200x900.jpg и записано в CSV.\n"
     ]
    },
    {
     "name": "stderr",
     "output_type": "stream",
     "text": [
      "Flat images parsing:  68%|██████▊   | 340/501 [35:15<16:25,  6.12s/it]"
     ]
    },
    {
     "name": "stdout",
     "output_type": "stream",
     "text": [
      "Фото 14 скачано как z7rvWKIV-as и записано в CSV.\n",
      "--------end of flat 2839 / 3000 ---------\n",
      "Фото 1 скачано как 84257d20aa987285b4a96b3f8368e6f3_1200x900.jpg и записано в CSV.\n",
      "Фото 2 скачано как 64511cb9228578b2143f349c4744b657_1200x900.jpg и записано в CSV.\n",
      "Фото 3 скачано как 3309fc17460571cf61fdb4eba92b7d63_1200x900.jpg и записано в CSV.\n",
      "Фото 4 скачано как 9c8f017ad7c6f5b115a697a3df823bc2_1200x900.jpg и записано в CSV.\n",
      "Фото 5 скачано как 540f25e8d31237f0600ba3e0c8dd17e9_1200x900.jpg и записано в CSV.\n",
      "Фото 6 скачано как 3a6bf8bba255d5baec4654bdd7957ae5_1200x900.jpg и записано в CSV.\n",
      "Фото 7 скачано как 937872836e35f1b04c2e62e6c5cb62ef_1200x900.jpg и записано в CSV.\n",
      "Фото 8 скачано как b664739fb7423418f4f5b7c4baeec108_1200x900.jpg и записано в CSV.\n"
     ]
    },
    {
     "name": "stderr",
     "output_type": "stream",
     "text": [
      "Flat images parsing:  68%|██████▊   | 341/501 [35:23<18:12,  6.83s/it]"
     ]
    },
    {
     "name": "stdout",
     "output_type": "stream",
     "text": [
      "Фото 9 скачано как z7rvWKIV-as и записано в CSV.\n",
      "--------end of flat 2840 / 3000 ---------\n",
      "Фото 1 скачано как f33a73548145a50920f0dad5722f8ca1_1200x900.jpg и записано в CSV.\n",
      "Фото 2 скачано как e167ee5526d3697e686cae205f77eea2_1200x900.jpg и записано в CSV.\n",
      "Фото 3 скачано как 490f995806f506649d6a6801343094d6_1200x900.jpg и записано в CSV.\n",
      "Фото 4 скачано как 08ee2519a188370e3e9be9f549189849_1200x900.jpg и записано в CSV.\n",
      "Фото 5 скачано как bc04b23b6cf07f434498e4b095120d5f_1200x900.jpg и записано в CSV.\n",
      "Фото 6 скачано как f61b9293aad281c6822a47c8602f872f_1200x900.jpg и записано в CSV.\n",
      "Фото 7 скачано как c42545e717c2fb8041da2303b93735b2_1200x900.jpg и записано в CSV.\n"
     ]
    },
    {
     "name": "stderr",
     "output_type": "stream",
     "text": [
      "Flat images parsing:  68%|██████▊   | 342/501 [35:30<17:36,  6.65s/it]"
     ]
    },
    {
     "name": "stdout",
     "output_type": "stream",
     "text": [
      "Фото 8 скачано как z7rvWKIV-as и записано в CSV.\n",
      "--------end of flat 2841 / 3000 ---------\n",
      "Фото 1 скачано как f5be10b77bdfe5cca0f4e599814e2af4_1200x900.jpg и записано в CSV.\n",
      "Фото 2 скачано как d425dd6139a8bddce6138f06af8a61e8_1200x900.jpg и записано в CSV.\n",
      "Фото 3 скачано как 8824ce1261b9b6d65ccf0c164236274b_1200x900.jpg и записано в CSV.\n",
      "Фото 4 скачано как 70541bf1f4d8a32da16699e0e0011710_1200x900.jpg и записано в CSV.\n",
      "Фото 5 скачано как 839a7b0279afc992973be3e3d296aa7c_1200x900.jpg и записано в CSV.\n",
      "Фото 6 скачано как de8cbcc8208c92fcc45bd27755694b91_1200x900.jpg и записано в CSV.\n",
      "Фото 7 скачано как 49ddef345c36f19f5115d8c48346e2f5_1200x900.jpg и записано в CSV.\n",
      "Фото 8 скачано как 7e2812ef7754793cf8bb35bf17358de5_1200x900.jpg и записано в CSV.\n",
      "Фото 9 скачано как 358f47450b573e38e64436929706f90a_1200x900.jpg и записано в CSV.\n",
      "Фото 10 скачано как 607b31553e8931a73b14d4c4d9c76db2_1200x900.jpg и записано в CSV.\n",
      "Фото 11 скачано как 91bea3e6d82979fb1ff59a2dbdf60395_1200x900.jpg и записано в CSV.\n",
      "Фото 12 скачано как 126cb11fd79e702b401702ca06087998_1200x900.jpg и записано в CSV.\n",
      "Фото 13 скачано как 8628ed4acf99d257a807f90bff77cf14_1200x900.jpg и записано в CSV.\n"
     ]
    },
    {
     "name": "stderr",
     "output_type": "stream",
     "text": [
      "Flat images parsing:  68%|██████▊   | 343/501 [35:38<19:03,  7.24s/it]"
     ]
    },
    {
     "name": "stdout",
     "output_type": "stream",
     "text": [
      "Фото 14 скачано как z7rvWKIV-as и записано в CSV.\n",
      "--------end of flat 2842 / 3000 ---------\n",
      "Фото 1 скачано как 2fbfae5340a467ddc8d1849ef5c4d635_1200x900.jpg и записано в CSV.\n",
      "Фото 2 скачано как d2049ba53dc699e3e9558756e359957c_1200x900.jpg и записано в CSV.\n",
      "Фото 3 скачано как 93d4468919bad2eba88b344bd5309317_1200x900.jpg и записано в CSV.\n",
      "Фото 4 скачано как 699e20d787a7f8b4d1212d1ce8b08d11_1200x900.jpg и записано в CSV.\n",
      "Фото 5 скачано как 176e776a76c9ac095e72724f0da7bf8e_1200x900.jpg и записано в CSV.\n",
      "Фото 6 скачано как 96dbbdeb3795958f4d0e05023a2fa690_1200x900.jpg и записано в CSV.\n",
      "Фото 7 скачано как 73d8c3aa683a7aaa10a038208bc75449_1200x900.jpg и записано в CSV.\n",
      "Фото 8 скачано как 61e337da62d9ec73060ac47f4ad5293c_1200x900.jpg и записано в CSV.\n",
      "Фото 9 скачано как 20da18d8df1973b81814fe44a4075153_1200x900.jpg и записано в CSV.\n",
      "Фото 10 скачано как 31592f57f78e97d30fa3c9f2525031d5_1200x900.jpg и записано в CSV.\n",
      "Фото 11 скачано как 4aa381408970cffdc41cc39f0321c4e3_1200x900.jpg и записано в CSV.\n",
      "Фото 12 скачано как 25c6459dff5b1923de5fafacea5b17fb_1200x900.jpg и записано в CSV.\n",
      "Фото 13 скачано как 417af131ce00160a0ffdd37341baf7c7_1200x900.jpg и записано в CSV.\n",
      "Фото 14 скачано как 54a376b15fd76dabc6974f2b5891a80b_1200x900.jpg и записано в CSV.\n",
      "Фото 15 скачано как 4856da653c77de797248fbf16f051e5f_1200x900.jpg и записано в CSV.\n",
      "Фото 16 скачано как 897b9526d09fca4cf2fd900ae8313ad4_1200x900.jpg и записано в CSV.\n"
     ]
    },
    {
     "name": "stderr",
     "output_type": "stream",
     "text": [
      "Flat images parsing:  69%|██████▊   | 344/501 [35:48<20:47,  7.94s/it]"
     ]
    },
    {
     "name": "stdout",
     "output_type": "stream",
     "text": [
      "Фото 17 скачано как 37jCNp и записано в CSV.\n",
      "--------end of flat 2843 / 3000 ---------\n",
      "Фото 1 скачано как 5aa1e6cf012a95858af36eff7b8eac18_1200x900.jpg и записано в CSV.\n",
      "Фото 2 скачано как 9ea1ed256fa5fe91ac4b675d470f0c54_1200x900.jpg и записано в CSV.\n",
      "Фото 3 скачано как 28f8e69ab0a4f30b8799ec40a2c9956e_1200x900.jpg и записано в CSV.\n",
      "Фото 4 скачано как fe3d7648f2a0bb1de8c7f77fef4728d9_1200x900.jpg и записано в CSV.\n",
      "Фото 5 скачано как d1f638ae0f7c8f7783ba60404e44c0f0_1200x900.jpg и записано в CSV.\n"
     ]
    },
    {
     "name": "stderr",
     "output_type": "stream",
     "text": [
      "Flat images parsing:  69%|██████▉   | 345/501 [35:52<17:41,  6.81s/it]"
     ]
    },
    {
     "name": "stdout",
     "output_type": "stream",
     "text": [
      "Фото 6 скачано как z7rvWKIV-as и записано в CSV.\n",
      "--------end of flat 2844 / 3000 ---------\n",
      "Фото 1 скачано как 5925dc48633163ad2c39717330b850f0_1200x900.jpg и записано в CSV.\n",
      "Фото 2 скачано как 5b6c06a9a5974dab0a5512c5cb9ff027_1200x900.jpg и записано в CSV.\n",
      "Фото 3 скачано как 10275ce36fee9145c3e186c3c27aa51b_1200x900.jpg и записано в CSV.\n",
      "Фото 4 скачано как c1f0bc8f49dea36b97bdf8a8456cdcdd_1200x900.jpg и записано в CSV.\n",
      "Фото 5 скачано как 5d73c2ba67c729af5771d872e38c96e4_1200x900.jpg и записано в CSV.\n"
     ]
    },
    {
     "name": "stderr",
     "output_type": "stream",
     "text": [
      "Flat images parsing:  69%|██████▉   | 346/501 [35:56<15:40,  6.07s/it]"
     ]
    },
    {
     "name": "stdout",
     "output_type": "stream",
     "text": [
      "Фото 6 скачано как 37jCNp и записано в CSV.\n",
      "--------end of flat 2845 / 3000 ---------\n",
      "Фото 1 скачано как 02dafbf4123026f883d3b0ab967d943a_1200x900.jpg и записано в CSV.\n",
      "Фото 2 скачано как cc35f3ec727e66622766aa951e6112b1_1200x900.jpg и записано в CSV.\n",
      "Фото 3 скачано как a940e685387b6a3b1a9cfbca146a8adc_1200x900.jpg и записано в CSV.\n",
      "Фото 4 скачано как d3044f77d495ece72eac248c7676b6cb_1200x900.jpg и записано в CSV.\n"
     ]
    },
    {
     "name": "stderr",
     "output_type": "stream",
     "text": [
      "Flat images parsing:  69%|██████▉   | 347/501 [36:01<14:15,  5.56s/it]"
     ]
    },
    {
     "name": "stdout",
     "output_type": "stream",
     "text": [
      "Фото 5 скачано как z7rvWKIV-as и записано в CSV.\n",
      "--------end of flat 2846 / 3000 ---------\n",
      "Фото 1 скачано как ecd683b789815290f2113487461537f8_1200x900.jpg и записано в CSV.\n",
      "Фото 2 скачано как a606d1da8e8cdbd69af6bf77fa13d6c6_1200x900.jpg и записано в CSV.\n",
      "Фото 3 скачано как fcdacc397ba9b75f3aef26058840b2ba_1200x900.jpg и записано в CSV.\n",
      "Фото 4 скачано как adb0818ce38b0390a1eb9e542dc80390_1200x900.jpg и записано в CSV.\n",
      "Фото 5 скачано как 50151702ae1ed4c8c074f85b84e3e104_1200x900.jpg и записано в CSV.\n",
      "Фото 6 скачано как 5837a9c6dd3c08d53a3e2497bb2e93bd_1200x900.jpg и записано в CSV.\n",
      "Фото 7 скачано как cd96040280925e4c79b2e6e7edb83efc_1200x900.jpg и записано в CSV.\n",
      "Фото 8 скачано как 5b00de7f1864211e33f09916bc35bf16_1200x900.jpg и записано в CSV.\n",
      "Фото 9 скачано как a4c8769a8c08413bf910c9f87455a2eb_1200x900.jpg и записано в CSV.\n",
      "Фото 10 скачано как 13b45dc6e79dc40415d393bbdf6a029b_1200x900.jpg и записано в CSV.\n"
     ]
    },
    {
     "name": "stderr",
     "output_type": "stream",
     "text": [
      "Flat images parsing:  69%|██████▉   | 348/501 [36:08<15:30,  6.08s/it]"
     ]
    },
    {
     "name": "stdout",
     "output_type": "stream",
     "text": [
      "Фото 11 скачано как z7rvWKIV-as и записано в CSV.\n",
      "--------end of flat 2847 / 3000 ---------\n",
      "Фото 1 скачано как 889830b8c42df55030c1912398b78cac_1200x900.jpg и записано в CSV.\n",
      "Фото 2 скачано как 6aeba936af818d37cf65060f988406d6_1200x900.jpg и записано в CSV.\n",
      "Фото 3 скачано как e58139a66ed1a56a17a72d1c6ba3361f_1200x900.jpg и записано в CSV.\n",
      "Фото 4 скачано как 085271ac41a9f84a3fdc41be62fb45c8_1200x900.jpg и записано в CSV.\n",
      "Фото 5 скачано как c8652e6bcaf046337769fe1540d41767_1200x900.jpg и записано в CSV.\n",
      "Фото 6 скачано как 44d59066d3f165defc62a4755b802582_1200x900.jpg и записано в CSV.\n",
      "Фото 7 скачано как f3cbc7ac84983097dfc0b84dfab758f3_1200x900.jpg и записано в CSV.\n",
      "Фото 8 скачано как 74e98a51a6d67304bed21a26c916152a_1200x900.jpg и записано в CSV.\n",
      "Фото 9 скачано как 7a118c2c2ef14404198bde4e0f585ca6_1200x900.jpg и записано в CSV.\n",
      "Фото 10 скачано как b6d6327fca8edf25a402a733269a253a_1200x900.jpg и записано в CSV.\n",
      "Фото 11 скачано как 78dbe595d0e7c53f831708d3b6aafc27_1200x900.jpg и записано в CSV.\n",
      "Фото 12 скачано как aa253e5484c4a3696a81629bcb3de22a_1200x900.jpg и записано в CSV.\n",
      "Фото 13 скачано как 87c38c4c9824f7be283307bb040dd732_1200x900.jpg и записано в CSV.\n",
      "Фото 14 скачано как 5345a872f48313701d66ffaa5e5cbb2e_1200x900.jpg и записано в CSV.\n",
      "Фото 15 скачано как 887d1057730d7bafdb7f165613006665_1200x900.jpg и записано в CSV.\n",
      "Фото 16 скачано как 62b4d3c93f86955c624ae73922170d66_1200x900.jpg и записано в CSV.\n",
      "Фото 17 скачано как ddc60456391239dcf19dd4365f725ada_1200x900.jpg и записано в CSV.\n",
      "Фото 18 скачано как 52e0436b38ced2ec7d65e0f5dd4b9005_1200x900.jpg и записано в CSV.\n"
     ]
    },
    {
     "name": "stderr",
     "output_type": "stream",
     "text": [
      "Flat images parsing:  70%|██████▉   | 349/501 [36:19<19:30,  7.70s/it]"
     ]
    },
    {
     "name": "stdout",
     "output_type": "stream",
     "text": [
      "Фото 19 скачано как z7rvWKIV-as и записано в CSV.\n",
      "--------end of flat 2848 / 3000 ---------\n",
      "Фото 1 скачано как 242e20d702d75fd2736d9ec24768179a_1200x900.jpg и записано в CSV.\n",
      "Фото 2 скачано как 5809144ad8d89e092b3e22ae97a3d448_1200x900.jpg и записано в CSV.\n",
      "Фото 3 скачано как 64d0254c989e86d792cca72bf1967aa4_1200x900.jpg и записано в CSV.\n",
      "Фото 4 скачано как e3c4d040bc7e26543ee67cbd0f5d2024_1200x900.jpg и записано в CSV.\n"
     ]
    },
    {
     "name": "stderr",
     "output_type": "stream",
     "text": [
      "Flat images parsing:  70%|██████▉   | 350/501 [36:24<16:55,  6.73s/it]"
     ]
    },
    {
     "name": "stdout",
     "output_type": "stream",
     "text": [
      "Фото 5 скачано как z7rvWKIV-as и записано в CSV.\n",
      "--------end of flat 2849 / 3000 ---------\n",
      "Фото 1 скачано как eedd6f8d0683811229b46051b4ebe768_1200x900.jpg и записано в CSV.\n",
      "Фото 2 скачано как 28a0f8194a9b77e3ac38df1300741dbe_1200x900.jpg и записано в CSV.\n",
      "Фото 3 скачано как e9383d7d786dc4f6ca1d6a3633bb509c_1200x900.jpg и записано в CSV.\n",
      "Фото 4 скачано как faf680b80861163ee1a3e4da534c7e58_1200x900.jpg и записано в CSV.\n",
      "Фото 5 скачано как cde6e655c09953b4a8d3bf83e4819e2c_1200x900.jpg и записано в CSV.\n",
      "Фото 6 скачано как b9f8063204d50b0f3acd8a283cd990b5_1200x900.jpg и записано в CSV.\n",
      "Фото 7 скачано как 9d744cdd06b02d0c8b252781d0ac0554_1200x900.jpg и записано в CSV.\n",
      "Фото 8 скачано как c4610a3df86affa9d34b354bb1e89060_1200x900.jpg и записано в CSV.\n",
      "Фото 9 скачано как 75ea15865c7a03a812bfdb799ffb7df4_1200x900.jpg и записано в CSV.\n",
      "Фото 10 скачано как 8a85beff283545a73bb2eb8a929d2213_1200x900.jpg и записано в CSV.\n",
      "Фото 11 скачано как 74c3c78b0f77fa568c7066be6e8b7394_1200x900.jpg и записано в CSV.\n",
      "Фото 12 скачано как f38bec7c2de6f92b734a065b67e8e719_1200x900.jpg и записано в CSV.\n",
      "Фото 13 скачано как 594c1f76868e7dc0ae8c95531e2bf8a1_1200x900.jpg и записано в CSV.\n",
      "Фото 14 скачано как a0bf9c2d2a8f972f8ee27fa5323f2fc2_1200x900.jpg и записано в CSV.\n",
      "Фото 15 скачано как 3578de83c95fd50b99c3bcfc584e0057_1200x900.jpg и записано в CSV.\n",
      "Фото 16 скачано как 9224cf3799ee5f4219e3f72ea68fe620_1200x900.jpg и записано в CSV.\n",
      "Фото 17 скачано как 12ac7e2dbc8bf4081eb583943c90346a_1200x900.jpg и записано в CSV.\n",
      "Фото 18 скачано как 1a39610a20e72c6f385f03f8ad4c3f16_1200x900.jpg и записано в CSV.\n",
      "Фото 19 скачано как 288d86bde6b30e5beaa8481333f22dc9_1200x900.jpg и записано в CSV.\n",
      "Фото 20 скачано как 0ffb50d5ae9023214dab154fa2dce060_1200x900.jpg и записано в CSV.\n",
      "Фото 21 скачано как dcab3e5db89a60c1bc7c3258119c8123_1200x900.jpg и записано в CSV.\n",
      "Фото 22 скачано как 2550ab45c69f2b0b7b972284062d0b5a_1200x900.jpg и записано в CSV.\n",
      "Фото 23 скачано как b4479354a2b35d17252bd79f566f098d_1200x900.jpg и записано в CSV.\n",
      "Фото 24 скачано как af34b5dafd6f679797382a045e278c6b_1200x900.jpg и записано в CSV.\n",
      "Фото 25 скачано как f4afc421edad00ae8289033b2ef53d79_1200x900.jpg и записано в CSV.\n",
      "Фото 26 скачано как 117937da75c6af4d74b5ad0d150b3f99_1200x900.jpg и записано в CSV.\n",
      "Фото 27 скачано как bb491ca31187f0cddc0da325d2a96430_1200x900.jpg и записано в CSV.\n",
      "Фото 28 скачано как e9c630b89774f07c365c4b795b757586_1200x900.jpg и записано в CSV.\n",
      "Фото 29 скачано как 9e835356f2aa1326b81740049fac16ed_1200x900.jpg и записано в CSV.\n"
     ]
    },
    {
     "name": "stderr",
     "output_type": "stream",
     "text": [
      "Flat images parsing:  70%|███████   | 351/501 [36:41<24:24,  9.76s/it]"
     ]
    },
    {
     "name": "stdout",
     "output_type": "stream",
     "text": [
      "Фото 30 скачано как z7rvWKIV-as и записано в CSV.\n",
      "--------end of flat 2850 / 3000 ---------\n",
      "Фото 1 скачано как 1f1c137a01a3e5dc5f56d4cf9bdaf41e_1200x900.jpg и записано в CSV.\n",
      "Фото 2 скачано как b368e7a17b50b6526cc7eef25c0c1f81_1200x900.jpg и записано в CSV.\n",
      "Фото 3 скачано как dae354a0d97ffc8966cfc2991ed62ba1_1200x900.jpg и записано в CSV.\n",
      "Фото 4 скачано как 9fe960b4af89fecd221f876523c0f922_1200x900.jpg и записано в CSV.\n",
      "Фото 5 скачано как 6f2b53b8348fb0f7dd1c79fda531f6f3_1200x900.jpg и записано в CSV.\n",
      "Фото 6 скачано как a9178f8c241749c626545c3c7ba1a3f8_1200x900.jpg и записано в CSV.\n",
      "Фото 7 скачано как 608886054315367c8f684a17b77c5a63_1200x900.jpg и записано в CSV.\n",
      "Фото 8 скачано как 3134d0d227222ebded694c90546fa6d9_1200x900.jpg и записано в CSV.\n",
      "Фото 9 скачано как cda2ad8fd441fae61bd6be7f9f4c5dda_1200x900.jpg и записано в CSV.\n",
      "Фото 10 скачано как 2a52263aea476a22d4209d470037c6e2_1200x900.jpg и записано в CSV.\n",
      "Фото 11 скачано как fca1052814a6bbd108821c3a45fa5a54_1200x900.jpg и записано в CSV.\n",
      "Фото 12 скачано как 20d42976743196d5363d8e7ba78cae80_1200x900.jpg и записано в CSV.\n"
     ]
    },
    {
     "name": "stderr",
     "output_type": "stream",
     "text": [
      "Flat images parsing:  70%|███████   | 352/501 [36:48<22:40,  9.13s/it]"
     ]
    },
    {
     "name": "stdout",
     "output_type": "stream",
     "text": [
      "Фото 13 скачано как 3AQXYx и записано в CSV.\n",
      "--------end of flat 2851 / 3000 ---------\n",
      "Фото 1 скачано как 1f7ba696f51903f72b287e219d31d060_1200x900.jpg и записано в CSV.\n",
      "Фото 2 скачано как 6742dd7d5486e781d7082b8a32c5b9ba_1200x900.jpg и записано в CSV.\n",
      "Фото 3 скачано как 80772e490aa1e7643f17700e6dabd918_1200x900.jpg и записано в CSV.\n",
      "Фото 4 скачано как aa4b2dfac2a3570b09e429b79aa120fd_1200x900.jpg и записано в CSV.\n",
      "Фото 5 скачано как 43be2a92fd8287ef493e2991490b6717_1200x900.jpg и записано в CSV.\n",
      "Фото 6 скачано как d271d2215a532bc3e508dcbea3ee5d15_1200x900.jpg и записано в CSV.\n",
      "Фото 7 скачано как 82404379b078f78fa745a6731b6525d2_1200x900.jpg и записано в CSV.\n",
      "Фото 8 скачано как bbe738ae32e2caac34dc30224bf91534_1200x900.jpg и записано в CSV.\n",
      "Фото 9 скачано как 6aeb3c7d614f1f1b219621dbe79d0d48_1200x900.jpg и записано в CSV.\n",
      "Фото 10 скачано как c9ff93b137c242afa2482e0890a117b8_1200x900.jpg и записано в CSV.\n",
      "Фото 11 скачано как 75376e3cafc15586d5a93f2cf84aec89_1200x900.jpg и записано в CSV.\n",
      "Фото 12 скачано как 5a9a9f9ec48dbcfb55bd705981f13238_1200x900.jpg и записано в CSV.\n"
     ]
    },
    {
     "name": "stderr",
     "output_type": "stream",
     "text": [
      "Flat images parsing:  70%|███████   | 353/501 [36:56<21:07,  8.56s/it]"
     ]
    },
    {
     "name": "stdout",
     "output_type": "stream",
     "text": [
      "Фото 13 скачано как 3AQXYx и записано в CSV.\n",
      "--------end of flat 2852 / 3000 ---------\n",
      "Фото 1 скачано как 79c07ecdb0108ceb3d925c0e3651bef1_1200x900.jpg и записано в CSV.\n",
      "Фото 2 скачано как 24a4c93a17854a19f7ba2c3b1ec51cf7_1200x900.jpg и записано в CSV.\n",
      "Фото 3 скачано как b7880613831922f6037aff8d622958ee_1200x900.jpg и записано в CSV.\n",
      "Фото 4 скачано как f99a90fbd22251300f67917b77fd3468_1200x900.jpg и записано в CSV.\n",
      "Фото 5 скачано как 65ea1c03ee4582924a099b04791b8416_1200x900.jpg и записано в CSV.\n",
      "Фото 6 скачано как c5b03d72fd894be9144fe79e978e8f0e_1200x900.jpg и записано в CSV.\n",
      "Фото 7 скачано как e5f25c3a95c9e70b8b7bf182eb20e47f_1200x900.jpg и записано в CSV.\n",
      "Фото 8 скачано как b97508ca00f5068b09be9dd91533d5da_1200x900.jpg и записано в CSV.\n",
      "Фото 9 скачано как 3f392573920ca55ba1ab42522796b8c8_1200x900.jpg и записано в CSV.\n",
      "Фото 10 скачано как f0adaf198b09274ad0f84daefe0fc56b_1200x900.jpg и записано в CSV.\n",
      "Фото 11 скачано как 756c25e37e0589922554cc1e2b48e311_1200x900.jpg и записано в CSV.\n",
      "Фото 12 скачано как 5d326e149e01c375e3c0acbae3f97ee3_1200x900.jpg и записано в CSV.\n",
      "Фото 13 скачано как b6eb916fac34d978143bc3060984fc09_1200x900.jpg и записано в CSV.\n"
     ]
    },
    {
     "name": "stderr",
     "output_type": "stream",
     "text": [
      "Flat images parsing:  71%|███████   | 354/501 [37:04<20:38,  8.42s/it]"
     ]
    },
    {
     "name": "stdout",
     "output_type": "stream",
     "text": [
      "Фото 14 скачано как 37jCNp и записано в CSV.\n",
      "--------end of flat 2853 / 3000 ---------\n",
      "Фото 1 скачано как 2c85539b58deafff2b9cf1c5545c7b7e_1200x900.jpg и записано в CSV.\n",
      "Фото 2 скачано как d7901d7005ef60e170ddc01ce90f5c38_1200x900.jpg и записано в CSV.\n",
      "Фото 3 скачано как c8f03f601e44a3e247db92b7155940c4_1200x900.jpg и записано в CSV.\n",
      "Фото 4 скачано как 15b20c26ca4aaaf90737110cc2ecc803_1200x900.jpg и записано в CSV.\n",
      "Фото 5 скачано как 8f02b25c865dfea4f48addf7ab17c564_1200x900.jpg и записано в CSV.\n"
     ]
    },
    {
     "name": "stderr",
     "output_type": "stream",
     "text": [
      "Flat images parsing:  71%|███████   | 355/501 [37:07<16:57,  6.97s/it]"
     ]
    },
    {
     "name": "stdout",
     "output_type": "stream",
     "text": [
      "Фото 6 скачано как 37jCNp и записано в CSV.\n",
      "--------end of flat 2854 / 3000 ---------\n",
      "Фото 1 скачано как 41ac400a51f5ee5417b344a65d867c0a_1200x900.jpg и записано в CSV.\n",
      "Фото 2 скачано как 1667d70af546254dc5f5221194fc7d08_1200x900.jpg и записано в CSV.\n",
      "Фото 3 скачано как 149613a39e9adbfcb6a267beccac6fd2_1200x900.jpg и записано в CSV.\n",
      "Фото 4 скачано как ccdc0d16f0e6fd389a2d295fec5ea16a_1200x900.jpg и записано в CSV.\n",
      "Фото 5 скачано как 65eb03379ce2e8b8b80bc80466bc0dfd_1200x900.jpg и записано в CSV.\n",
      "Фото 6 скачано как 9c18a7209e96c075562b93046ddeab78_1200x900.jpg и записано в CSV.\n",
      "Фото 7 скачано как 527d3da30e570bfdd1cc71764283d9fb_1200x900.jpg и записано в CSV.\n",
      "Фото 8 скачано как 5db8a8ee92e2f343ae262ce974094664_1200x900.jpg и записано в CSV.\n",
      "Фото 9 скачано как a9de3e6150e3840edda76a18f9297530_1200x900.jpg и записано в CSV.\n",
      "Фото 10 скачано как d8b3702c46bc418f4298bb60dae1f404_1200x900.jpg и записано в CSV.\n",
      "Фото 11 скачано как 07c2b88cea50c01f2d72aa6d34390bda_1200x900.jpg и записано в CSV.\n",
      "Фото 12 скачано как 4f1e1052a92ba58aa814ec15b04fc9d2_1200x900.jpg и записано в CSV.\n",
      "Фото 13 скачано как ac164863e0784fbf706fa273046e1702_1200x900.jpg и записано в CSV.\n",
      "Фото 14 скачано как 15f22f8bbbac2bd67f751fc638b09872_1200x900.jpg и записано в CSV.\n",
      "Фото 15 скачано как 407bfd75ffd64c9fda44907ac48dbe37_1200x900.jpg и записано в CSV.\n",
      "Фото 16 скачано как 205dda5bca1d1a1a13809a2f5224b2be_1200x900.jpg и записано в CSV.\n",
      "Фото 17 скачано как f8d5899e13694015bb60c56e7babaa85_1200x900.jpg и записано в CSV.\n",
      "Фото 18 скачано как d1dd7d65e8495b929b7117f866928440_1200x900.jpg и записано в CSV.\n",
      "Фото 19 скачано как ee5de6544879db56f8881027033e1703_1200x900.jpg и записано в CSV.\n",
      "Фото 20 скачано как 1530ca39057251dec8d4caca9ee447af_1200x900.jpg и записано в CSV.\n",
      "Фото 21 скачано как a391e7ac36aa8fd4d97591fc039abe60_1200x900.jpg и записано в CSV.\n"
     ]
    },
    {
     "name": "stderr",
     "output_type": "stream",
     "text": [
      "Flat images parsing:  71%|███████   | 356/501 [37:19<20:31,  8.49s/it]"
     ]
    },
    {
     "name": "stdout",
     "output_type": "stream",
     "text": [
      "Фото 22 скачано как 3AQXYx и записано в CSV.\n",
      "--------end of flat 2855 / 3000 ---------\n",
      "Фото 1 скачано как e9c93ca630a0039a13cef83f328b3b25_1200x900.jpg и записано в CSV.\n",
      "Фото 2 скачано как 3ff171a0c8b1cd1143b259d18a523e92_1200x900.jpg и записано в CSV.\n",
      "Фото 3 скачано как 13f47b57b7a3671892ce18ad721516f7_1200x900.jpg и записано в CSV.\n",
      "Фото 4 скачано как 08e889444db91f921bc56f67159ef5a3_1200x900.jpg и записано в CSV.\n",
      "Фото 5 скачано как 60c1e06ff567bc622a7c6026d9f10450_1200x900.jpg и записано в CSV.\n",
      "Фото 6 скачано как e98ea201117e3d7c149b0e1153d8bdc3_1200x900.jpg и записано в CSV.\n",
      "Фото 7 скачано как 737bd3d9d7768d0ef4198a952427c80b_1200x900.jpg и записано в CSV.\n",
      "Фото 8 скачано как 5157da84a31afefecb0b250e6f639eb7_1200x900.jpg и записано в CSV.\n",
      "Фото 9 скачано как d4206e568a779ea33f953e651ed850da_1200x900.jpg и записано в CSV.\n",
      "Фото 10 скачано как 1fd839ba71b6279f6e9db46be8e3fdb6_1200x900.jpg и записано в CSV.\n",
      "Фото 11 скачано как 1fc9c13f3d40c1b73fd68a477624fc07_1200x900.jpg и записано в CSV.\n",
      "Фото 12 скачано как 66b80508a13cb67c2cdd0809f20d1569_1200x900.jpg и записано в CSV.\n"
     ]
    },
    {
     "name": "stderr",
     "output_type": "stream",
     "text": [
      "Flat images parsing:  71%|███████▏  | 357/501 [37:27<19:56,  8.31s/it]"
     ]
    },
    {
     "name": "stdout",
     "output_type": "stream",
     "text": [
      "Фото 13 скачано как z7rvWKIV-as и записано в CSV.\n",
      "--------end of flat 2856 / 3000 ---------\n"
     ]
    },
    {
     "name": "stderr",
     "output_type": "stream",
     "text": [
      "Flat images parsing:  71%|███████▏  | 358/501 [37:28<14:26,  6.06s/it]"
     ]
    },
    {
     "name": "stdout",
     "output_type": "stream",
     "text": [
      "Фото 1 скачано как c4b1de7d6a5c9d1d2f0d26aff5e24e42_1200x900.jpg и записано в CSV.\n",
      "Фото 2 скачано как 91a75bb14863e20326cd4d0431263ddc_1200x900.jpg и записано в CSV.\n",
      "Фото 3 скачано как 2ef4b2565b41bd51f63a8dde642cb7b8_1200x900.jpg и записано в CSV.\n",
      "Фото 4 скачано как 2c77eeb6ef129c478b670b72d719f4ee_1200x900.jpg и записано в CSV.\n",
      "Фото 5 скачано как 6cdd1f9027b9e0405dabe9af9a98da30_1200x900.jpg и записано в CSV.\n",
      "Фото 6 скачано как cc851e49a5e0759f162c647bca3d9cba_1200x900.jpg и записано в CSV.\n",
      "Фото 7 скачано как 7bc738285e4ba761fd8d7ebac526daa3_1200x900.jpg и записано в CSV.\n",
      "Фото 8 скачано как 9a7761375c859d54d2178dad4bc9de8a_1200x900.jpg и записано в CSV.\n",
      "Фото 9 скачано как d186bda95cbd64460ea836f5a813315a_1200x900.jpg и записано в CSV.\n",
      "Фото 10 скачано как 9d5b456309d8ccab47d808e5952f91b4_1200x900.jpg и записано в CSV.\n",
      "Фото 11 скачано как 3ef8195434202ebe4de9c4b364bb65d1_1200x900.jpg и записано в CSV.\n",
      "Фото 12 скачано как be781fd4daa57ef2852a94c7d1cc4f4a_1200x900.jpg и записано в CSV.\n",
      "Фото 13 скачано как c2d8bd39c32c6506209a549cdf037d10_1200x900.jpg и записано в CSV.\n",
      "Фото 14 скачано как 9ca7cc7cae441b014b072b266e4f63d1_1200x900.jpg и записано в CSV.\n",
      "Фото 15 скачано как 95e10de4e3ec35e2774db17f828c9ee8_1200x900.jpg и записано в CSV.\n",
      "Фото 16 скачано как 108923f5d1127815a6c12a6ea4945d8f_1200x900.jpg и записано в CSV.\n"
     ]
    },
    {
     "name": "stderr",
     "output_type": "stream",
     "text": [
      "Flat images parsing:  72%|███████▏  | 359/501 [37:39<17:44,  7.50s/it]"
     ]
    },
    {
     "name": "stdout",
     "output_type": "stream",
     "text": [
      "Фото 17 скачано как 89245d37383f545a830506f500778aad_1200x900.jpg и записано в CSV.\n",
      "--------end of flat 2858 / 3000 ---------\n",
      "Фото 1 скачано как e69fac99fa00961b2dd944ede9526e14_1200x900.jpg и записано в CSV.\n",
      "Фото 2 скачано как 2010b24055c66853f3e39bae6e9d7354_1200x900.jpg и записано в CSV.\n",
      "Фото 3 скачано как 45978c3c3c25ae640a650a46d7e2ddd6_1200x900.jpg и записано в CSV.\n",
      "Фото 4 скачано как ea322b1bc3f8350e8b76aada15bced64_1200x900.jpg и записано в CSV.\n",
      "Фото 5 скачано как a0a7207b6dd762670ddfd7d5de7da120_1200x900.jpg и записано в CSV.\n"
     ]
    },
    {
     "name": "stderr",
     "output_type": "stream",
     "text": [
      "Flat images parsing:  72%|███████▏  | 360/501 [37:43<15:12,  6.47s/it]"
     ]
    },
    {
     "name": "stdout",
     "output_type": "stream",
     "text": [
      "Фото 6 скачано как 3AQXYx и записано в CSV.\n",
      "--------end of flat 2859 / 3000 ---------\n",
      "Фото 1 скачано как 43c078768cec65737d049840d065e66d_1200x900.jpg и записано в CSV.\n",
      "Фото 2 скачано как 5db4ef7a449114d0ad6360544ea0b9e4_1200x900.jpg и записано в CSV.\n",
      "Фото 3 скачано как d45ef6344b32f983f9824c0fa0c565f1_1200x900.jpg и записано в CSV.\n",
      "Фото 4 скачано как 416321bb2c0d540430d9e19a73c156cc_1200x900.jpg и записано в CSV.\n",
      "Фото 5 скачано как 64d32da5985b728444754db6882e2431_1200x900.jpg и записано в CSV.\n"
     ]
    },
    {
     "name": "stderr",
     "output_type": "stream",
     "text": [
      "Flat images parsing:  72%|███████▏  | 361/501 [37:47<13:46,  5.91s/it]"
     ]
    },
    {
     "name": "stdout",
     "output_type": "stream",
     "text": [
      "Фото 6 скачано как z7rvWKIV-as и записано в CSV.\n",
      "--------end of flat 2860 / 3000 ---------\n",
      "Фото 1 скачано как 8bead2f27332ddc28b94063a1dcfa99c_1200x900.jpg и записано в CSV.\n",
      "Фото 2 скачано как 211b235e6626ecf40e2cd4c07624297f_1200x900.jpg и записано в CSV.\n",
      "Фото 3 скачано как 18e0f77f5d68012a671dff4be2989992_1200x900.jpg и записано в CSV.\n",
      "Фото 4 скачано как bda443b2999beeca85dba7fdd7643d02_1200x900.jpg и записано в CSV.\n",
      "Фото 5 скачано как 4a28b1ad3a87fc4be33d0ee136bf8359_1200x900.jpg и записано в CSV.\n",
      "Фото 6 скачано как 5d4ba9274b5a2ab0cf62a550f5987b29_1200x900.jpg и записано в CSV.\n",
      "Фото 7 скачано как 7b9436748fa692f405288ee66282c1e8_1200x900.jpg и записано в CSV.\n",
      "Фото 8 скачано как b34f3ac4332ca21646a1cf0732cee6cf_1200x900.jpg и записано в CSV.\n",
      "Фото 9 скачано как ed41073d047e7915a4d3c50a0c778d08_1200x900.jpg и записано в CSV.\n"
     ]
    },
    {
     "name": "stderr",
     "output_type": "stream",
     "text": [
      "Flat images parsing:  72%|███████▏  | 362/501 [37:53<13:38,  5.89s/it]"
     ]
    },
    {
     "name": "stdout",
     "output_type": "stream",
     "text": [
      "Фото 10 скачано как 3AQXYx и записано в CSV.\n",
      "--------end of flat 2861 / 3000 ---------\n",
      "Фото 1 скачано как 51af4d9370564c6100925faa5685a6c1_1200x900.jpg и записано в CSV.\n",
      "Фото 2 скачано как f68c34de083fe80d799b87007ea8f2ba_1200x900.jpg и записано в CSV.\n",
      "Фото 3 скачано как f5bcbe87a94f186c44bcd3815442f516_1200x900.jpg и записано в CSV.\n",
      "Фото 4 скачано как 4b1f2c07e9d3afffd5a969cb065214d5_1200x900.jpg и записано в CSV.\n",
      "Фото 5 скачано как f99c2c0c8c98f39d664eaed1cc302575_1200x900.jpg и записано в CSV.\n",
      "Фото 6 скачано как 220e7f18f32efbb2a5f88a2efe2c4e30_1200x900.jpg и записано в CSV.\n",
      "Фото 7 скачано как dca296e5946aba0fec480245508ecd6a_1200x900.jpg и записано в CSV.\n"
     ]
    },
    {
     "name": "stderr",
     "output_type": "stream",
     "text": [
      "Flat images parsing:  72%|███████▏  | 363/501 [37:59<13:16,  5.77s/it]"
     ]
    },
    {
     "name": "stdout",
     "output_type": "stream",
     "text": [
      "Фото 8 скачано как z7rvWKIV-as и записано в CSV.\n",
      "--------end of flat 2862 / 3000 ---------\n",
      "Фото 1 скачано как 31faa2e175a40beda9255ba2de905150_1200x900.jpg и записано в CSV.\n",
      "Фото 2 скачано как 6f2b78ebb9f466461b64e9a809141054_1200x900.jpg и записано в CSV.\n",
      "Фото 3 скачано как 3cde8904e9f98fd1d7167eac414bebba_1200x900.jpg и записано в CSV.\n",
      "Фото 4 скачано как 97022d7088504d8e09a1b6900f2f839b_1200x900.jpg и записано в CSV.\n",
      "Фото 5 скачано как 9f474bab36a753c399d3e97c9ac599d1_1200x900.jpg и записано в CSV.\n",
      "Фото 6 скачано как 70a72d4823966546778551e9da616efb_1200x900.jpg и записано в CSV.\n"
     ]
    },
    {
     "name": "stderr",
     "output_type": "stream",
     "text": [
      "Flat images parsing:  73%|███████▎  | 364/501 [38:03<12:12,  5.34s/it]"
     ]
    },
    {
     "name": "stdout",
     "output_type": "stream",
     "text": [
      "Фото 7 скачано как 3AQXYx и записано в CSV.\n",
      "--------end of flat 2863 / 3000 ---------\n",
      "Фото 1 скачано как 55b75b6a8a14dfdc0a16ccd816ab8dd6_1200x900.jpg и записано в CSV.\n",
      "Фото 2 скачано как LX4clo75z94 и записано в CSV.\n"
     ]
    },
    {
     "name": "stderr",
     "output_type": "stream",
     "text": [
      "Flat images parsing:  73%|███████▎  | 365/501 [38:06<10:16,  4.53s/it]"
     ]
    },
    {
     "name": "stdout",
     "output_type": "stream",
     "text": [
      "Фото 3 скачано как z7rvWKIV-as и записано в CSV.\n",
      "--------end of flat 2864 / 3000 ---------\n",
      "Фото 1 скачано как 08e9fd48847a6d825ea67bc349509d72_1200x900.jpg и записано в CSV.\n",
      "Фото 2 скачано как 62715334d3c5fbf4683d18b682d2bf4b_1200x900.jpg и записано в CSV.\n",
      "Фото 3 скачано как 4fa8373174f6e624ff73fe5b6ae40f57_1200x900.jpg и записано в CSV.\n",
      "Фото 4 скачано как 2b3fc9c8e4c924c9ef8e1b6da4d445cf_1200x900.jpg и записано в CSV.\n"
     ]
    },
    {
     "name": "stderr",
     "output_type": "stream",
     "text": [
      "Flat images parsing:  73%|███████▎  | 366/501 [38:11<10:36,  4.71s/it]"
     ]
    },
    {
     "name": "stdout",
     "output_type": "stream",
     "text": [
      "Фото 5 скачано как z7rvWKIV-as и записано в CSV.\n",
      "--------end of flat 2865 / 3000 ---------\n",
      "Фото 1 скачано как be90c48aea9c187cc5ffb4e771e91838_1200x900.jpg и записано в CSV.\n",
      "Фото 2 скачано как f6631704d7501ce26e0667cf51a842fb_1200x900.jpg и записано в CSV.\n",
      "Фото 3 скачано как 6e7f1967ca009d82a088b0f19ad7b56d_1200x900.jpg и записано в CSV.\n",
      "Фото 4 скачано как fd87c7537ca112613186b9b94f906947_1200x900.jpg и записано в CSV.\n",
      "Фото 5 скачано как d12690797c9b405420110d1e51d45124_1200x900.jpg и записано в CSV.\n",
      "Фото 6 скачано как 47078024734040fc905bfa3709744784_1200x900.jpg и записано в CSV.\n",
      "Фото 7 скачано как 9fe02f348a6ea26d6bb0b264fca66772_1200x900.jpg и записано в CSV.\n",
      "Фото 8 скачано как bad6e1d9f626f0f849ebb1d3179be286_1200x900.jpg и записано в CSV.\n",
      "Фото 9 скачано как f9a798517571321660d9aaee5c3b6201_1200x900.jpg и записано в CSV.\n",
      "Фото 10 скачано как 9d8747454c4c57e9d416908b081ac4f4_1200x900.jpg и записано в CSV.\n",
      "Фото 11 скачано как 875ca55c879e3781793f0f2993816983_1200x900.jpg и записано в CSV.\n",
      "Фото 12 скачано как be2a2505d28125ea01d71f4bf3ff8804_1200x900.jpg и записано в CSV.\n",
      "Фото 13 скачано как 18630e8d6a22ebebc37d3dda19e840c6_1200x900.jpg и записано в CSV.\n",
      "Фото 14 скачано как e4df5aecc889b488289a94a3ddba523d_1200x900.jpg и записано в CSV.\n",
      "Фото 15 скачано как 847b1c14e60dae79c7860ae609b092ac_1200x900.jpg и записано в CSV.\n",
      "Фото 16 скачано как 3743b4cc7a85445e5797268198521508_1200x900.jpg и записано в CSV.\n",
      "Фото 17 скачано как dc9f7ac5d3802f2ffa77d93dc6af4725_1200x900.jpg и записано в CSV.\n"
     ]
    },
    {
     "name": "stderr",
     "output_type": "stream",
     "text": [
      "Flat images parsing:  73%|███████▎  | 367/501 [38:21<14:04,  6.30s/it]"
     ]
    },
    {
     "name": "stdout",
     "output_type": "stream",
     "text": [
      "Фото 18 скачано как 37jCNp и записано в CSV.\n",
      "--------end of flat 2866 / 3000 ---------\n",
      "Фото 1 скачано как f8d204e5edbb63845562120c2fb2568c_1200x900.jpg и записано в CSV.\n",
      "Фото 2 скачано как d8a11af7716e077650a3af0cc4f12d90_1200x900.jpg и записано в CSV.\n",
      "Фото 3 скачано как 8ebf11c343480911a13cf40b7e444fa3_1200x900.jpg и записано в CSV.\n",
      "Фото 4 скачано как f9b67a53eb8f493bca2e2ba65364eeb2_1200x900.jpg и записано в CSV.\n",
      "Фото 5 скачано как 0ed9904d2466fb8b45f27118c30e3009_1200x900.jpg и записано в CSV.\n",
      "Фото 6 скачано как ab14fcde8997260d7c6474f365c81dfc_1200x900.jpg и записано в CSV.\n",
      "Фото 7 скачано как de612ad179a1c26fc2b4d15d7e7cf067_1200x900.jpg и записано в CSV.\n"
     ]
    },
    {
     "name": "stderr",
     "output_type": "stream",
     "text": [
      "Flat images parsing:  73%|███████▎  | 368/501 [38:31<16:14,  7.33s/it]"
     ]
    },
    {
     "name": "stdout",
     "output_type": "stream",
     "text": [
      "Фото 8 скачано как z7rvWKIV-as и записано в CSV.\n",
      "--------end of flat 2867 / 3000 ---------\n",
      "Фото 1 скачано как bc2a53647f6a221fc7491463fe93bf0f_1200x900.jpg и записано в CSV.\n",
      "Фото 2 скачано как 6baa81a7ccf58eb807d7edc5aaf42118_1200x900.jpg и записано в CSV.\n",
      "Фото 3 скачано как 4fbe2a0dcef89ad190c0ff39500a1dc8_1200x900.jpg и записано в CSV.\n",
      "Фото 4 скачано как d663fb1b477a3ff7b99cbcb0906f4c88_1200x900.jpg и записано в CSV.\n",
      "Фото 5 скачано как 4ee0c5e47517e00911a5b20bae2b4cbd_1200x900.jpg и записано в CSV.\n",
      "Фото 6 скачано как 3efd08a8021579a6251fa00c0553ddc5_1200x900.jpg и записано в CSV.\n",
      "Фото 7 скачано как 60fa98c6fe80087ef221f95056f55fb4_1200x900.jpg и записано в CSV.\n",
      "Фото 8 скачано как bebcd97da6122103de8610c4044165a9_1200x900.jpg и записано в CSV.\n",
      "Фото 9 скачано как acdf6f251ff3fe2e5dc91155ee9ff9e7_1200x900.jpg и записано в CSV.\n",
      "Фото 10 скачано как 04a1313a32f72992d524e9ae7e808176_1200x900.jpg и записано в CSV.\n",
      "Фото 11 скачано как 07b3a0734cff2ab968146279fc370bb4_1200x900.jpg и записано в CSV.\n",
      "Фото 12 скачано как 701cf75c295c381085d9538a0d4ca2be_1200x900.jpg и записано в CSV.\n"
     ]
    },
    {
     "name": "stderr",
     "output_type": "stream",
     "text": [
      "Flat images parsing:  74%|███████▎  | 369/501 [38:38<16:06,  7.32s/it]"
     ]
    },
    {
     "name": "stdout",
     "output_type": "stream",
     "text": [
      "Фото 13 скачано как z7rvWKIV-as и записано в CSV.\n",
      "--------end of flat 2868 / 3000 ---------\n",
      "Фото 1 скачано как 5388c3fc687cde37cb6dd69ace15b0c0_1200x900.jpg и записано в CSV.\n",
      "Фото 2 скачано как 748cc43331bd1e9d8cb9ea94f1593e0d_1200x900.jpg и записано в CSV.\n",
      "Фото 3 скачано как 9b97f5ddd719ac8f7430e65340ba7193_1200x900.jpg и записано в CSV.\n",
      "Фото 4 скачано как ac704cf11828aec900a4374d70e54bf1_1200x900.jpg и записано в CSV.\n",
      "Фото 5 скачано как 86fd6ce546f25bf64f6e068f755f220a_1200x900.jpg и записано в CSV.\n",
      "Фото 6 скачано как 11c987b3fd4a4e6c404f025fc1d0daea_1200x900.jpg и записано в CSV.\n",
      "Фото 7 скачано как fac41884b57a3ba2814dda9c9023f33a_1200x900.jpg и записано в CSV.\n",
      "Фото 8 скачано как 031e1e0df23dce37e14444fdb382c556_1200x900.jpg и записано в CSV.\n"
     ]
    },
    {
     "name": "stderr",
     "output_type": "stream",
     "text": [
      "Flat images parsing:  74%|███████▍  | 370/501 [38:43<14:39,  6.72s/it]"
     ]
    },
    {
     "name": "stdout",
     "output_type": "stream",
     "text": [
      "Фото 9 скачано как 3AQXYx и записано в CSV.\n",
      "--------end of flat 2869 / 3000 ---------\n",
      "Фото 1 скачано как 48d1685a34131c81cd925a5fd9cec43a_1200x900.jpg и записано в CSV.\n",
      "Фото 2 скачано как 296f73e6ad7cb63ceef38f39b90abc45_1200x900.jpg и записано в CSV.\n",
      "Фото 3 скачано как 6a94d146b45b5ad2f7f6cfd9d6732fce_1200x900.jpg и записано в CSV.\n",
      "Фото 4 скачано как d21d96ddb570b11abeb4e6bfbbe0cc75_1200x900.jpg и записано в CSV.\n",
      "Фото 5 скачано как 34d9d1eb27dac8bb86fe78d4d4dea0e6_1200x900.jpg и записано в CSV.\n",
      "Фото 6 скачано как 7220446a5570a0c6a23a21192e86a3e6_1200x900.jpg и записано в CSV.\n",
      "Фото 7 скачано как 706a288baa94bd0768fb9fbf7ec2ea82_1200x900.jpg и записано в CSV.\n"
     ]
    },
    {
     "name": "stderr",
     "output_type": "stream",
     "text": [
      "Flat images parsing:  74%|███████▍  | 371/501 [38:49<13:53,  6.41s/it]"
     ]
    },
    {
     "name": "stdout",
     "output_type": "stream",
     "text": [
      "Фото 8 скачано как z7rvWKIV-as и записано в CSV.\n",
      "--------end of flat 2870 / 3000 ---------\n",
      "Фото 1 скачано как 7af80911cdc55940e0e30fa62d3d7214_1200x900.jpg и записано в CSV.\n",
      "Фото 2 скачано как ecc82392c938cd9131f2be5fbe9c6f2c_1200x900.jpg и записано в CSV.\n",
      "Фото 3 скачано как 162aaa0193cdfe4943077e27a9679613_1200x900.jpg и записано в CSV.\n",
      "Фото 4 скачано как f634ab463a7ccdc7c5b83e61a8bde7ee_1200x900.jpg и записано в CSV.\n",
      "Фото 5 скачано как 6f29f8bcb93cfd266f29fde11c22c2ae_1200x900.jpg и записано в CSV.\n",
      "Фото 6 скачано как d49e0759dfa24bef06d674484f643b12_1200x900.jpg и записано в CSV.\n",
      "Фото 7 скачано как 599872b6240e343fe7e12327dd7fa4c1_1200x900.jpg и записано в CSV.\n",
      "Фото 8 скачано как ea4241196299290dcc10cf9a32e81e3e_1200x900.jpg и записано в CSV.\n",
      "Фото 9 скачано как 33be868f8df22099337bf9341c367e11_1200x900.jpg и записано в CSV.\n",
      "Фото 10 скачано как e9a358d9dc92be4ad0330e943596f30d_1200x900.jpg и записано в CSV.\n",
      "Фото 11 скачано как 825158812b364eba95334cc8e1f7ac1d_1200x900.jpg и записано в CSV.\n",
      "Фото 12 скачано как 2a4dc5c555cc102c8db7ee789bb2091a_1200x900.jpg и записано в CSV.\n",
      "Фото 13 скачано как 0d64ad1b572b7481227eb7aaa8ede904_1200x900.jpg и записано в CSV.\n",
      "Фото 14 скачано как 11bcba35c06ddf53ed4641aca80989d6_1200x900.jpg и записано в CSV.\n",
      "Фото 15 скачано как 8d952b22d15fa1a504dd7334e2fff4c5_1200x900.jpg и записано в CSV.\n",
      "Фото 16 скачано как 52fce3f32a211a643b2db4d511382b26_1200x900.jpg и записано в CSV.\n",
      "Фото 17 скачано как 2ef657680a985ad2ecc3d79bbd2e74f6_1200x900.jpg и записано в CSV.\n",
      "Фото 18 скачано как e666c2b249970616f693b349460e181a_1200x900.jpg и записано в CSV.\n",
      "Фото 19 скачано как 3cf459be328c2f58aad1b7738ceac26b_1200x900.jpg и записано в CSV.\n",
      "Фото 20 скачано как 5b6b65091d00218992ac8ef0bcf2b2e6_1200x900.jpg и записано в CSV.\n",
      "Фото 21 скачано как 984af06451c8902fd7b4e573a8122a24_1200x900.jpg и записано в CSV.\n",
      "Фото 22 скачано как 9d4f3f2cbb476d9a1c37ec45a16002bb_1200x900.jpg и записано в CSV.\n",
      "Фото 23 скачано как 7e556edb10f554d1a653b817f94bb773_1200x900.jpg и записано в CSV.\n",
      "Фото 24 скачано как 387ff126ffe39309da1faa56c6293c1d_1200x900.jpg и записано в CSV.\n"
     ]
    },
    {
     "name": "stderr",
     "output_type": "stream",
     "text": [
      "Flat images parsing:  74%|███████▍  | 372/501 [39:08<21:46, 10.13s/it]"
     ]
    },
    {
     "name": "stdout",
     "output_type": "stream",
     "text": [
      "Фото 25 скачано как 3AQXYx и записано в CSV.\n",
      "--------end of flat 2871 / 3000 ---------\n",
      "Фото 1 скачано как 5a17ac34c9679bb23cd311078a722580_1200x900.jpg и записано в CSV.\n",
      "Фото 2 скачано как 76293ae2f9f3b568023a02a308934e6f_1200x900.jpg и записано в CSV.\n",
      "Фото 3 скачано как d67315d738cf60d603367552c2b19059_1200x900.jpg и записано в CSV.\n",
      "Фото 4 скачано как b7d1e85ea0ea3e098eef44095de15721_1200x900.jpg и записано в CSV.\n",
      "Фото 5 скачано как 989dfb491f40293dfba94f77a7663ca5_1200x900.jpg и записано в CSV.\n",
      "Фото 6 скачано как c608ddd58243c67909fe5f23e91a16ac_1200x900.jpg и записано в CSV.\n",
      "Фото 7 скачано как a5a4eb37e930f981c824cd9c7903b21a_1200x900.jpg и записано в CSV.\n",
      "Фото 8 скачано как 67e03115a2fb583b5d49ea9d31e3fcf7_1200x900.jpg и записано в CSV.\n",
      "Фото 9 скачано как dafce6e94faa4e6d542deddae1c9b195_1200x900.jpg и записано в CSV.\n",
      "Фото 10 скачано как ffb7290405334ccb5cf7f90a05832483_1200x900.jpg и записано в CSV.\n",
      "Фото 11 скачано как 308b5a0c16c5b0a3b474e1e33c254e3a_1200x900.jpg и записано в CSV.\n",
      "Фото 12 скачано как 527e99bfc8d95c83fc54ee4a8e135f83_1200x900.jpg и записано в CSV.\n",
      "Фото 13 скачано как 321ffb84ae5661360c33a1a9a6593760_1200x900.jpg и записано в CSV.\n",
      "Фото 14 скачано как 73e77eb68bf74478f34114e8908a193f_1200x900.jpg и записано в CSV.\n",
      "Фото 15 скачано как 98af56309b78fcd077f773c7db16203b_1200x900.jpg и записано в CSV.\n",
      "Фото 16 скачано как 416048ebe841b13639eb55041d79a0df_1200x900.jpg и записано в CSV.\n",
      "Фото 17 скачано как faa87486168ab41083a03e4dd252d2b3_1200x900.jpg и записано в CSV.\n"
     ]
    },
    {
     "name": "stderr",
     "output_type": "stream",
     "text": [
      "Flat images parsing:  74%|███████▍  | 373/501 [39:17<20:46,  9.74s/it]"
     ]
    },
    {
     "name": "stdout",
     "output_type": "stream",
     "text": [
      "Фото 18 скачано как 3AQXYx и записано в CSV.\n",
      "--------end of flat 2872 / 3000 ---------\n",
      "Фото 1 скачано как b5c92a8e0722ec3851a3555f9a05eb27_1200x900.jpg и записано в CSV.\n",
      "Фото 2 скачано как b323b5d3d93226663508cd4fbc06bd85_1200x900.jpg и записано в CSV.\n"
     ]
    },
    {
     "name": "stderr",
     "output_type": "stream",
     "text": [
      "Flat images parsing:  75%|███████▍  | 374/501 [39:20<16:25,  7.76s/it]"
     ]
    },
    {
     "name": "stdout",
     "output_type": "stream",
     "text": [
      "Фото 3 скачано как 3AQXYx и записано в CSV.\n",
      "--------end of flat 2873 / 3000 ---------\n",
      "Фото 1 скачано как 57ba98603ae76fabff1e6b18208e7456_1200x900.jpg и записано в CSV.\n",
      "Фото 2 скачано как 32e972e04a026e13fc5f7233373b157e_1200x900.jpg и записано в CSV.\n",
      "Фото 3 скачано как 9c2c2919f6a265aa9691562753f14f3e_1200x900.jpg и записано в CSV.\n",
      "Фото 4 скачано как 644aad7203f1c64f4f556472dcd54276_1200x900.jpg и записано в CSV.\n",
      "Фото 5 скачано как e9546fb86dccbf5e5551b5258351e305_1200x900.jpg и записано в CSV.\n",
      "Фото 6 скачано как 2d7dd2930c1d7fc491a1515b641ce22f_1200x900.jpg и записано в CSV.\n",
      "Фото 7 скачано как 8a8a65f1ce315a4bd2614d13a04af8b4_1200x900.jpg и записано в CSV.\n"
     ]
    },
    {
     "name": "stderr",
     "output_type": "stream",
     "text": [
      "Flat images parsing:  75%|███████▍  | 375/501 [39:25<14:29,  6.90s/it]"
     ]
    },
    {
     "name": "stdout",
     "output_type": "stream",
     "text": [
      "Фото 8 скачано как 37jCNp и записано в CSV.\n",
      "--------end of flat 2874 / 3000 ---------\n",
      "Фото 1 скачано как 5cc6fa9d60f63951ed254e3c5ded84af_1200x900.jpg и записано в CSV.\n",
      "Фото 2 скачано как 258e769b32328a2c509ef753a07eadde_1200x900.jpg и записано в CSV.\n",
      "Фото 3 скачано как 004678de6b6dd231291fab2177d928da_1200x900.jpg и записано в CSV.\n",
      "Фото 4 скачано как fe0870bca0d0638e6208651b4916d6c0_1200x900.jpg и записано в CSV.\n",
      "Фото 5 скачано как d263deb2985fb1e6c56779a6f7387631_1200x900.jpg и записано в CSV.\n",
      "Фото 6 скачано как 0f47f05e0b0ef8244fdd71f8cb388345_1200x900.jpg и записано в CSV.\n",
      "Фото 7 скачано как 0925eb01c32f60225d7ab5c6e5d0ff2f_1200x900.jpg и записано в CSV.\n",
      "Фото 8 скачано как d33f451f8f6170d5bdfa3e6a1e28d9d5_1200x900.jpg и записано в CSV.\n",
      "Фото 9 скачано как 9757156427df02aeb2c50e2057affa96_1200x900.jpg и записано в CSV.\n",
      "Фото 10 скачано как b295dc8edf138247e91afd6982e6dd01_1200x900.jpg и записано в CSV.\n",
      "Фото 11 скачано как a5e650859f25b575933dec82cfb3a9d8_1200x900.jpg и записано в CSV.\n",
      "Фото 12 скачано как 891aff0128256440fdda77a06d21fed5_1200x900.jpg и записано в CSV.\n",
      "Фото 13 скачано как 6eaed52c707ec88e6334e271d3afce8c_1200x900.jpg и записано в CSV.\n",
      "Фото 14 скачано как 9cd5b6392a05f4b142b3efef9f3d1cca_1200x900.jpg и записано в CSV.\n",
      "Фото 15 скачано как e493bfc3acae7192802ae30b393571e3_1200x900.jpg и записано в CSV.\n",
      "Фото 16 скачано как 1b3710d5222b47611604b49588f2e5b4_1200x900.jpg и записано в CSV.\n",
      "Фото 17 скачано как 48036b0bf4f04fa8c86bb51ef4a07743_1200x900.jpg и записано в CSV.\n",
      "Фото 18 скачано как d8f13891556337dcad44fa2797761a70_1200x900.jpg и записано в CSV.\n",
      "Фото 19 скачано как c569c551d3bb45aa45d681fcbe8542ed_1200x900.jpg и записано в CSV.\n",
      "Фото 20 скачано как f2fd867738a3f164f59858789259f5b9_1200x900.jpg и записано в CSV.\n",
      "Фото 21 скачано как 3d3e0362c0219cd2497ee45d0b6cea5c_1200x900.jpg и записано в CSV.\n",
      "Фото 22 скачано как 0da224ba2c965a036b4d8aa33756c94d_1200x900.jpg и записано в CSV.\n",
      "Фото 23 скачано как 13ebe18b3b299323ebe4adc45afe859e_1200x900.jpg и записано в CSV.\n",
      "Фото 24 скачано как 876c718a1e07c8e71265554246ea6fe3_1200x900.jpg и записано в CSV.\n",
      "Фото 25 скачано как bc8f0079676332838b33bbef10a6aca8_1200x900.jpg и записано в CSV.\n",
      "Фото 26 скачано как 9b59d8b254b55acf560cee3ff7a6f86e_1200x900.jpg и записано в CSV.\n",
      "Фото 27 скачано как 20e268d4dc9f0e6aa81db2bd3bda0633_1200x900.jpg и записано в CSV.\n",
      "Фото 28 скачано как 3baebe14c0e88cbb0e3b1759fcf9f1fb_1200x900.jpg и записано в CSV.\n"
     ]
    },
    {
     "name": "stderr",
     "output_type": "stream",
     "text": [
      "Flat images parsing:  75%|███████▌  | 376/501 [39:49<25:24, 12.20s/it]"
     ]
    },
    {
     "name": "stdout",
     "output_type": "stream",
     "text": [
      "Фото 29 скачано как 37jCNp и записано в CSV.\n",
      "--------end of flat 2875 / 3000 ---------\n",
      "Фото 1 скачано как f38df258464dfbdbb9ea8d2338707586_1200x900.jpg и записано в CSV.\n",
      "Фото 2 скачано как 42956ee7ff86e3bfa8b236670890dc45_1200x900.jpg и записано в CSV.\n",
      "Фото 3 скачано как 5309dc56ea743dfc52b67235c0882121_1200x900.jpg и записано в CSV.\n",
      "Фото 4 скачано как 8919321bc0f965fb99072a3d9f4eb0d9_1200x900.jpg и записано в CSV.\n",
      "Фото 5 скачано как 9c6ebdb2fc184364efa23221cd360b00_1200x900.jpg и записано в CSV.\n"
     ]
    },
    {
     "name": "stderr",
     "output_type": "stream",
     "text": [
      "Flat images parsing:  75%|███████▌  | 377/501 [39:54<20:23,  9.87s/it]"
     ]
    },
    {
     "name": "stdout",
     "output_type": "stream",
     "text": [
      "Фото 6 скачано как z7rvWKIV-as и записано в CSV.\n",
      "--------end of flat 2876 / 3000 ---------\n",
      "Фото 1 скачано как b41eaf082746cfddd913fd190bca4669_1200x900.jpg и записано в CSV.\n",
      "Фото 2 скачано как 1c8bb134a7b74f74ca02ae1bc9b7f067_1200x900.jpg и записано в CSV.\n",
      "Фото 3 скачано как f5b3bfd0a336823a2db88442d31ba357_1200x900.jpg и записано в CSV.\n",
      "Фото 4 скачано как 094fa45409e3f11cf75a66ecae715a64_1200x900.jpg и записано в CSV.\n",
      "Фото 5 скачано как 41675c963ffb32e250f73bcf768e9717_1200x900.jpg и записано в CSV.\n",
      "Фото 6 скачано как 02f9a0d3815654347ceafb67e57147f5_1200x900.jpg и записано в CSV.\n",
      "Фото 7 скачано как 95d26e9dee0db57ed15531c6d0298500_1200x900.jpg и записано в CSV.\n",
      "Фото 8 скачано как 73cff2b49e0b3918349ed00dc74fea64_1200x900.jpg и записано в CSV.\n",
      "Фото 9 скачано как ba2d6882fa8882b3811d93a5d9897b1e_1200x900.jpg и записано в CSV.\n",
      "Фото 10 скачано как f3d861ee8d9da173978fe5815a04e1b3_1200x900.jpg и записано в CSV.\n",
      "Фото 11 скачано как 90902fbb942dfdf5c4809fb13a871aa3_1200x900.jpg и записано в CSV.\n"
     ]
    },
    {
     "name": "stderr",
     "output_type": "stream",
     "text": [
      "Flat images parsing:  75%|███████▌  | 378/501 [40:05<21:07, 10.31s/it]"
     ]
    },
    {
     "name": "stdout",
     "output_type": "stream",
     "text": [
      "Фото 12 скачано как z7rvWKIV-as и записано в CSV.\n",
      "--------end of flat 2877 / 3000 ---------\n",
      "Фото 1 скачано как 28abed8d21e18359ad21ff75d8e6963e_1200x900.jpg и записано в CSV.\n",
      "Фото 2 скачано как 3c5c3a6cfd7893912df8e2736824d4ef_1200x900.jpg и записано в CSV.\n",
      "Фото 3 скачано как e621348d92a2774a2fe79630f062118c_1200x900.jpg и записано в CSV.\n",
      "Фото 4 скачано как d84347103d8b8042074cc38031ca1389_1200x900.jpg и записано в CSV.\n",
      "Фото 5 скачано как f0bb3e92e8d41b8f25180277ff3748ab_1200x900.jpg и записано в CSV.\n",
      "Фото 6 скачано как fae9356680da81c31e38f165214e490c_1200x900.jpg и записано в CSV.\n",
      "Фото 7 скачано как 3504a762018d0f7faabf7994b5392d11_1200x900.jpg и записано в CSV.\n",
      "Фото 8 скачано как e0f8ce2e63b06ef42b898e977fb3b5de_1200x900.jpg и записано в CSV.\n",
      "Фото 9 скачано как 79ce0f7792c67998c03bb0924fa07f70_1200x900.jpg и записано в CSV.\n",
      "Фото 10 скачано как 9487fbc62bcd663d056a3b0e992c369f_1200x900.jpg и записано в CSV.\n",
      "Фото 11 скачано как f5c8c7371eca636c6477c011eac703c9_1200x900.jpg и записано в CSV.\n",
      "Фото 12 скачано как 393fdb173420aeb559f83bf9a1abd960_1200x900.jpg и записано в CSV.\n"
     ]
    },
    {
     "name": "stderr",
     "output_type": "stream",
     "text": [
      "Flat images parsing:  76%|███████▌  | 379/501 [40:12<19:15,  9.47s/it]"
     ]
    },
    {
     "name": "stdout",
     "output_type": "stream",
     "text": [
      "Фото 13 скачано как 3AQXYx и записано в CSV.\n",
      "--------end of flat 2878 / 3000 ---------\n",
      "Фото 1 скачано как a9ff6cc62e4624a0e639c826c0998b5f_1200x900.jpg и записано в CSV.\n",
      "Фото 2 скачано как cf03a26fb348b875dddde96fa70559bd_1200x900.jpg и записано в CSV.\n",
      "Фото 3 скачано как 82469394d769883d7af5bfed100943ea_1200x900.jpg и записано в CSV.\n",
      "Фото 4 скачано как 9350c2426c32543a17607444ab6ff3e4_1200x900.jpg и записано в CSV.\n",
      "Фото 5 скачано как 1eca5fde819e4bc1a99f8625b7ff8ec5_1200x900.jpg и записано в CSV.\n",
      "Фото 6 скачано как 725040638c1482b0f3ea7dc00d1c0545_1200x900.jpg и записано в CSV.\n",
      "Фото 7 скачано как 11c28f073b8f5b7cedd69085ae365fa8_1200x900.jpg и записано в CSV.\n"
     ]
    },
    {
     "name": "stderr",
     "output_type": "stream",
     "text": [
      "Flat images parsing:  76%|███████▌  | 380/501 [40:21<18:25,  9.14s/it]"
     ]
    },
    {
     "name": "stdout",
     "output_type": "stream",
     "text": [
      "Фото 8 скачано как 3AQXYx и записано в CSV.\n",
      "--------end of flat 2879 / 3000 ---------\n",
      "Фото 1 скачано как 73c2e2a2ac8b43a1b6b343ac45a921c6_1200x900.jpg и записано в CSV.\n",
      "Фото 2 скачано как 3b7641e20d6e77044dd9906aea774f7f_1200x900.jpg и записано в CSV.\n",
      "Фото 3 скачано как 55a5d5d9e4b17e65afa384a05e75dd3d_1200x900.jpg и записано в CSV.\n",
      "Фото 4 скачано как 77e0e3f3ca05a426a4f702fc55070b39_1200x900.jpg и записано в CSV.\n",
      "Фото 5 скачано как 258ce308b3c3d86680841a1df55fa734_1200x900.jpg и записано в CSV.\n"
     ]
    },
    {
     "name": "stderr",
     "output_type": "stream",
     "text": [
      "Flat images parsing:  76%|███████▌  | 381/501 [40:25<15:25,  7.72s/it]"
     ]
    },
    {
     "name": "stdout",
     "output_type": "stream",
     "text": [
      "Фото 6 скачано как 37jCNp и записано в CSV.\n",
      "--------end of flat 2880 / 3000 ---------\n",
      "Фото 1 скачано как a622eb767738efc80792148dc75502f4_1200x900.jpg и записано в CSV.\n",
      "Фото 2 скачано как 561da4c469f18d62816ce009dc7faff2_1200x900.jpg и записано в CSV.\n",
      "Фото 3 скачано как 2cd9c8de18fd1ba63163a414f5bf0ab8_1200x900.jpg и записано в CSV.\n",
      "Фото 4 скачано как d2274f213c79665c811c7fc145903b7f_1200x900.jpg и записано в CSV.\n",
      "Фото 5 скачано как a984d31ffed5388551a405e2981d18fc_1200x900.jpg и записано в CSV.\n",
      "Фото 6 скачано как fbe06fa8b4c8e8e5de271777975c99df_1200x900.jpg и записано в CSV.\n",
      "Фото 7 скачано как 2bd00d6a417f6703b9fdbe75f4081390_1200x900.jpg и записано в CSV.\n",
      "Фото 8 скачано как ada6ec711cd38ce6a2bf5e4d13c04974_1200x900.jpg и записано в CSV.\n",
      "Фото 9 скачано как acdfab1aa52a2321364a9fa44598a6d9_1200x900.jpg и записано в CSV.\n",
      "Фото 10 скачано как d7a46a22b91589c92d3a462e91bf6f93_1200x900.jpg и записано в CSV.\n",
      "Фото 11 скачано как e6da159960ba5d76c8c4d1a638416149_1200x900.jpg и записано в CSV.\n",
      "Фото 12 скачано как f29fd97f27e01da2a54d873940dbaf4f_1200x900.jpg и записано в CSV.\n"
     ]
    },
    {
     "name": "stderr",
     "output_type": "stream",
     "text": [
      "Flat images parsing:  76%|███████▌  | 382/501 [40:33<15:31,  7.83s/it]"
     ]
    },
    {
     "name": "stdout",
     "output_type": "stream",
     "text": [
      "Фото 13 скачано как 3AQXYx и записано в CSV.\n",
      "--------end of flat 2881 / 3000 ---------\n",
      "Фото 1 скачано как 19bbcbf4533885e6b6aa45159fa9babe_1200x900.jpg и записано в CSV.\n",
      "Фото 2 скачано как 1b3edb255851c892703b7479c2bb2446_1200x900.jpg и записано в CSV.\n"
     ]
    },
    {
     "name": "stderr",
     "output_type": "stream",
     "text": [
      "Flat images parsing:  76%|███████▋  | 383/501 [40:36<12:12,  6.21s/it]"
     ]
    },
    {
     "name": "stdout",
     "output_type": "stream",
     "text": [
      "Фото 3 скачано как 3AQXYx и записано в CSV.\n",
      "--------end of flat 2882 / 3000 ---------\n",
      "Фото 1 скачано как 80dd8a6ff08245fa38cf7afed89bad80_1200x900.jpg и записано в CSV.\n",
      "Фото 2 скачано как 7852bd79f1ce360a6115365dd8df9f92_1200x900.jpg и записано в CSV.\n",
      "Фото 3 скачано как 0cd72707383a285b1063e667fdfec94a_1200x900.jpg и записано в CSV.\n",
      "Фото 4 скачано как 6131509182bd7fb67ceaac8c7443b2e6_1200x900.jpg и записано в CSV.\n",
      "Фото 5 скачано как 4951e4d99fe8554b16010adfd6162593_1200x900.jpg и записано в CSV.\n",
      "Фото 6 скачано как 5901314de4533d764542ba367ece4869_1200x900.jpg и записано в CSV.\n",
      "Фото 7 скачано как 9a1c049224ba18123b10d5b52cd1ca76_1200x900.jpg и записано в CSV.\n",
      "Фото 8 скачано как 46489cbeff879551f36e2a19dfc8ec7f_1200x900.jpg и записано в CSV.\n",
      "Фото 9 скачано как 47cb4e92644d7304ccbb547f314f8b28_1200x900.jpg и записано в CSV.\n",
      "Фото 10 скачано как 39a09eb9650397b640e0decbc2d65e32_1200x900.jpg и записано в CSV.\n",
      "Фото 11 скачано как e6a4d2bc35a306d817147b245efbba73_1200x900.jpg и записано в CSV.\n",
      "Фото 12 скачано как f33a4dcf2c2c093755372314f6891ab0_1200x900.jpg и записано в CSV.\n",
      "Фото 13 скачано как 0042c4c66597816453f14fd7b3fba032_1200x900.jpg и записано в CSV.\n",
      "Фото 14 скачано как e966c6cf0cbed9687b4a2e30f7594ea9_1200x900.jpg и записано в CSV.\n",
      "Фото 15 скачано как c3bad3b823c01dc42b0d5ba05b00af6a_1200x900.jpg и записано в CSV.\n",
      "Фото 16 скачано как 5ab34012a31ddd1debae402e5d210a29_1200x900.jpg и записано в CSV.\n",
      "Фото 17 скачано как ccfa143fd2794472be11389923939fb8_1200x900.jpg и записано в CSV.\n",
      "Фото 18 скачано как ded48e1f6041e4384efb3e69f6bd940d_1200x900.jpg и записано в CSV.\n",
      "Фото 19 скачано как 4a60c9977446a9364eb9e87624488892_1200x900.jpg и записано в CSV.\n",
      "Фото 20 скачано как 9bd9204ac17ab36656ba7bad1672023c_1200x900.jpg и записано в CSV.\n",
      "Фото 21 скачано как fee0d4244899af09273568d2fef6dc87_1200x900.jpg и записано в CSV.\n",
      "Фото 22 скачано как 75f21022afd3b0087e25184f699b84d3_1200x900.jpg и записано в CSV.\n"
     ]
    },
    {
     "name": "stderr",
     "output_type": "stream",
     "text": [
      "Flat images parsing:  77%|███████▋  | 384/501 [40:50<16:30,  8.47s/it]"
     ]
    },
    {
     "name": "stdout",
     "output_type": "stream",
     "text": [
      "Фото 23 скачано как z7rvWKIV-as и записано в CSV.\n",
      "--------end of flat 2883 / 3000 ---------\n",
      "Фото 1 скачано как ac7e166e81e4a6efee24f00992974b4b_1200x900.jpg и записано в CSV.\n",
      "Фото 2 скачано как 9a9504c09dc1aaf8c02be3626ce6b081_1200x900.jpg и записано в CSV.\n",
      "Фото 3 скачано как deec35b8b6549d5750b91e95a05e6e00_1200x900.jpg и записано в CSV.\n",
      "Фото 4 скачано как 4506ebf45d8f07ae77bb1342179c1be1_1200x900.jpg и записано в CSV.\n",
      "Фото 5 скачано как 46196dbce74c405250bf14570c4d385d_1200x900.jpg и записано в CSV.\n",
      "Фото 6 скачано как d50077e57ed62bf5fc26ba445368e73e_1200x900.jpg и записано в CSV.\n",
      "Фото 7 скачано как f0c29690ecadd1866536fed3c27021ed_1200x900.jpg и записано в CSV.\n",
      "Фото 8 скачано как 56317d32eebabe7e68a8610c97f0dfcf_1200x900.jpg и записано в CSV.\n",
      "Фото 9 скачано как 10a4d2f2c96f68be09942101e4d55fa0_1200x900.jpg и записано в CSV.\n",
      "Фото 10 скачано как a54b2886ceda2430649e8fe38fd702e7_1200x900.jpg и записано в CSV.\n",
      "Фото 11 скачано как d757288b3471f9dcc74bfaa7922fad3a_1200x900.jpg и записано в CSV.\n",
      "Фото 12 скачано как e8319def6d4eec8f3eb7d876fa9e93a8_1200x900.jpg и записано в CSV.\n",
      "Фото 13 скачано как 4be960214a14eb254ca383f56378a899_1200x900.jpg и записано в CSV.\n",
      "Фото 14 скачано как d839875c65f57894e8d2ebdef582c8af_1200x900.jpg и записано в CSV.\n",
      "Фото 15 скачано как 17de81be9c1a2d5525afbd89032d0fd5_1200x900.jpg и записано в CSV.\n",
      "Фото 16 скачано как 248fb03d809a7def24cda587470584a0_1200x900.jpg и записано в CSV.\n",
      "Фото 17 скачано как 670f2cdc614a66ff9015fc468f881c8a_1200x900.jpg и записано в CSV.\n",
      "Фото 18 скачано как 6de7b8e1478db65345404f59d0786431_1200x900.jpg и записано в CSV.\n"
     ]
    },
    {
     "name": "stderr",
     "output_type": "stream",
     "text": [
      "Flat images parsing:  77%|███████▋  | 385/501 [41:00<17:43,  9.16s/it]"
     ]
    },
    {
     "name": "stdout",
     "output_type": "stream",
     "text": [
      "Фото 19 скачано как z7rvWKIV-as и записано в CSV.\n",
      "--------end of flat 2884 / 3000 ---------\n",
      "Фото 1 скачано как 3b46e97eb418ba87e3fa915f908f14d7_1200x900.jpg и записано в CSV.\n",
      "Фото 2 скачано как 18efbfc186725bfb528b824cdffbfb81_1200x900.jpg и записано в CSV.\n",
      "Фото 3 скачано как 3f0f59163ddffffd400d2d574a2ccadc_1200x900.jpg и записано в CSV.\n",
      "Фото 4 скачано как 2dd9c06e39747ffedc97699d5b017278_1200x900.jpg и записано в CSV.\n",
      "Фото 5 скачано как 4dd3e4f979698d481ef62d02aa21e235_1200x900.jpg и записано в CSV.\n",
      "Фото 6 скачано как 7872f12a7d4b9f157b9a23ec77ebac65_1200x900.jpg и записано в CSV.\n",
      "Фото 7 скачано как 92339e5000cfb2356f46362291670ae1_1200x900.jpg и записано в CSV.\n",
      "Фото 8 скачано как b4edee0f06e081a4d62743d9f3755bbd_1200x900.jpg и записано в CSV.\n"
     ]
    },
    {
     "name": "stderr",
     "output_type": "stream",
     "text": [
      "Flat images parsing:  77%|███████▋  | 386/501 [41:07<16:00,  8.35s/it]"
     ]
    },
    {
     "name": "stdout",
     "output_type": "stream",
     "text": [
      "Фото 9 скачано как z7rvWKIV-as и записано в CSV.\n",
      "--------end of flat 2885 / 3000 ---------\n",
      "Фото 1 скачано как daa4848120cd698836c29df6697e7271_1200x900.jpg и записано в CSV.\n",
      "Фото 2 скачано как 99fa4703f4e7df1db9e4d301ab37bc1e_1200x900.jpg и записано в CSV.\n",
      "Фото 3 скачано как 6ac48a3e8128096f6920226dc32ea5dc_1200x900.jpg и записано в CSV.\n",
      "Фото 4 скачано как 68311b33dc6998a2a64345cb70b920e0_1200x900.jpg и записано в CSV.\n",
      "Фото 5 скачано как cf0717fc5b301625113e2e4be4599994_1200x900.jpg и записано в CSV.\n",
      "Фото 6 скачано как 33e5c9e04af40b3fb5055e02ac6bb8b4_1200x900.jpg и записано в CSV.\n",
      "Фото 7 скачано как c032d57a75c0f379bbe2636c2e807465_1200x900.jpg и записано в CSV.\n"
     ]
    },
    {
     "name": "stderr",
     "output_type": "stream",
     "text": [
      "Flat images parsing:  77%|███████▋  | 387/501 [41:12<14:19,  7.54s/it]"
     ]
    },
    {
     "name": "stdout",
     "output_type": "stream",
     "text": [
      "Фото 8 скачано как dd55145d76026c493c447e43bf0ca4de_1200x900.jpg и записано в CSV.\n",
      "--------end of flat 2886 / 3000 ---------\n",
      "Фото 1 скачано как fd4b492a286d217e303704f798f410c0_1200x900.jpg и записано в CSV.\n",
      "Фото 2 скачано как 86773ee36abc4689abad9716777b30c6_1200x900.jpg и записано в CSV.\n",
      "Фото 3 скачано как 55a982c83e3a8b162ad89eb4a2bd82e3_1200x900.jpg и записано в CSV.\n",
      "Фото 4 скачано как e77968774df37cbee8b82eadf2df02d7_1200x900.jpg и записано в CSV.\n",
      "Фото 5 скачано как bc91ae00377db0e2ed0958a32141344e_1200x900.jpg и записано в CSV.\n",
      "Фото 6 скачано как b971310c4c7b007d553fdad9a0d9eb41_1200x900.jpg и записано в CSV.\n"
     ]
    },
    {
     "name": "stderr",
     "output_type": "stream",
     "text": [
      "Flat images parsing:  77%|███████▋  | 388/501 [41:17<12:21,  6.56s/it]"
     ]
    },
    {
     "name": "stdout",
     "output_type": "stream",
     "text": [
      "Фото 7 скачано как 3AQXYx и записано в CSV.\n",
      "--------end of flat 2887 / 3000 ---------\n",
      "Фото 1 скачано как 951fc00c39383868dd433990b767e1cb_1200x900.jpg и записано в CSV.\n"
     ]
    },
    {
     "name": "stderr",
     "output_type": "stream",
     "text": [
      "Flat images parsing:  78%|███████▊  | 389/501 [41:19<09:56,  5.32s/it]"
     ]
    },
    {
     "name": "stdout",
     "output_type": "stream",
     "text": [
      "Фото 2 скачано как 37jCNp и записано в CSV.\n",
      "--------end of flat 2888 / 3000 ---------\n",
      "Фото 1 скачано как 532d76c6fa6de6e3e02ba252b6899897_1200x900.jpg и записано в CSV.\n",
      "Фото 2 скачано как c9cc8e4608d76ec1f4bfb7b22ccd0009_1200x900.jpg и записано в CSV.\n",
      "Фото 3 скачано как 32ddf0b232fe8b8669f5e477cff216e7_1200x900.jpg и записано в CSV.\n",
      "Фото 4 скачано как a10e231ee36cc70ba64f275273dfb8c1_1200x900.jpg и записано в CSV.\n",
      "Фото 5 скачано как a9132f52b9b55a081837bf98b42bc415_1200x900.jpg и записано в CSV.\n",
      "Фото 6 скачано как d735dc91c8278a0ae2cb37535abfaa4b_1200x900.jpg и записано в CSV.\n",
      "Фото 7 скачано как b0a4519fc799d445e996f50ee680ef9c_1200x900.jpg и записано в CSV.\n",
      "Фото 8 скачано как 2d879f14dfbd65b987cdb2563b530cd8_1200x900.jpg и записано в CSV.\n",
      "Фото 9 скачано как 3d8b9f3bae95680e4cd7b2d9fc9574ea_1200x900.jpg и записано в CSV.\n",
      "Фото 10 скачано как 7a974802cf863729e89795dabdfa36cd_1200x900.jpg и записано в CSV.\n",
      "Фото 11 скачано как e7a8f36a023ebbb8b89c39dbec47ee09_1200x900.jpg и записано в CSV.\n"
     ]
    },
    {
     "name": "stderr",
     "output_type": "stream",
     "text": [
      "Flat images parsing:  78%|███████▊  | 390/501 [41:27<11:15,  6.09s/it]"
     ]
    },
    {
     "name": "stdout",
     "output_type": "stream",
     "text": [
      "Фото 12 скачано как z7rvWKIV-as и записано в CSV.\n",
      "--------end of flat 2889 / 3000 ---------\n",
      "Фото 1 скачано как 5e2d50b937df606862ecd52c98825941_1200x900.jpg и записано в CSV.\n",
      "Фото 2 скачано как caa56023f6c6a98bb94166197c2391f9_1200x900.jpg и записано в CSV.\n",
      "Фото 3 скачано как cb94363c2240c18247ebf20f1f8fdb42_1200x900.jpg и записано в CSV.\n",
      "Фото 4 скачано как 9d69d1c59392490a480f3cd5a6d079b2_1200x900.jpg и записано в CSV.\n",
      "Фото 5 скачано как e81f42f87e7f27480d937ee9d48d9ac4_1200x900.jpg и записано в CSV.\n",
      "Фото 6 скачано как 564be0f51ec2ca29c099c9c61e018658_1200x900.jpg и записано в CSV.\n",
      "Фото 7 скачано как 6ffd9de06ada540ccac671625a4e1382_1200x900.jpg и записано в CSV.\n",
      "Фото 8 скачано как 2840b7e4c630dfef8a7389140d7bb81f_1200x900.jpg и записано в CSV.\n",
      "Фото 9 скачано как 7240a8fe7028f299fadac15fd8ac88b0_1200x900.jpg и записано в CSV.\n",
      "Фото 10 скачано как 1df30fa4ba8a2dc4bb34145b21329737_1200x900.jpg и записано в CSV.\n",
      "Фото 11 скачано как 103b56592678084d5a3d8a9b612a7323_1200x900.jpg и записано в CSV.\n",
      "Фото 12 скачано как 0bb75c0097f1e977df0693a748f6f99b_1200x900.jpg и записано в CSV.\n",
      "Фото 13 скачано как 0cee407e5be13c2b94279715c20cd2e7_1200x900.jpg и записано в CSV.\n",
      "Фото 14 скачано как 33ffd610a92eb6ed887e4b6633e3e81c_1200x900.jpg и записано в CSV.\n",
      "Фото 15 скачано как 38ae411e22bea0898155d1985bedcfd8_1200x900.jpg и записано в CSV.\n"
     ]
    },
    {
     "name": "stderr",
     "output_type": "stream",
     "text": [
      "Flat images parsing:  78%|███████▊  | 391/501 [41:36<12:51,  7.01s/it]"
     ]
    },
    {
     "name": "stdout",
     "output_type": "stream",
     "text": [
      "Фото 16 скачано как z7rvWKIV-as и записано в CSV.\n",
      "--------end of flat 2890 / 3000 ---------\n",
      "Фото 1 скачано как a1f85c363f344b97c48a28140c3acb38_1200x900.jpg и записано в CSV.\n",
      "Фото 2 скачано как 25d6c262009596297de855bc251ed0ba_1200x900.jpg и записано в CSV.\n",
      "Фото 3 скачано как d0547aefdfa31fef8cb12c329a1d25a4_1200x900.jpg и записано в CSV.\n",
      "Фото 4 скачано как fde07526063d89891719ce1654f1051f_1200x900.jpg и записано в CSV.\n",
      "Фото 5 скачано как 427430860525b88591cec06acedca36d_1200x900.jpg и записано в CSV.\n",
      "Фото 6 скачано как 424cd77a8ff4fee8c2b62cb207374a7e_1200x900.jpg и записано в CSV.\n",
      "Фото 7 скачано как 55a178c744435a87832086c9bc604438_1200x900.jpg и записано в CSV.\n",
      "Фото 8 скачано как f6bea327f88a5249fbb8e8cdf2456c7a_1200x900.jpg и записано в CSV.\n",
      "Фото 9 скачано как b68c0606dd698ffcac283a55a48f2d45_1200x900.jpg и записано в CSV.\n",
      "Фото 10 скачано как 157b17b869571d68e06932312010222b_1200x900.jpg и записано в CSV.\n",
      "Фото 11 скачано как ed5f0382504cdc92008b6bf474b66af7_1200x900.jpg и записано в CSV.\n",
      "Фото 12 скачано как 427e9a801a658e0c4c4cb265c7f264ae_1200x900.jpg и записано в CSV.\n",
      "Фото 13 скачано как 2a8b086b97768f995ffa4f6e69fdec46_1200x900.jpg и записано в CSV.\n"
     ]
    },
    {
     "name": "stderr",
     "output_type": "stream",
     "text": [
      "Flat images parsing:  78%|███████▊  | 392/501 [41:45<13:37,  7.50s/it]"
     ]
    },
    {
     "name": "stdout",
     "output_type": "stream",
     "text": [
      "Фото 14 скачано как 5c863956d9b78c8dfb52cce88def3a01_1200x900.jpg и записано в CSV.\n",
      "--------end of flat 2891 / 3000 ---------\n",
      "Фото 1 скачано как d3546feb10a61589694a9421ed657fca_1200x900.jpg и записано в CSV.\n",
      "Фото 2 скачано как 7dbc61d9d6cdf6d1df902bd4e2bd08ab_1200x900.jpg и записано в CSV.\n",
      "Фото 3 скачано как 5180322585a518be83d4590f1b66be72_1200x900.jpg и записано в CSV.\n",
      "Фото 4 скачано как b443f866f32b53be09e64e48668c1851_1200x900.jpg и записано в CSV.\n",
      "Фото 5 скачано как 2d94eaf36d5b44e47eeb87327c582cc3_1200x900.jpg и записано в CSV.\n",
      "Фото 6 скачано как 8ccb0bded25be5ae7f96c4650df18299_1200x900.jpg и записано в CSV.\n",
      "Фото 7 скачано как ff8b4d280f4b46b4304a4aa21fbf4f69_1200x900.jpg и записано в CSV.\n"
     ]
    },
    {
     "name": "stderr",
     "output_type": "stream",
     "text": [
      "Flat images parsing:  78%|███████▊  | 393/501 [41:51<12:58,  7.21s/it]"
     ]
    },
    {
     "name": "stdout",
     "output_type": "stream",
     "text": [
      "Фото 8 скачано как z7rvWKIV-as и записано в CSV.\n",
      "--------end of flat 2892 / 3000 ---------\n",
      "Фото 1 скачано как 25d62fcb5b656fb668aad57d942f5bf0_1200x900.jpg и записано в CSV.\n",
      "Фото 2 скачано как d9cdd5c8ac724fbb6383306b2d3a0894_1200x900.jpg и записано в CSV.\n",
      "Фото 3 скачано как 718f2a63fdd7946b9e96558026e65b21_1200x900.jpg и записано в CSV.\n",
      "Фото 4 скачано как bcdbea556152f6de9c76951cef64575d_1200x900.jpg и записано в CSV.\n",
      "Фото 5 скачано как 33f32c89d7f807fe18a05c1f22f4362e_1200x900.jpg и записано в CSV.\n",
      "Фото 6 скачано как c7981df3f5cf595842d64dddcfd8d257_1200x900.jpg и записано в CSV.\n",
      "Фото 7 скачано как 0900029e9ad724fdf3582f623c5fe14b_1200x900.jpg и записано в CSV.\n",
      "Фото 8 скачано как 28d62929671adc7eac05fe6b8112ef6c_1200x900.jpg и записано в CSV.\n",
      "Фото 9 скачано как fdc6e6886c4ba3a3dad59ba7b9fe6f2b_1200x900.jpg и записано в CSV.\n"
     ]
    },
    {
     "name": "stderr",
     "output_type": "stream",
     "text": [
      "Flat images parsing:  79%|███████▊  | 394/501 [41:59<13:00,  7.29s/it]"
     ]
    },
    {
     "name": "stdout",
     "output_type": "stream",
     "text": [
      "Фото 10 скачано как 37jCNp и записано в CSV.\n",
      "--------end of flat 2893 / 3000 ---------\n",
      "Фото 1 скачано как 0e00f06130092d9cd18524ce43915d61_1200x900.jpg и записано в CSV.\n",
      "Фото 2 скачано как b4b5291c2be7193f4ada35defed327f6_1200x900.jpg и записано в CSV.\n",
      "Фото 3 скачано как db3c8b4c2f64b2fa19bb028a759af44b_1200x900.jpg и записано в CSV.\n",
      "Фото 4 скачано как 84847e84f16e8b245e0b42397be29f5f_1200x900.jpg и записано в CSV.\n",
      "Фото 5 скачано как eb5ca3205455b6239925462f2f634646_1200x900.jpg и записано в CSV.\n",
      "Фото 6 скачано как 5945b5a6bd122f87c9de1b333e0a8a65_1200x900.jpg и записано в CSV.\n",
      "Фото 7 скачано как 3bca38b5c1450e64f15a357e992242b7_1200x900.jpg и записано в CSV.\n",
      "Фото 8 скачано как 4366dd609a1916c9c2f51bbaf2f09e6f_1200x900.jpg и записано в CSV.\n",
      "Фото 9 скачано как c492b00ed010814e0d707e261d3ac129_1200x900.jpg и записано в CSV.\n",
      "Фото 10 скачано как 73fc77950a8dea2d0a7948fac06189df_1200x900.jpg и записано в CSV.\n",
      "Фото 11 скачано как 6d5ffaac7d7578f475c25429df0c33a5_1200x900.jpg и записано в CSV.\n"
     ]
    },
    {
     "name": "stderr",
     "output_type": "stream",
     "text": [
      "Flat images parsing:  79%|███████▉  | 395/501 [42:07<13:24,  7.59s/it]"
     ]
    },
    {
     "name": "stdout",
     "output_type": "stream",
     "text": [
      "Фото 12 скачано как z7rvWKIV-as и записано в CSV.\n",
      "--------end of flat 2894 / 3000 ---------\n"
     ]
    },
    {
     "name": "stderr",
     "output_type": "stream",
     "text": [
      "Flat images parsing:  79%|███████▉  | 396/501 [42:08<09:42,  5.55s/it]"
     ]
    },
    {
     "name": "stdout",
     "output_type": "stream",
     "text": [
      "Фото 1 скачано как 980706793888a906f9da3c8a5fd529cd_1200x900.jpg и записано в CSV.\n",
      "Фото 2 скачано как 39f399a7a10dc1979ac51c16288cffc9_1200x900.jpg и записано в CSV.\n",
      "Фото 3 скачано как 62f53d97670cf1f9f249301714535eae_1200x900.jpg и записано в CSV.\n",
      "Фото 4 скачано как ca4a1ef7981e31968df7c7c0a28d2aad_1200x900.jpg и записано в CSV.\n",
      "Фото 5 скачано как a7aaa12254d28f48092965229af2b3aa_1200x900.jpg и записано в CSV.\n",
      "Фото 6 скачано как 4ca8e54ad63dd9ceca280b27bb299a9b_1200x900.jpg и записано в CSV.\n",
      "Фото 7 скачано как 364e89ea80b17e8a0edfff6f2ee4f400_1200x900.jpg и записано в CSV.\n",
      "Фото 8 скачано как d9264daf45f4d8c84aedeff12e9b301b_1200x900.jpg и записано в CSV.\n",
      "Фото 9 скачано как 987bf7004a08bf36e8de458aaa827197_1200x900.jpg и записано в CSV.\n",
      "Фото 10 скачано как 312cfc70c836555b5877763484e08af7_1200x900.jpg и записано в CSV.\n",
      "Фото 11 скачано как 222f8433b3ee1a826b5fabc1cdc81f51_1200x900.jpg и записано в CSV.\n",
      "Фото 12 скачано как b68486929d119abdb08dabee7345c0f1_1200x900.jpg и записано в CSV.\n",
      "Фото 13 скачано как 961a7d5ff60553a898effb3bbee1de21_1200x900.jpg и записано в CSV.\n",
      "Фото 14 скачано как f5cb47612d443f754cd5184f0e514a8a_1200x900.jpg и записано в CSV.\n",
      "Фото 15 скачано как 7a8ec1f46016bfb33431145e0029cb02_1200x900.jpg и записано в CSV.\n",
      "Фото 16 скачано как aaef27ceec0d3e01682b348c3a350dac_1200x900.jpg и записано в CSV.\n"
     ]
    },
    {
     "name": "stderr",
     "output_type": "stream",
     "text": [
      "Flat images parsing:  79%|███████▉  | 397/501 [42:19<12:16,  7.08s/it]"
     ]
    },
    {
     "name": "stdout",
     "output_type": "stream",
     "text": [
      "Фото 17 скачано как z7rvWKIV-as и записано в CSV.\n",
      "--------end of flat 2896 / 3000 ---------\n",
      "Фото 1 скачано как b1e41f2cfcc75177167ef3e2987b1c28_1200x900.jpg и записано в CSV.\n",
      "Фото 2 скачано как 5952f41db73fff4227ed08de284feeee_1200x900.jpg и записано в CSV.\n",
      "Фото 3 скачано как 35c0972837496ea4e9d69358c391f189_1200x900.jpg и записано в CSV.\n",
      "Фото 4 скачано как 83d89c20b252f3cf0115ef54266b3319_1200x900.jpg и записано в CSV.\n",
      "Фото 5 скачано как 5596a58d781b3b40d69e042356b3372b_1200x900.jpg и записано в CSV.\n",
      "Фото 6 скачано как fcac21a040f3d03fbb7497a0ca96d52e_1200x900.jpg и записано в CSV.\n",
      "Фото 7 скачано как 8881edbed54d48452fa53affb9cb4ccd_1200x900.jpg и записано в CSV.\n",
      "Фото 8 скачано как 30dcc1b5e7bdc8a25a2e36b5a3a816f8_1200x900.jpg и записано в CSV.\n",
      "Фото 9 скачано как 2e3dabaa5a4505906060d080ab201c9b_1200x900.jpg и записано в CSV.\n",
      "Фото 10 скачано как d83fe7f58fe58c4cabcb4f7da7698730_1200x900.jpg и записано в CSV.\n",
      "Фото 11 скачано как 751099527e25dbcc6ff35e0d5d6508f0_1200x900.jpg и записано в CSV.\n",
      "Фото 12 скачано как c23bfabc79ae5f7267a2ca47b9c8985d_1200x900.jpg и записано в CSV.\n",
      "Фото 13 скачано как b36cd57e5e0d8c5c160a183dc4239053_1200x900.jpg и записано в CSV.\n",
      "Фото 14 скачано как 234e9ebd930436ebc7c4ed20f0aa1621_1200x900.jpg и записано в CSV.\n"
     ]
    },
    {
     "name": "stderr",
     "output_type": "stream",
     "text": [
      "Flat images parsing:  79%|███████▉  | 398/501 [42:27<12:50,  7.48s/it]"
     ]
    },
    {
     "name": "stdout",
     "output_type": "stream",
     "text": [
      "Фото 15 скачано как 37jCNp и записано в CSV.\n",
      "--------end of flat 2897 / 3000 ---------\n"
     ]
    },
    {
     "name": "stderr",
     "output_type": "stream",
     "text": [
      "Flat images parsing:  80%|███████▉  | 399/501 [42:28<09:19,  5.49s/it]"
     ]
    },
    {
     "name": "stdout",
     "output_type": "stream",
     "text": [
      "Фото 1 скачано как 633ee187c886cf0cb71510a0973e082d_1200x900.jpg и записано в CSV.\n",
      "Фото 2 скачано как ba27a252481f9473472cc8636037c3a7_1200x900.jpg и записано в CSV.\n",
      "Фото 3 скачано как e9872f182979c63c6318a983f69818ff_1200x900.jpg и записано в CSV.\n"
     ]
    },
    {
     "name": "stderr",
     "output_type": "stream",
     "text": [
      "Flat images parsing:  80%|███████▉  | 400/501 [42:31<08:02,  4.78s/it]"
     ]
    },
    {
     "name": "stdout",
     "output_type": "stream",
     "text": [
      "Фото 4 скачано как z7rvWKIV-as и записано в CSV.\n",
      "--------end of flat 2899 / 3000 ---------\n",
      "Фото 1 скачано как 73aa19e9731829e373ff01675b7b6839_1200x900.jpg и записано в CSV.\n",
      "Фото 2 скачано как 43de668393b622049d77387ceeb41493_1200x900.jpg и записано в CSV.\n"
     ]
    },
    {
     "name": "stderr",
     "output_type": "stream",
     "text": [
      "Flat images parsing:  80%|████████  | 401/501 [42:33<06:46,  4.06s/it]"
     ]
    },
    {
     "name": "stdout",
     "output_type": "stream",
     "text": [
      "Фото 3 скачано как z7rvWKIV-as и записано в CSV.\n",
      "--------end of flat 2900 / 3000 ---------\n",
      "Фото 1 скачано как 980aba8b42b919ad771c0a6aee9a88ac_1200x900.jpg и записано в CSV.\n",
      "Фото 2 скачано как 67d1f32d99caa46ec7af38ffae2023e4_1200x900.jpg и записано в CSV.\n"
     ]
    },
    {
     "name": "stderr",
     "output_type": "stream",
     "text": [
      "Flat images parsing:  80%|████████  | 402/501 [42:35<05:44,  3.48s/it]"
     ]
    },
    {
     "name": "stdout",
     "output_type": "stream",
     "text": [
      "Фото 3 скачано как 37jCNp и записано в CSV.\n",
      "--------end of flat 2901 / 3000 ---------\n",
      "Фото 1 скачано как b0fe59eca142a563aa5a048f6c9dec95_1200x900.jpg и записано в CSV.\n",
      "Фото 2 скачано как c9b5fa1d5791cc8315f87ee3c9ed48d3_1200x900.jpg и записано в CSV.\n",
      "Фото 3 скачано как b417634b6130dbd508b2494cdeda34cd_1200x900.jpg и записано в CSV.\n",
      "Фото 4 скачано как dcd1034c30db27551d96f7606fc32502_1200x900.jpg и записано в CSV.\n",
      "Фото 5 скачано как 001dff8a7e41a61c5c2ddab6830b3a13_1200x900.jpg и записано в CSV.\n",
      "Фото 6 скачано как 347512204a1581b62f29651d4645e68a_1200x900.jpg и записано в CSV.\n",
      "Фото 7 скачано как a67c1a8a9937a528e8b4a4c9031f88a3_1200x900.jpg и записано в CSV.\n",
      "Фото 8 скачано как 762e57a17faa57d6091669fb1691c5b6_1200x900.jpg и записано в CSV.\n",
      "Фото 9 скачано как 8f92e237b31ef5bb119302882480b509_1200x900.jpg и записано в CSV.\n",
      "Фото 10 скачано как 8e12aaa2e7166afd48e2c47d95107db8_1200x900.jpg и записано в CSV.\n",
      "Фото 11 скачано как 13cb04b6029028b679d62d952b7cae53_1200x900.jpg и записано в CSV.\n",
      "Фото 12 скачано как 4799600c6e90e54b94f6427d40c66975_1200x900.jpg и записано в CSV.\n",
      "Фото 13 скачано как 0cdbabf49a30db409a76ddf39b5e6df8_1200x900.jpg и записано в CSV.\n"
     ]
    },
    {
     "name": "stderr",
     "output_type": "stream",
     "text": [
      "Flat images parsing:  80%|████████  | 403/501 [42:43<07:56,  4.86s/it]"
     ]
    },
    {
     "name": "stdout",
     "output_type": "stream",
     "text": [
      "Фото 14 скачано как 3AQXYx и записано в CSV.\n",
      "--------end of flat 2902 / 3000 ---------\n",
      "Фото 1 скачано как 60ff199b5be796fee0822cc1bff02415_1200x900.jpg и записано в CSV.\n"
     ]
    },
    {
     "name": "stderr",
     "output_type": "stream",
     "text": [
      "Flat images parsing:  81%|████████  | 404/501 [42:45<06:17,  3.89s/it]"
     ]
    },
    {
     "name": "stdout",
     "output_type": "stream",
     "text": [
      "Фото 2 скачано как 3AQXYx и записано в CSV.\n",
      "--------end of flat 2903 / 3000 ---------\n",
      "Фото 1 скачано как 5d59a68cb4da73812e9b09296393ba3d_1200x900.jpg и записано в CSV.\n",
      "Фото 2 скачано как 765a21d213ca9a0f8d933955443592c3_1200x900.jpg и записано в CSV.\n",
      "Фото 3 скачано как 08fa70167bdd5a5a8a563df2ae6114bb_1200x900.jpg и записано в CSV.\n"
     ]
    },
    {
     "name": "stderr",
     "output_type": "stream",
     "text": [
      "Flat images parsing:  81%|████████  | 405/501 [42:48<05:47,  3.62s/it]"
     ]
    },
    {
     "name": "stdout",
     "output_type": "stream",
     "text": [
      "Фото 4 скачано как z7rvWKIV-as и записано в CSV.\n",
      "--------end of flat 2904 / 3000 ---------\n",
      "Фото 1 скачано как 3b8d33c09172f915971a51cef4393b74_1200x900.jpg и записано в CSV.\n",
      "Фото 2 скачано как 4a5f55bab5c27db013e3da20466f038d_1200x900.jpg и записано в CSV.\n",
      "Фото 3 скачано как 6726583fee6218c46006fd8d234380dd_1200x900.jpg и записано в CSV.\n",
      "Фото 4 скачано как acc439b596be8a68b492d97d4f8d527c_1200x900.jpg и записано в CSV.\n",
      "Фото 5 скачано как 001952e57374a5462ddfd4fbc4de7917_1200x900.jpg и записано в CSV.\n",
      "Фото 6 скачано как 8d3d9b79474c9582acbae41c57bc1cc1_1200x900.jpg и записано в CSV.\n",
      "Фото 7 скачано как e31349c58bf3b02fccb8ee4350f6ab05_1200x900.jpg и записано в CSV.\n",
      "Фото 8 скачано как f4e5d492d43b9041b2f0bb758911ab0c_1200x900.jpg и записано в CSV.\n",
      "Фото 9 скачано как 2c4b5b1ad830eec0eef4b626f865660b_1200x900.jpg и записано в CSV.\n",
      "Фото 10 скачано как 23c38396f3ef70287f65589da482d5f8_1200x900.jpg и записано в CSV.\n",
      "Фото 11 скачано как 490c1282bd991e8471890f3939264c47_1200x900.jpg и записано в CSV.\n",
      "Фото 12 скачано как 43d63a82c01137f1bccb66d7a99b98ea_1200x900.jpg и записано в CSV.\n",
      "Фото 13 скачано как ab323580e694ad9277de6672bda8b2ca_1200x900.jpg и записано в CSV.\n",
      "Фото 14 скачано как 2343ae1278647dbd1d6ff8d6588defc6_1200x900.jpg и записано в CSV.\n",
      "Фото 15 скачано как 337cd6642ce6b5f18c2fdc1602e61204_1200x900.jpg и записано в CSV.\n",
      "Фото 16 скачано как 6169d46469f1a12a996ebb94a75d7837_1200x900.jpg и записано в CSV.\n",
      "Фото 17 скачано как e264dbb96986356f3545b13618893b8d_1200x900.jpg и записано в CSV.\n",
      "Фото 18 скачано как 25050593df870490bcfb99f3c18b7a74_1200x900.jpg и записано в CSV.\n"
     ]
    },
    {
     "name": "stderr",
     "output_type": "stream",
     "text": [
      "Flat images parsing:  81%|████████  | 406/501 [42:58<08:56,  5.64s/it]"
     ]
    },
    {
     "name": "stdout",
     "output_type": "stream",
     "text": [
      "Фото 19 скачано как z7rvWKIV-as и записано в CSV.\n",
      "--------end of flat 2905 / 3000 ---------\n",
      "Фото 1 скачано как 1d809c794167d2044f8174017d2c39a8_1200x900.jpg и записано в CSV.\n",
      "Фото 2 скачано как 94b89e1b013a44f13174209b72cea868_1200x900.jpg и записано в CSV.\n",
      "Фото 3 скачано как 48e3c9c0f415dc3368b0b016aeb52e1e_1200x900.jpg и записано в CSV.\n",
      "Фото 4 скачано как 1761fe2e84ca218a45f7fd1568006b3a_1200x900.jpg и записано в CSV.\n",
      "Фото 5 скачано как 61a0adbfcca0665ec0fa0d330b10e378_1200x900.jpg и записано в CSV.\n",
      "Фото 6 скачано как 8717fd082859924993ba14df23e0d2ce_1200x900.jpg и записано в CSV.\n",
      "Фото 7 скачано как 5eceb246c91f5c2eb47a2bbe8e2f56e7_1200x900.jpg и записано в CSV.\n",
      "Фото 8 скачано как 19ed3548666e324bb270ec2bae535643_1200x900.jpg и записано в CSV.\n",
      "Фото 9 скачано как 9652acaf3cf6929a52785493af02a57a_1200x900.jpg и записано в CSV.\n",
      "Фото 10 скачано как 983ff99b99c14c19a1a84b45e164ad70_1200x900.jpg и записано в CSV.\n",
      "Фото 11 скачано как c7b9ae8b00e5d91655f4c36358cf44da_1200x900.jpg и записано в CSV.\n",
      "Фото 12 скачано как 8c4ff8ccb52fe77957d935a8d36551ec_1200x900.jpg и записано в CSV.\n",
      "Фото 13 скачано как 16f074e5939bdf0046654b0af7b18e99_1200x900.jpg и записано в CSV.\n",
      "Фото 14 скачано как 1a7666fffccac8a68bada71ecb3498bf_1200x900.jpg и записано в CSV.\n",
      "Фото 15 скачано как dca6987dc6a8c5e0a856ace5917df501_1200x900.jpg и записано в CSV.\n"
     ]
    },
    {
     "name": "stderr",
     "output_type": "stream",
     "text": [
      "Flat images parsing:  81%|████████  | 407/501 [43:10<11:31,  7.35s/it]"
     ]
    },
    {
     "name": "stdout",
     "output_type": "stream",
     "text": [
      "Фото 16 скачано как z7rvWKIV-as и записано в CSV.\n",
      "--------end of flat 2906 / 3000 ---------\n",
      "Фото 1 скачано как 8dcd92daf7df8a184a995081125bba46_1200x900.jpg и записано в CSV.\n",
      "Фото 2 скачано как bace1670109f195fbcaabfe4f772498d_1200x900.jpg и записано в CSV.\n"
     ]
    },
    {
     "name": "stderr",
     "output_type": "stream",
     "text": [
      "Flat images parsing:  81%|████████▏ | 408/501 [43:13<09:18,  6.01s/it]"
     ]
    },
    {
     "name": "stdout",
     "output_type": "stream",
     "text": [
      "Фото 3 скачано как z7rvWKIV-as и записано в CSV.\n",
      "--------end of flat 2907 / 3000 ---------\n",
      "Фото 1 скачано как 8b4f26db475a7fefaf68724fac484569_1200x900.jpg и записано в CSV.\n",
      "Фото 2 скачано как 55960a8ba8d3a2a760b7060e8b441c0d_1200x900.jpg и записано в CSV.\n",
      "Фото 3 скачано как 933d659e022dca6578a50405b86529f6_1200x900.jpg и записано в CSV.\n",
      "Фото 4 скачано как 5d4276fa461c0305079c81aefcf14074_1200x900.jpg и записано в CSV.\n",
      "Фото 5 скачано как c0b1fa41a00e8870dc9524ec6ae05ad1_1200x900.jpg и записано в CSV.\n",
      "Фото 6 скачано как 0da8472e4dc3a43f9fbb6d3e43cc80c5_1200x900.jpg и записано в CSV.\n",
      "Фото 7 скачано как 6efcabdb9b7e698065a451671ac2e419_1200x900.jpg и записано в CSV.\n"
     ]
    },
    {
     "name": "stderr",
     "output_type": "stream",
     "text": [
      "Flat images parsing:  82%|████████▏ | 409/501 [43:18<08:49,  5.76s/it]"
     ]
    },
    {
     "name": "stdout",
     "output_type": "stream",
     "text": [
      "Фото 8 скачано как 37jCNp и записано в CSV.\n",
      "--------end of flat 2908 / 3000 ---------\n",
      "Фото 1 скачано как 247b50043ef750846db336750ec04eff_1200x900.jpg и записано в CSV.\n",
      "Фото 2 скачано как 1396afd54e21e6cd2701ad403551b736_1200x900.jpg и записано в CSV.\n",
      "Фото 3 скачано как 84f283f272219bc05f5022f2c54d24a8_1200x900.jpg и записано в CSV.\n",
      "Фото 4 скачано как 617b64768cd0b94015f5875865081f28_1200x900.jpg и записано в CSV.\n",
      "Фото 5 скачано как 5f13fd7bd5ca6b4efaec2ed29496f608_1200x900.jpg и записано в CSV.\n",
      "Фото 6 скачано как 0e86a9eb3d953876e8f10df35ebf9a63_1200x900.jpg и записано в CSV.\n",
      "Фото 7 скачано как da10f00f8e749c329972d1eea0593088_1200x900.jpg и записано в CSV.\n",
      "Фото 8 скачано как c89a3ebe1424adf3c1871631cb718ce9_1200x900.jpg и записано в CSV.\n",
      "Фото 9 скачано как b18328ea8f0dbc0a899d411d0eaf4729_1200x900.jpg и записано в CSV.\n"
     ]
    },
    {
     "name": "stderr",
     "output_type": "stream",
     "text": [
      "Flat images parsing:  82%|████████▏ | 410/501 [43:24<08:42,  5.74s/it]"
     ]
    },
    {
     "name": "stdout",
     "output_type": "stream",
     "text": [
      "Фото 10 скачано как 37jCNp и записано в CSV.\n",
      "--------end of flat 2909 / 3000 ---------\n",
      "Фото 1 скачано как af4f258f3c012afe23da311dc39a04a6_1200x900.jpg и записано в CSV.\n",
      "Фото 2 скачано как cc7106e9953f78a52166dda14371e848_1200x900.jpg и записано в CSV.\n",
      "Фото 3 скачано как 27c295ebb09b821385fb15ae9933ade2_1200x900.jpg и записано в CSV.\n",
      "Фото 4 скачано как 92e5b8d313f5d2653c602720092c3ea3_1200x900.jpg и записано в CSV.\n",
      "Фото 5 скачано как 9b2dbd62996d309cdf493c785293a809_1200x900.jpg и записано в CSV.\n",
      "Фото 6 скачано как 23e52ffed62fb4619f66e68713857b65_1200x900.jpg и записано в CSV.\n",
      "Фото 7 скачано как 2a2616fa0a8d6eff2c51d92f9db26500_1200x900.jpg и записано в CSV.\n",
      "Фото 8 скачано как 08dd06b636867f5b2bc9ca704d93293a_1200x900.jpg и записано в CSV.\n",
      "Фото 9 скачано как ae6ff32ff3f5fc3282fc41e704307209_1200x900.jpg и записано в CSV.\n",
      "Фото 10 скачано как 40eade9a723b2da2906905f30c4fcee7_1200x900.jpg и записано в CSV.\n",
      "Фото 11 скачано как a36810377bb2a1097c1290c8674111fc_1200x900.jpg и записано в CSV.\n",
      "Фото 12 скачано как f891bc5584415a7a8202ce7670c5c1fe_1200x900.jpg и записано в CSV.\n",
      "Фото 13 скачано как b32bf5f5e9f127d7b3369403844dcd8c_1200x900.jpg и записано в CSV.\n",
      "Фото 14 скачано как 175659fa55b30e04f03283f78ed2841b_1200x900.jpg и записано в CSV.\n"
     ]
    },
    {
     "name": "stderr",
     "output_type": "stream",
     "text": [
      "Flat images parsing:  82%|████████▏ | 411/501 [43:33<10:11,  6.80s/it]"
     ]
    },
    {
     "name": "stdout",
     "output_type": "stream",
     "text": [
      "Фото 15 скачано как z7rvWKIV-as и записано в CSV.\n",
      "--------end of flat 2910 / 3000 ---------\n",
      "Фото 1 скачано как 2d0ada97cf5d9378de13e458d57dc8d9_1200x900.jpg и записано в CSV.\n"
     ]
    },
    {
     "name": "stderr",
     "output_type": "stream",
     "text": [
      "Flat images parsing:  82%|████████▏ | 412/501 [43:35<08:04,  5.45s/it]"
     ]
    },
    {
     "name": "stdout",
     "output_type": "stream",
     "text": [
      "Фото 2 скачано как 3AQXYx и записано в CSV.\n",
      "--------end of flat 2911 / 3000 ---------\n",
      "Фото 1 скачано как 307cae038a4e3e1da2355271833aa1e8_1200x900.jpg и записано в CSV.\n",
      "Фото 2 скачано как 8e3117d508baa279b58cd9c932b57630_1200x900.jpg и записано в CSV.\n",
      "Фото 3 скачано как 7373db556ffe4dc4dbdc906ef4c5f0c5_1200x900.jpg и записано в CSV.\n",
      "Фото 4 скачано как 8d3cc0118f6b8da9db2b75212d0ee305_1200x900.jpg и записано в CSV.\n",
      "Фото 5 скачано как e045cfa611fa1045b4425210fa43d54b_1200x900.jpg и записано в CSV.\n",
      "Фото 6 скачано как e94b5ef49cb763f31993474bae7fc929_1200x900.jpg и записано в CSV.\n",
      "Фото 7 скачано как 7be6fda45409a87849c5f5bfb417ff3c_1200x900.jpg и записано в CSV.\n",
      "Фото 8 скачано как 6d854e4fac12a5ef20a06b43f8c59dec_1200x900.jpg и записано в CSV.\n",
      "Фото 9 скачано как ffec3416ca11ec7a32458f545c872ae4_1200x900.jpg и записано в CSV.\n",
      "Фото 10 скачано как e41c3494caa9170480261515fb26fa6c_1200x900.jpg и записано в CSV.\n"
     ]
    },
    {
     "name": "stderr",
     "output_type": "stream",
     "text": [
      "Flat images parsing:  82%|████████▏ | 413/501 [43:42<08:41,  5.93s/it]"
     ]
    },
    {
     "name": "stdout",
     "output_type": "stream",
     "text": [
      "Фото 11 скачано как z7rvWKIV-as и записано в CSV.\n",
      "--------end of flat 2912 / 3000 ---------\n",
      "Фото 1 скачано как c402aaeff7d7eb721ac2729b8359f4dc_1200x900.jpg и записано в CSV.\n",
      "Фото 2 скачано как 7a8d35d2326d2cdc29794a65739c5a88_1200x900.jpg и записано в CSV.\n",
      "Фото 3 скачано как e628169f2eb0948d69e314f046f90de0_1200x900.jpg и записано в CSV.\n",
      "Фото 4 скачано как 3dab4b5b3d0d5162b2a4df7f78096731_1200x900.jpg и записано в CSV.\n"
     ]
    },
    {
     "name": "stderr",
     "output_type": "stream",
     "text": [
      "Flat images parsing:  83%|████████▎ | 414/501 [43:46<07:44,  5.34s/it]"
     ]
    },
    {
     "name": "stdout",
     "output_type": "stream",
     "text": [
      "Фото 5 скачано как z7rvWKIV-as и записано в CSV.\n",
      "--------end of flat 2913 / 3000 ---------\n",
      "Фото 1 скачано как 0135a91832fc08ba460716b58df75afd_1200x900.jpg и записано в CSV.\n",
      "Фото 2 скачано как abe6cc701a513a93cbce24ce900a6c2d_1200x900.jpg и записано в CSV.\n",
      "Фото 3 скачано как 93375ca91105355b9102afe4117d92bd_1200x900.jpg и записано в CSV.\n",
      "Фото 4 скачано как 50c74a60ca64da7bc6a4b0f02b73111e_1200x900.jpg и записано в CSV.\n",
      "Фото 5 скачано как 109fe5acfa83db9194d926b3b6476bd1_1200x900.jpg и записано в CSV.\n",
      "Фото 6 скачано как b20ede76c1d7475f17d9686a9a10e4e5_1200x900.jpg и записано в CSV.\n",
      "Фото 7 скачано как e09e50e8b89534f2520fc28f0050d83e_1200x900.jpg и записано в CSV.\n",
      "Фото 8 скачано как a562039c4a5094eec60bee4bb727dc95_1200x900.jpg и записано в CSV.\n",
      "Фото 9 скачано как 8eec1ab3002ad4678c3e53c7f92c2aee_1200x900.jpg и записано в CSV.\n",
      "Фото 10 скачано как 61c7226fd211e6766f5b9e808294b57c_1200x900.jpg и записано в CSV.\n",
      "Фото 11 скачано как 6e662c9fd497738ede0a69c395b36c19_1200x900.jpg и записано в CSV.\n",
      "Фото 12 скачано как 608eca52b984e2328929606287670d40_1200x900.jpg и записано в CSV.\n",
      "Фото 13 скачано как adffc9aa51b095ba081f7c3fbc0e90f7_1200x900.jpg и записано в CSV.\n",
      "Фото 14 скачано как ccfc68d93227dacf523ebb335f601350_1200x900.jpg и записано в CSV.\n",
      "Фото 15 скачано как c659d1b1b260510e7e38ab88823adb08_1200x900.jpg и записано в CSV.\n",
      "Фото 16 скачано как 1f71f5bdc67dc3935d9127dc42a28b27_1200x900.jpg и записано в CSV.\n",
      "Фото 17 скачано как 02ce9eaf63574db26017c4bf9104aaa2_1200x900.jpg и записано в CSV.\n",
      "Фото 18 скачано как d9e1334e746c1a5bb614e3d8ea7aba31_1200x900.jpg и записано в CSV.\n",
      "Фото 19 скачано как 9956ac52df67a48fe9ddf1eecf00f582_1200x900.jpg и записано в CSV.\n"
     ]
    },
    {
     "name": "stderr",
     "output_type": "stream",
     "text": [
      "Flat images parsing:  83%|████████▎ | 415/501 [43:57<09:52,  6.89s/it]"
     ]
    },
    {
     "name": "stdout",
     "output_type": "stream",
     "text": [
      "Фото 20 скачано как 37jCNp и записано в CSV.\n",
      "--------end of flat 2914 / 3000 ---------\n",
      "Фото 1 скачано как 5148719a35e996842c36cbeca2e09de9_1200x900.jpg и записано в CSV.\n",
      "Фото 2 скачано как a0a74073d7f83240a884553c629cf963_1200x900.jpg и записано в CSV.\n",
      "Фото 3 скачано как 0659b109c2c441f43433d8c8c210de13_1200x900.jpg и записано в CSV.\n",
      "Фото 4 скачано как e9e6e5dd7c106cbfc9902ce5afd7dbbe_1200x900.jpg и записано в CSV.\n",
      "Фото 5 скачано как 87366232e04034584b95a7f2140226a2_1200x900.jpg и записано в CSV.\n",
      "Фото 6 скачано как 154355d5545d84b5ffece309960ac0de_1200x900.jpg и записано в CSV.\n",
      "Фото 7 скачано как 4046c2c3050dc719b053b4abf3eb3048_1200x900.jpg и записано в CSV.\n",
      "Фото 8 скачано как 7f3e4462cc83a25034c72c2a71a039e5_1200x900.jpg и записано в CSV.\n",
      "Фото 9 скачано как e9383e4d369e5bec6ae4a563df8f080d_1200x900.jpg и записано в CSV.\n",
      "Фото 10 скачано как b5c6c3644560bbd8f67945bbb106289e_1200x900.jpg и записано в CSV.\n",
      "Фото 11 скачано как eaf2071b630c540e5bfb6d0d9c36be06_1200x900.jpg и записано в CSV.\n",
      "Фото 12 скачано как 42ab7ed88b40ec07ee963a8a6107b157_1200x900.jpg и записано в CSV.\n"
     ]
    },
    {
     "name": "stderr",
     "output_type": "stream",
     "text": [
      "Flat images parsing:  83%|████████▎ | 416/501 [44:05<10:20,  7.30s/it]"
     ]
    },
    {
     "name": "stdout",
     "output_type": "stream",
     "text": [
      "Фото 13 скачано как 3AQXYx и записано в CSV.\n",
      "--------end of flat 2915 / 3000 ---------\n",
      "Фото 1 скачано как 1c724acd47c05423459344a66c03c895_1200x900.jpg и записано в CSV.\n",
      "Фото 2 скачано как d7fa6d1a2ee76f9ed810397025663576_1200x900.jpg и записано в CSV.\n",
      "Фото 3 скачано как f69184245761ce53dbc2095b799c1557_1200x900.jpg и записано в CSV.\n",
      "Фото 4 скачано как 3474e9bb559981ee7c17ea3424db59d3_1200x900.jpg и записано в CSV.\n",
      "Фото 5 скачано как 09a5e214fe6d6a3b211f908fe152cd2e_1200x900.jpg и записано в CSV.\n",
      "Фото 6 скачано как e56ede90f52b6bd54dcdb94dfcdbc566_1200x900.jpg и записано в CSV.\n",
      "Фото 7 скачано как 10c9e8147253362d73894693758d7f49_1200x900.jpg и записано в CSV.\n"
     ]
    },
    {
     "name": "stderr",
     "output_type": "stream",
     "text": [
      "Flat images parsing:  83%|████████▎ | 417/501 [44:10<09:06,  6.51s/it]"
     ]
    },
    {
     "name": "stdout",
     "output_type": "stream",
     "text": [
      "Фото 8 скачано как 3AQXYx и записано в CSV.\n",
      "--------end of flat 2916 / 3000 ---------\n",
      "Фото 1 скачано как 8eed98be72f8b9b364f0c134ee9f32c4_1200x900.jpg и записано в CSV.\n",
      "Фото 2 скачано как b0755ddd00b51248fd356e57fd9aabea_1200x900.jpg и записано в CSV.\n",
      "Фото 3 скачано как af5a4d6f500ec6ffd0a5a701dd053e87_1200x900.jpg и записано в CSV.\n"
     ]
    },
    {
     "name": "stderr",
     "output_type": "stream",
     "text": [
      "Flat images parsing:  83%|████████▎ | 418/501 [44:13<07:37,  5.51s/it]"
     ]
    },
    {
     "name": "stdout",
     "output_type": "stream",
     "text": [
      "Фото 4 скачано как z7rvWKIV-as и записано в CSV.\n",
      "--------end of flat 2917 / 3000 ---------\n",
      "Фото 1 скачано как d8d1224b02a1aec126d789014f70bf46_1200x900.jpg и записано в CSV.\n"
     ]
    },
    {
     "name": "stderr",
     "output_type": "stream",
     "text": [
      "Flat images parsing:  84%|████████▎ | 419/501 [44:16<06:30,  4.77s/it]"
     ]
    },
    {
     "name": "stdout",
     "output_type": "stream",
     "text": [
      "Фото 2 скачано как z7rvWKIV-as и записано в CSV.\n",
      "--------end of flat 2918 / 3000 ---------\n"
     ]
    },
    {
     "name": "stderr",
     "output_type": "stream",
     "text": [
      "Flat images parsing:  84%|████████▍ | 420/501 [44:17<04:53,  3.62s/it]"
     ]
    },
    {
     "name": "stdout",
     "output_type": "stream",
     "text": [
      "Фото 1 скачано как 18e91c6e3b7d437890286c2b836bce42_1200x900.jpg и записано в CSV.\n"
     ]
    },
    {
     "name": "stderr",
     "output_type": "stream",
     "text": [
      "Flat images parsing:  84%|████████▍ | 421/501 [44:20<04:29,  3.37s/it]"
     ]
    },
    {
     "name": "stdout",
     "output_type": "stream",
     "text": [
      "Фото 2 скачано как z7rvWKIV-as и записано в CSV.\n",
      "--------end of flat 2920 / 3000 ---------\n",
      "Фото 1 скачано как 461d3fee3378c9b7743fa9706c4d3a81_1200x900.jpg и записано в CSV.\n"
     ]
    },
    {
     "name": "stderr",
     "output_type": "stream",
     "text": [
      "Flat images parsing:  84%|████████▍ | 422/501 [44:22<04:15,  3.23s/it]"
     ]
    },
    {
     "name": "stdout",
     "output_type": "stream",
     "text": [
      "Фото 2 скачано как z7rvWKIV-as и записано в CSV.\n",
      "--------end of flat 2921 / 3000 ---------\n",
      "Фото 1 скачано как 9792e235e39b346d65152daf579476b1_1200x900.jpg и записано в CSV.\n",
      "Фото 2 скачано как 1b9c7b4109681079cbb4a193df9e4960_1200x900.jpg и записано в CSV.\n"
     ]
    },
    {
     "name": "stderr",
     "output_type": "stream",
     "text": [
      "Flat images parsing:  84%|████████▍ | 423/501 [44:25<03:54,  3.00s/it]"
     ]
    },
    {
     "name": "stdout",
     "output_type": "stream",
     "text": [
      "Фото 3 скачано как 3AQXYx и записано в CSV.\n",
      "--------end of flat 2922 / 3000 ---------\n",
      "Фото 1 скачано как 984f79a0e28e2a6f04bbfcd0c096da03_1200x900.jpg и записано в CSV.\n",
      "Фото 2 скачано как 7547f0b6afcb3aa129444b7fb17080b4_1200x900.jpg и записано в CSV.\n",
      "Фото 3 скачано как d127031cd155a27297edd4350003bc57_1200x900.jpg и записано в CSV.\n"
     ]
    },
    {
     "name": "stderr",
     "output_type": "stream",
     "text": [
      "Flat images parsing:  85%|████████▍ | 424/501 [44:28<03:57,  3.09s/it]"
     ]
    },
    {
     "name": "stdout",
     "output_type": "stream",
     "text": [
      "Фото 4 скачано как 37jCNp и записано в CSV.\n",
      "--------end of flat 2923 / 3000 ---------\n",
      "Фото 1 скачано как d940a17faa396fbb52571840df7a74e8_1200x900.jpg и записано в CSV.\n",
      "Фото 2 скачано как 0691adf9800bc0784690e96a7a4c7f16_1200x900.jpg и записано в CSV.\n",
      "Фото 3 скачано как 5ad3298c4659ec8729e2da9ab1140089_1200x900.jpg и записано в CSV.\n",
      "Фото 4 скачано как 16e38587ba520412b536a558b7101b30_1200x900.jpg и записано в CSV.\n",
      "Фото 5 скачано как d0ec0a865e8aa3daac67eeef3b904b4a_1200x900.jpg и записано в CSV.\n",
      "Фото 6 скачано как a93a54b71b9295d45bbad498e41dba25_1200x900.jpg и записано в CSV.\n",
      "Фото 7 скачано как 37d812227584c75cea94da72250fdd04_1200x900.jpg и записано в CSV.\n",
      "Фото 8 скачано как 15b4edcba30ab325e1beba95c9f9e108_1200x900.jpg и записано в CSV.\n",
      "Фото 9 скачано как 25b872605847ebfedde667dadb3728c9_1200x900.jpg и записано в CSV.\n",
      "Фото 10 скачано как 66256cbe1949f96b25a1fb15db2d6a68_1200x900.jpg и записано в CSV.\n",
      "Фото 11 скачано как 9cf357745d72f1a7a5728fe9400ea478_1200x900.jpg и записано в CSV.\n",
      "Фото 12 скачано как 3378f73a80a349db12285a446a831e82_1200x900.jpg и записано в CSV.\n",
      "Фото 13 скачано как 21a2e52e2e3f4af9e8bcf3446ec77fdb_1200x900.jpg и записано в CSV.\n",
      "Фото 14 скачано как f07667e0bedb084bc106ae0272468e9f_1200x900.jpg и записано в CSV.\n",
      "Фото 15 скачано как c10e5d86c2ca02fdad7fbeac39fdc63b_1200x900.jpg и записано в CSV.\n",
      "Фото 16 скачано как 01f3914c9c72af2042816ac91f327746_1200x900.jpg и записано в CSV.\n",
      "Фото 17 скачано как d5f5c564b31b6a635a6caa6c45a13fcd_1200x900.jpg и записано в CSV.\n",
      "Фото 18 скачано как 24529ceac441b94a6d494c4e89d772ba_1200x900.jpg и записано в CSV.\n",
      "Фото 19 скачано как 3c44838e837500911f1de47029a96df2_1200x900.jpg и записано в CSV.\n",
      "Фото 20 скачано как acbc32e501638b4c0c9b0fdca4da17e0_1200x900.jpg и записано в CSV.\n",
      "Фото 21 скачано как 9cf90e29555a5709b8a04f63760a1857_1200x900.jpg и записано в CSV.\n",
      "Фото 22 скачано как fc06722b3137a7d4f23a7ce187fb7dab_1200x900.jpg и записано в CSV.\n",
      "Фото 23 скачано как 5d37dae1d33f3960672b3b472ccfa9fe_1200x900.jpg и записано в CSV.\n",
      "Фото 24 скачано как 8359b04aa0fcf3dfbfae9dd8bfe5cd34_1200x900.jpg и записано в CSV.\n",
      "Фото 25 скачано как 1553bba5ec4733c46b8a0a5888d8320d_1200x900.jpg и записано в CSV.\n",
      "Фото 26 скачано как f40dbdbc9c8ac38884be7706f268673e_1200x900.jpg и записано в CSV.\n",
      "Фото 27 скачано как 6354e9e2eb7b144e953c3385f24a9bd6_1200x900.jpg и записано в CSV.\n"
     ]
    },
    {
     "name": "stderr",
     "output_type": "stream",
     "text": [
      "Flat images parsing:  85%|████████▍ | 425/501 [44:44<08:51,  7.00s/it]"
     ]
    },
    {
     "name": "stdout",
     "output_type": "stream",
     "text": [
      "Фото 28 скачано как f80ec5f94b79477617a9f3d45bb575d7_1200x900.jpg и записано в CSV.\n",
      "--------end of flat 2924 / 3000 ---------\n",
      "Фото 1 скачано как ec349cb3c64608184f203ca7f753567c_1200x900.jpg и записано в CSV.\n",
      "Фото 2 скачано как 1fc24966a68a14f30f681f8092b7f2d0_1200x900.jpg и записано в CSV.\n"
     ]
    },
    {
     "name": "stderr",
     "output_type": "stream",
     "text": [
      "Flat images parsing:  85%|████████▌ | 426/501 [44:47<07:18,  5.85s/it]"
     ]
    },
    {
     "name": "stdout",
     "output_type": "stream",
     "text": [
      "Фото 3 скачано как z7rvWKIV-as и записано в CSV.\n",
      "--------end of flat 2925 / 3000 ---------\n",
      "Фото 1 скачано как b80fa20c2b5d2b98d4b5fed41c06065d_1200x900.jpg и записано в CSV.\n",
      "Фото 2 скачано как b89ce57c463bc71026ae7ac55b5537a3_1200x900.jpg и записано в CSV.\n",
      "Фото 3 скачано как ee300b714870d79c484f06ac65c1c217_1200x900.jpg и записано в CSV.\n",
      "Фото 4 скачано как 20de44b28c81f11da168c81d0b3bb23a_1200x900.jpg и записано в CSV.\n",
      "Фото 5 скачано как d336def10ea7789e974dbb0aba85c06b_1200x900.jpg и записано в CSV.\n",
      "Фото 6 скачано как f8d5b973a0833250a1f0fc097e9a4f53_1200x900.jpg и записано в CSV.\n",
      "Фото 7 скачано как 8a4aaa91ce470d436d48cc00f5ac94c2_1200x900.jpg и записано в CSV.\n",
      "Фото 8 скачано как 1b170c768ececff8dbd6e085dc597f9f_1200x900.jpg и записано в CSV.\n",
      "Фото 9 скачано как a88ba9de868a2bb80254404b038c4fb7_1200x900.jpg и записано в CSV.\n",
      "Фото 10 скачано как 7b60019ec1779c8ef7b093858ebb1460_1200x900.jpg и записано в CSV.\n",
      "Фото 11 скачано как d55c3780b4af3dfd13f25289a90d0a76_1200x900.jpg и записано в CSV.\n",
      "Фото 12 скачано как ea12ae520aff9d4d3f13f033660e1430_1200x900.jpg и записано в CSV.\n",
      "Фото 13 скачано как 49995fcb093f39d80c6c315f43fc4d12_1200x900.jpg и записано в CSV.\n",
      "Фото 14 скачано как 968941db83b3e6f31a5d570f8b848a6f_1200x900.jpg и записано в CSV.\n",
      "Фото 15 скачано как cc449eab235ac6ae2f7bbdd32d5f89fc_1200x900.jpg и записано в CSV.\n",
      "Фото 16 скачано как 175cb07e1fca87f55d3a9640a19ca3f9_1200x900.jpg и записано в CSV.\n",
      "Фото 17 скачано как 5b5e3cca4b460cf64b8015e7ddf127b7_1200x900.jpg и записано в CSV.\n",
      "Фото 18 скачано как 8ce4a0d2c45567e95d611524bc98e1e1_1200x900.jpg и записано в CSV.\n",
      "Фото 19 скачано как ffd09052b3440bd1472a0c1306dfe86c_1200x900.jpg и записано в CSV.\n",
      "Фото 20 скачано как 429c4524ad6de6090824387c2114ceed_1200x900.jpg и записано в CSV.\n"
     ]
    },
    {
     "name": "stderr",
     "output_type": "stream",
     "text": [
      "Flat images parsing:  85%|████████▌ | 427/501 [45:00<09:39,  7.83s/it]"
     ]
    },
    {
     "name": "stdout",
     "output_type": "stream",
     "text": [
      "Фото 21 скачано как z7rvWKIV-as и записано в CSV.\n",
      "--------end of flat 2926 / 3000 ---------\n",
      "Фото 1 скачано как 473730484636da4527352b05168b563b_1200x900.jpg и записано в CSV.\n",
      "Фото 2 скачано как 82762a89cb1a76a2b7cffa341bfee0e8_1200x900.jpg и записано в CSV.\n",
      "Фото 3 скачано как aa8824232a160dbf0e1a45dbf682a541_1200x900.jpg и записано в CSV.\n",
      "Фото 4 скачано как d0737b08b3b2d84b11d001dfb804431f_1200x900.jpg и записано в CSV.\n"
     ]
    },
    {
     "name": "stderr",
     "output_type": "stream",
     "text": [
      "Flat images parsing:  85%|████████▌ | 428/501 [45:04<08:04,  6.63s/it]"
     ]
    },
    {
     "name": "stdout",
     "output_type": "stream",
     "text": [
      "Фото 5 скачано как 3AQXYx и записано в CSV.\n",
      "--------end of flat 2927 / 3000 ---------\n",
      "Фото 1 скачано как c0cf682ef0846f12cef9e5936ad8cf1d_1200x900.jpg и записано в CSV.\n",
      "Фото 2 скачано как 8f2c11d4e2582fb212f0259899322c0a_1200x900.jpg и записано в CSV.\n",
      "Фото 3 скачано как 6dafe4c2ef608512df5c98560881a376_1200x900.jpg и записано в CSV.\n",
      "Фото 4 скачано как f61400f328b31a3032fee280c0ba0cab_1200x900.jpg и записано в CSV.\n",
      "Фото 5 скачано как c62a61ab77aee1ca4a3b560f8ec40d55_1200x900.jpg и записано в CSV.\n",
      "Фото 6 скачано как a8f46a38b7914a09b70ecb8a1dafd2ce_1200x900.jpg и записано в CSV.\n",
      "Фото 7 скачано как cdfcda0d193b5b1bd707db78e630bbda_1200x900.jpg и записано в CSV.\n",
      "Фото 8 скачано как 43fbf93d98fe5d17cc21bee5203244ff_1200x900.jpg и записано в CSV.\n",
      "Фото 9 скачано как 5a7999ae15d853d8fc99140cd7bb1aca_1200x900.jpg и записано в CSV.\n"
     ]
    },
    {
     "name": "stderr",
     "output_type": "stream",
     "text": [
      "Flat images parsing:  86%|████████▌ | 429/501 [45:10<07:56,  6.62s/it]"
     ]
    },
    {
     "name": "stdout",
     "output_type": "stream",
     "text": [
      "Фото 10 скачано как z7rvWKIV-as и записано в CSV.\n",
      "--------end of flat 2928 / 3000 ---------\n",
      "Фото 1 скачано как 547b04456d69bfb084ef923749a93433_1200x900.jpg и записано в CSV.\n",
      "Фото 2 скачано как 8c37011f6fd85d3b4f5f19fe08b80f0f_1200x900.jpg и записано в CSV.\n",
      "Фото 3 скачано как 0c3f7891c43d08c16f6784569df2af5d_1200x900.jpg и записано в CSV.\n",
      "Фото 4 скачано как a20b3ea199f1481052527924ab5705c7_1200x900.jpg и записано в CSV.\n",
      "Фото 5 скачано как e1e1d0304d5c871f50f91438646c0274_1200x900.jpg и записано в CSV.\n",
      "Фото 6 скачано как cced208e91261a480b4c790290cbb1e5_1200x900.jpg и записано в CSV.\n",
      "Фото 7 скачано как ed44e41f8a03beb6ae3014b7190822c3_1200x900.jpg и записано в CSV.\n",
      "Фото 8 скачано как 3b9cf9c32a3d60fda9b12579273d49a2_1200x900.jpg и записано в CSV.\n",
      "Фото 9 скачано как fafd8b057b7997f8332e1933b136f1dd_1200x900.jpg и записано в CSV.\n",
      "Фото 10 скачано как 2a9bca7764c644a71db277fe35f270a7_1200x900.jpg и записано в CSV.\n",
      "Фото 11 скачано как 3d9d7bf1e33128d8a19df1fd89e3a69e_1200x900.jpg и записано в CSV.\n",
      "Фото 12 скачано как 6ffde83524d40021eb48e1cbe9915fc5_1200x900.jpg и записано в CSV.\n",
      "Фото 13 скачано как de703abd6e65e9982680796163cf093e_1200x900.jpg и записано в CSV.\n",
      "Фото 14 скачано как 47605b7185d33a2cc87bf2e7017ab276_1200x900.jpg и записано в CSV.\n",
      "Фото 15 скачано как 890398e828e1215bf520d85f8d93899e_1200x900.jpg и записано в CSV.\n",
      "Фото 16 скачано как 10c7d7b6c1bf6166bda5e4694b1ba725_1200x900.jpg и записано в CSV.\n",
      "Фото 17 скачано как ab35c4e5a00b14f4ebb7d1ebf21c5a3d_1200x900.jpg и записано в CSV.\n",
      "Фото 18 скачано как f7630ed5f026c35668e28f478128226f_1200x900.jpg и записано в CSV.\n",
      "Фото 19 скачано как 8016e9cc3e50e5c5ad1617fea8e558d1_1200x900.jpg и записано в CSV.\n"
     ]
    },
    {
     "name": "stderr",
     "output_type": "stream",
     "text": [
      "Flat images parsing:  86%|████████▌ | 430/501 [45:21<09:17,  7.85s/it]"
     ]
    },
    {
     "name": "stdout",
     "output_type": "stream",
     "text": [
      "Фото 20 скачано как z7rvWKIV-as и записано в CSV.\n",
      "--------end of flat 2929 / 3000 ---------\n",
      "Фото 1 скачано как ab6723b42084011ef78b84a426a355af_1200x900.jpg и записано в CSV.\n",
      "Фото 2 скачано как e7a11b13d837f6b9aec6d9842a449882_1200x900.jpg и записано в CSV.\n",
      "Фото 3 скачано как a6092a941e058064cfa8d49d7f1c4de5_1200x900.jpg и записано в CSV.\n",
      "Фото 4 скачано как 074a35e635bebef489701333daf09261_1200x900.jpg и записано в CSV.\n",
      "Фото 5 скачано как cd2bbee771e9122346116fccabcce01e_1200x900.jpg и записано в CSV.\n",
      "Фото 6 скачано как b685b9b0f2605b7e5447817a1d70aea4_1200x900.jpg и записано в CSV.\n"
     ]
    },
    {
     "name": "stderr",
     "output_type": "stream",
     "text": [
      "Flat images parsing:  86%|████████▌ | 431/501 [45:25<07:55,  6.79s/it]"
     ]
    },
    {
     "name": "stdout",
     "output_type": "stream",
     "text": [
      "Фото 7 скачано как 37jCNp и записано в CSV.\n",
      "--------end of flat 2930 / 3000 ---------\n",
      "Фото 1 скачано как 03c5ab0eeb9db10e201b218469ab5f75_1200x900.jpg и записано в CSV.\n",
      "Фото 2 скачано как 704c9a77b6b4ad2ff68428996f1fcbec_1200x900.jpg и записано в CSV.\n",
      "Фото 3 скачано как e97b0a3aab25f23c7f58c5350790c60c_1200x900.jpg и записано в CSV.\n",
      "Фото 4 скачано как 4b5f1d523945e6129de60564cc6976ae_1200x900.jpg и записано в CSV.\n",
      "Фото 5 скачано как 67dd1d58f1219ae99e0e92aee1cc3bce_1200x900.jpg и записано в CSV.\n",
      "Фото 6 скачано как e32a5d389f8bc9504ad5e30c32bfe75a_1200x900.jpg и записано в CSV.\n",
      "Фото 7 скачано как 8541582cd9abc722d7ae05408a92a9cf_1200x900.jpg и записано в CSV.\n",
      "Фото 8 скачано как 1a20b44b88e28fc635b9114cf02c3f29_1200x900.jpg и записано в CSV.\n",
      "Фото 9 скачано как 0fffee20c17c23e3f8e7ca3be8f14198_1200x900.jpg и записано в CSV.\n"
     ]
    },
    {
     "name": "stderr",
     "output_type": "stream",
     "text": [
      "Flat images parsing:  86%|████████▌ | 432/501 [45:30<07:12,  6.26s/it]"
     ]
    },
    {
     "name": "stdout",
     "output_type": "stream",
     "text": [
      "Фото 10 скачано как 3AQXYx и записано в CSV.\n",
      "--------end of flat 2931 / 3000 ---------\n",
      "Фото 1 скачано как f63935d75b339699fa64a3a821911034_1200x900.jpg и записано в CSV.\n",
      "Фото 2 скачано как 07e8e6fbd050e25f540055504caac728_1200x900.jpg и записано в CSV.\n",
      "Фото 3 скачано как b71c4ac641d7315690d984ec49d03cd5_1200x900.jpg и записано в CSV.\n",
      "Фото 4 скачано как 6611084002aeac3da1289a682bf37559_1200x900.jpg и записано в CSV.\n",
      "Фото 5 скачано как acbc7d2b5259c4da283f396908bc93a1_1200x900.jpg и записано в CSV.\n",
      "Фото 6 скачано как 96d057a585867f67138334281c37d602_1200x900.jpg и записано в CSV.\n",
      "Фото 7 скачано как e5128b704b5ff3420db66216d3970b61_1200x900.jpg и записано в CSV.\n",
      "Фото 8 скачано как acf8943537a6b95ed57426c5ffba5390_1200x900.jpg и записано в CSV.\n",
      "Фото 9 скачано как 485449f2be51905b0f962381c939f642_1200x900.jpg и записано в CSV.\n",
      "Фото 10 скачано как 0a27450950c110b90642eef0b3e4f51a_1200x900.jpg и записано в CSV.\n",
      "Фото 11 скачано как 78584129b6ce60db82942924f2109022_1200x900.jpg и записано в CSV.\n",
      "Фото 12 скачано как 6aed48df40592c12b1d09b2a5c9176d4_1200x900.jpg и записано в CSV.\n",
      "Фото 13 скачано как 96fc1b01210422299dffea26b8bf2dad_1200x900.jpg и записано в CSV.\n",
      "Фото 14 скачано как e9cc170c0ae9bf11768d33364d9c8993_1200x900.jpg и записано в CSV.\n",
      "Фото 15 скачано как 9ff26f23e07d80977188ea99f2f428ac_1200x900.jpg и записано в CSV.\n"
     ]
    },
    {
     "name": "stderr",
     "output_type": "stream",
     "text": [
      "Flat images parsing:  86%|████████▋ | 433/501 [45:39<07:55,  6.99s/it]"
     ]
    },
    {
     "name": "stdout",
     "output_type": "stream",
     "text": [
      "Фото 16 скачано как 3AQXYx и записано в CSV.\n",
      "--------end of flat 2932 / 3000 ---------\n",
      "Фото 1 скачано как 5d9fcbe18fb5c08566067e573c03fe87_1200x900.jpg и записано в CSV.\n",
      "Фото 2 скачано как d1a668332518a6d8a8331da0678d413d_1200x900.jpg и записано в CSV.\n",
      "Фото 3 скачано как 3379b0f946158a550147fa7c9951072e_1200x900.jpg и записано в CSV.\n",
      "Фото 4 скачано как d29104a8cb16edf671d24f46139fe7e7_1200x900.jpg и записано в CSV.\n",
      "Фото 5 скачано как b29e614e06ce8eb95e4c02c10498d890_1200x900.jpg и записано в CSV.\n",
      "Фото 6 скачано как f89dbab1c90bbbf1eefc5fcdbd752732_1200x900.jpg и записано в CSV.\n"
     ]
    },
    {
     "name": "stderr",
     "output_type": "stream",
     "text": [
      "Flat images parsing:  87%|████████▋ | 434/501 [45:43<06:45,  6.05s/it]"
     ]
    },
    {
     "name": "stdout",
     "output_type": "stream",
     "text": [
      "Фото 7 скачано как 37jCNp и записано в CSV.\n",
      "--------end of flat 2933 / 3000 ---------\n",
      "Фото 1 скачано как 2ab2fcb9b58f87ef18aee7f577a732da_1200x900.jpg и записано в CSV.\n",
      "Фото 2 скачано как b5b409bc67c73848306466526a81e757_1200x900.jpg и записано в CSV.\n",
      "Фото 3 скачано как a7a83e6a31c8c6dc32c9a78ac24f8250_1200x900.jpg и записано в CSV.\n",
      "Фото 4 скачано как b1cfe15db61531be3454f6c16a4e93d9_1200x900.jpg и записано в CSV.\n",
      "Фото 5 скачано как 6249dc0a7811e4ab0d622f1ac385f9b2_1200x900.jpg и записано в CSV.\n",
      "Фото 6 скачано как 0955c4c7f950703b84be729288568064_1200x900.jpg и записано в CSV.\n",
      "Фото 7 скачано как a1f053f43335be3494a15f5632012b85_1200x900.jpg и записано в CSV.\n",
      "Фото 8 скачано как cc2777591d399f1870051f1ceb3a29cb_1200x900.jpg и записано в CSV.\n",
      "Фото 9 скачано как 61082e62bf41bf234557490af856255c_1200x900.jpg и записано в CSV.\n",
      "Фото 10 скачано как d07daf600fe4a3c69583911cba9b13c5_1200x900.jpg и записано в CSV.\n",
      "Фото 11 скачано как 308af2054540f09aa6ead85486d5fc82_1200x900.jpg и записано в CSV.\n"
     ]
    },
    {
     "name": "stderr",
     "output_type": "stream",
     "text": [
      "Flat images parsing:  87%|████████▋ | 435/501 [45:49<06:45,  6.15s/it]"
     ]
    },
    {
     "name": "stdout",
     "output_type": "stream",
     "text": [
      "Фото 12 скачано как 37jCNp и записано в CSV.\n",
      "--------end of flat 2934 / 3000 ---------\n",
      "Фото 1 скачано как 16c871a98fa24ace8d0f1493fdd73cbc_1200x900.jpg и записано в CSV.\n",
      "Фото 2 скачано как f7e8ac9d3cbc5c8e3365a3e277d7cadf_1200x900.jpg и записано в CSV.\n",
      "Фото 3 скачано как d1fb1c8cefed06fbf800d285732180e4_1200x900.jpg и записано в CSV.\n",
      "Фото 4 скачано как d8fe6d14832c6f45cb2117cd4a78420d_1200x900.jpg и записано в CSV.\n",
      "Фото 5 скачано как 15ce8889f2be26e68c3b7b8830405d87_1200x900.jpg и записано в CSV.\n",
      "Фото 6 скачано как fc1739fa63cb905066ac02c569ab8bbe_1200x900.jpg и записано в CSV.\n"
     ]
    },
    {
     "name": "stderr",
     "output_type": "stream",
     "text": [
      "Flat images parsing:  87%|████████▋ | 436/501 [45:54<06:13,  5.75s/it]"
     ]
    },
    {
     "name": "stdout",
     "output_type": "stream",
     "text": [
      "Фото 7 скачано как z7rvWKIV-as и записано в CSV.\n",
      "--------end of flat 2935 / 3000 ---------\n",
      "Фото 1 скачано как dba19272cd3ce0e409a03fc0d2556a92_1200x900.jpg и записано в CSV.\n",
      "Фото 2 скачано как 5fbef23cf03fcd763181e4c7b375e329_1200x900.jpg и записано в CSV.\n",
      "Фото 3 скачано как 338896cebc049da256686af6a7c62516_1200x900.jpg и записано в CSV.\n",
      "Фото 4 скачано как 21823ef319a4524725458900f2b724a0_1200x900.jpg и записано в CSV.\n",
      "Фото 5 скачано как 0b72f2c7175a7b72fade20d463ff4289_1200x900.jpg и записано в CSV.\n",
      "Фото 6 скачано как fa58fd805757987f8410faa9a7dfd893_1200x900.jpg и записано в CSV.\n",
      "Фото 7 скачано как b154c4f87990e341589fe33c34fda61f_1200x900.jpg и записано в CSV.\n"
     ]
    },
    {
     "name": "stderr",
     "output_type": "stream",
     "text": [
      "Flat images parsing:  87%|████████▋ | 437/501 [46:00<06:10,  5.79s/it]"
     ]
    },
    {
     "name": "stdout",
     "output_type": "stream",
     "text": [
      "Фото 8 скачано как z7rvWKIV-as и записано в CSV.\n",
      "--------end of flat 2936 / 3000 ---------\n",
      "Фото 1 скачано как 1056ca08d59ce9f06a7d98c9a8f8a1d7_1200x900.jpg и записано в CSV.\n",
      "Фото 2 скачано как b6e237a438351037befa56128ff986e8_1200x900.jpg и записано в CSV.\n",
      "Фото 3 скачано как f87a0d5cc6c45ca0f9dddb544cc6cdbf_1200x900.jpg и записано в CSV.\n",
      "Фото 4 скачано как a7a6683297fe37e2352c5348a090d52a_1200x900.jpg и записано в CSV.\n"
     ]
    },
    {
     "name": "stderr",
     "output_type": "stream",
     "text": [
      "Flat images parsing:  87%|████████▋ | 438/501 [46:04<05:38,  5.37s/it]"
     ]
    },
    {
     "name": "stdout",
     "output_type": "stream",
     "text": [
      "Фото 5 скачано как 3AQXYx и записано в CSV.\n",
      "--------end of flat 2937 / 3000 ---------\n",
      "Фото 1 скачано как 046bc1ee4fd5795d2828ac8fcaad7ae9_1200x900.jpg и записано в CSV.\n",
      "Фото 2 скачано как 1d88bf00cc70808ab8effbcf685f3cf2_1200x900.jpg и записано в CSV.\n",
      "Фото 3 скачано как 8179c268b199ea0b67fd719f841b9878_1200x900.jpg и записано в CSV.\n",
      "Фото 4 скачано как 3380172b6592a290ae74d6f2811c4b25_1200x900.jpg и записано в CSV.\n",
      "Фото 5 скачано как d4b308491dd4fa52ac660bad486e97e2_1200x900.jpg и записано в CSV.\n"
     ]
    },
    {
     "name": "stderr",
     "output_type": "stream",
     "text": [
      "Flat images parsing:  88%|████████▊ | 439/501 [46:10<05:35,  5.41s/it]"
     ]
    },
    {
     "name": "stdout",
     "output_type": "stream",
     "text": [
      "Фото 6 скачано как z7rvWKIV-as и записано в CSV.\n",
      "--------end of flat 2938 / 3000 ---------\n",
      "Фото 1 скачано как 2121623ebbc4b0282bda8befeb2587e5_1200x900.jpg и записано в CSV.\n",
      "Фото 2 скачано как f9b5ac0c21f0d8faed1500ed0917c072_1200x900.jpg и записано в CSV.\n",
      "Фото 3 скачано как 70549bcee4187d3a90e0d13a4440eab5_1200x900.jpg и записано в CSV.\n",
      "Фото 4 скачано как 1751e986bf7e61bb50eac09d94daffd9_1200x900.jpg и записано в CSV.\n",
      "Фото 5 скачано как fce1be81a6c0f2e77b9a1d5bd3ff6b1d_1200x900.jpg и записано в CSV.\n",
      "Фото 6 скачано как b435265bbee26e5c0906acfa18acf3f7_1200x900.jpg и записано в CSV.\n",
      "Фото 7 скачано как a4acddea5949b5565f68e31f48eb2e7a_1200x900.jpg и записано в CSV.\n",
      "Фото 8 скачано как f3d8e32eacbd8db797286de8ad9104f0_1200x900.jpg и записано в CSV.\n"
     ]
    },
    {
     "name": "stderr",
     "output_type": "stream",
     "text": [
      "Flat images parsing:  88%|████████▊ | 440/501 [46:20<06:48,  6.69s/it]"
     ]
    },
    {
     "name": "stdout",
     "output_type": "stream",
     "text": [
      "Фото 9 скачано как 3AQXYx и записано в CSV.\n",
      "--------end of flat 2939 / 3000 ---------\n",
      "Фото 1 скачано как 3417b6191ce09809a2837ec92e68467d_1200x900.jpg и записано в CSV.\n",
      "Фото 2 скачано как fd149a5ab145c836587dac33c890c453_1200x900.jpg и записано в CSV.\n",
      "Фото 3 скачано как 278c80763f135a44d30e1bd3f98bf047_1200x900.jpg и записано в CSV.\n",
      "Фото 4 скачано как 87beeae9b32389191c67610eec092a29_1200x900.jpg и записано в CSV.\n",
      "Фото 5 скачано как fb01f488894fb3ddbd7231517149062b_1200x900.jpg и записано в CSV.\n",
      "Фото 6 скачано как 50a4e0cb3d9f099445cac8937f335871_1200x900.jpg и записано в CSV.\n",
      "Фото 7 скачано как 0338dd07f0c1f50bc0faf13910113972_1200x900.jpg и записано в CSV.\n",
      "Фото 8 скачано как 4c778e7749435fa454d232fccd633073_1200x900.jpg и записано в CSV.\n",
      "Фото 9 скачано как a80cecc11e69d1d6f9fe6468894e627f_1200x900.jpg и записано в CSV.\n",
      "Фото 10 скачано как 12b6ba42915b5c92b4dfcb3465563399_1200x900.jpg и записано в CSV.\n",
      "Фото 11 скачано как f42da23cf7810fa20e7b20eb592c8316_1200x900.jpg и записано в CSV.\n",
      "Фото 12 скачано как 922c39c1df9c5b9a9121502713b96d2e_1200x900.jpg и записано в CSV.\n",
      "Фото 13 скачано как 3fa1042d51cd087e98c4aae2354bef21_1200x900.jpg и записано в CSV.\n",
      "Фото 14 скачано как da4b047e5979e094722e62f24d10ac69_1200x900.jpg и записано в CSV.\n",
      "Фото 15 скачано как 4033cdfc5ded5f7af887d1f3d5426a64_1200x900.jpg и записано в CSV.\n",
      "Фото 16 скачано как c8c9f9cc0a427a88744e96ff12719bc0_1200x900.jpg и записано в CSV.\n",
      "Фото 17 скачано как e49c21cfd9d1928ca612d82181625a5f_1200x900.jpg и записано в CSV.\n",
      "Фото 18 скачано как 7f7574ac5769b3540fe8a190e34e0cae_1200x900.jpg и записано в CSV.\n",
      "Фото 19 скачано как 6d59aa22431c5a53ff7cc0c5fc2f76af_1200x900.jpg и записано в CSV.\n",
      "Фото 20 скачано как 782f003b9aaa3b4053eb9fd9f27ca493_1200x900.jpg и записано в CSV.\n",
      "Фото 21 скачано как 15da9a713b5b52a605bb63591affa88a_1200x900.jpg и записано в CSV.\n"
     ]
    },
    {
     "name": "stderr",
     "output_type": "stream",
     "text": [
      "Flat images parsing:  88%|████████▊ | 441/501 [46:33<08:35,  8.59s/it]"
     ]
    },
    {
     "name": "stdout",
     "output_type": "stream",
     "text": [
      "Фото 22 скачано как e7ecbc1277026ae6104ae7e13d7b693f_1200x900.jpg и записано в CSV.\n",
      "--------end of flat 2940 / 3000 ---------\n",
      "Фото 1 скачано как 723ca68a20bd751465e01beb3681f0b3_1200x900.jpg и записано в CSV.\n",
      "Фото 2 скачано как c2be45c3ec25f0becb872a1d2e15d1dd_1200x900.jpg и записано в CSV.\n",
      "Фото 3 скачано как a6443150fb65a3c229dfff34830d2c53_1200x900.jpg и записано в CSV.\n",
      "Фото 4 скачано как 7249d5fb1f93ec1e69ab00a56c1edd2a_1200x900.jpg и записано в CSV.\n",
      "Фото 5 скачано как 9d07076e435359320bab4c1dccdd7772_1200x900.jpg и записано в CSV.\n",
      "Фото 6 скачано как 441f10f161f45118ae0a724cfab7209f_1200x900.jpg и записано в CSV.\n",
      "Фото 7 скачано как f5aea3649c1d532f95b48168671c3dfd_1200x900.jpg и записано в CSV.\n",
      "Фото 8 скачано как 1eba229c544eb36fb68c9062b800fd2a_1200x900.jpg и записано в CSV.\n",
      "Фото 9 скачано как 981a13fe6595da699ed44832c8ed3374_1200x900.jpg и записано в CSV.\n",
      "Фото 10 скачано как 1adb60283297da91c3a588226c3bfc58_1200x900.jpg и записано в CSV.\n",
      "Фото 11 скачано как f673414ebe92c97f3870f4c5315d9987_1200x900.jpg и записано в CSV.\n"
     ]
    },
    {
     "name": "stderr",
     "output_type": "stream",
     "text": [
      "Flat images parsing:  88%|████████▊ | 442/501 [46:42<08:37,  8.78s/it]"
     ]
    },
    {
     "name": "stdout",
     "output_type": "stream",
     "text": [
      "Фото 12 скачано как a8296b90d90d5242cb8a110b4cb11bde_1200x900.jpg и записано в CSV.\n",
      "--------end of flat 2941 / 3000 ---------\n",
      "Фото 1 скачано как e515caabd053992a5d4187c9fb950f80_1200x900.jpg и записано в CSV.\n",
      "Фото 2 скачано как e51fabbf50262372aac20f937d9631ce_1200x900.jpg и записано в CSV.\n",
      "Фото 3 скачано как 295d47ca7258ecd75555619245348166_1200x900.jpg и записано в CSV.\n",
      "Фото 4 скачано как 1027241920a3e283466271f2104ec677_1200x900.jpg и записано в CSV.\n",
      "Фото 5 скачано как 4d7c8ef7fc0fd000627068e4a929706f_1200x900.jpg и записано в CSV.\n",
      "Фото 6 скачано как 112b7670395fc8ab3e3711c0ac3b07ea_1200x900.jpg и записано в CSV.\n"
     ]
    },
    {
     "name": "stderr",
     "output_type": "stream",
     "text": [
      "Flat images parsing:  88%|████████▊ | 443/501 [46:47<07:21,  7.62s/it]"
     ]
    },
    {
     "name": "stdout",
     "output_type": "stream",
     "text": [
      "Фото 7 скачано как 37jCNp и записано в CSV.\n",
      "--------end of flat 2942 / 3000 ---------\n",
      "Фото 1 скачано как f71615b224bbf3c05f60bc32880db0a2_1200x900.jpg и записано в CSV.\n",
      "Фото 2 скачано как 10d98b5c184b242a32be84728fd10f81_1200x900.jpg и записано в CSV.\n",
      "Фото 3 скачано как b53cf6f5aeaf54ac3a1b1b05a208eba3_1200x900.jpg и записано в CSV.\n",
      "Фото 4 скачано как acc0415a2a8133ecc4d3911eb2cb98c7_1200x900.jpg и записано в CSV.\n",
      "Фото 5 скачано как 94934b390129f27a658ae2bc9e14fb21_1200x900.jpg и записано в CSV.\n",
      "Фото 6 скачано как 80d3efc34f7feebe4f93e20fac0df2fd_1200x900.jpg и записано в CSV.\n",
      "Фото 7 скачано как 4e3fde5443cd374e6ea6376238a0ed95_1200x900.jpg и записано в CSV.\n",
      "Фото 8 скачано как b9f99a8209fc4dcb31a33c8b357b747d_1200x900.jpg и записано в CSV.\n",
      "Фото 9 скачано как 6e2413765d4571c11d1b6fbed500fc2b_1200x900.jpg и записано в CSV.\n"
     ]
    },
    {
     "name": "stderr",
     "output_type": "stream",
     "text": [
      "Flat images parsing:  89%|████████▊ | 444/501 [46:54<07:01,  7.39s/it]"
     ]
    },
    {
     "name": "stdout",
     "output_type": "stream",
     "text": [
      "Фото 10 скачано как z7rvWKIV-as и записано в CSV.\n",
      "--------end of flat 2943 / 3000 ---------\n",
      "Фото 1 скачано как ad4b17fdfd3a6fa3802c7d3a606d0548_1200x900.jpg и записано в CSV.\n",
      "Фото 2 скачано как 5975df83f30022ab7224e8af24dc066f_1200x900.jpg и записано в CSV.\n",
      "Фото 3 скачано как c3c4f7b7491d91ccc83b5a5ea42fa112_1200x900.jpg и записано в CSV.\n",
      "Фото 4 скачано как 67ec20e79f9d585bd325ecbfecdd0e51_1200x900.jpg и записано в CSV.\n",
      "Фото 5 скачано как 5f37b4d078bc6bd3503715168c9256c3_1200x900.jpg и записано в CSV.\n",
      "Фото 6 скачано как 6d7421f56a9be86668ea1640fca1e9a4_1200x900.jpg и записано в CSV.\n",
      "Фото 7 скачано как ff7333071f288a32f0d58b4b331e32ba_1200x900.jpg и записано в CSV.\n",
      "Фото 8 скачано как 956317310e02baafb4f2f8d455932db6_1200x900.jpg и записано в CSV.\n",
      "Фото 9 скачано как 47a6e77af19d9a066def3b3d38b85c61_1200x900.jpg и записано в CSV.\n",
      "Фото 10 скачано как 9b471f91e176f16015ff1203ab077dc7_1200x900.jpg и записано в CSV.\n",
      "Фото 11 скачано как c9455e54bdb4b3f975b7e28e6e7a166f_1200x900.jpg и записано в CSV.\n",
      "Фото 12 скачано как 002918505f873cd0283578b941f72e8c_1200x900.jpg и записано в CSV.\n"
     ]
    },
    {
     "name": "stderr",
     "output_type": "stream",
     "text": [
      "Flat images parsing:  89%|████████▉ | 445/501 [47:02<07:11,  7.71s/it]"
     ]
    },
    {
     "name": "stdout",
     "output_type": "stream",
     "text": [
      "Фото 13 скачано как z7rvWKIV-as и записано в CSV.\n",
      "--------end of flat 2944 / 3000 ---------\n",
      "Фото 1 скачано как a477b1f605d3bd8085156fca97df95cb_1200x900.jpg и записано в CSV.\n"
     ]
    },
    {
     "name": "stderr",
     "output_type": "stream",
     "text": [
      "Flat images parsing:  89%|████████▉ | 446/501 [47:04<05:32,  6.05s/it]"
     ]
    },
    {
     "name": "stdout",
     "output_type": "stream",
     "text": [
      "Фото 2 скачано как 363dd61ea9e223640f9e3444589914b3_1200x900.jpg и записано в CSV.\n",
      "--------end of flat 2945 / 3000 ---------\n",
      "Фото 1 скачано как 915bcaf3e7bfc19525de013f37458814_1200x900.jpg и записано в CSV.\n",
      "Фото 2 скачано как 8bcebc45deba522f8ee1e2c37f925c49_1200x900.jpg и записано в CSV.\n",
      "Фото 3 скачано как e7fefaea7a80c2526e8757d3aa9518a0_1200x900.jpg и записано в CSV.\n",
      "Фото 4 скачано как a4beec4c8d4780d7a9a8758a9f85e729_1200x900.jpg и записано в CSV.\n",
      "Фото 5 скачано как 688eb0d9c1eca4e7854d7c7d093e5cbe_1200x900.jpg и записано в CSV.\n",
      "Фото 6 скачано как ca0370e0273ce262b44b520aadb9b0ae_1200x900.jpg и записано в CSV.\n"
     ]
    },
    {
     "name": "stderr",
     "output_type": "stream",
     "text": [
      "Flat images parsing:  89%|████████▉ | 447/501 [47:08<04:56,  5.49s/it]"
     ]
    },
    {
     "name": "stdout",
     "output_type": "stream",
     "text": [
      "Фото 7 скачано как 3AQXYx и записано в CSV.\n",
      "--------end of flat 2946 / 3000 ---------\n",
      "Фото 1 скачано как 9162fcb7a044f78bb941200db236dcd5_1200x900.jpg и записано в CSV.\n",
      "Фото 2 скачано как 928c2d65abf290522b00317c53a6efa2_1200x900.jpg и записано в CSV.\n",
      "Фото 3 скачано как be7b15268a2c65599640cf0a2dc459d3_1200x900.jpg и записано в CSV.\n",
      "Фото 4 скачано как 768353fabce493ba0e12d7e389080a9d_1200x900.jpg и записано в CSV.\n",
      "Фото 5 скачано как b77c8a769ca6c58154920d5b1785b858_1200x900.jpg и записано в CSV.\n",
      "Фото 6 скачано как e23e00e0b3a39d0c87cbffdb56cba11f_1200x900.jpg и записано в CSV.\n",
      "Фото 7 скачано как 245ba215cc0c994a67ab504ff3300148_1200x900.jpg и записано в CSV.\n",
      "Фото 8 скачано как 8f7ad9b118cbf11e4f8ad4ea8aa6cfda_1200x900.jpg и записано в CSV.\n",
      "Фото 9 скачано как 2f194c96de0299c40ca9078f124d2ed4_1200x900.jpg и записано в CSV.\n",
      "Фото 10 скачано как 438595832166066ab69ec17bf46495d9_1200x900.jpg и записано в CSV.\n"
     ]
    },
    {
     "name": "stderr",
     "output_type": "stream",
     "text": [
      "Flat images parsing:  89%|████████▉ | 448/501 [47:15<05:08,  5.82s/it]"
     ]
    },
    {
     "name": "stdout",
     "output_type": "stream",
     "text": [
      "Фото 11 скачано как z7rvWKIV-as и записано в CSV.\n",
      "--------end of flat 2947 / 3000 ---------\n",
      "Фото 1 скачано как 1000dd1944f280276b7334587d9900f7_1200x900.jpg и записано в CSV.\n",
      "Фото 2 скачано как f4ffbd3243e981cc5ae5ec8d6698549f_1200x900.jpg и записано в CSV.\n",
      "Фото 3 скачано как d322ff10d77416e9e463e7add53347e0_1200x900.jpg и записано в CSV.\n",
      "Фото 4 скачано как 4544b45e91549aaae85f4a10fac7a293_1200x900.jpg и записано в CSV.\n",
      "Фото 5 скачано как 81a0d475ba4c44205ef2d5124b25249e_1200x900.jpg и записано в CSV.\n",
      "Фото 6 скачано как 1ec4d4b4ceac031c7104a9de36260090_1200x900.jpg и записано в CSV.\n",
      "Фото 7 скачано как f014e9c36878f9e6d0f461ebd464a106_1200x900.jpg и записано в CSV.\n",
      "Фото 8 скачано как e14f0b5ff2b0de0f9b460f81be58499e_1200x900.jpg и записано в CSV.\n"
     ]
    },
    {
     "name": "stderr",
     "output_type": "stream",
     "text": [
      "Flat images parsing:  90%|████████▉ | 449/501 [47:21<05:11,  5.98s/it]"
     ]
    },
    {
     "name": "stdout",
     "output_type": "stream",
     "text": [
      "Фото 9 скачано как 40c5fff29dd89582b036eb91bbbae468_1200x900.jpg и записано в CSV.\n",
      "--------end of flat 2948 / 3000 ---------\n",
      "Фото 1 скачано как 1936b24cafab67476f7134a214043526_1200x900.jpg и записано в CSV.\n",
      "Фото 2 скачано как 9238a7241f44f6f04742581f21c4bb7b_1200x900.jpg и записано в CSV.\n",
      "Фото 3 скачано как 7c4468c522103950ca49d13b86631ee2_1200x900.jpg и записано в CSV.\n",
      "Фото 4 скачано как c1d5c3bb99a88850b4092efbc5af7192_1200x900.jpg и записано в CSV.\n",
      "Фото 5 скачано как c561f67ed892823e3740f5e570dc2d80_1200x900.jpg и записано в CSV.\n",
      "Фото 6 скачано как 58611e3af318f9d7241fc6740c1f1f3a_1200x900.jpg и записано в CSV.\n",
      "Фото 7 скачано как 28f5ac4cd12a989a08a027f62f313d1c_1200x900.jpg и записано в CSV.\n",
      "Фото 8 скачано как 336f58217939c2837f7dbc6be077b77d_1200x900.jpg и записано в CSV.\n",
      "Фото 9 скачано как fc6bcfed2a3d7ef97e35b055ae87899f_1200x900.jpg и записано в CSV.\n",
      "Фото 10 скачано как 62bd3148fdeef187907008d52fe6b9cf_1200x900.jpg и записано в CSV.\n",
      "Фото 11 скачано как 9ee795c0d6378502f6a98a6630c6b1bc_1200x900.jpg и записано в CSV.\n",
      "Фото 12 скачано как 88fe67182fa69e52e5d690de85e32fb4_1200x900.jpg и записано в CSV.\n",
      "Фото 13 скачано как 92d3502ef2d98cd38c03dd34d577d7eb_1200x900.jpg и записано в CSV.\n",
      "Фото 14 скачано как ced19673022f8867322dc4bd9bc74381_1200x900.jpg и записано в CSV.\n",
      "Фото 15 скачано как 8f5c32049b0e7af542d8ca795a2ff089_1200x900.jpg и записано в CSV.\n",
      "Фото 16 скачано как 13087b4c74251227c54ea65ebd4396b4_1200x900.jpg и записано в CSV.\n",
      "Фото 17 скачано как e3a143ffd8ddec15a46e055a0d463902_1200x900.jpg и записано в CSV.\n",
      "Фото 18 скачано как afa8fcca855c023c9de375180ffdb057_1200x900.jpg и записано в CSV.\n"
     ]
    },
    {
     "name": "stderr",
     "output_type": "stream",
     "text": [
      "Flat images parsing:  90%|████████▉ | 450/501 [47:32<06:21,  7.47s/it]"
     ]
    },
    {
     "name": "stdout",
     "output_type": "stream",
     "text": [
      "Фото 19 скачано как 3AQXYx и записано в CSV.\n",
      "--------end of flat 2949 / 3000 ---------\n",
      "Фото 1 скачано как d17393196a2857b9fd62776885f1aa34_1200x900.jpg и записано в CSV.\n",
      "Фото 2 скачано как bb3552d4617266c0732c179b1d07ef91_1200x900.jpg и записано в CSV.\n",
      "Фото 3 скачано как 9592d9fc9ccbad203c978c231795bae2_1200x900.jpg и записано в CSV.\n",
      "Фото 4 скачано как 7053d402b629953b1f854157cc2e5f0d_1200x900.jpg и записано в CSV.\n",
      "Фото 5 скачано как 413d6ad90384a4ee169a45dfabeceb42_1200x900.jpg и записано в CSV.\n",
      "Фото 6 скачано как f1abf303e38be500928cebf294736902_1200x900.jpg и записано в CSV.\n",
      "Фото 7 скачано как dc9525a402a24d07b1b6a8bc626f3645_1200x900.jpg и записано в CSV.\n",
      "Фото 8 скачано как 1dd70175e6ba6e71c5c764d3bcd5be70_1200x900.jpg и записано в CSV.\n",
      "Фото 9 скачано как 1923acb30339b0fd4a3999d21d971302_1200x900.jpg и записано в CSV.\n",
      "Фото 10 скачано как ed7592a60872340fb0fa2e64c5d94869_1200x900.jpg и записано в CSV.\n",
      "Фото 11 скачано как 3453149f6b8cb477ab1379e35e41523e_1200x900.jpg и записано в CSV.\n",
      "Фото 12 скачано как 916f652b703f439f96e9915b36d116e1_1200x900.jpg и записано в CSV.\n",
      "Фото 13 скачано как bbe5934acecec0aa416caa3010a8188d_1200x900.jpg и записано в CSV.\n",
      "Фото 14 скачано как efb1ec4da3f2e203c2579eb9815b523f_1200x900.jpg и записано в CSV.\n"
     ]
    },
    {
     "name": "stderr",
     "output_type": "stream",
     "text": [
      "Flat images parsing:  90%|█████████ | 451/501 [47:41<06:29,  7.80s/it]"
     ]
    },
    {
     "name": "stdout",
     "output_type": "stream",
     "text": [
      "Фото 15 скачано как 37jCNp и записано в CSV.\n",
      "--------end of flat 2950 / 3000 ---------\n",
      "Фото 1 скачано как a42d55f46a1095c63f356355d38c3295_1200x900.jpg и записано в CSV.\n",
      "Фото 2 скачано как 2ca40103f1d234d79f981c9aa6b5b165_1200x900.jpg и записано в CSV.\n",
      "Фото 3 скачано как 0748281eaca76a2b6454d09d6dd6a9d5_1200x900.jpg и записано в CSV.\n",
      "Фото 4 скачано как 4ab438264b7122a6c79e175c164fd1c0_1200x900.jpg и записано в CSV.\n",
      "Фото 5 скачано как efe5e957b3b3595a3679be75938addc4_1200x900.jpg и записано в CSV.\n",
      "Фото 6 скачано как 60e832eac6ebca701920575d95a2a724_1200x900.jpg и записано в CSV.\n"
     ]
    },
    {
     "name": "stderr",
     "output_type": "stream",
     "text": [
      "Flat images parsing:  90%|█████████ | 452/501 [47:45<05:33,  6.81s/it]"
     ]
    },
    {
     "name": "stdout",
     "output_type": "stream",
     "text": [
      "Фото 7 скачано как 5e376a567a8682d4ede5c07818268a97_1200x900.jpg и записано в CSV.\n",
      "--------end of flat 2951 / 3000 ---------\n",
      "Фото 1 скачано как ee85dc07df05dcbe5404abc65e0ffdff_1200x900.jpg и записано в CSV.\n",
      "Фото 2 скачано как efc07d1dcbf24c8b879c1a9925afc5fd_1200x900.jpg и записано в CSV.\n",
      "Фото 3 скачано как 586fd7125ffddf4759cfdf401039abec_1200x900.jpg и записано в CSV.\n",
      "Фото 4 скачано как ad4a5acb3f4f76e143cb0c19e89a0b06_1200x900.jpg и записано в CSV.\n",
      "Фото 5 скачано как e2c6057446427b50814eb863cdca630d_1200x900.jpg и записано в CSV.\n",
      "Фото 6 скачано как ed96ca7ecce7c65bdad01dd6adc646a1_1200x900.jpg и записано в CSV.\n"
     ]
    },
    {
     "name": "stderr",
     "output_type": "stream",
     "text": [
      "Flat images parsing:  90%|█████████ | 453/501 [47:50<04:47,  6.00s/it]"
     ]
    },
    {
     "name": "stdout",
     "output_type": "stream",
     "text": [
      "Фото 7 скачано как 3AQXYx и записано в CSV.\n",
      "--------end of flat 2952 / 3000 ---------\n",
      "Фото 1 скачано как ecfbfaccbb364769cb3447b6ee006e07_1200x900.jpg и записано в CSV.\n",
      "Фото 2 скачано как 37ecd3a4764d5fbb377159d8872184ec_1200x900.jpg и записано в CSV.\n",
      "Фото 3 скачано как a351e324d5943e6da0ef21095fdc79c8_1200x900.jpg и записано в CSV.\n",
      "Фото 4 скачано как 0437d06b65d93c42f781014b821955de_1200x900.jpg и записано в CSV.\n",
      "Фото 5 скачано как a85b443507c1a2fc5d20c2876641ac51_1200x900.jpg и записано в CSV.\n",
      "Фото 6 скачано как 51e2cb354a570d28438ddb5d06224840_1200x900.jpg и записано в CSV.\n",
      "Фото 7 скачано как 363f9fc625186e267259375906b91cb4_1200x900.jpg и записано в CSV.\n"
     ]
    },
    {
     "name": "stderr",
     "output_type": "stream",
     "text": [
      "Flat images parsing:  91%|█████████ | 454/501 [47:54<04:17,  5.48s/it]"
     ]
    },
    {
     "name": "stdout",
     "output_type": "stream",
     "text": [
      "Фото 8 скачано как 3AQXYx и записано в CSV.\n",
      "--------end of flat 2953 / 3000 ---------\n",
      "Фото 1 скачано как 273778f56cb8e6194bb7889aa3844499_1200x900.jpg и записано в CSV.\n",
      "Фото 2 скачано как 9208bf61cbfb65e742c916a2268d6efe_1200x900.jpg и записано в CSV.\n",
      "Фото 3 скачано как 6298206a5bda22605f100c5eeee60a3f_1200x900.jpg и записано в CSV.\n",
      "Фото 4 скачано как 11a636ecae6f2928ff12f42a171738f7_1200x900.jpg и записано в CSV.\n",
      "Фото 5 скачано как 0ca876c0979f3fe7ba23eb045171d04f_1200x900.jpg и записано в CSV.\n",
      "Фото 6 скачано как a3d8a5404461c83ead33d3570461e5aa_1200x900.jpg и записано в CSV.\n",
      "Фото 7 скачано как ee0aa8f7e80a281712da885b12e40729_1200x900.jpg и записано в CSV.\n"
     ]
    },
    {
     "name": "stderr",
     "output_type": "stream",
     "text": [
      "Flat images parsing:  91%|█████████ | 455/501 [47:59<04:12,  5.48s/it]"
     ]
    },
    {
     "name": "stdout",
     "output_type": "stream",
     "text": [
      "Фото 8 скачано как z7rvWKIV-as и записано в CSV.\n",
      "--------end of flat 2954 / 3000 ---------\n",
      "Фото 1 скачано как 11ec9970900280eefb65dc297f5a6159_1200x900.jpg и записано в CSV.\n",
      "Фото 2 скачано как a0f261590e86eb9bb60f0c9ad14e608f_1200x900.jpg и записано в CSV.\n",
      "Фото 3 скачано как 2c866a5415976e08200e3302933c0c91_1200x900.jpg и записано в CSV.\n",
      "Фото 4 скачано как 0ebf3a0f8bd09ea38eac9c4cab435091_1200x900.jpg и записано в CSV.\n",
      "Фото 5 скачано как 347ba81a90364cf5bf46d7a45b0c3bc3_1200x900.jpg и записано в CSV.\n",
      "Фото 6 скачано как 182b9f5db27535461a2b0e7a2a9d3546_1200x900.jpg и записано в CSV.\n",
      "Фото 7 скачано как 5152ffd3bdab11b9d720a5cf4def1811_1200x900.jpg и записано в CSV.\n",
      "Фото 8 скачано как 3d1c19aa0f8843b09dc3fc3d5d4e2fee_1200x900.jpg и записано в CSV.\n",
      "Фото 9 скачано как acdd00602ca1a8f6814fab3a629159e7_1200x900.jpg и записано в CSV.\n",
      "Фото 10 скачано как b242a58e5c78491b39a90ba0b7ae3c29_1200x900.jpg и записано в CSV.\n",
      "Фото 11 скачано как 73276040024ff159d643d7aa88669c67_1200x900.jpg и записано в CSV.\n"
     ]
    },
    {
     "name": "stderr",
     "output_type": "stream",
     "text": [
      "Flat images parsing:  91%|█████████ | 456/501 [48:06<04:28,  5.97s/it]"
     ]
    },
    {
     "name": "stdout",
     "output_type": "stream",
     "text": [
      "Фото 12 скачано как z7rvWKIV-as и записано в CSV.\n",
      "--------end of flat 2955 / 3000 ---------\n",
      "Фото 1 скачано как 429cee004887bffb7ca102e242bb9018_1200x900.jpg и записано в CSV.\n",
      "Фото 2 скачано как c59c2573348c9c302b7a5d266b0c7b7a_1200x900.jpg и записано в CSV.\n",
      "Фото 3 скачано как db6c17d5e56ff74b90cf76fab7cd7b22_1200x900.jpg и записано в CSV.\n"
     ]
    },
    {
     "name": "stderr",
     "output_type": "stream",
     "text": [
      "Flat images parsing:  91%|█████████ | 457/501 [48:10<03:48,  5.20s/it]"
     ]
    },
    {
     "name": "stdout",
     "output_type": "stream",
     "text": [
      "Фото 4 скачано как z7rvWKIV-as и записано в CSV.\n",
      "--------end of flat 2956 / 3000 ---------\n",
      "Фото 1 скачано как 53b1607fe7e14ee17228dc04a461f8f2_1200x900.jpg и записано в CSV.\n",
      "Фото 2 скачано как 86d1866867220a3fa9fd89e94793c054_1200x900.jpg и записано в CSV.\n",
      "Фото 3 скачано как b6648a5804799967f2fe71cef9a2055d_1200x900.jpg и записано в CSV.\n",
      "Фото 4 скачано как 931a1a0cca2d5f12c8d7b3696d59595f_1200x900.jpg и записано в CSV.\n",
      "Фото 5 скачано как 495cdbbecbecf62a32e0ee7faecae281_1200x900.jpg и записано в CSV.\n",
      "Фото 6 скачано как d2d2c9bead3ba4463e5c190b0dd1ef81_1200x900.jpg и записано в CSV.\n",
      "Фото 7 скачано как deedc89d9963258f50d1e626df9f48f9_1200x900.jpg и записано в CSV.\n",
      "Фото 8 скачано как 919a4634be9d25a921a264868c489c5c_1200x900.jpg и записано в CSV.\n",
      "Фото 9 скачано как 9bff820269835e7d97d42397289e1b38_1200x900.jpg и записано в CSV.\n",
      "Фото 10 скачано как 584182389240bd3cf4b237427b86b6e7_1200x900.jpg и записано в CSV.\n",
      "Фото 11 скачано как 50499e509bb18dbc4cf488e23e58f9f1_1200x900.jpg и записано в CSV.\n",
      "Фото 12 скачано как 06e2757790c43aba26726e0b464ad286_1200x900.jpg и записано в CSV.\n",
      "Фото 13 скачано как 74ff2bddb62a91956c2d7537fb5e0a9e_1200x900.jpg и записано в CSV.\n",
      "Фото 14 скачано как 11508f180b6b4f288fb9d55ce30839c3_1200x900.jpg и записано в CSV.\n",
      "Фото 15 скачано как 51b2093b1de0fa3ab744c7755a328ffe_1200x900.jpg и записано в CSV.\n",
      "Фото 16 скачано как fb70e739a706f775bd08d884623ce5b3_1200x900.jpg и записано в CSV.\n",
      "Фото 17 скачано как 3c2e7f7dff61df65c796e8d9f88ff1a9_1200x900.jpg и записано в CSV.\n",
      "Фото 18 скачано как a977c161a27dcd5b9e462568865db7e1_1200x900.jpg и записано в CSV.\n"
     ]
    },
    {
     "name": "stderr",
     "output_type": "stream",
     "text": [
      "Flat images parsing:  91%|█████████▏| 458/501 [48:22<05:16,  7.36s/it]"
     ]
    },
    {
     "name": "stdout",
     "output_type": "stream",
     "text": [
      "Фото 19 скачано как z7rvWKIV-as и записано в CSV.\n",
      "--------end of flat 2957 / 3000 ---------\n",
      "Фото 1 скачано как 65376ef11657fb8e0906966e61c965eb_1200x900.jpg и записано в CSV.\n"
     ]
    },
    {
     "name": "stderr",
     "output_type": "stream",
     "text": [
      "Flat images parsing:  92%|█████████▏| 459/501 [48:24<04:02,  5.76s/it]"
     ]
    },
    {
     "name": "stdout",
     "output_type": "stream",
     "text": [
      "Фото 2 скачано как z7rvWKIV-as и записано в CSV.\n",
      "--------end of flat 2958 / 3000 ---------\n"
     ]
    },
    {
     "name": "stderr",
     "output_type": "stream",
     "text": [
      "Flat images parsing:  92%|█████████▏| 460/501 [48:25<02:53,  4.23s/it]"
     ]
    },
    {
     "name": "stdout",
     "output_type": "stream",
     "text": [
      "Фото 1 скачано как c995f2fbe2af548321c3afb8c03b3e71_1200x900.jpg и записано в CSV.\n",
      "Фото 2 скачано как ff0538b68644d2f325b4c2b209e054fd_1200x900.jpg и записано в CSV.\n",
      "Фото 3 скачано как 6b851f1b2f003e999cba6dff9c4c90bf_1200x900.jpg и записано в CSV.\n",
      "Фото 4 скачано как 1b9a10918d8633678a14df8064d1558e_1200x900.jpg и записано в CSV.\n",
      "Фото 5 скачано как dec7bd27188e854729e1bec94071a01c_1200x900.jpg и записано в CSV.\n",
      "Фото 6 скачано как a53f437fc06e5ed9e15be5de38354231_1200x900.jpg и записано в CSV.\n",
      "Фото 7 скачано как 82a8034faefdf75abc5a2e573ca23592_1200x900.jpg и записано в CSV.\n"
     ]
    },
    {
     "name": "stderr",
     "output_type": "stream",
     "text": [
      "Flat images parsing:  92%|█████████▏| 461/501 [48:28<02:41,  4.04s/it]"
     ]
    },
    {
     "name": "stdout",
     "output_type": "stream",
     "text": [
      "Фото 8 скачано как 3AQXYx и записано в CSV.\n",
      "--------end of flat 2960 / 3000 ---------\n",
      "Фото 1 скачано как 98535f1a6bce690e4fd73171b0a52531_1200x900.jpg и записано в CSV.\n",
      "Фото 2 скачано как c575806350ff2bf03c0186fa8ba3133a_1200x900.jpg и записано в CSV.\n",
      "Фото 3 скачано как 0141fcdf598b91571100f8b42d7a15d2_1200x900.jpg и записано в CSV.\n",
      "Фото 4 скачано как 20e88011ea0d0bc443289642582a45c1_1200x900.jpg и записано в CSV.\n",
      "Фото 5 скачано как 34bf88f37407c0c213d142a1da1f5bd5_1200x900.jpg и записано в CSV.\n",
      "Фото 6 скачано как d53b826da160baa9d519e091e69b7242_1200x900.jpg и записано в CSV.\n",
      "Фото 7 скачано как 40659e2d41d58ddadc485cbeb4c7f0b4_1200x900.jpg и записано в CSV.\n",
      "Фото 8 скачано как c8ff3f82e06f1cd501f423a91bb0f67c_1200x900.jpg и записано в CSV.\n",
      "Фото 9 скачано как 3b09d003ce135a5ba6308c007cf445ff_1200x900.jpg и записано в CSV.\n",
      "Фото 10 скачано как 41c7522380c94328f9b6450ff168a318_1200x900.jpg и записано в CSV.\n",
      "Фото 11 скачано как bc95ef1b0fc4b4381dac448ef0984a07_1200x900.jpg и записано в CSV.\n",
      "Фото 12 скачано как f326d483bbbd11b06945c28ffe77ecb2_1200x900.jpg и записано в CSV.\n"
     ]
    },
    {
     "name": "stderr",
     "output_type": "stream",
     "text": [
      "Flat images parsing:  92%|█████████▏| 462/501 [48:34<02:54,  4.47s/it]"
     ]
    },
    {
     "name": "stdout",
     "output_type": "stream",
     "text": [
      "Фото 13 скачано как 3AQXYx и записано в CSV.\n",
      "--------end of flat 2961 / 3000 ---------\n",
      "Фото 1 скачано как 23dfc7759f58569c3fa8f3d56ee03bf3_1200x900.jpg и записано в CSV.\n",
      "Фото 2 скачано как 8d488365bc8d34e1678b2efdfa75b25c_1200x900.jpg и записано в CSV.\n",
      "Фото 3 скачано как e40160ae2d771a42a61fc912aa044dd7_1200x900.jpg и записано в CSV.\n",
      "Фото 4 скачано как aaf0fc3f31f18bb9b5f840b0b0a8328f_1200x900.jpg и записано в CSV.\n",
      "Фото 5 скачано как 1dcbaff61b957f5a3b9eb6e17c165cea_1200x900.jpg и записано в CSV.\n",
      "Фото 6 скачано как e016371a4869ae4dd07576b9cc0159eb_1200x900.jpg и записано в CSV.\n"
     ]
    },
    {
     "name": "stderr",
     "output_type": "stream",
     "text": [
      "Flat images parsing:  92%|█████████▏| 463/501 [48:39<02:55,  4.63s/it]"
     ]
    },
    {
     "name": "stdout",
     "output_type": "stream",
     "text": [
      "Фото 7 скачано как z7rvWKIV-as и записано в CSV.\n",
      "--------end of flat 2962 / 3000 ---------\n",
      "Фото 1 скачано как e825230f6f3f1a15af44c348e30e4a04_1200x900.jpg и записано в CSV.\n",
      "Фото 2 скачано как e5371fc557b0d2583ba3a9a669851412_1200x900.jpg и записано в CSV.\n",
      "Фото 3 скачано как 04313b54548ba3eec1acf79c2ba8803e_1200x900.jpg и записано в CSV.\n",
      "Фото 4 скачано как 1a372d4c04cb4665efa6a273560b7c29_1200x900.jpg и записано в CSV.\n",
      "Фото 5 скачано как cc626b17d84cc9d0ab2494cff94270c7_1200x900.jpg и записано в CSV.\n",
      "Фото 6 скачано как 29b939167a509a23c192ba7419d7f3b3_1200x900.jpg и записано в CSV.\n",
      "Фото 7 скачано как 541275785b884fdb79d69fe3ee898a15_1200x900.jpg и записано в CSV.\n",
      "Фото 8 скачано как cbfb782234c442d639f1c76a26fa1d04_1200x900.jpg и записано в CSV.\n",
      "Фото 9 скачано как 33fa8f978d2bb91117231628b19816c8_1200x900.jpg и записано в CSV.\n",
      "Фото 10 скачано как c7aa0d663c3c0a04c0a8e8cc1fcca712_1200x900.jpg и записано в CSV.\n"
     ]
    },
    {
     "name": "stderr",
     "output_type": "stream",
     "text": [
      "Flat images parsing:  93%|█████████▎| 464/501 [48:46<03:14,  5.27s/it]"
     ]
    },
    {
     "name": "stdout",
     "output_type": "stream",
     "text": [
      "Фото 11 скачано как 37jCNp и записано в CSV.\n",
      "--------end of flat 2963 / 3000 ---------\n",
      "Фото 1 скачано как fc76a16f7b3c2ab9c3809391d7ec0bb5_1200x900.jpg и записано в CSV.\n",
      "Фото 2 скачано как 123e62451854db480e5284c824a88fb0_1200x900.jpg и записано в CSV.\n",
      "Фото 3 скачано как 3b5556bcf01c2c954a940b5ac53aaed1_1200x900.jpg и записано в CSV.\n",
      "Фото 4 скачано как befc4cd35e493412ad8ad2ba343f876d_1200x900.jpg и записано в CSV.\n",
      "Фото 5 скачано как 049eeaf5b9b1b79c24bc603b99a30c4c_1200x900.jpg и записано в CSV.\n",
      "Фото 6 скачано как 8b55d84b6a504161ee79afebcb269a10_1200x900.jpg и записано в CSV.\n",
      "Фото 7 скачано как 0fefdc4ad601acd96f45037ebc8fd9c2_1200x900.jpg и записано в CSV.\n",
      "Фото 8 скачано как dc333cf9bb73efcbda1dcca05e43426e_1200x900.jpg и записано в CSV.\n",
      "Фото 9 скачано как 3a2e013b2542db1d58d6c50e3bcc8f54_1200x900.jpg и записано в CSV.\n",
      "Фото 10 скачано как c331a807643409e6e7d86f74319e0c06_1200x900.jpg и записано в CSV.\n",
      "Фото 11 скачано как 0508f2560d55212ae051fa4589c0cff6_1200x900.jpg и записано в CSV.\n",
      "Фото 12 скачано как 635f03ba7e19998411dd36b28b28e53c_1200x900.jpg и записано в CSV.\n",
      "Фото 13 скачано как bae2e7e9032eb6b785c381e06f8be9d6_1200x900.jpg и записано в CSV.\n"
     ]
    },
    {
     "name": "stderr",
     "output_type": "stream",
     "text": [
      "Flat images parsing:  93%|█████████▎| 465/501 [48:54<03:47,  6.31s/it]"
     ]
    },
    {
     "name": "stdout",
     "output_type": "stream",
     "text": [
      "Фото 14 скачано как z7rvWKIV-as и записано в CSV.\n",
      "--------end of flat 2964 / 3000 ---------\n",
      "Фото 1 скачано как c202501561da1553dfa0d9ddc1e925ab_1200x900.jpg и записано в CSV.\n",
      "Фото 2 скачано как 35fc9291851f4d8605de4b863254e959_1200x900.jpg и записано в CSV.\n",
      "Фото 3 скачано как 552cbac4622828f22cbb062df3e8502c_1200x900.jpg и записано в CSV.\n",
      "Фото 4 скачано как 50d944074e14317c6cb4cc7c21b8b091_1200x900.jpg и записано в CSV.\n",
      "Фото 5 скачано как f82029c48a8c6f20bb3d4e714eed1295_1200x900.jpg и записано в CSV.\n",
      "Фото 6 скачано как 0e7e6099ee80716457282a9f96c97c30_1200x900.jpg и записано в CSV.\n",
      "Фото 7 скачано как 9452af39c51f675e2febd49edf0d27bb_1200x900.jpg и записано в CSV.\n",
      "Фото 8 скачано как 3b2ef0ed89e52cee32909a5a48f5d666_1200x900.jpg и записано в CSV.\n",
      "Фото 9 скачано как 748e298f3d59e5ffa2f3edf21fc3734c_1200x900.jpg и записано в CSV.\n",
      "Фото 10 скачано как 29c9065a500cc7fa011fce9ecce42413_1200x900.jpg и записано в CSV.\n",
      "Фото 11 скачано как 54f0ee4375616b9033a3e9cc8eee9e63_1200x900.jpg и записано в CSV.\n"
     ]
    },
    {
     "name": "stderr",
     "output_type": "stream",
     "text": [
      "Flat images parsing:  93%|█████████▎| 466/501 [49:02<03:55,  6.72s/it]"
     ]
    },
    {
     "name": "stdout",
     "output_type": "stream",
     "text": [
      "Фото 12 скачано как bb760dc40f715ee8dd4fc93f37772da2_1200x900.jpg и записано в CSV.\n",
      "--------end of flat 2965 / 3000 ---------\n"
     ]
    },
    {
     "name": "stderr",
     "output_type": "stream",
     "text": [
      "Flat images parsing:  93%|█████████▎| 467/501 [49:03<02:49,  4.99s/it]"
     ]
    },
    {
     "name": "stdout",
     "output_type": "stream",
     "text": [
      "Фото 1 скачано как a9d948b5b06fdaab3362400d523757af_1200x900.jpg и записано в CSV.\n",
      "Фото 2 скачано как ed0e6dbee22b829cc6ce780752d322aa_1200x900.jpg и записано в CSV.\n",
      "Фото 3 скачано как 77c2ff42337f355d0224f1d0c330f172_1200x900.jpg и записано в CSV.\n",
      "Фото 4 скачано как 1bee54266418924a892a2e3b0eabd26a_1200x900.jpg и записано в CSV.\n",
      "Фото 5 скачано как 6d82d74a3d7150b61349a5bb3ebfab79_1200x900.jpg и записано в CSV.\n",
      "Фото 6 скачано как ebd0e1b46e1174973b31be1358ad332c_1200x900.jpg и записано в CSV.\n",
      "Фото 7 скачано как 56761799a51a3e1553bcbcb303909b9a_1200x900.jpg и записано в CSV.\n",
      "Фото 8 скачано как 4402503db9d31d9a87f4eb73bb720780_1200x900.jpg и записано в CSV.\n"
     ]
    },
    {
     "name": "stderr",
     "output_type": "stream",
     "text": [
      "Flat images parsing:  93%|█████████▎| 468/501 [49:09<02:56,  5.36s/it]"
     ]
    },
    {
     "name": "stdout",
     "output_type": "stream",
     "text": [
      "Фото 9 скачано как z7rvWKIV-as и записано в CSV.\n",
      "--------end of flat 2967 / 3000 ---------\n",
      "Фото 1 скачано как 0fc7dd972b92c6006e7fe11829cb67ee_1200x900.jpg и записано в CSV.\n",
      "Фото 2 скачано как aab3dabe5f64677be2c1e725f1cad912_1200x900.jpg и записано в CSV.\n",
      "Фото 3 скачано как e7db520ec8e2eb2a840deeb80a654c25_1200x900.jpg и записано в CSV.\n",
      "Фото 4 скачано как f6aeaf3f96c82d472cf218a37415a553_1200x900.jpg и записано в CSV.\n"
     ]
    },
    {
     "name": "stderr",
     "output_type": "stream",
     "text": [
      "Flat images parsing:  94%|█████████▎| 469/501 [49:15<02:51,  5.36s/it]"
     ]
    },
    {
     "name": "stdout",
     "output_type": "stream",
     "text": [
      "Фото 5 скачано как z7rvWKIV-as и записано в CSV.\n",
      "--------end of flat 2968 / 3000 ---------\n",
      "Фото 1 скачано как 8f44c9c1ac96066877b758ce96703149_1200x900.jpg и записано в CSV.\n",
      "Фото 2 скачано как acc5e401a285dc9a720df887b23b68b3_1200x900.jpg и записано в CSV.\n",
      "Фото 3 скачано как be58db6f5f7ea0597e731f6a764687d5_1200x900.jpg и записано в CSV.\n",
      "Фото 4 скачано как 41aa34a0063e8368d714d0a4d6f53e60_1200x900.jpg и записано в CSV.\n",
      "Фото 5 скачано как 94924fa17cecba192a31b3e29462ebfd_1200x900.jpg и записано в CSV.\n",
      "Фото 6 скачано как 60e3b17b6c5e5d0fa450ae77423b394d_1200x900.jpg и записано в CSV.\n",
      "Фото 7 скачано как e531f9a86a92911f8ffd024c315aed88_1200x900.jpg и записано в CSV.\n",
      "Фото 8 скачано как 2ef3b925af1c7bb3f0c70c37058b505c_1200x900.jpg и записано в CSV.\n",
      "Фото 9 скачано как 937ae5ac0cb8c2ca77613c96814ed0a9_1200x900.jpg и записано в CSV.\n",
      "Фото 10 скачано как 6157eb0f2cecfae45fce9710cc9393ee_1200x900.jpg и записано в CSV.\n"
     ]
    },
    {
     "name": "stderr",
     "output_type": "stream",
     "text": [
      "Flat images parsing:  94%|█████████▍| 470/501 [49:21<02:57,  5.73s/it]"
     ]
    },
    {
     "name": "stdout",
     "output_type": "stream",
     "text": [
      "Фото 11 скачано как e3b4611fc3a5dc433538b60e038f4e37_1200x900.jpg и записано в CSV.\n",
      "--------end of flat 2969 / 3000 ---------\n",
      "Фото 1 скачано как 0ac52093857de97b86d5d7b617b031b0_1200x900.jpg и записано в CSV.\n",
      "Фото 2 скачано как 5419b8ccb1e17c744d5d138d65d0bc5c_1200x900.jpg и записано в CSV.\n",
      "Фото 3 скачано как b1c59b191a66342ef0956ab5167a191c_1200x900.jpg и записано в CSV.\n",
      "Фото 4 скачано как 652b91606528504b0613bc2032d43b53_1200x900.jpg и записано в CSV.\n",
      "Фото 5 скачано как ac2f9a09f59079c034d1ac42602325f4_1200x900.jpg и записано в CSV.\n"
     ]
    },
    {
     "name": "stderr",
     "output_type": "stream",
     "text": [
      "Flat images parsing:  94%|█████████▍| 471/501 [49:26<02:41,  5.38s/it]"
     ]
    },
    {
     "name": "stdout",
     "output_type": "stream",
     "text": [
      "Фото 6 скачано как z7rvWKIV-as и записано в CSV.\n",
      "--------end of flat 2970 / 3000 ---------\n",
      "Фото 1 скачано как ab34dbfea131d4069c5ca4400f6c09d6_1200x900.jpg и записано в CSV.\n",
      "Фото 2 скачано как 4bfbe59a606c00f2e6de7c4b61a9c576_1200x900.jpg и записано в CSV.\n",
      "Фото 3 скачано как 89e36594d1444670b6bf4862a60b5504_1200x900.jpg и записано в CSV.\n",
      "Фото 4 скачано как 241ad7023bc4d9af8c5ccfe7ee93eb3d_1200x900.jpg и записано в CSV.\n",
      "Фото 5 скачано как c03e17ab71c6be0e5205076821bcd8f4_1200x900.jpg и записано в CSV.\n",
      "Фото 6 скачано как 77a91bbc3582c612ba39a1b8031056b7_1200x900.jpg и записано в CSV.\n",
      "Фото 7 скачано как 7d90fcccbd64a1372d98dec261f24f65_1200x900.jpg и записано в CSV.\n",
      "Фото 8 скачано как e0e1c40801d2a08c4d2f09b4a14a8cf8_1200x900.jpg и записано в CSV.\n",
      "Фото 9 скачано как bace17588affc885796e40a727eae3d3_1200x900.jpg и записано в CSV.\n",
      "Фото 10 скачано как db9f575e6355e00331dac8aaa78747f8_1200x900.jpg и записано в CSV.\n",
      "Фото 11 скачано как fc00a900df0ee6ec32ef1716bbea3d52_1200x900.jpg и записано в CSV.\n",
      "Фото 12 скачано как 2d02b2fe9bdcd6718c60cc1e56310656_1200x900.jpg и записано в CSV.\n"
     ]
    },
    {
     "name": "stderr",
     "output_type": "stream",
     "text": [
      "Flat images parsing:  94%|█████████▍| 472/501 [49:34<03:00,  6.22s/it]"
     ]
    },
    {
     "name": "stdout",
     "output_type": "stream",
     "text": [
      "Фото 13 скачано как z7rvWKIV-as и записано в CSV.\n",
      "--------end of flat 2971 / 3000 ---------\n",
      "Фото 1 скачано как 97609197dd134017f5c6397930844890_1200x900.jpg и записано в CSV.\n",
      "Фото 2 скачано как a7ffd01a34ba0ef0b4fb985495f918b0_1200x900.jpg и записано в CSV.\n",
      "Фото 3 скачано как 918d557e0e4a34a8185b6083aa8945d5_1200x900.jpg и записано в CSV.\n",
      "Фото 4 скачано как 65e365265597bb1e550094d0ce1c2d9f_1200x900.jpg и записано в CSV.\n",
      "Фото 5 скачано как 03cc9822c2ca6107945cd839d3aee89e_1200x900.jpg и записано в CSV.\n",
      "Фото 6 скачано как 8112bb35f6fe733949d6ee27404780bf_1200x900.jpg и записано в CSV.\n",
      "Фото 7 скачано как b437e63baa49f599e74982ddd757fa6f_1200x900.jpg и записано в CSV.\n",
      "Фото 8 скачано как e073148a5e30d5db1b61924ebc5f3860_1200x900.jpg и записано в CSV.\n",
      "Фото 9 скачано как 1271bdb4dfe4b90371295a1df8466c7d_1200x900.jpg и записано в CSV.\n"
     ]
    },
    {
     "name": "stderr",
     "output_type": "stream",
     "text": [
      "Flat images parsing:  94%|█████████▍| 473/501 [49:40<02:54,  6.23s/it]"
     ]
    },
    {
     "name": "stdout",
     "output_type": "stream",
     "text": [
      "Фото 10 скачано как 3AQXYx и записано в CSV.\n",
      "--------end of flat 2972 / 3000 ---------\n",
      "Фото 1 скачано как f8bbad1d028332bb40a82fab8d84fc60_1200x900.jpg и записано в CSV.\n",
      "Фото 2 скачано как d03d5938e931eb7b76ebb34ff1574873_1200x900.jpg и записано в CSV.\n",
      "Фото 3 скачано как 79b212ae8cb7602ddd29e48d9d9e1d64_1200x900.jpg и записано в CSV.\n",
      "Фото 4 скачано как bd1bccfffd89f12fd7e4cf2cc1b41e91_1200x900.jpg и записано в CSV.\n",
      "Фото 5 скачано как f763ccbf8640abcdef1e1aa3924baa85_1200x900.jpg и записано в CSV.\n",
      "Фото 6 скачано как e84a72152b129b3006253fec327f08d3_1200x900.jpg и записано в CSV.\n",
      "Фото 7 скачано как 6e4580f16d6bd0e5846b83ddfa35cba7_1200x900.jpg и записано в CSV.\n",
      "Фото 8 скачано как 0305ca4dcde2c63a5ebc02aeda604356_1200x900.jpg и записано в CSV.\n",
      "Фото 9 скачано как b7b11662eb04bb49f1fd0db296bda28f_1200x900.jpg и записано в CSV.\n",
      "Фото 10 скачано как 9875b63f5571a30c45027eb6f771a882_1200x900.jpg и записано в CSV.\n"
     ]
    },
    {
     "name": "stderr",
     "output_type": "stream",
     "text": [
      "Flat images parsing:  95%|█████████▍| 474/501 [49:47<02:51,  6.37s/it]"
     ]
    },
    {
     "name": "stdout",
     "output_type": "stream",
     "text": [
      "Фото 11 скачано как 3AQXYx и записано в CSV.\n",
      "--------end of flat 2973 / 3000 ---------\n",
      "Фото 1 скачано как f51b87adfe5d1766d49850e19e3bda39_1200x900.jpg и записано в CSV.\n",
      "Фото 2 скачано как a0259dbc14e645c46e1730b38ee28acc_1200x900.jpg и записано в CSV.\n",
      "Фото 3 скачано как 9587eac4cab3d0d80ae343548a8a479c_1200x900.jpg и записано в CSV.\n",
      "Фото 4 скачано как 4728637e8c17f07947f0bf510d3af5bf_1200x900.jpg и записано в CSV.\n",
      "Фото 5 скачано как fdffaff7ad597c6a14abacd964c0a477_1200x900.jpg и записано в CSV.\n",
      "Фото 6 скачано как 09c75863489a5c535e93a99a0d5f9a5a_1200x900.jpg и записано в CSV.\n",
      "Фото 7 скачано как e7bd7d6fc5d0a290028aeddb5c1116a2_1200x900.jpg и записано в CSV.\n",
      "Фото 8 скачано как c822e9d0f7baf5d1b5d9dd2bcdaba735_1200x900.jpg и записано в CSV.\n",
      "Фото 9 скачано как 639caadb5ea4befbdf8a00cf3f4a7db8_1200x900.jpg и записано в CSV.\n",
      "Фото 10 скачано как 6d77a5de2d93a668023b5fc758bb26fa_1200x900.jpg и записано в CSV.\n",
      "Фото 11 скачано как 93304d81c52b3b41a499d4dc6d2f0a96_1200x900.jpg и записано в CSV.\n",
      "Фото 12 скачано как 2085bfd473577053eabf378d917fe1ab_1200x900.jpg и записано в CSV.\n",
      "Фото 13 скачано как bc8d2c3a5391a7ddf6e2a81d01ba918e_1200x900.jpg и записано в CSV.\n",
      "Фото 14 скачано как a98abd058b449878b0736351c6220f48_1200x900.jpg и записано в CSV.\n"
     ]
    },
    {
     "name": "stderr",
     "output_type": "stream",
     "text": [
      "Flat images parsing:  95%|█████████▍| 475/501 [49:57<03:16,  7.56s/it]"
     ]
    },
    {
     "name": "stdout",
     "output_type": "stream",
     "text": [
      "Фото 15 скачано как z7rvWKIV-as и записано в CSV.\n",
      "--------end of flat 2974 / 3000 ---------\n",
      "Фото 1 скачано как b1e123265083ae501739689fd161391a_1200x900.jpg и записано в CSV.\n",
      "Фото 2 скачано как 0f61e7fbe21da9359b8723c61fd9882f_1200x900.jpg и записано в CSV.\n",
      "Фото 3 скачано как f4909ecc27bc0b55d01ab0d38564232e_1200x900.jpg и записано в CSV.\n",
      "Фото 4 скачано как 2c0ecbfe95041cc5e5b6320874825bb8_1200x900.jpg и записано в CSV.\n",
      "Фото 5 скачано как 9fe91558a5d80e6c6f90193c8736666a_1200x900.jpg и записано в CSV.\n",
      "Фото 6 скачано как a9308590c28542260a542e3a9565a71a_1200x900.jpg и записано в CSV.\n",
      "Фото 7 скачано как d72df190516d3f9e0ab735f39beabfde_1200x900.jpg и записано в CSV.\n",
      "Фото 8 скачано как 7901828a5f607f2105e51ea65fa2d5b7_1200x900.jpg и записано в CSV.\n",
      "Фото 9 скачано как 45308a0c545080eeeaaeb4a3f73298b3_1200x900.jpg и записано в CSV.\n",
      "Фото 10 скачано как ffdd760120328415afd8062c0157b39c_1200x900.jpg и записано в CSV.\n",
      "Фото 11 скачано как 07b2809929e1298948a337fc0849ba2b_1200x900.jpg и записано в CSV.\n",
      "Фото 12 скачано как 232301254ea604666d15f455ff969a4e_1200x900.jpg и записано в CSV.\n",
      "Фото 13 скачано как 8000f202015e7d8f1318a2dd9225136f_1200x900.jpg и записано в CSV.\n",
      "Фото 14 скачано как d0da9b0f6fdd8b9a4e739dff1e15cc05_1200x900.jpg и записано в CSV.\n",
      "Фото 15 скачано как 38f06eb38fad593c798bdd97f5e7ec94_1200x900.jpg и записано в CSV.\n",
      "Фото 16 скачано как 15bd5b57492c9a6190d8fa3fd3e462d2_1200x900.jpg и записано в CSV.\n",
      "Фото 17 скачано как 995928b6c18b3581db8672574ffbe56b_1200x900.jpg и записано в CSV.\n",
      "Фото 18 скачано как d6da9fa5ea2632f7c082fcf46a3996ed_1200x900.jpg и записано в CSV.\n",
      "Фото 19 скачано как a3f1a7ac126f0a3eca76ae8d593fcfa2_1200x900.jpg и записано в CSV.\n",
      "Фото 20 скачано как 31c7fed91db8c5919b8df018032c8385_1200x900.jpg и записано в CSV.\n"
     ]
    },
    {
     "name": "stderr",
     "output_type": "stream",
     "text": [
      "Flat images parsing:  95%|█████████▌| 476/501 [50:08<03:29,  8.39s/it]"
     ]
    },
    {
     "name": "stdout",
     "output_type": "stream",
     "text": [
      "Фото 21 скачано как 37jCNp и записано в CSV.\n",
      "--------end of flat 2975 / 3000 ---------\n",
      "Фото 1 скачано как ecf43d1422a1f453bac4013b7d819c40_1200x900.jpg и записано в CSV.\n",
      "Фото 2 скачано как 8fe4c7cfdf381d9ae8a86c870ce585cd_1200x900.jpg и записано в CSV.\n",
      "Фото 3 скачано как 06eec196490601373b8c891ad2d2115f_1200x900.jpg и записано в CSV.\n",
      "Фото 4 скачано как 94ed6592621c4b23e43825271da8d946_1200x900.jpg и записано в CSV.\n",
      "Фото 5 скачано как 6038ebd4b1ab5c8df4922097191184d1_1200x900.jpg и записано в CSV.\n",
      "Фото 6 скачано как 6f0c38d3c39e6e0483d7c564bc7e8735_1200x900.jpg и записано в CSV.\n",
      "Фото 7 скачано как 40507158a6b51a1029c3493f5c64c715_1200x900.jpg и записано в CSV.\n",
      "Фото 8 скачано как 02483a41f1bbe88bd23396c6b6cda72e_1200x900.jpg и записано в CSV.\n",
      "Фото 9 скачано как 32e356520704ba7a4bd0fc4e247b58bc_1200x900.jpg и записано в CSV.\n",
      "Фото 10 скачано как 2b013199cedebc60082e743f4bf6ad0e_1200x900.jpg и записано в CSV.\n",
      "Фото 11 скачано как 7bb0c1b4c78d0d033aaa3ec51e4c3f83_1200x900.jpg и записано в CSV.\n",
      "Фото 12 скачано как d411d72e1e427e531558269423b836b8_1200x900.jpg и записано в CSV.\n",
      "Фото 13 скачано как ce05eb16b85c16eb0889c8b18bfadf06_1200x900.jpg и записано в CSV.\n",
      "Фото 14 скачано как 2f4988c7e069d7161f5950f96deaddb0_1200x900.jpg и записано в CSV.\n",
      "Фото 15 скачано как fa2160f8c708c16324ffbf2c92353757_1200x900.jpg и записано в CSV.\n",
      "Фото 16 скачано как 2fa130804045546a794187525ba8fc80_1200x900.jpg и записано в CSV.\n",
      "Фото 17 скачано как d0bab70ce856b8faf0ffcda805ab96c6_1200x900.jpg и записано в CSV.\n",
      "Фото 18 скачано как a5d69d28b3a47984861247c04a3f95c5_1200x900.jpg и записано в CSV.\n",
      "Фото 19 скачано как b49e8f440d5c417cf2cb135c961496d6_1200x900.jpg и записано в CSV.\n",
      "Фото 20 скачано как 04a754be6bd81208062011756586a26c_1200x900.jpg и записано в CSV.\n"
     ]
    },
    {
     "name": "stderr",
     "output_type": "stream",
     "text": [
      "Flat images parsing:  95%|█████████▌| 477/501 [50:18<03:39,  9.15s/it]"
     ]
    },
    {
     "name": "stdout",
     "output_type": "stream",
     "text": [
      "Фото 21 скачано как z7rvWKIV-as и записано в CSV.\n",
      "--------end of flat 2976 / 3000 ---------\n"
     ]
    },
    {
     "name": "stderr",
     "output_type": "stream",
     "text": [
      "Flat images parsing:  95%|█████████▌| 478/501 [50:19<02:33,  6.69s/it]"
     ]
    },
    {
     "name": "stdout",
     "output_type": "stream",
     "text": [
      "Фото 1 скачано как fe54aa3b5890ec05d1896727c89a1437_1200x900.jpg и записано в CSV.\n",
      "Фото 2 скачано как 465ed88c25f2d8a0e8a66d6cab9878fe_1200x900.jpg и записано в CSV.\n",
      "Фото 3 скачано как 330ee1fd235646cf210fb160df8a8aa7_1200x900.jpg и записано в CSV.\n",
      "Фото 4 скачано как 532c357f742f828c1fee7ba940920cda_1200x900.jpg и записано в CSV.\n",
      "Фото 5 скачано как 3f7b635480be95bb97f52f8297c8a2cd_1200x900.jpg и записано в CSV.\n",
      "Фото 6 скачано как 7bff01d4e941a7c53297d97b0f2e22de_1200x900.jpg и записано в CSV.\n",
      "Фото 7 скачано как e8e312a7d4952c6efdf9a0d86625eb51_1200x900.jpg и записано в CSV.\n",
      "Фото 8 скачано как f1a029785108544569ac041d27805b5d_1200x900.jpg и записано в CSV.\n",
      "Фото 9 скачано как b2e0148da5fdd2e79651a3f95813e607_1200x900.jpg и записано в CSV.\n",
      "Фото 10 скачано как 5435f83e037400003e15dbd2d6a4d4bd_1200x900.jpg и записано в CSV.\n",
      "Фото 11 скачано как bfd9cf9efdb054fc08b661eec4b18688_1200x900.jpg и записано в CSV.\n",
      "Фото 12 скачано как fc441523047425791e7e9bd217e155e0_1200x900.jpg и записано в CSV.\n",
      "Фото 13 скачано как 0ea3713dd09b39c5e6699dd23bdb38bf_1200x900.jpg и записано в CSV.\n",
      "Фото 14 скачано как 1ac92d3398e347f712ced0e738a765e8_1200x900.jpg и записано в CSV.\n",
      "Фото 15 скачано как 86ea62c634fa57a920c5f131c1165cbb_1200x900.jpg и записано в CSV.\n",
      "Фото 16 скачано как 4b78dff098570295fcf52b6cf1671400_1200x900.jpg и записано в CSV.\n"
     ]
    },
    {
     "name": "stderr",
     "output_type": "stream",
     "text": [
      "Flat images parsing:  96%|█████████▌| 479/501 [50:29<02:43,  7.45s/it]"
     ]
    },
    {
     "name": "stdout",
     "output_type": "stream",
     "text": [
      "Фото 17 скачано как 3AQXYx и записано в CSV.\n",
      "--------end of flat 2978 / 3000 ---------\n",
      "Фото 1 скачано как 0e3fa2457776acd8aac157310a8970e0_1200x900.jpg и записано в CSV.\n",
      "Фото 2 скачано как 8629c4f37b5a4f6b3d5d71057606deec_1200x900.jpg и записано в CSV.\n",
      "Фото 3 скачано как 92fcaea06a8acbca6cd0033e995fa4ab_1200x900.jpg и записано в CSV.\n",
      "Фото 4 скачано как da022c03f7d34c08d8333368354fd5a1_1200x900.jpg и записано в CSV.\n",
      "Фото 5 скачано как 4f8740a628038862da0ca9eb74c040b7_1200x900.jpg и записано в CSV.\n",
      "Фото 6 скачано как 871d9aba416bac072ca8e1d300233b72_1200x900.jpg и записано в CSV.\n",
      "Фото 7 скачано как 2e83a643bc1f1e448b5be1f45384b85a_1200x900.jpg и записано в CSV.\n",
      "Фото 8 скачано как f1d2ebdcf5b30071339858b144fe4ac7_1200x900.jpg и записано в CSV.\n",
      "Фото 9 скачано как 4c2efe64479091a779e4240b2d6667e4_1200x900.jpg и записано в CSV.\n",
      "Фото 10 скачано как 08da35f1b49286c5d0cf207318c177cd_1200x900.jpg и записано в CSV.\n"
     ]
    },
    {
     "name": "stderr",
     "output_type": "stream",
     "text": [
      "Flat images parsing:  96%|█████████▌| 480/501 [50:37<02:40,  7.64s/it]"
     ]
    },
    {
     "name": "stdout",
     "output_type": "stream",
     "text": [
      "Фото 11 скачано как z7rvWKIV-as и записано в CSV.\n",
      "--------end of flat 2979 / 3000 ---------\n",
      "Фото 1 скачано как ba343fec528ef5dd5a3675f5585b92a1_1200x900.jpg и записано в CSV.\n",
      "Фото 2 скачано как 9a8983a8d9f00f5e20895c1cead5d06f_1200x900.jpg и записано в CSV.\n",
      "Фото 3 скачано как d7cc80d3f717c1c4ed09313d3a6c83ff_1200x900.jpg и записано в CSV.\n",
      "Фото 4 скачано как d818709775ae081856f67294c2859c19_1200x900.jpg и записано в CSV.\n",
      "Фото 5 скачано как 99d4b27cf3d31e1912307c160a42234d_1200x900.jpg и записано в CSV.\n",
      "Фото 6 скачано как d03bf6e75bd91a82f8b14fe5a6c4514e_1200x900.jpg и записано в CSV.\n",
      "Фото 7 скачано как c528d5d892b77b9c5ab45e6f02bae35d_1200x900.jpg и записано в CSV.\n",
      "Фото 8 скачано как aede6b28e59ca43001931a0d17615644_1200x900.jpg и записано в CSV.\n",
      "Фото 9 скачано как e995f6d39d62f4ba757946d91be49299_1200x900.jpg и записано в CSV.\n"
     ]
    },
    {
     "name": "stderr",
     "output_type": "stream",
     "text": [
      "Flat images parsing:  96%|█████████▌| 481/501 [50:43<02:23,  7.16s/it]"
     ]
    },
    {
     "name": "stdout",
     "output_type": "stream",
     "text": [
      "Фото 10 скачано как z7rvWKIV-as и записано в CSV.\n",
      "--------end of flat 2980 / 3000 ---------\n",
      "Фото 1 скачано как 05510ed0d5e1bab67d0a19ebcd01515a_1200x900.jpg и записано в CSV.\n",
      "Фото 2 скачано как a500a854a2502be3b11e938be080e00a_1200x900.jpg и записано в CSV.\n",
      "Фото 3 скачано как 2ae791332e1f0e60fef7585e97240076_1200x900.jpg и записано в CSV.\n",
      "Фото 4 скачано как 1992603f44f674c67fa8fc936fdbb4aa_1200x900.jpg и записано в CSV.\n",
      "Фото 5 скачано как 510b36fb99823f75dd688cb23e0f3761_1200x900.jpg и записано в CSV.\n",
      "Фото 6 скачано как 95404df2039f8524a892cb8e869a391e_1200x900.jpg и записано в CSV.\n",
      "Фото 7 скачано как e7a1d61151b551756e5aec525c53e525_1200x900.jpg и записано в CSV.\n"
     ]
    },
    {
     "name": "stderr",
     "output_type": "stream",
     "text": [
      "Flat images parsing:  96%|█████████▌| 482/501 [50:48<02:03,  6.52s/it]"
     ]
    },
    {
     "name": "stdout",
     "output_type": "stream",
     "text": [
      "Фото 8 скачано как z7rvWKIV-as и записано в CSV.\n",
      "--------end of flat 2981 / 3000 ---------\n",
      "Фото 1 скачано как 6eb14c628903ee742827f89c8b04dc2c_1200x900.jpg и записано в CSV.\n",
      "Фото 2 скачано как 1fd213d5c44996b15d0ca9e455de8d6d_1200x900.jpg и записано в CSV.\n",
      "Фото 3 скачано как 921a5e941192acd7fa7415db73057209_1200x900.jpg и записано в CSV.\n",
      "Фото 4 скачано как b7d0a3524ef0d8b9021256132c18ec64_1200x900.jpg и записано в CSV.\n",
      "Фото 5 скачано как 78a871acfe6cc2e89ebceddfd99082fd_1200x900.jpg и записано в CSV.\n",
      "Фото 6 скачано как 3e66e62a0c1f0616c34289498389f32c_1200x900.jpg и записано в CSV.\n",
      "Фото 7 скачано как f116f950fac85eb613ddaae5b692f967_1200x900.jpg и записано в CSV.\n",
      "Фото 8 скачано как 7a410991463c8c7737fd619bc8f44cba_1200x900.jpg и записано в CSV.\n",
      "Фото 9 скачано как f0b7c0f7f5a0525ee8bde26ccfe935db_1200x900.jpg и записано в CSV.\n",
      "Фото 10 скачано как be266d9ace6d0db4b0df710b0d2f27d6_1200x900.jpg и записано в CSV.\n",
      "Фото 11 скачано как 39ee588b6d71ecf09153581b453d190f_1200x900.jpg и записано в CSV.\n",
      "Фото 12 скачано как 3462afc8edee8142043ad8278fe5d895_1200x900.jpg и записано в CSV.\n",
      "Фото 13 скачано как 86897faaeb85483d35b660172acb1591_1200x900.jpg и записано в CSV.\n",
      "Фото 14 скачано как abd13126e5f53b4b5b3e2fe9be885d54_1200x900.jpg и записано в CSV.\n"
     ]
    },
    {
     "name": "stderr",
     "output_type": "stream",
     "text": [
      "Flat images parsing:  96%|█████████▋| 483/501 [50:57<02:09,  7.20s/it]"
     ]
    },
    {
     "name": "stdout",
     "output_type": "stream",
     "text": [
      "Фото 15 скачано как z7rvWKIV-as и записано в CSV.\n",
      "--------end of flat 2982 / 3000 ---------\n",
      "Фото 1 скачано как 733da419e42fd783ae1cb4a883b384a8_1200x900.jpg и записано в CSV.\n",
      "Фото 2 скачано как 219ae1591b5d8f61f7635886634b1ba9_1200x900.jpg и записано в CSV.\n",
      "Фото 3 скачано как 9faeae3ef8708d9020e79ac1ecf7e998_1200x900.jpg и записано в CSV.\n",
      "Фото 4 скачано как e68d33321edfc6b086f64fa4c2d988d7_1200x900.jpg и записано в CSV.\n",
      "Фото 5 скачано как 041b6a87111343db70f16a4c9cbd9afe_1200x900.jpg и записано в CSV.\n",
      "Фото 6 скачано как 6852d2d6d4b5e1faa563af32316277fb_1200x900.jpg и записано в CSV.\n"
     ]
    },
    {
     "name": "stderr",
     "output_type": "stream",
     "text": [
      "Flat images parsing:  97%|█████████▋| 484/501 [51:01<01:49,  6.47s/it]"
     ]
    },
    {
     "name": "stdout",
     "output_type": "stream",
     "text": [
      "Фото 7 скачано как z7rvWKIV-as и записано в CSV.\n",
      "--------end of flat 2983 / 3000 ---------\n",
      "Фото 1 скачано как 30f3d2d02eee172d0d77f55847d16309_1200x900.jpg и записано в CSV.\n",
      "Фото 2 скачано как 23bbab2266edc063b663765686b3a371_1200x900.jpg и записано в CSV.\n",
      "Фото 3 скачано как b9e5277a6b05f0d63862f859c07d0b2b_1200x900.jpg и записано в CSV.\n",
      "Фото 4 скачано как f5c55fb47c2220043eda986a4dbd8922_1200x900.jpg и записано в CSV.\n",
      "Фото 5 скачано как 71f6f8394f061de15751baae57a8faf8_1200x900.jpg и записано в CSV.\n",
      "Фото 6 скачано как 54e9d9ba0e9c31c9655a53283cd81c9d_1200x900.jpg и записано в CSV.\n"
     ]
    },
    {
     "name": "stderr",
     "output_type": "stream",
     "text": [
      "Flat images parsing:  97%|█████████▋| 485/501 [51:06<01:34,  5.91s/it]"
     ]
    },
    {
     "name": "stdout",
     "output_type": "stream",
     "text": [
      "Фото 7 скачано как 3AQXYx и записано в CSV.\n",
      "--------end of flat 2984 / 3000 ---------\n",
      "Фото 1 скачано как 0b697f34fd2993f15fa5850507b1f08a_1200x900.jpg и записано в CSV.\n",
      "Фото 2 скачано как 45bfd78264dc4683e5b4dec92f5636e3_1200x900.jpg и записано в CSV.\n",
      "Фото 3 скачано как 9f5c8f77735c94b4fa780922dd2cf09e_1200x900.jpg и записано в CSV.\n",
      "Фото 4 скачано как 343a0e7e0073edca15190bc1a45ca9c2_1200x900.jpg и записано в CSV.\n",
      "Фото 5 скачано как 998be1296c8b1d08ce8523537414f70a_1200x900.jpg и записано в CSV.\n",
      "Фото 6 скачано как 9cda85d69fcba2cd29146276561ae9f8_1200x900.jpg и записано в CSV.\n",
      "Фото 7 скачано как 6e1d718bb4ba4884ee2eb4c95911a41e_1200x900.jpg и записано в CSV.\n",
      "Фото 8 скачано как fade755a2c930aa996abf7ade919ef86_1200x900.jpg и записано в CSV.\n"
     ]
    },
    {
     "name": "stderr",
     "output_type": "stream",
     "text": [
      "Flat images parsing:  97%|█████████▋| 486/501 [51:12<01:26,  5.80s/it]"
     ]
    },
    {
     "name": "stdout",
     "output_type": "stream",
     "text": [
      "Фото 9 скачано как z7rvWKIV-as и записано в CSV.\n",
      "--------end of flat 2985 / 3000 ---------\n",
      "Фото 1 скачано как db143b53fbf0c9ec16fb4f2b69d0d86c_1200x900.jpg и записано в CSV.\n",
      "Фото 2 скачано как f3bd8257617c92f8fbb5ee7df4f1b80a_1200x900.jpg и записано в CSV.\n",
      "Фото 3 скачано как 96256fabf31ce5f8b1e54a991a10caf1_1200x900.jpg и записано в CSV.\n",
      "Фото 4 скачано как c11c80f3da90730fa910b9a913451a2d_1200x900.jpg и записано в CSV.\n",
      "Фото 5 скачано как 7cc280469b7b49ccc2487cd230f9a125_1200x900.jpg и записано в CSV.\n",
      "Фото 6 скачано как d446b62509fb24444fc2731664712e65_1200x900.jpg и записано в CSV.\n",
      "Фото 7 скачано как a2925fb3eb341eb2acd95805cc0f54a3_1200x900.jpg и записано в CSV.\n",
      "Фото 8 скачано как 91290d30ff3966f6d223c5e4e6efed86_1200x900.jpg и записано в CSV.\n",
      "Фото 9 скачано как 31bf7f0b3a7b7e74498996c0607eca80_1200x900.jpg и записано в CSV.\n",
      "Фото 10 скачано как 5377f908737e390c65ae0af6753575ce_1200x900.jpg и записано в CSV.\n",
      "Фото 11 скачано как 44bfca9a449edb37e8ca1978fd8c456d_1200x900.jpg и записано в CSV.\n",
      "Фото 12 скачано как 45571dee7363799e3a41c79af0bc226a_1200x900.jpg и записано в CSV.\n",
      "Фото 13 скачано как 2ba7ed27b7e3c726e67e9fa1704758d2_1200x900.jpg и записано в CSV.\n",
      "Фото 14 скачано как 4688c82cde407c876090a99d960f1de8_1200x900.jpg и записано в CSV.\n",
      "Фото 15 скачано как d7a69e33cad91f452c11d199bde797d2_1200x900.jpg и записано в CSV.\n",
      "Фото 16 скачано как 7eb6ad8c50ca45cde70e8ee94182c1f7_1200x900.jpg и записано в CSV.\n",
      "Фото 17 скачано как 3f4c5072a9f89b033b27ca91a78c085b_1200x900.jpg и записано в CSV.\n"
     ]
    },
    {
     "name": "stderr",
     "output_type": "stream",
     "text": [
      "Flat images parsing:  97%|█████████▋| 487/501 [51:21<01:38,  7.02s/it]"
     ]
    },
    {
     "name": "stdout",
     "output_type": "stream",
     "text": [
      "Фото 18 скачано как 3AQXYx и записано в CSV.\n",
      "--------end of flat 2986 / 3000 ---------\n",
      "Фото 1 скачано как be8d6994454fc7d12e3a2c98629097bb_1200x900.jpg и записано в CSV.\n"
     ]
    },
    {
     "name": "stderr",
     "output_type": "stream",
     "text": [
      "Flat images parsing:  97%|█████████▋| 488/501 [51:24<01:12,  5.61s/it]"
     ]
    },
    {
     "name": "stdout",
     "output_type": "stream",
     "text": [
      "Фото 2 скачано как z7rvWKIV-as и записано в CSV.\n",
      "--------end of flat 2987 / 3000 ---------\n",
      "Фото 1 скачано как 0e618f09cd47eb570b805dcb518a4823_1200x900.jpg и записано в CSV.\n",
      "Фото 2 скачано как cc852188cb50c5c83a2c92c52b2155da_1200x900.jpg и записано в CSV.\n",
      "Фото 3 скачано как 06dcfaf2a4ca97f55ab4a6f79e70be68_1200x900.jpg и записано в CSV.\n",
      "Фото 4 скачано как 6ca3f86389511d8d5a865ff54ecf4407_1200x900.jpg и записано в CSV.\n",
      "Фото 5 скачано как 911592b3e66510e6decdf7d9834052f7_1200x900.jpg и записано в CSV.\n"
     ]
    },
    {
     "name": "stderr",
     "output_type": "stream",
     "text": [
      "Flat images parsing:  98%|█████████▊| 489/501 [51:28<01:02,  5.23s/it]"
     ]
    },
    {
     "name": "stdout",
     "output_type": "stream",
     "text": [
      "Фото 6 скачано как z7rvWKIV-as и записано в CSV.\n",
      "--------end of flat 2988 / 3000 ---------\n"
     ]
    },
    {
     "name": "stderr",
     "output_type": "stream",
     "text": [
      "Flat images parsing:  98%|█████████▊| 490/501 [51:29<00:43,  3.97s/it]"
     ]
    },
    {
     "name": "stdout",
     "output_type": "stream",
     "text": [
      "Фото 1 скачано как db97f89498000c3f83fdd5f8bc943441_1200x900.jpg и записано в CSV.\n",
      "Фото 2 скачано как 2dc1094109484bdf0474b6d285e01216_1200x900.jpg и записано в CSV.\n",
      "Фото 3 скачано как 54c2ff1bad8b9ccd314f5d887ffcf91c_1200x900.jpg и записано в CSV.\n",
      "Фото 4 скачано как a4b2d68b43575d5a2c6bf299b47add29_1200x900.jpg и записано в CSV.\n"
     ]
    },
    {
     "name": "stderr",
     "output_type": "stream",
     "text": [
      "Flat images parsing:  98%|█████████▊| 491/501 [51:33<00:40,  4.01s/it]"
     ]
    },
    {
     "name": "stdout",
     "output_type": "stream",
     "text": [
      "Фото 5 скачано как z7rvWKIV-as и записано в CSV.\n",
      "--------end of flat 2990 / 3000 ---------\n",
      "Фото 1 скачано как f29db13c71a387b1550e13f6648616d3_1200x900.jpg и записано в CSV.\n",
      "Фото 2 скачано как 3112be561fd05f507c6685e0a6950d6e_1200x900.jpg и записано в CSV.\n"
     ]
    },
    {
     "name": "stderr",
     "output_type": "stream",
     "text": [
      "Flat images parsing:  98%|█████████▊| 492/501 [51:36<00:32,  3.57s/it]"
     ]
    },
    {
     "name": "stdout",
     "output_type": "stream",
     "text": [
      "Фото 3 скачано как 3AQXYx и записано в CSV.\n",
      "--------end of flat 2991 / 3000 ---------\n",
      "Фото 1 скачано как e6eb47970940ab275870dba5bef689dd_1200x900.jpg и записано в CSV.\n",
      "Фото 2 скачано как c5fd6f32796d3cb59d952062394cfb79_1200x900.jpg и записано в CSV.\n",
      "Фото 3 скачано как 5a53f1545354eaa8aa80243bdaad1058_1200x900.jpg и записано в CSV.\n",
      "Фото 4 скачано как ebbdd1de6d66ed93e477324101494506_1200x900.jpg и записано в CSV.\n",
      "Фото 5 скачано как 65500456895bec37a6342b0e205c41b0_1200x900.jpg и записано в CSV.\n",
      "Фото 6 скачано как f9d3b72f8dd89e9b6038355f9015014e_1200x900.jpg и записано в CSV.\n",
      "Фото 7 скачано как 3c5a4f1021da0002e18df5c9ae1e63a9_1200x900.jpg и записано в CSV.\n",
      "Фото 8 скачано как 8f7fc88ce224e458ca50e6a858d75279_1200x900.jpg и записано в CSV.\n",
      "Фото 9 скачано как de6b42c2de92a97d512389fad2a2b663_1200x900.jpg и записано в CSV.\n",
      "Фото 10 скачано как d8e7724c9df6c7a01dc82cf79f5f7ad4_1200x900.jpg и записано в CSV.\n",
      "Фото 11 скачано как e211f84c98ba3259db93003b487a7a3b_1200x900.jpg и записано в CSV.\n",
      "Фото 12 скачано как 857897c2a99a6883fb237e1aab0fba86_1200x900.jpg и записано в CSV.\n",
      "Фото 13 скачано как eaaeb1b6171350b774ae3a7c183db04e_1200x900.jpg и записано в CSV.\n",
      "Фото 14 скачано как 234ac87ecb9ed12b19619f3f8526f884_1200x900.jpg и записано в CSV.\n",
      "Фото 15 скачано как 5fccda2fecec6a6314b87e762f785b80_1200x900.jpg и записано в CSV.\n",
      "Фото 16 скачано как cf4c733d3b0da40edc9e6a51c7c3c899_1200x900.jpg и записано в CSV.\n"
     ]
    },
    {
     "name": "stderr",
     "output_type": "stream",
     "text": [
      "Flat images parsing:  98%|█████████▊| 493/501 [51:45<00:42,  5.37s/it]"
     ]
    },
    {
     "name": "stdout",
     "output_type": "stream",
     "text": [
      "Фото 17 скачано как 37jCNp и записано в CSV.\n",
      "--------end of flat 2992 / 3000 ---------\n",
      "Фото 1 скачано как 0877445dbf7d098930e1293039df4dbf_1200x900.jpg и записано в CSV.\n",
      "Фото 2 скачано как b4b57651066296176654cd03064c56bf_1200x900.jpg и записано в CSV.\n",
      "Фото 3 скачано как 11ea8234fdcc8088fe11c3cd8da7c445_1200x900.jpg и записано в CSV.\n",
      "Фото 4 скачано как a6451ae336aa67006d33732d942308f1_1200x900.jpg и записано в CSV.\n",
      "Фото 5 скачано как 4253dbaf6d401fbfd0e7e79fbb4ed1b0_1200x900.jpg и записано в CSV.\n"
     ]
    },
    {
     "name": "stderr",
     "output_type": "stream",
     "text": [
      "Flat images parsing:  99%|█████████▊| 494/501 [51:49<00:35,  5.02s/it]"
     ]
    },
    {
     "name": "stdout",
     "output_type": "stream",
     "text": [
      "Фото 6 скачано как z7rvWKIV-as и записано в CSV.\n",
      "--------end of flat 2993 / 3000 ---------\n",
      "Фото 1 скачано как 635e2f5510f02f0b46e1f4abf066492f_1200x900.jpg и записано в CSV.\n",
      "Фото 2 скачано как 5e4123a5809f9ca1a2a51e51c9b67ec1_1200x900.jpg и записано в CSV.\n",
      "Фото 3 скачано как 3180ad7d0c5227f299d39bff871ec35b_1200x900.jpg и записано в CSV.\n",
      "Фото 4 скачано как fc65ded072be21af5572800590e2e3de_1200x900.jpg и записано в CSV.\n"
     ]
    },
    {
     "name": "stderr",
     "output_type": "stream",
     "text": [
      "Flat images parsing:  99%|█████████▉| 495/501 [51:53<00:27,  4.62s/it]"
     ]
    },
    {
     "name": "stdout",
     "output_type": "stream",
     "text": [
      "Фото 5 скачано как b8eb6a0206ad148786c92a0f8ca7c360_1200x900.jpg и записано в CSV.\n",
      "--------end of flat 2994 / 3000 ---------\n",
      "Фото 1 скачано как 86237781eb3fbe99c6158c0e7c6b75b8_1200x900.jpg и записано в CSV.\n",
      "Фото 2 скачано как 393dd74c0ae4e3f6eeee75ac6a8287bc_1200x900.jpg и записано в CSV.\n",
      "Фото 3 скачано как ebed792c01595c181c8bc4c92a7491df_1200x900.jpg и записано в CSV.\n",
      "Фото 4 скачано как ec089d9fda5aea4900d7a8f087a97ab1_1200x900.jpg и записано в CSV.\n",
      "Фото 5 скачано как 17b818aa76831e138b2220bc052c653e_1200x900.jpg и записано в CSV.\n",
      "Фото 6 скачано как 501c1f04edb5edebf41176aeacd6a8e2_1200x900.jpg и записано в CSV.\n",
      "Фото 7 скачано как ab5c5d5315eaee46f108a9787f546c3f_1200x900.jpg и записано в CSV.\n",
      "Фото 8 скачано как a0fcad0762be43ce5c6988c32a5616f2_1200x900.jpg и записано в CSV.\n",
      "Фото 9 скачано как af58e7b805836f85c73a05f33ec835d7_1200x900.jpg и записано в CSV.\n",
      "Фото 10 скачано как 9adbd202720835a81107541b033dc14b_1200x900.jpg и записано в CSV.\n",
      "Фото 11 скачано как 043322513f970cf51e54e8467e3c1d5e_1200x900.jpg и записано в CSV.\n"
     ]
    },
    {
     "name": "stderr",
     "output_type": "stream",
     "text": [
      "Flat images parsing:  99%|█████████▉| 496/501 [52:01<00:27,  5.50s/it]"
     ]
    },
    {
     "name": "stdout",
     "output_type": "stream",
     "text": [
      "Фото 12 скачано как z7rvWKIV-as и записано в CSV.\n",
      "--------end of flat 2995 / 3000 ---------\n",
      "Фото 1 скачано как 4e875062fb4c758d5a7bc5db5ba056ae_1200x900.jpg и записано в CSV.\n",
      "Фото 2 скачано как 2b344d52e149407371576a051b05d099_1200x900.jpg и записано в CSV.\n",
      "Фото 3 скачано как 99626ff35dbcd51a86a4d82ea6ddbeb1_1200x900.jpg и записано в CSV.\n",
      "Фото 4 скачано как 386035914b6c367dc8e5dae52c7ed599_1200x900.jpg и записано в CSV.\n",
      "Фото 5 скачано как f9a2fef3a2eb8d3e8dec3560df3932d6_1200x900.jpg и записано в CSV.\n",
      "Фото 6 скачано как fd87d04573a9fc5773a2b10e550f2834_1200x900.jpg и записано в CSV.\n",
      "Фото 7 скачано как 5acabd1e40d64537cef70c2e498d6c18_1200x900.jpg и записано в CSV.\n",
      "Фото 8 скачано как 5b32c5c22ea77fa8385093169b7edd45_1200x900.jpg и записано в CSV.\n",
      "Фото 9 скачано как e0f75e3418bf4c2484f60eaa8b95b83d_1200x900.jpg и записано в CSV.\n",
      "Фото 10 скачано как f2fb5b93bb421eb32d71c3471fd04365_1200x900.jpg и записано в CSV.\n",
      "Фото 11 скачано как c9b61ac82f6484e81ee2d31bf90a471f_1200x900.jpg и записано в CSV.\n",
      "Фото 12 скачано как e38a0fc0efbda40f2d12bbd5fecbb289_1200x900.jpg и записано в CSV.\n",
      "Фото 13 скачано как 59d19a8b6abf6474a50a191faa81d8cd_1200x900.jpg и записано в CSV.\n",
      "Фото 14 скачано как 4d727ecf41981435fcbfb86b4d0cabbb_1200x900.jpg и записано в CSV.\n",
      "Фото 15 скачано как 3d9c06d91a0c9dde4e9c27cc7f15a65d_1200x900.jpg и записано в CSV.\n",
      "Фото 16 скачано как 0f5e87cffeea54ecbb78a21488ac0947_1200x900.jpg и записано в CSV.\n",
      "Фото 17 скачано как 606498ff1d6ab2b76467d3478c722ab6_1200x900.jpg и записано в CSV.\n",
      "Фото 18 скачано как 7c402569c0b12650abc505e286402261_1200x900.jpg и записано в CSV.\n",
      "Фото 19 скачано как f84f3b321448d7ff366f44dbc07acddc_1200x900.jpg и записано в CSV.\n",
      "Фото 20 скачано как ee4971d8e2cc9fbeadfe4706517d8d9a_1200x900.jpg и записано в CSV.\n",
      "Фото 21 скачано как bace3ad64d2f77729323f44b3afbae75_1200x900.jpg и записано в CSV.\n",
      "Фото 22 скачано как b2a225213e6b5f3141f8b9b6c3749c49_1200x900.jpg и записано в CSV.\n"
     ]
    },
    {
     "name": "stderr",
     "output_type": "stream",
     "text": [
      "Flat images parsing:  99%|█████████▉| 497/501 [52:14<00:31,  7.97s/it]"
     ]
    },
    {
     "name": "stdout",
     "output_type": "stream",
     "text": [
      "Фото 23 скачано как z7rvWKIV-as и записано в CSV.\n",
      "--------end of flat 2996 / 3000 ---------\n",
      "Фото 1 скачано как a2d916b9ec1a02a993fb51b030d7dc4e_1200x900.jpg и записано в CSV.\n",
      "Фото 2 скачано как 27937a842430d87e3e9adfb15d762d7e_1200x900.jpg и записано в CSV.\n",
      "Фото 3 скачано как 0940411989d2e8656dc316e5fa1fffd2_1200x900.jpg и записано в CSV.\n",
      "Фото 4 скачано как eeb4d0297dccecfe9eefd04f873fa6bd_1200x900.jpg и записано в CSV.\n",
      "Фото 5 скачано как 2c9fa9199430fc487a80763d1d193f33_1200x900.jpg и записано в CSV.\n",
      "Фото 6 скачано как 7212ac6b21b16f7df5c3430afc523f7f_1200x900.jpg и записано в CSV.\n",
      "Фото 7 скачано как 105bdea256b8085ba62b68bd6b165b07_1200x900.jpg и записано в CSV.\n",
      "Фото 8 скачано как 4a3e34d1e968467d11e42b9912f34a01_1200x900.jpg и записано в CSV.\n",
      "Фото 9 скачано как d893fdb309b1349f3060400543c09672_1200x900.jpg и записано в CSV.\n",
      "Фото 10 скачано как af2ecdbb1449c2ff7af189da6188d5cc_1200x900.jpg и записано в CSV.\n",
      "Фото 11 скачано как a64fdbc698da170187cc16574e8d3589_1200x900.jpg и записано в CSV.\n",
      "Фото 12 скачано как b046010bbe940b3c2b965948b508245b_1200x900.jpg и записано в CSV.\n",
      "Фото 13 скачано как ce9af93e842c4f47cfb31bdbe5a8a26f_1200x900.jpg и записано в CSV.\n"
     ]
    },
    {
     "name": "stderr",
     "output_type": "stream",
     "text": [
      "Flat images parsing:  99%|█████████▉| 498/501 [52:22<00:23,  7.91s/it]"
     ]
    },
    {
     "name": "stdout",
     "output_type": "stream",
     "text": [
      "Фото 14 скачано как 3AQXYx и записано в CSV.\n",
      "--------end of flat 2997 / 3000 ---------\n",
      "Фото 1 скачано как b12bc7c37767a517523b761a416c16bd_1200x900.jpg и записано в CSV.\n",
      "Фото 2 скачано как 759ae411c24db6de425e32e7c4c42acb_1200x900.jpg и записано в CSV.\n",
      "Фото 3 скачано как 72ae46e9439ec190f77250d3d8cfbbfd_1200x900.jpg и записано в CSV.\n",
      "Фото 4 скачано как a908528b9d282ba3c4b02e4b1ef457d5_1200x900.jpg и записано в CSV.\n",
      "Фото 5 скачано как e97a6465fc1244405a202d44e38d7a63_1200x900.jpg и записано в CSV.\n",
      "Фото 6 скачано как b84e7cc7fa8a58d012d228f5b19f9b90_1200x900.jpg и записано в CSV.\n",
      "Фото 7 скачано как 071f23f23f8a203188e0005ae38c2588_1200x900.jpg и записано в CSV.\n",
      "Фото 8 скачано как a6e2dc5ff348882cd4afd74e9c934c75_1200x900.jpg и записано в CSV.\n",
      "Фото 9 скачано как d060aa55e517b28ef4bccb1226ae9238_1200x900.jpg и записано в CSV.\n",
      "Фото 10 скачано как 3618c3f28bb72074c2c6cd1b75002256_1200x900.jpg и записано в CSV.\n",
      "Фото 11 скачано как c91269f263292f60e0d6b026f1629556_1200x900.jpg и записано в CSV.\n",
      "Фото 12 скачано как aba02576f95af396df764e9f0f52ff83_1200x900.jpg и записано в CSV.\n",
      "Фото 13 скачано как 2a3c127ffa6d5014673c5fb0b30b1137_1200x900.jpg и записано в CSV.\n",
      "Фото 14 скачано как cfff7d92aedf39c27000ae65962e95b3_1200x900.jpg и записано в CSV.\n",
      "Фото 15 скачано как 46817dcbb4b556aef5d849d0c4ca5262_1200x900.jpg и записано в CSV.\n",
      "Фото 16 скачано как a80101eeda3d0b8b6403d782294de04e_1200x900.jpg и записано в CSV.\n",
      "Фото 17 скачано как ee64ac2e69aae3c62b8a26829fe1cc64_1200x900.jpg и записано в CSV.\n",
      "Фото 18 скачано как 0fa0cfb4a119c85ae886644cad014dd0_1200x900.jpg и записано в CSV.\n",
      "Фото 19 скачано как 7e407717ee34d6358216f9963889e805_1200x900.jpg и записано в CSV.\n",
      "Фото 20 скачано как fda888a1f39ae626ddf36b5dbdb6efb9_1200x900.jpg и записано в CSV.\n",
      "Фото 21 скачано как 1498c17f06c5d6e747dbd92e1608d4f6_1200x900.jpg и записано в CSV.\n",
      "Фото 22 скачано как 453f87e013b86cde76ee052af7f852d2_1200x900.jpg и записано в CSV.\n",
      "Фото 23 скачано как aa7df0675c1d038f8e86783ee1825ba6_1200x900.jpg и записано в CSV.\n",
      "Фото 24 скачано как 8818ad687aaef9013c9e7ad6868169cf_1200x900.jpg и записано в CSV.\n",
      "Фото 25 скачано как 723c1701bf6b1f11af487d6953e20fad_1200x900.jpg и записано в CSV.\n"
     ]
    },
    {
     "name": "stderr",
     "output_type": "stream",
     "text": [
      "Flat images parsing: 100%|█████████▉| 499/501 [52:36<00:19,  9.65s/it]"
     ]
    },
    {
     "name": "stdout",
     "output_type": "stream",
     "text": [
      "Фото 26 скачано как z7rvWKIV-as и записано в CSV.\n",
      "--------end of flat 2998 / 3000 ---------\n"
     ]
    },
    {
     "name": "stderr",
     "output_type": "stream",
     "text": [
      "Flat images parsing: 100%|██████████| 501/501 [52:38<00:00,  6.30s/it]"
     ]
    },
    {
     "name": "stdout",
     "output_type": "stream",
     "text": [
      "End of program\n",
      "CPU times: total: 1min 17s\n",
      "Wall time: 52min 38s\n"
     ]
    },
    {
     "name": "stderr",
     "output_type": "stream",
     "text": [
      "\n"
     ]
    }
   ],
   "source": [
    "%%time\n",
    "\n",
    "for url_id in tqdm(range(START_ID, END_ID+1), desc='Flat images parsing'):\n",
    "    flat_link = flat_urls[url_id]\n",
    "    flat_req = requests.get(flat_link)\n",
    "    flat_soup = BeautifulSoup(flat_req.text, \"html.parser\")\n",
    "\n",
    "    # Находим div с классом \"fotorama\"\n",
    "    fotorama_div = flat_soup.find('div', class_='fotorama')\n",
    "\n",
    "    # Ищем все ссылки на фото внутри этого блока\n",
    "    if fotorama_div is None:\n",
    "        writer_err.writerow([flat_link, None, None])\n",
    "        continue\n",
    "    image_tags = fotorama_div.find_all('a', href=True)\n",
    "    if image_tags is None:\n",
    "        writer_err.writerow([flat_link, None, None])\n",
    "        continue\n",
    "\n",
    "    # Скачиваем все изображения и записываем данные в CSV\n",
    "    for i, tag in enumerate(image_tags):\n",
    "        image_url = tag['href']\n",
    "        response = requests.get(image_url)\n",
    "\n",
    "        # Проверяем успешность запроса\n",
    "        if response.status_code == 200:\n",
    "            # Извлекаем оригинальное имя файла из URL\n",
    "            filename = get_filename_from_url(image_url)\n",
    "            filepath = os.path.join('images', filename)\n",
    "\n",
    "            with open(filepath, 'wb') as f:\n",
    "                f.write(response.content)\n",
    "\n",
    "            # Записываем данные в CSV файл\n",
    "            writer.writerow([flat_link, image_url, filename])\n",
    "            print(f'Фото {i+1} скачано как {filename} и записано в CSV.')\n",
    "        else:\n",
    "            writer_err.writerow([flat_link, image_url, filename])\n",
    "            print(f'Ошибка при скачивании фото {i+1}.')\n",
    "\n",
    "    print(f'--------end of flat {url_id} / {END_ID} ---------')\n",
    "\n",
    "\n",
    "csv_file.close()\n",
    "csv_errors.close()\n",
    "\n",
    "print('End of program')"
   ]
  },
  {
   "cell_type": "code",
   "execution_count": 17,
   "id": "a9ad8583",
   "metadata": {},
   "outputs": [],
   "source": [
    "fotorama_div"
   ]
  }
 ],
 "metadata": {
  "kernelspec": {
   "display_name": "Python 3 (ipykernel)",
   "language": "python",
   "name": "python3"
  },
  "language_info": {
   "codemirror_mode": {
    "name": "ipython",
    "version": 3
   },
   "file_extension": ".py",
   "mimetype": "text/x-python",
   "name": "python",
   "nbconvert_exporter": "python",
   "pygments_lexer": "ipython3",
   "version": "3.10.9"
  }
 },
 "nbformat": 4,
 "nbformat_minor": 5
}
