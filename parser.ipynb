{
 "cells": [
  {
   "cell_type": "code",
   "execution_count": 3,
   "metadata": {},
   "outputs": [
    {
     "name": "stderr",
     "output_type": "stream",
     "text": [
      "Парсинг страниц: 100%|██████████| 9/9 [01:57<00:00, 13.06s/it]"
     ]
    },
    {
     "name": "stdout",
     "output_type": "stream",
     "text": [
      "End of program\n"
     ]
    },
    {
     "name": "stderr",
     "output_type": "stream",
     "text": [
      "\n"
     ]
    }
   ],
   "source": [
    "import pandas as pd\n",
    "from bs4 import BeautifulSoup\n",
    "import requests\n",
    "from tqdm import tqdm\n",
    "\n",
    "FILE_OUT_NAME = \"flats_photos.csv\"\n",
    "\n",
    "link_base = \"https://www.house.kg/kupit-kvartiru?page=\"\n",
    "\n",
    "columns = [\"link\", \"photo_url\"]\n",
    "\n",
    "data = {i: [] for i in columns}\n",
    "\n",
    "left_border = int(input(\"From which page do you want to parse: \"))\n",
    "right_border = int(input(\"Until which page do you want to parse: \"))  # 651\n",
    "\n",
    "for i in tqdm(range(left_border, right_border + 1), desc='Парсинг страниц'):\n",
    "    link = link_base + str(i)\n",
    "    page_req = requests.get(link)\n",
    "    page_soup = BeautifulSoup(page_req.text, \"html.parser\")\n",
    "    page_table = page_soup.find(\"div\", attrs={\"class\": \"listings-wrapper\"})\n",
    "\n",
    "    if page_table is None:\n",
    "        continue\n",
    "\n",
    "    flats = page_table.find_all(\"div\",\n",
    "                                attrs={\"itemtype\": \"https://schema.org/Apartment\", \"class\": \"listing\"})\n",
    "    for flat in flats:\n",
    "        flat_link = \"https://www.house.kg\" + flat.find(\"a\")[\"href\"]\n",
    "        \n",
    "        # Запрос страницы конкретного объявления\n",
    "        flat_req = requests.get(flat_link)\n",
    "        flat_soup = BeautifulSoup(flat_req.text, \"html.parser\")\n",
    "\n",
    "        # Поиск всех фотографий\n",
    "        photo_tags = flat_soup.find_all(\"img\", attrs={\"class\": \"temp-auto lazy\"})  # Важно заменить на правильный класс\n",
    "\n",
    "        if photo_tags:\n",
    "            for photo in photo_tags:\n",
    "                photo_url = photo.get(\"src\")\n",
    "                if photo_url:\n",
    "                    data[\"link\"].append(flat_link)\n",
    "                    data[\"photo_url\"].append(photo_url)\n",
    "\n",
    "# Создание DataFrame с ссылками на фотографии\n",
    "df = pd.DataFrame(data)\n",
    "df.to_csv(FILE_OUT_NAME, index=False)\n",
    "print('End of program')\n"
   ]
  }
 ],
 "metadata": {
  "kernelspec": {
   "display_name": "Python 3",
   "language": "python",
   "name": "python3"
  },
  "language_info": {
   "codemirror_mode": {
    "name": "ipython",
    "version": 3
   },
   "file_extension": ".py",
   "mimetype": "text/x-python",
   "name": "python",
   "nbconvert_exporter": "python",
   "pygments_lexer": "ipython3",
   "version": "3.10.9"
  }
 },
 "nbformat": 4,
 "nbformat_minor": 2
}
